{
  "nbformat": 4,
  "nbformat_minor": 0,
  "metadata": {
    "colab": {
      "provenance": [],
      "toc_visible": true,
      "authorship_tag": "ABX9TyOjXRP9jZQOpd150Gv4LGF+"
    },
    "kernelspec": {
      "name": "python3",
      "display_name": "Python 3"
    },
    "language_info": {
      "name": "python"
    }
  },
  "cells": [
    {
      "cell_type": "markdown",
      "source": [
        "# **0.0 DATA PROCESSING**"
      ],
      "metadata": {
        "id": "qkMtfHS29wQB"
      }
    },
    {
      "cell_type": "code",
      "execution_count": 172,
      "metadata": {
        "colab": {
          "base_uri": "https://localhost:8080/"
        },
        "collapsed": true,
        "id": "h4fuIGZJTyAw",
        "outputId": "60246c36-2868-4bd3-c0c1-419d1777977c"
      },
      "outputs": [
        {
          "output_type": "stream",
          "name": "stdout",
          "text": [
            "Cloning into 'Machine-Learning'...\n",
            "remote: Enumerating objects: 69, done.\u001b[K\n",
            "remote: Counting objects: 100% (69/69), done.\u001b[K\n",
            "remote: Compressing objects: 100% (65/65), done.\u001b[K\n",
            "remote: Total 69 (delta 31), reused 7 (delta 0), pack-reused 0 (from 0)\u001b[K\n",
            "Receiving objects: 100% (69/69), 467.68 KiB | 4.37 MiB/s, done.\n",
            "Resolving deltas: 100% (31/31), done.\n"
          ]
        }
      ],
      "source": [
        "!git clone https://github.com/edwinkmusaasizi/Machine-Learning.git"
      ]
    },
    {
      "cell_type": "code",
      "source": [
        "%cd Machine-Learning\n",
        "%cd data\n",
        "%cd interim\n",
        "!ls"
      ],
      "metadata": {
        "colab": {
          "base_uri": "https://localhost:8080/"
        },
        "id": "XOq1g9EKBMoS",
        "outputId": "f1322e11-5c9f-452b-9a32-dadeb5dc13f0"
      },
      "execution_count": 173,
      "outputs": [
        {
          "output_type": "stream",
          "name": "stdout",
          "text": [
            "/content/Machine-Learning/data/interim/Machine-Learning/data/interim/Machine-Learning/data/interim/Machine-Learning\n",
            "/content/Machine-Learning/data/interim/Machine-Learning/data/interim/Machine-Learning/data/interim/Machine-Learning/data\n",
            "/content/Machine-Learning/data/interim/Machine-Learning/data/interim/Machine-Learning/data/interim/Machine-Learning/data/interim\n",
            "cleaned_mental_health_data.csv\n"
          ]
        }
      ]
    },
    {
      "cell_type": "markdown",
      "source": [
        "0.1 Data Processing"
      ],
      "metadata": {
        "id": "w3CAYEIG383K"
      }
    },
    {
      "cell_type": "code",
      "source": [
        "import pandas as pd\n",
        "import numpy as np\n",
        "import torch\n",
        "from torch.utils.data import DataLoader, TensorDataset\n",
        "from sklearn.model_selection import train_test_split\n",
        "from sklearn.preprocessing import StandardScaler, LabelEncoder\n",
        "\n",
        "# Load data\n",
        "df = pd.read_csv(\"cleaned_mental_health_data.csv\")\n",
        "\n",
        "# Define adherence labels based on questionnaire responses\n",
        "non_adherence_columns = [\n",
        "    \"Do you ever forget to take your medication?\",\n",
        "    \"Are you careless at times about taking your medication?\",\n",
        "    \"When you feel better, do you sometimes stop taking your medication?\",\n",
        "    \"Sometimes if you feel worse when you take the medication, do you stop taking it?\",\n",
        "    \"I take my medication only when I am sick\"\n",
        "]\n",
        "\n",
        "df[\"adherence\"] = np.where(df[non_adherence_columns].eq(\"Yes\").any(axis=1), 0, 1)\n",
        "\n",
        "# Drop redundant columns\n",
        "df = df.drop(columns=non_adherence_columns + [\"If you have any further comments about medication or this questionnaire, please write them below\"])\n",
        "\n",
        "# Identify all categorical columns\n",
        "categorical_cols = df.select_dtypes(include=['object', 'category']).columns\n",
        "print(\"Categorical columns to encode:\", categorical_cols)\n",
        "\n",
        "# Encode all categorical features\n",
        "for col in categorical_cols:\n",
        "    le = LabelEncoder()\n",
        "    df[col] = le.fit_transform(df[col].astype(str))\n",
        "\n",
        "# Split features and labels\n",
        "X = df.drop(columns=\"adherence\").values\n",
        "y = df[\"adherence\"].values\n",
        "\n",
        "# Split data into train, validation, test (70-15-15)\n",
        "X_train, X_temp, y_train, y_temp = train_test_split(X, y, test_size=0.3, stratify=y, random_state=42)\n",
        "X_val, X_test, y_val, y_test = train_test_split(X_temp, y_temp, test_size=0.5, stratify=y_temp, random_state=42)\n",
        "\n",
        "# Apply SMOTE to only the training set\n",
        "from imblearn.over_sampling import SMOTE\n",
        "\n",
        "# Apply SMOTE only to the training data\n",
        "smote = SMOTE(sampling_strategy='auto', random_state=42)\n",
        "X_train_resampled, y_train_resampled = smote.fit_resample(X_train, y_train)\n",
        "\n",
        "# Check new class distribution\n",
        "from collections import Counter\n",
        "print(\"New class distribution:\", Counter(y_train_resampled))\n",
        "\n",
        "# Normalize numerical features\n",
        "scaler = StandardScaler()\n",
        "X_train = scaler.fit_transform(X_train)\n",
        "X_val = scaler.transform(X_val)\n",
        "X_test = scaler.transform(X_test)\n",
        "\n",
        "# Convert to PyTorch tensors\n",
        "train_dataset = TensorDataset(torch.FloatTensor(X_train), torch.FloatTensor(y_train))\n",
        "val_dataset = TensorDataset(torch.FloatTensor(X_val), torch.FloatTensor(y_val))\n",
        "test_dataset = TensorDataset(torch.FloatTensor(X_test), torch.FloatTensor(y_test))\n",
        "\n",
        "# Create DataLoaders\n",
        "batch_size = 32\n",
        "train_loader = DataLoader(train_dataset, batch_size=batch_size, shuffle=True)\n",
        "val_loader = DataLoader(val_dataset, batch_size=batch_size)\n",
        "test_loader = DataLoader(test_dataset, batch_size=batch_size)"
      ],
      "metadata": {
        "colab": {
          "base_uri": "https://localhost:8080/"
        },
        "id": "hJM_oZTZ5Kyy",
        "outputId": "4add4a18-2ace-49f6-e72c-aef0f70e529d"
      },
      "execution_count": 174,
      "outputs": [
        {
          "output_type": "stream",
          "name": "stdout",
          "text": [
            "Categorical columns to encode: Index(['sex', 'Religion', 'marital status', 'education status', 'residence',\n",
            "       'substance use', 'comorbidity',\n",
            "       'It is unnatural for my mind and body to be controlled by medication?',\n",
            "       'My thoughts are clearer on medication',\n",
            "       'By staying on medication, I can prevent getting sick',\n",
            "       'I feel weird, like a ‘zombie’ on medication',\n",
            "       'Medication makes me feel tired and sluggish',\n",
            "       'Some of your symptoms are made by your mind.', 'You are mentally well',\n",
            "       'You do not need medication', 'Your stay in the hospital is necessary',\n",
            "       'The doctor is right in prescribing medication for you.',\n",
            "       'You do not need to be seen by a doctor or psychiatrist',\n",
            "       'If someone said you have a nervous or mental illness, they would be right',\n",
            "       'None of the unusual things you are experiencing are due to an illness.',\n",
            "       '. Loss of energy or drive', 'Feeling unmotivated or numb',\n",
            "       'Daytime sedation or drowsiness', 'Sleeping too much',\n",
            "       'Muscles being too tense or stiff', 'Muscles trembling or shaking',\n",
            "       'Feeling restless or jittery',\n",
            "       'Need to move around and pace; inability to sit still',\n",
            "       'Trouble getting to sleep or staying asleep (insomnia)',\n",
            "       'Blurry vision', 'Dry mouth', 'Drooling',\n",
            "       'Memory and concentration problems', 'Constipation', 'Weight changes',\n",
            "       'Changes in sexual functioning', 'Menstrual or breast problem',\n",
            "       'I feel over burdened by the number of pills i swallow per day.',\n",
            "       'How often do yo take your drugs',\n",
            "       'How often do you find no medications in the hospital',\n",
            "       'I am satisfied with doctors explanation about mental illness and the need for treatment',\n",
            "       'Do you sometimes stop your medications because of religious or cultural beliefs'],\n",
            "      dtype='object')\n",
            "New class distribution: Counter({1: 55, 0: 55})\n"
          ]
        }
      ]
    },
    {
      "cell_type": "code",
      "source": [
        "# Check class distribution in the training set\n",
        "class_distribution = np.bincount(y_train)\n",
        "print(\"Class Distribution in Training Set:\")\n",
        "print(f\"Class 0 (Non-Adherent): {class_distribution[0]}\")\n",
        "print(f\"Class 1 (Adherent): {class_distribution[1]}\")"
      ],
      "metadata": {
        "colab": {
          "base_uri": "https://localhost:8080/"
        },
        "id": "uemTnvGF5Wxd",
        "outputId": "9e4554b3-8778-44f8-fb81-9b92c6747dcc"
      },
      "execution_count": 175,
      "outputs": [
        {
          "output_type": "stream",
          "name": "stdout",
          "text": [
            "Class Distribution in Training Set:\n",
            "Class 0 (Non-Adherent): 55\n",
            "Class 1 (Adherent): 26\n"
          ]
        }
      ]
    },
    {
      "cell_type": "markdown",
      "source": [
        "Implement class weight"
      ],
      "metadata": {
        "id": "zSgD2y_45fQO"
      }
    },
    {
      "cell_type": "code",
      "source": [
        "import torch\n",
        "import torch.nn as nn\n",
        "import torch.optim as optim\n",
        "from torch.utils.data import DataLoader, TensorDataset\n",
        "from sklearn.utils.class_weight import compute_class_weight\n",
        "import numpy as np\n",
        "import pandas as pd\n",
        "\n",
        "# Compute class weights\n",
        "class_weights = compute_class_weight('balanced', classes=np.unique(y_train), y=y_train)\n",
        "class_weights = torch.tensor(class_weights, dtype=torch.float32)\n",
        "\n",
        "# Define loss function with class weights\n",
        "criterion = nn.CrossEntropyLoss(weight=class_weights)\n",
        "\n",
        "# Example model (Assuming a simple neural network)\n",
        "class AdherenceModel(nn.Module):\n",
        "    def __init__(self, input_size):\n",
        "        super(AdherenceModel, self).__init__()\n",
        "        self.fc1 = nn.Linear(input_size, 64)\n",
        "        self.relu = nn.ReLU()\n",
        "        self.fc2 = nn.Linear(64, 2)  # Output has 2 classes (0 and 1)\n",
        "\n",
        "    def forward(self, x):\n",
        "        x = self.fc1(x)\n",
        "        x = self.relu(x)\n",
        "        x = self.fc2(x)  # No softmax needed for CrossEntropyLoss\n",
        "        return x\n",
        "\n",
        "# Initialize model\n",
        "input_size = X_train.shape[1]  # Number of features\n",
        "model = AdherenceModel(input_size)\n",
        "\n",
        "# Define optimizer\n",
        "optimizer = optim.Adam(model.parameters(), lr=0.001)\n",
        "\n",
        "# Training loop (simplified)\n",
        "for epoch in range(10):  # Adjust epochs as needed\n",
        "    model.train()\n",
        "    for batch_X, batch_y in train_loader:\n",
        "        optimizer.zero_grad()\n",
        "        outputs = model(batch_X)\n",
        "        batch_y = batch_y.long()  # Convert to long for CrossEntropyLoss\n",
        "        loss = criterion(outputs, batch_y)\n",
        "        loss.backward()\n",
        "        optimizer.step()\n",
        "    print(f\"Epoch {epoch+1}, Loss: {loss.item()}\")\n",
        "\n"
      ],
      "metadata": {
        "colab": {
          "base_uri": "https://localhost:8080/"
        },
        "id": "AlfiL7ZA5ide",
        "outputId": "7329c1a8-e174-463d-9ab8-fca1cf07bddf"
      },
      "execution_count": 176,
      "outputs": [
        {
          "output_type": "stream",
          "name": "stdout",
          "text": [
            "Epoch 1, Loss: 0.6953945159912109\n",
            "Epoch 2, Loss: 0.7195978164672852\n",
            "Epoch 3, Loss: 0.63300621509552\n",
            "Epoch 4, Loss: 0.6330546736717224\n",
            "Epoch 5, Loss: 0.6474331021308899\n",
            "Epoch 6, Loss: 0.5303978323936462\n",
            "Epoch 7, Loss: 0.5786312818527222\n",
            "Epoch 8, Loss: 0.5541043281555176\n",
            "Epoch 9, Loss: 0.5522679090499878\n",
            "Epoch 10, Loss: 0.46876275539398193\n"
          ]
        }
      ]
    },
    {
      "cell_type": "markdown",
      "source": [],
      "metadata": {
        "id": "M6xRzM2l5T3k"
      }
    },
    {
      "cell_type": "markdown",
      "source": [
        "# MODEL IMPLEMANTION"
      ],
      "metadata": {
        "id": "8jo8AyjIWUam"
      }
    },
    {
      "cell_type": "markdown",
      "source": [
        "##Implement the Feedforward Neural Network"
      ],
      "metadata": {
        "id": "ZBQGUIJkWZSt"
      }
    },
    {
      "cell_type": "markdown",
      "source": [
        "1 Implementation"
      ],
      "metadata": {
        "id": "ysSZziXGX0ND"
      }
    },
    {
      "cell_type": "code",
      "source": [
        "import torch\n",
        "import torch.nn as nn\n",
        "import torch.optim as optim\n",
        "\n",
        "# Define the first model architecture (Feedforward Neural Network)\n",
        "class FeedForwardNN(nn.Module):\n",
        "    def __init__(self, input_dim):\n",
        "        super(FeedForwardNN, self).__init__()\n",
        "        self.fc1 = nn.Linear(input_dim, 64)  # First hidden layer\n",
        "        self.fc2 = nn.Linear(64, 32)         # Second hidden layer\n",
        "        self.fc3 = nn.Linear(32, 1)          # Output layer\n",
        "        self.sigmoid = nn.Sigmoid()          # Sigmoid activation for binary classification\n",
        "\n",
        "    def forward(self, x):\n",
        "        x = torch.relu(self.fc1(x))           # ReLU activation\n",
        "        x = torch.relu(self.fc2(x))           # ReLU activation\n",
        "        x = self.sigmoid(self.fc3(x))         # Output layer with sigmoid activation\n",
        "        return x\n",
        "\n",
        "# Example input dimension (you should use the actual number of features)\n",
        "input_dim = X_train.shape[1]  # assuming X_train is already defined\n",
        "model = FeedForwardNN(input_dim)\n",
        "\n",
        "# Define optimizer and loss function\n",
        "optimizer = optim.Adam(model.parameters(), lr=0.001)\n",
        "loss_fn = nn.BCELoss()  # Binary Cross Entropy for binary classification\n",
        "\n",
        "# Training loop\n",
        "def train_model(model, train_loader, val_loader, optimizer, loss_fn, epochs=100):\n",
        "    best_val_loss = float('inf')\n",
        "\n",
        "    for epoch in range(epochs):\n",
        "        model.train()\n",
        "        train_loss = 0\n",
        "        correct = 0\n",
        "        total = 0\n",
        "\n",
        "        for inputs, labels in train_loader:\n",
        "            inputs, labels = inputs.to(device), labels.to(device)\n",
        "            optimizer.zero_grad()\n",
        "\n",
        "            # Forward pass\n",
        "            outputs = model(inputs)\n",
        "            loss = loss_fn(outputs.squeeze(), labels)  # Squeeze to make outputs the same shape as labels\n",
        "            loss.backward()\n",
        "            optimizer.step()\n",
        "\n",
        "            train_loss += loss.item()\n",
        "\n",
        "            # Calculate accuracy\n",
        "            predicted = (outputs > 0.5).float()\n",
        "            correct += (predicted.squeeze() == labels).sum().item()\n",
        "            total += labels.size(0)\n",
        "\n",
        "        # Validation step\n",
        "        model.eval()\n",
        "        val_loss = 0\n",
        "        val_correct = 0\n",
        "        val_total = 0\n",
        "        with torch.no_grad():\n",
        "            for inputs, labels in val_loader:\n",
        "                inputs, labels = inputs.to(device), labels.to(device)\n",
        "\n",
        "                outputs = model(inputs)\n",
        "                val_loss += loss_fn(outputs.squeeze(), labels).item()\n",
        "\n",
        "                predicted = (outputs > 0.5).float()\n",
        "                val_correct += (predicted.squeeze() == labels).sum().item()\n",
        "                val_total += labels.size(0)\n",
        "\n",
        "        # Calculate metrics\n",
        "        train_loss = train_loss / len(train_loader)\n",
        "        train_accuracy = correct / total\n",
        "        val_loss = val_loss / len(val_loader)\n",
        "        val_accuracy = val_correct / val_total\n",
        "\n",
        "        print(f\"Epoch {epoch + 1}/{epochs}, Train Loss: {train_loss:.4f}, Train Accuracy: {train_accuracy:.4f}, \"\n",
        "              f\"Val Loss: {val_loss:.4f}, Val Accuracy: {val_accuracy:.4f}\")\n",
        "\n",
        "        # Save model if it's the best validation loss\n",
        "        if val_loss < best_val_loss:\n",
        "            best_val_loss = val_loss\n",
        "            torch.save(model.state_dict(), \"best_feedforward_model.pth\")\n",
        "\n",
        "# Move the model to the device\n",
        "device = torch.device(\"cuda\" if torch.cuda.is_available() else \"cpu\")\n",
        "model.to(device)\n",
        "\n",
        "# Train the model\n",
        "train_model(model, train_loader, val_loader, optimizer, loss_fn)\n"
      ],
      "metadata": {
        "colab": {
          "base_uri": "https://localhost:8080/"
        },
        "id": "P5w4eM-WXXR5",
        "outputId": "b5eba92a-beb0-4b9e-e477-5a5428b83547"
      },
      "execution_count": 177,
      "outputs": [
        {
          "output_type": "stream",
          "name": "stdout",
          "text": [
            "Epoch 1/100, Train Loss: 0.6768, Train Accuracy: 0.6667, Val Loss: 0.6705, Val Accuracy: 0.7222\n",
            "Epoch 2/100, Train Loss: 0.6617, Train Accuracy: 0.6790, Val Loss: 0.6587, Val Accuracy: 0.6667\n",
            "Epoch 3/100, Train Loss: 0.6498, Train Accuracy: 0.6790, Val Loss: 0.6482, Val Accuracy: 0.6667\n",
            "Epoch 4/100, Train Loss: 0.6388, Train Accuracy: 0.6790, Val Loss: 0.6389, Val Accuracy: 0.6667\n",
            "Epoch 5/100, Train Loss: 0.6285, Train Accuracy: 0.6790, Val Loss: 0.6297, Val Accuracy: 0.6667\n",
            "Epoch 6/100, Train Loss: 0.6125, Train Accuracy: 0.6790, Val Loss: 0.6206, Val Accuracy: 0.6667\n",
            "Epoch 7/100, Train Loss: 0.5985, Train Accuracy: 0.6790, Val Loss: 0.6110, Val Accuracy: 0.6667\n",
            "Epoch 8/100, Train Loss: 0.5843, Train Accuracy: 0.6790, Val Loss: 0.6006, Val Accuracy: 0.6667\n",
            "Epoch 9/100, Train Loss: 0.5823, Train Accuracy: 0.6914, Val Loss: 0.5890, Val Accuracy: 0.6667\n",
            "Epoch 10/100, Train Loss: 0.5599, Train Accuracy: 0.7037, Val Loss: 0.5770, Val Accuracy: 0.7222\n",
            "Epoch 11/100, Train Loss: 0.5244, Train Accuracy: 0.7407, Val Loss: 0.5651, Val Accuracy: 0.7222\n",
            "Epoch 12/100, Train Loss: 0.5344, Train Accuracy: 0.7531, Val Loss: 0.5520, Val Accuracy: 0.7222\n",
            "Epoch 13/100, Train Loss: 0.5100, Train Accuracy: 0.7901, Val Loss: 0.5398, Val Accuracy: 0.7222\n",
            "Epoch 14/100, Train Loss: 0.4904, Train Accuracy: 0.8395, Val Loss: 0.5281, Val Accuracy: 0.7222\n",
            "Epoch 15/100, Train Loss: 0.4704, Train Accuracy: 0.8642, Val Loss: 0.5172, Val Accuracy: 0.7222\n",
            "Epoch 16/100, Train Loss: 0.4463, Train Accuracy: 0.8889, Val Loss: 0.5069, Val Accuracy: 0.7222\n",
            "Epoch 17/100, Train Loss: 0.4198, Train Accuracy: 0.9012, Val Loss: 0.4970, Val Accuracy: 0.7222\n",
            "Epoch 18/100, Train Loss: 0.4131, Train Accuracy: 0.9136, Val Loss: 0.4888, Val Accuracy: 0.7222\n",
            "Epoch 19/100, Train Loss: 0.3653, Train Accuracy: 0.9136, Val Loss: 0.4825, Val Accuracy: 0.8333\n",
            "Epoch 20/100, Train Loss: 0.3530, Train Accuracy: 0.9259, Val Loss: 0.4772, Val Accuracy: 0.8333\n",
            "Epoch 21/100, Train Loss: 0.3193, Train Accuracy: 0.9506, Val Loss: 0.4727, Val Accuracy: 0.8333\n",
            "Epoch 22/100, Train Loss: 0.3049, Train Accuracy: 0.9630, Val Loss: 0.4697, Val Accuracy: 0.8333\n",
            "Epoch 23/100, Train Loss: 0.2842, Train Accuracy: 0.9630, Val Loss: 0.4674, Val Accuracy: 0.8333\n",
            "Epoch 24/100, Train Loss: 0.2547, Train Accuracy: 0.9630, Val Loss: 0.4672, Val Accuracy: 0.8333\n",
            "Epoch 25/100, Train Loss: 0.2368, Train Accuracy: 0.9630, Val Loss: 0.4685, Val Accuracy: 0.8333\n",
            "Epoch 26/100, Train Loss: 0.2275, Train Accuracy: 0.9630, Val Loss: 0.4711, Val Accuracy: 0.8333\n",
            "Epoch 27/100, Train Loss: 0.1874, Train Accuracy: 0.9630, Val Loss: 0.4763, Val Accuracy: 0.8333\n",
            "Epoch 28/100, Train Loss: 0.1777, Train Accuracy: 0.9630, Val Loss: 0.4817, Val Accuracy: 0.8333\n",
            "Epoch 29/100, Train Loss: 0.1645, Train Accuracy: 0.9877, Val Loss: 0.4877, Val Accuracy: 0.8333\n",
            "Epoch 30/100, Train Loss: 0.1393, Train Accuracy: 0.9877, Val Loss: 0.4947, Val Accuracy: 0.8333\n",
            "Epoch 31/100, Train Loss: 0.1222, Train Accuracy: 0.9877, Val Loss: 0.5009, Val Accuracy: 0.8333\n",
            "Epoch 32/100, Train Loss: 0.1148, Train Accuracy: 0.9877, Val Loss: 0.5088, Val Accuracy: 0.8333\n",
            "Epoch 33/100, Train Loss: 0.0983, Train Accuracy: 0.9877, Val Loss: 0.5167, Val Accuracy: 0.8333\n",
            "Epoch 34/100, Train Loss: 0.0905, Train Accuracy: 0.9877, Val Loss: 0.5262, Val Accuracy: 0.8333\n",
            "Epoch 35/100, Train Loss: 0.0820, Train Accuracy: 1.0000, Val Loss: 0.5362, Val Accuracy: 0.8333\n",
            "Epoch 36/100, Train Loss: 0.0707, Train Accuracy: 1.0000, Val Loss: 0.5457, Val Accuracy: 0.8333\n",
            "Epoch 37/100, Train Loss: 0.0645, Train Accuracy: 1.0000, Val Loss: 0.5550, Val Accuracy: 0.8333\n",
            "Epoch 38/100, Train Loss: 0.0505, Train Accuracy: 1.0000, Val Loss: 0.5637, Val Accuracy: 0.8333\n",
            "Epoch 39/100, Train Loss: 0.0467, Train Accuracy: 1.0000, Val Loss: 0.5738, Val Accuracy: 0.8333\n",
            "Epoch 40/100, Train Loss: 0.0403, Train Accuracy: 1.0000, Val Loss: 0.5823, Val Accuracy: 0.8333\n",
            "Epoch 41/100, Train Loss: 0.0373, Train Accuracy: 1.0000, Val Loss: 0.5911, Val Accuracy: 0.8333\n",
            "Epoch 42/100, Train Loss: 0.0339, Train Accuracy: 1.0000, Val Loss: 0.5980, Val Accuracy: 0.8333\n",
            "Epoch 43/100, Train Loss: 0.0293, Train Accuracy: 1.0000, Val Loss: 0.6052, Val Accuracy: 0.8333\n",
            "Epoch 44/100, Train Loss: 0.0270, Train Accuracy: 1.0000, Val Loss: 0.6133, Val Accuracy: 0.8333\n",
            "Epoch 45/100, Train Loss: 0.0241, Train Accuracy: 1.0000, Val Loss: 0.6205, Val Accuracy: 0.8333\n",
            "Epoch 46/100, Train Loss: 0.0221, Train Accuracy: 1.0000, Val Loss: 0.6279, Val Accuracy: 0.8333\n",
            "Epoch 47/100, Train Loss: 0.0203, Train Accuracy: 1.0000, Val Loss: 0.6356, Val Accuracy: 0.8333\n",
            "Epoch 48/100, Train Loss: 0.0179, Train Accuracy: 1.0000, Val Loss: 0.6427, Val Accuracy: 0.8333\n",
            "Epoch 49/100, Train Loss: 0.0161, Train Accuracy: 1.0000, Val Loss: 0.6491, Val Accuracy: 0.8333\n",
            "Epoch 50/100, Train Loss: 0.0144, Train Accuracy: 1.0000, Val Loss: 0.6554, Val Accuracy: 0.8333\n",
            "Epoch 51/100, Train Loss: 0.0152, Train Accuracy: 1.0000, Val Loss: 0.6618, Val Accuracy: 0.8333\n",
            "Epoch 52/100, Train Loss: 0.0126, Train Accuracy: 1.0000, Val Loss: 0.6681, Val Accuracy: 0.8333\n",
            "Epoch 53/100, Train Loss: 0.0116, Train Accuracy: 1.0000, Val Loss: 0.6747, Val Accuracy: 0.8333\n",
            "Epoch 54/100, Train Loss: 0.0114, Train Accuracy: 1.0000, Val Loss: 0.6814, Val Accuracy: 0.8333\n",
            "Epoch 55/100, Train Loss: 0.0104, Train Accuracy: 1.0000, Val Loss: 0.6882, Val Accuracy: 0.8333\n",
            "Epoch 56/100, Train Loss: 0.0094, Train Accuracy: 1.0000, Val Loss: 0.6946, Val Accuracy: 0.8333\n",
            "Epoch 57/100, Train Loss: 0.0085, Train Accuracy: 1.0000, Val Loss: 0.7007, Val Accuracy: 0.8333\n",
            "Epoch 58/100, Train Loss: 0.0080, Train Accuracy: 1.0000, Val Loss: 0.7066, Val Accuracy: 0.8333\n",
            "Epoch 59/100, Train Loss: 0.0078, Train Accuracy: 1.0000, Val Loss: 0.7116, Val Accuracy: 0.8333\n",
            "Epoch 60/100, Train Loss: 0.0069, Train Accuracy: 1.0000, Val Loss: 0.7164, Val Accuracy: 0.8333\n",
            "Epoch 61/100, Train Loss: 0.0065, Train Accuracy: 1.0000, Val Loss: 0.7210, Val Accuracy: 0.8333\n",
            "Epoch 62/100, Train Loss: 0.0064, Train Accuracy: 1.0000, Val Loss: 0.7252, Val Accuracy: 0.8333\n",
            "Epoch 63/100, Train Loss: 0.0064, Train Accuracy: 1.0000, Val Loss: 0.7298, Val Accuracy: 0.8333\n",
            "Epoch 64/100, Train Loss: 0.0059, Train Accuracy: 1.0000, Val Loss: 0.7335, Val Accuracy: 0.8333\n",
            "Epoch 65/100, Train Loss: 0.0058, Train Accuracy: 1.0000, Val Loss: 0.7378, Val Accuracy: 0.8333\n",
            "Epoch 66/100, Train Loss: 0.0055, Train Accuracy: 1.0000, Val Loss: 0.7418, Val Accuracy: 0.8333\n",
            "Epoch 67/100, Train Loss: 0.0050, Train Accuracy: 1.0000, Val Loss: 0.7462, Val Accuracy: 0.8333\n",
            "Epoch 68/100, Train Loss: 0.0051, Train Accuracy: 1.0000, Val Loss: 0.7508, Val Accuracy: 0.8333\n",
            "Epoch 69/100, Train Loss: 0.0046, Train Accuracy: 1.0000, Val Loss: 0.7557, Val Accuracy: 0.8333\n",
            "Epoch 70/100, Train Loss: 0.0044, Train Accuracy: 1.0000, Val Loss: 0.7605, Val Accuracy: 0.8333\n",
            "Epoch 71/100, Train Loss: 0.0043, Train Accuracy: 1.0000, Val Loss: 0.7648, Val Accuracy: 0.8333\n",
            "Epoch 72/100, Train Loss: 0.0041, Train Accuracy: 1.0000, Val Loss: 0.7684, Val Accuracy: 0.8333\n",
            "Epoch 73/100, Train Loss: 0.0041, Train Accuracy: 1.0000, Val Loss: 0.7720, Val Accuracy: 0.8333\n",
            "Epoch 74/100, Train Loss: 0.0035, Train Accuracy: 1.0000, Val Loss: 0.7762, Val Accuracy: 0.8333\n",
            "Epoch 75/100, Train Loss: 0.0037, Train Accuracy: 1.0000, Val Loss: 0.7802, Val Accuracy: 0.8333\n",
            "Epoch 76/100, Train Loss: 0.0035, Train Accuracy: 1.0000, Val Loss: 0.7839, Val Accuracy: 0.8333\n",
            "Epoch 77/100, Train Loss: 0.0034, Train Accuracy: 1.0000, Val Loss: 0.7872, Val Accuracy: 0.8333\n",
            "Epoch 78/100, Train Loss: 0.0034, Train Accuracy: 1.0000, Val Loss: 0.7901, Val Accuracy: 0.8333\n",
            "Epoch 79/100, Train Loss: 0.0031, Train Accuracy: 1.0000, Val Loss: 0.7938, Val Accuracy: 0.8333\n",
            "Epoch 80/100, Train Loss: 0.0030, Train Accuracy: 1.0000, Val Loss: 0.7971, Val Accuracy: 0.8333\n",
            "Epoch 81/100, Train Loss: 0.0029, Train Accuracy: 1.0000, Val Loss: 0.8004, Val Accuracy: 0.8333\n",
            "Epoch 82/100, Train Loss: 0.0028, Train Accuracy: 1.0000, Val Loss: 0.8037, Val Accuracy: 0.8333\n",
            "Epoch 83/100, Train Loss: 0.0029, Train Accuracy: 1.0000, Val Loss: 0.8070, Val Accuracy: 0.8333\n",
            "Epoch 84/100, Train Loss: 0.0027, Train Accuracy: 1.0000, Val Loss: 0.8104, Val Accuracy: 0.8333\n",
            "Epoch 85/100, Train Loss: 0.0027, Train Accuracy: 1.0000, Val Loss: 0.8135, Val Accuracy: 0.8333\n",
            "Epoch 86/100, Train Loss: 0.0026, Train Accuracy: 1.0000, Val Loss: 0.8165, Val Accuracy: 0.8333\n",
            "Epoch 87/100, Train Loss: 0.0025, Train Accuracy: 1.0000, Val Loss: 0.8192, Val Accuracy: 0.8333\n",
            "Epoch 88/100, Train Loss: 0.0025, Train Accuracy: 1.0000, Val Loss: 0.8218, Val Accuracy: 0.8333\n",
            "Epoch 89/100, Train Loss: 0.0021, Train Accuracy: 1.0000, Val Loss: 0.8248, Val Accuracy: 0.8333\n",
            "Epoch 90/100, Train Loss: 0.0022, Train Accuracy: 1.0000, Val Loss: 0.8274, Val Accuracy: 0.8333\n",
            "Epoch 91/100, Train Loss: 0.0022, Train Accuracy: 1.0000, Val Loss: 0.8300, Val Accuracy: 0.8333\n",
            "Epoch 92/100, Train Loss: 0.0021, Train Accuracy: 1.0000, Val Loss: 0.8328, Val Accuracy: 0.8333\n",
            "Epoch 93/100, Train Loss: 0.0021, Train Accuracy: 1.0000, Val Loss: 0.8351, Val Accuracy: 0.8333\n",
            "Epoch 94/100, Train Loss: 0.0020, Train Accuracy: 1.0000, Val Loss: 0.8375, Val Accuracy: 0.8333\n",
            "Epoch 95/100, Train Loss: 0.0020, Train Accuracy: 1.0000, Val Loss: 0.8397, Val Accuracy: 0.8333\n",
            "Epoch 96/100, Train Loss: 0.0020, Train Accuracy: 1.0000, Val Loss: 0.8419, Val Accuracy: 0.8333\n",
            "Epoch 97/100, Train Loss: 0.0019, Train Accuracy: 1.0000, Val Loss: 0.8442, Val Accuracy: 0.8333\n",
            "Epoch 98/100, Train Loss: 0.0018, Train Accuracy: 1.0000, Val Loss: 0.8467, Val Accuracy: 0.8333\n",
            "Epoch 99/100, Train Loss: 0.0018, Train Accuracy: 1.0000, Val Loss: 0.8493, Val Accuracy: 0.8333\n",
            "Epoch 100/100, Train Loss: 0.0017, Train Accuracy: 1.0000, Val Loss: 0.8516, Val Accuracy: 0.8333\n"
          ]
        }
      ]
    },
    {
      "cell_type": "markdown",
      "source": [
        "2. Prepare Data"
      ],
      "metadata": {
        "id": "x2CnxVsQYENi"
      }
    },
    {
      "cell_type": "code",
      "source": [
        "import torch\n",
        "from torch.utils.data import DataLoader, TensorDataset\n",
        "from sklearn.preprocessing import StandardScaler\n",
        "from sklearn.model_selection import train_test_split\n",
        "import pandas as pd\n",
        "import numpy as np\n",
        "\n",
        "# Load data\n",
        "df = pd.read_csv(\"cleaned_mental_health_data.csv\")\n",
        "\n",
        "# Define adherence labels based on questionnaire responses\n",
        "non_adherence_columns = [\n",
        "    \"Do you ever forget to take your medication?\",\n",
        "    \"Are you careless at times about taking your medication?\",\n",
        "    \"When you feel better, do you sometimes stop taking your medication?\",\n",
        "    \"Sometimes if you feel worse when you take the medication, do you stop taking it?\",\n",
        "    \"I take my medication only when I am sick\"\n",
        "]\n",
        "\n",
        "df[\"adherence\"] = np.where(df[non_adherence_columns].eq(\"Yes\").any(axis=1), 0, 1)\n",
        "\n",
        "# Drop redundant columns\n",
        "df = df.drop(columns=non_adherence_columns + [\"If you have any further comments about medication or this questionnaire, please write them below\"])\n",
        "\n",
        "# Identify all categorical columns\n",
        "categorical_cols = df.select_dtypes(include=['object', 'category']).columns\n",
        "print(\"Categorical columns to encode:\", categorical_cols)\n",
        "\n",
        "# Encode all categorical features\n",
        "from sklearn.preprocessing import LabelEncoder\n",
        "for col in categorical_cols:\n",
        "    le = LabelEncoder()\n",
        "    df[col] = le.fit_transform(df[col].astype(str))\n",
        "\n",
        "# Split features and labels\n",
        "X = df.drop(columns=\"adherence\").values\n",
        "y = df[\"adherence\"].values\n",
        "\n",
        "# Split data into train, validation, test (70-15-15)\n",
        "X_train, X_temp, y_train, y_temp = train_test_split(X, y, test_size=0.3, stratify=y, random_state=42)\n",
        "X_val, X_test, y_val, y_test = train_test_split(X_temp, y_temp, test_size=0.5, stratify=y_temp, random_state=42)\n",
        "\n",
        "# Apply SMOTE to only the training set\n",
        "from imblearn.over_sampling import SMOTE\n",
        "\n",
        "# Apply SMOTE only to the training data\n",
        "smote = SMOTE(sampling_strategy='auto', random_state=42)\n",
        "X_train_resampled, y_train_resampled = smote.fit_resample(X_train, y_train)\n",
        "\n",
        "# Check new class distribution\n",
        "from collections import Counter\n",
        "print(\"New class distribution:\", Counter(y_train_resampled))\n",
        "\n",
        "# Normalize numerical features\n",
        "scaler = StandardScaler()\n",
        "X_train_scaled = scaler.fit_transform(X_train_resampled)\n",
        "X_val_scaled = scaler.transform(X_val)\n",
        "X_test_scaled = scaler.transform(X_test)\n",
        "\n",
        "# Check the shape of the data to ensure it matches\n",
        "print(\"Shape of X_train_scaled:\", X_train_scaled.shape)\n",
        "print(\"Shape of y_train_resampled:\", y_train_resampled.shape)\n",
        "\n",
        "# Ensure that X_train_scaled and y_train_resampled have the same number of samples\n",
        "assert X_train_scaled.shape[0] == y_train_resampled.shape[0], \"Mismatch in number of samples between X_train_scaled and y_train_resampled\"\n",
        "\n",
        "# Convert to torch tensors\n",
        "train_tensor = TensorDataset(torch.tensor(X_train_scaled, dtype=torch.float32),\n",
        "                              torch.tensor(y_train_resampled, dtype=torch.float32))\n",
        "val_tensor = TensorDataset(torch.tensor(X_val_scaled, dtype=torch.float32),\n",
        "                            torch.tensor(y_val, dtype=torch.float32))\n",
        "test_tensor = TensorDataset(torch.tensor(X_test_scaled, dtype=torch.float32),\n",
        "                             torch.tensor(y_test, dtype=torch.float32))\n",
        "\n",
        "# Create DataLoaders\n",
        "batch_size = 32\n",
        "train_loader = DataLoader(train_tensor, batch_size=batch_size, shuffle=True)\n",
        "val_loader = DataLoader(val_tensor, batch_size=batch_size)\n",
        "test_loader = DataLoader(test_tensor, batch_size=batch_size)\n"
      ],
      "metadata": {
        "colab": {
          "base_uri": "https://localhost:8080/"
        },
        "id": "o4mfmtVAYKJC",
        "outputId": "b420c173-10a0-4e87-8e85-d11a85543c26"
      },
      "execution_count": 178,
      "outputs": [
        {
          "output_type": "stream",
          "name": "stdout",
          "text": [
            "Categorical columns to encode: Index(['sex', 'Religion', 'marital status', 'education status', 'residence',\n",
            "       'substance use', 'comorbidity',\n",
            "       'It is unnatural for my mind and body to be controlled by medication?',\n",
            "       'My thoughts are clearer on medication',\n",
            "       'By staying on medication, I can prevent getting sick',\n",
            "       'I feel weird, like a ‘zombie’ on medication',\n",
            "       'Medication makes me feel tired and sluggish',\n",
            "       'Some of your symptoms are made by your mind.', 'You are mentally well',\n",
            "       'You do not need medication', 'Your stay in the hospital is necessary',\n",
            "       'The doctor is right in prescribing medication for you.',\n",
            "       'You do not need to be seen by a doctor or psychiatrist',\n",
            "       'If someone said you have a nervous or mental illness, they would be right',\n",
            "       'None of the unusual things you are experiencing are due to an illness.',\n",
            "       '. Loss of energy or drive', 'Feeling unmotivated or numb',\n",
            "       'Daytime sedation or drowsiness', 'Sleeping too much',\n",
            "       'Muscles being too tense or stiff', 'Muscles trembling or shaking',\n",
            "       'Feeling restless or jittery',\n",
            "       'Need to move around and pace; inability to sit still',\n",
            "       'Trouble getting to sleep or staying asleep (insomnia)',\n",
            "       'Blurry vision', 'Dry mouth', 'Drooling',\n",
            "       'Memory and concentration problems', 'Constipation', 'Weight changes',\n",
            "       'Changes in sexual functioning', 'Menstrual or breast problem',\n",
            "       'I feel over burdened by the number of pills i swallow per day.',\n",
            "       'How often do yo take your drugs',\n",
            "       'How often do you find no medications in the hospital',\n",
            "       'I am satisfied with doctors explanation about mental illness and the need for treatment',\n",
            "       'Do you sometimes stop your medications because of religious or cultural beliefs'],\n",
            "      dtype='object')\n",
            "New class distribution: Counter({1: 55, 0: 55})\n",
            "Shape of X_train_scaled: (110, 59)\n",
            "Shape of y_train_resampled: (110,)\n"
          ]
        }
      ]
    },
    {
      "cell_type": "markdown",
      "source": [
        "3 Model initialisation"
      ],
      "metadata": {
        "id": "-HMidXW5Yrpx"
      }
    },
    {
      "cell_type": "code",
      "source": [
        "# Initialize the FeedForwardNN model\n",
        "input_dim = X_train.shape[1]  # number of features in your dataset\n",
        "model = FeedForwardNN(input_dim)\n",
        "\n",
        "# Set device to GPU if available, otherwise use CPU\n",
        "device = torch.device(\"cuda\" if torch.cuda.is_available() else \"cpu\")\n",
        "model.to(device)\n",
        "\n",
        "# Define optimizer and loss function\n",
        "optimizer = optim.Adam(model.parameters(), lr=0.001)\n",
        "loss_fn = nn.BCELoss()  # Binary Cross Entropy Loss for binary classification\n"
      ],
      "metadata": {
        "id": "xWcNQjEuYwBH"
      },
      "execution_count": 180,
      "outputs": []
    },
    {
      "cell_type": "markdown",
      "source": [
        "4 TRaining the model"
      ],
      "metadata": {
        "id": "0jzHG3RWYyzY"
      }
    },
    {
      "cell_type": "code",
      "source": [
        "# Training the model\n",
        "train_model(model, train_loader, val_loader, optimizer, loss_fn, epochs=100)\n"
      ],
      "metadata": {
        "colab": {
          "base_uri": "https://localhost:8080/"
        },
        "id": "YA7eZnOuY_zf",
        "outputId": "744f2211-0d20-4884-c51c-c6892a5ceaac"
      },
      "execution_count": 181,
      "outputs": [
        {
          "output_type": "stream",
          "name": "stdout",
          "text": [
            "Epoch 1/100, Train Loss: 0.6922, Train Accuracy: 0.4909, Val Loss: 0.6916, Val Accuracy: 0.5000\n",
            "Epoch 2/100, Train Loss: 0.6693, Train Accuracy: 0.6273, Val Loss: 0.6799, Val Accuracy: 0.6667\n",
            "Epoch 3/100, Train Loss: 0.6566, Train Accuracy: 0.7273, Val Loss: 0.6689, Val Accuracy: 0.6667\n",
            "Epoch 4/100, Train Loss: 0.6389, Train Accuracy: 0.8545, Val Loss: 0.6591, Val Accuracy: 0.7222\n",
            "Epoch 5/100, Train Loss: 0.6140, Train Accuracy: 0.8636, Val Loss: 0.6487, Val Accuracy: 0.7222\n",
            "Epoch 6/100, Train Loss: 0.5909, Train Accuracy: 0.8636, Val Loss: 0.6374, Val Accuracy: 0.7222\n",
            "Epoch 7/100, Train Loss: 0.5766, Train Accuracy: 0.8818, Val Loss: 0.6254, Val Accuracy: 0.7222\n",
            "Epoch 8/100, Train Loss: 0.5432, Train Accuracy: 0.9000, Val Loss: 0.6130, Val Accuracy: 0.7222\n",
            "Epoch 9/100, Train Loss: 0.5226, Train Accuracy: 0.8909, Val Loss: 0.6015, Val Accuracy: 0.6667\n",
            "Epoch 10/100, Train Loss: 0.4990, Train Accuracy: 0.8818, Val Loss: 0.5928, Val Accuracy: 0.6667\n",
            "Epoch 11/100, Train Loss: 0.4689, Train Accuracy: 0.8818, Val Loss: 0.5854, Val Accuracy: 0.6667\n",
            "Epoch 12/100, Train Loss: 0.4202, Train Accuracy: 0.8909, Val Loss: 0.5824, Val Accuracy: 0.6667\n",
            "Epoch 13/100, Train Loss: 0.3928, Train Accuracy: 0.8909, Val Loss: 0.5815, Val Accuracy: 0.6667\n",
            "Epoch 14/100, Train Loss: 0.3556, Train Accuracy: 0.9091, Val Loss: 0.5845, Val Accuracy: 0.6667\n",
            "Epoch 15/100, Train Loss: 0.3398, Train Accuracy: 0.9182, Val Loss: 0.5896, Val Accuracy: 0.6667\n",
            "Epoch 16/100, Train Loss: 0.3001, Train Accuracy: 0.9364, Val Loss: 0.5952, Val Accuracy: 0.6667\n",
            "Epoch 17/100, Train Loss: 0.2542, Train Accuracy: 0.9455, Val Loss: 0.6012, Val Accuracy: 0.6667\n",
            "Epoch 18/100, Train Loss: 0.2254, Train Accuracy: 0.9545, Val Loss: 0.6076, Val Accuracy: 0.6667\n",
            "Epoch 19/100, Train Loss: 0.1941, Train Accuracy: 0.9818, Val Loss: 0.6174, Val Accuracy: 0.6667\n",
            "Epoch 20/100, Train Loss: 0.1741, Train Accuracy: 0.9909, Val Loss: 0.6287, Val Accuracy: 0.6667\n",
            "Epoch 21/100, Train Loss: 0.1448, Train Accuracy: 0.9909, Val Loss: 0.6403, Val Accuracy: 0.7778\n",
            "Epoch 22/100, Train Loss: 0.1428, Train Accuracy: 0.9909, Val Loss: 0.6542, Val Accuracy: 0.7778\n",
            "Epoch 23/100, Train Loss: 0.1183, Train Accuracy: 0.9909, Val Loss: 0.6695, Val Accuracy: 0.7778\n",
            "Epoch 24/100, Train Loss: 0.0948, Train Accuracy: 0.9909, Val Loss: 0.6826, Val Accuracy: 0.7778\n",
            "Epoch 25/100, Train Loss: 0.0754, Train Accuracy: 0.9909, Val Loss: 0.6980, Val Accuracy: 0.7778\n",
            "Epoch 26/100, Train Loss: 0.0710, Train Accuracy: 1.0000, Val Loss: 0.7145, Val Accuracy: 0.7778\n",
            "Epoch 27/100, Train Loss: 0.0617, Train Accuracy: 1.0000, Val Loss: 0.7320, Val Accuracy: 0.7778\n",
            "Epoch 28/100, Train Loss: 0.0487, Train Accuracy: 1.0000, Val Loss: 0.7493, Val Accuracy: 0.7778\n",
            "Epoch 29/100, Train Loss: 0.0410, Train Accuracy: 1.0000, Val Loss: 0.7660, Val Accuracy: 0.8333\n",
            "Epoch 30/100, Train Loss: 0.0372, Train Accuracy: 1.0000, Val Loss: 0.7831, Val Accuracy: 0.8333\n",
            "Epoch 31/100, Train Loss: 0.0327, Train Accuracy: 1.0000, Val Loss: 0.7993, Val Accuracy: 0.8333\n",
            "Epoch 32/100, Train Loss: 0.0274, Train Accuracy: 1.0000, Val Loss: 0.8142, Val Accuracy: 0.8333\n",
            "Epoch 33/100, Train Loss: 0.0229, Train Accuracy: 1.0000, Val Loss: 0.8289, Val Accuracy: 0.8333\n",
            "Epoch 34/100, Train Loss: 0.0200, Train Accuracy: 1.0000, Val Loss: 0.8437, Val Accuracy: 0.8333\n",
            "Epoch 35/100, Train Loss: 0.0170, Train Accuracy: 1.0000, Val Loss: 0.8571, Val Accuracy: 0.8333\n",
            "Epoch 36/100, Train Loss: 0.0167, Train Accuracy: 1.0000, Val Loss: 0.8707, Val Accuracy: 0.8333\n",
            "Epoch 37/100, Train Loss: 0.0146, Train Accuracy: 1.0000, Val Loss: 0.8840, Val Accuracy: 0.8333\n",
            "Epoch 38/100, Train Loss: 0.0121, Train Accuracy: 1.0000, Val Loss: 0.8959, Val Accuracy: 0.8333\n",
            "Epoch 39/100, Train Loss: 0.0112, Train Accuracy: 1.0000, Val Loss: 0.9075, Val Accuracy: 0.8333\n",
            "Epoch 40/100, Train Loss: 0.0101, Train Accuracy: 1.0000, Val Loss: 0.9187, Val Accuracy: 0.8333\n",
            "Epoch 41/100, Train Loss: 0.0104, Train Accuracy: 1.0000, Val Loss: 0.9297, Val Accuracy: 0.8333\n",
            "Epoch 42/100, Train Loss: 0.0089, Train Accuracy: 1.0000, Val Loss: 0.9405, Val Accuracy: 0.8333\n",
            "Epoch 43/100, Train Loss: 0.0089, Train Accuracy: 1.0000, Val Loss: 0.9510, Val Accuracy: 0.8333\n",
            "Epoch 44/100, Train Loss: 0.0071, Train Accuracy: 1.0000, Val Loss: 0.9606, Val Accuracy: 0.8333\n",
            "Epoch 45/100, Train Loss: 0.0068, Train Accuracy: 1.0000, Val Loss: 0.9700, Val Accuracy: 0.8333\n",
            "Epoch 46/100, Train Loss: 0.0061, Train Accuracy: 1.0000, Val Loss: 0.9785, Val Accuracy: 0.8333\n",
            "Epoch 47/100, Train Loss: 0.0061, Train Accuracy: 1.0000, Val Loss: 0.9867, Val Accuracy: 0.8333\n",
            "Epoch 48/100, Train Loss: 0.0058, Train Accuracy: 1.0000, Val Loss: 0.9948, Val Accuracy: 0.8333\n",
            "Epoch 49/100, Train Loss: 0.0057, Train Accuracy: 1.0000, Val Loss: 1.0034, Val Accuracy: 0.8333\n",
            "Epoch 50/100, Train Loss: 0.0052, Train Accuracy: 1.0000, Val Loss: 1.0108, Val Accuracy: 0.8333\n",
            "Epoch 51/100, Train Loss: 0.0049, Train Accuracy: 1.0000, Val Loss: 1.0179, Val Accuracy: 0.8333\n",
            "Epoch 52/100, Train Loss: 0.0046, Train Accuracy: 1.0000, Val Loss: 1.0249, Val Accuracy: 0.8333\n",
            "Epoch 53/100, Train Loss: 0.0046, Train Accuracy: 1.0000, Val Loss: 1.0318, Val Accuracy: 0.8333\n",
            "Epoch 54/100, Train Loss: 0.0041, Train Accuracy: 1.0000, Val Loss: 1.0387, Val Accuracy: 0.8333\n",
            "Epoch 55/100, Train Loss: 0.0038, Train Accuracy: 1.0000, Val Loss: 1.0458, Val Accuracy: 0.8333\n",
            "Epoch 56/100, Train Loss: 0.0037, Train Accuracy: 1.0000, Val Loss: 1.0526, Val Accuracy: 0.8333\n",
            "Epoch 57/100, Train Loss: 0.0037, Train Accuracy: 1.0000, Val Loss: 1.0593, Val Accuracy: 0.8333\n",
            "Epoch 58/100, Train Loss: 0.0033, Train Accuracy: 1.0000, Val Loss: 1.0664, Val Accuracy: 0.8333\n",
            "Epoch 59/100, Train Loss: 0.0035, Train Accuracy: 1.0000, Val Loss: 1.0728, Val Accuracy: 0.8333\n",
            "Epoch 60/100, Train Loss: 0.0031, Train Accuracy: 1.0000, Val Loss: 1.0788, Val Accuracy: 0.8333\n",
            "Epoch 61/100, Train Loss: 0.0031, Train Accuracy: 1.0000, Val Loss: 1.0847, Val Accuracy: 0.8333\n",
            "Epoch 62/100, Train Loss: 0.0029, Train Accuracy: 1.0000, Val Loss: 1.0904, Val Accuracy: 0.8333\n",
            "Epoch 63/100, Train Loss: 0.0028, Train Accuracy: 1.0000, Val Loss: 1.0958, Val Accuracy: 0.8333\n",
            "Epoch 64/100, Train Loss: 0.0025, Train Accuracy: 1.0000, Val Loss: 1.1013, Val Accuracy: 0.8333\n",
            "Epoch 65/100, Train Loss: 0.0027, Train Accuracy: 1.0000, Val Loss: 1.1067, Val Accuracy: 0.8333\n",
            "Epoch 66/100, Train Loss: 0.0024, Train Accuracy: 1.0000, Val Loss: 1.1125, Val Accuracy: 0.8333\n",
            "Epoch 67/100, Train Loss: 0.0024, Train Accuracy: 1.0000, Val Loss: 1.1179, Val Accuracy: 0.8333\n",
            "Epoch 68/100, Train Loss: 0.0023, Train Accuracy: 1.0000, Val Loss: 1.1229, Val Accuracy: 0.8333\n",
            "Epoch 69/100, Train Loss: 0.0021, Train Accuracy: 1.0000, Val Loss: 1.1282, Val Accuracy: 0.8333\n",
            "Epoch 70/100, Train Loss: 0.0022, Train Accuracy: 1.0000, Val Loss: 1.1332, Val Accuracy: 0.8333\n",
            "Epoch 71/100, Train Loss: 0.0020, Train Accuracy: 1.0000, Val Loss: 1.1383, Val Accuracy: 0.8333\n",
            "Epoch 72/100, Train Loss: 0.0020, Train Accuracy: 1.0000, Val Loss: 1.1433, Val Accuracy: 0.8333\n",
            "Epoch 73/100, Train Loss: 0.0020, Train Accuracy: 1.0000, Val Loss: 1.1481, Val Accuracy: 0.8333\n",
            "Epoch 74/100, Train Loss: 0.0018, Train Accuracy: 1.0000, Val Loss: 1.1531, Val Accuracy: 0.8333\n",
            "Epoch 75/100, Train Loss: 0.0018, Train Accuracy: 1.0000, Val Loss: 1.1577, Val Accuracy: 0.8333\n",
            "Epoch 76/100, Train Loss: 0.0016, Train Accuracy: 1.0000, Val Loss: 1.1623, Val Accuracy: 0.8333\n",
            "Epoch 77/100, Train Loss: 0.0019, Train Accuracy: 1.0000, Val Loss: 1.1668, Val Accuracy: 0.8333\n",
            "Epoch 78/100, Train Loss: 0.0016, Train Accuracy: 1.0000, Val Loss: 1.1713, Val Accuracy: 0.8333\n",
            "Epoch 79/100, Train Loss: 0.0017, Train Accuracy: 1.0000, Val Loss: 1.1760, Val Accuracy: 0.8333\n",
            "Epoch 80/100, Train Loss: 0.0015, Train Accuracy: 1.0000, Val Loss: 1.1804, Val Accuracy: 0.8333\n",
            "Epoch 81/100, Train Loss: 0.0015, Train Accuracy: 1.0000, Val Loss: 1.1845, Val Accuracy: 0.8333\n",
            "Epoch 82/100, Train Loss: 0.0014, Train Accuracy: 1.0000, Val Loss: 1.1886, Val Accuracy: 0.8333\n",
            "Epoch 83/100, Train Loss: 0.0016, Train Accuracy: 1.0000, Val Loss: 1.1925, Val Accuracy: 0.8333\n",
            "Epoch 84/100, Train Loss: 0.0013, Train Accuracy: 1.0000, Val Loss: 1.1963, Val Accuracy: 0.8333\n",
            "Epoch 85/100, Train Loss: 0.0014, Train Accuracy: 1.0000, Val Loss: 1.2002, Val Accuracy: 0.8333\n",
            "Epoch 86/100, Train Loss: 0.0013, Train Accuracy: 1.0000, Val Loss: 1.2040, Val Accuracy: 0.8333\n",
            "Epoch 87/100, Train Loss: 0.0013, Train Accuracy: 1.0000, Val Loss: 1.2077, Val Accuracy: 0.8333\n",
            "Epoch 88/100, Train Loss: 0.0012, Train Accuracy: 1.0000, Val Loss: 1.2116, Val Accuracy: 0.8333\n",
            "Epoch 89/100, Train Loss: 0.0012, Train Accuracy: 1.0000, Val Loss: 1.2153, Val Accuracy: 0.8333\n",
            "Epoch 90/100, Train Loss: 0.0012, Train Accuracy: 1.0000, Val Loss: 1.2190, Val Accuracy: 0.8333\n",
            "Epoch 91/100, Train Loss: 0.0012, Train Accuracy: 1.0000, Val Loss: 1.2230, Val Accuracy: 0.8333\n",
            "Epoch 92/100, Train Loss: 0.0011, Train Accuracy: 1.0000, Val Loss: 1.2270, Val Accuracy: 0.8333\n",
            "Epoch 93/100, Train Loss: 0.0011, Train Accuracy: 1.0000, Val Loss: 1.2306, Val Accuracy: 0.8333\n",
            "Epoch 94/100, Train Loss: 0.0011, Train Accuracy: 1.0000, Val Loss: 1.2344, Val Accuracy: 0.8333\n",
            "Epoch 95/100, Train Loss: 0.0010, Train Accuracy: 1.0000, Val Loss: 1.2383, Val Accuracy: 0.8333\n",
            "Epoch 96/100, Train Loss: 0.0010, Train Accuracy: 1.0000, Val Loss: 1.2420, Val Accuracy: 0.8333\n",
            "Epoch 97/100, Train Loss: 0.0010, Train Accuracy: 1.0000, Val Loss: 1.2455, Val Accuracy: 0.8333\n",
            "Epoch 98/100, Train Loss: 0.0010, Train Accuracy: 1.0000, Val Loss: 1.2489, Val Accuracy: 0.8333\n",
            "Epoch 99/100, Train Loss: 0.0009, Train Accuracy: 1.0000, Val Loss: 1.2521, Val Accuracy: 0.8333\n",
            "Epoch 100/100, Train Loss: 0.0010, Train Accuracy: 1.0000, Val Loss: 1.2556, Val Accuracy: 0.8333\n"
          ]
        }
      ]
    },
    {
      "cell_type": "markdown",
      "source": [
        "5 Evaluation"
      ],
      "metadata": {
        "id": "Nl-csvbpZD8O"
      }
    },
    {
      "cell_type": "code",
      "source": [
        "import time\n",
        "import torch\n",
        "import torch.optim as optim\n",
        "from sklearn.metrics import precision_score, recall_score, f1_score, roc_auc_score\n",
        "\n",
        "# Define your model (for example, using a simple neural network)\n",
        "class SimpleNN(torch.nn.Module):\n",
        "    def __init__(self, input_dim):\n",
        "        super(SimpleNN, self).__init__()\n",
        "        self.fc1 = torch.nn.Linear(input_dim, 64)\n",
        "        self.fc2 = torch.nn.Linear(64, 32)\n",
        "        self.fc3 = torch.nn.Linear(32, 1)\n",
        "        self.sigmoid = torch.nn.Sigmoid()\n",
        "\n",
        "    def forward(self, x):\n",
        "        x = torch.relu(self.fc1(x))\n",
        "        x = torch.relu(self.fc2(x))\n",
        "        x = self.fc3(x)\n",
        "        x = self.sigmoid(x)\n",
        "        return x\n",
        "\n",
        "# Initialize model, optimizer, and loss function\n",
        "input_dim = X_train_scaled.shape[1]\n",
        "model = SimpleNN(input_dim)\n",
        "learning_rate = 0.001\n",
        "optimizer = optim.Adam(model.parameters(), lr=learning_rate)\n",
        "criterion = torch.nn.BCELoss()\n",
        "\n",
        "# Start tracking training time\n",
        "start_time = time.time()\n",
        "\n",
        "# Training loop\n",
        "epochs = 10\n",
        "for epoch in range(epochs):\n",
        "    model.train()\n",
        "    running_loss = 0.0\n",
        "    correct = 0\n",
        "    total = 0\n",
        "\n",
        "    for inputs, labels in train_loader:\n",
        "        # Move data to GPU if available\n",
        "        inputs, labels = inputs.to(device), labels.to(device)\n",
        "\n",
        "        # Zero gradients\n",
        "        optimizer.zero_grad()\n",
        "\n",
        "        # Forward pass\n",
        "        outputs = model(inputs)\n",
        "        loss = criterion(outputs.squeeze(), labels)\n",
        "\n",
        "        # Backward pass and optimization\n",
        "        loss.backward()\n",
        "        optimizer.step()\n",
        "\n",
        "        # Update metrics\n",
        "        running_loss += loss.item()\n",
        "        predicted = (outputs.squeeze() > 0.5).float()\n",
        "        correct += (predicted == labels).sum().item()\n",
        "        total += labels.size(0)\n",
        "\n",
        "    epoch_loss = running_loss / len(train_loader)\n",
        "    epoch_accuracy = 100 * correct / total\n",
        "\n",
        "    # Evaluation on validation set after each epoch\n",
        "    model.eval()\n",
        "    val_preds, val_labels = [], []\n",
        "    with torch.no_grad():\n",
        "        for inputs, labels in val_loader:\n",
        "            inputs, labels = inputs.to(device), labels.to(device)\n",
        "            outputs = model(inputs)\n",
        "            val_preds.append(outputs.squeeze().cpu().numpy())\n",
        "            val_labels.append(labels.cpu().numpy())\n",
        "\n",
        "    val_preds = np.concatenate(val_preds)\n",
        "    val_labels = np.concatenate(val_labels)\n",
        "\n",
        "    # Calculate metrics\n",
        "    val_precision = precision_score(val_labels, (val_preds > 0.5).astype(int))\n",
        "    val_recall = recall_score(val_labels, (val_preds > 0.5).astype(int))\n",
        "    val_f1 = f1_score(val_labels, (val_preds > 0.5).astype(int))\n",
        "    val_auc = roc_auc_score(val_labels, val_preds)\n",
        "\n",
        "    # Print metrics\n",
        "    print(f\"Epoch {epoch+1}/{epochs} | Loss: {epoch_loss:.4f} | Accuracy: {epoch_accuracy:.2f}%\")\n",
        "    print(f\"Validation Precision: {val_precision:.4f} | Validation Recall: {val_recall:.4f}\")\n",
        "    print(f\"Validation F1-Score: {val_f1:.4f} | Validation AUC: {val_auc:.4f}\")\n",
        "\n",
        "# End training time\n",
        "end_time = time.time()\n",
        "training_time = end_time - start_time\n",
        "\n",
        "# Final evaluation on test set\n",
        "model.eval()\n",
        "test_preds, test_labels = [], []\n",
        "with torch.no_grad():\n",
        "    for inputs, labels in test_loader:\n",
        "        inputs, labels = inputs.to(device), labels.to(device)\n",
        "        outputs = model(inputs)\n",
        "        test_preds.append(outputs.squeeze().cpu().numpy())\n",
        "        test_labels.append(labels.cpu().numpy())\n",
        "\n",
        "test_preds = np.concatenate(test_preds)\n",
        "test_labels = np.concatenate(test_labels)\n",
        "\n",
        "# Calculate final test metrics\n",
        "test_precision = precision_score(test_labels, (test_preds > 0.5).astype(int))\n",
        "test_recall = recall_score(test_labels, (test_preds > 0.5).astype(int))\n",
        "test_f1 = f1_score(test_labels, (test_preds > 0.5).astype(int))\n",
        "test_auc = roc_auc_score(test_labels, test_preds)\n",
        "\n",
        "# Print test metrics\n",
        "print(\"\\nTest Metrics:\")\n",
        "print(f\"Test Precision: {test_precision:.4f} | Test Recall: {test_recall:.4f}\")\n",
        "print(f\"Test F1-Score: {test_f1:.4f} | Test AUC: {test_auc:.4f}\")\n",
        "\n",
        "# Print learning rate and training time\n",
        "print(f\"\\nLearning Rate: {learning_rate}\")\n",
        "print(f\"Training Time: {training_time:.2f} seconds\")\n"
      ],
      "metadata": {
        "colab": {
          "base_uri": "https://localhost:8080/"
        },
        "id": "l4VXdK-bZJJW",
        "outputId": "37630113-1b98-48cc-9347-982d3559fe8f"
      },
      "execution_count": null,
      "outputs": [
        {
          "output_type": "stream",
          "name": "stdout",
          "text": [
            "Epoch 1/10 | Loss: 0.6937 | Accuracy: 49.09%\n",
            "Validation Precision: 0.3333 | Validation Recall: 1.0000\n",
            "Validation F1-Score: 0.5000 | Validation AUC: 0.5694\n",
            "Epoch 2/10 | Loss: 0.6743 | Accuracy: 60.91%\n",
            "Validation Precision: 0.4167 | Validation Recall: 0.8333\n",
            "Validation F1-Score: 0.5556 | Validation AUC: 0.6944\n",
            "Epoch 3/10 | Loss: 0.6608 | Accuracy: 72.73%\n",
            "Validation Precision: 0.5000 | Validation Recall: 0.8333\n",
            "Validation F1-Score: 0.6250 | Validation AUC: 0.7500\n",
            "Epoch 4/10 | Loss: 0.6394 | Accuracy: 75.45%\n",
            "Validation Precision: 0.6250 | Validation Recall: 0.8333\n",
            "Validation F1-Score: 0.7143 | Validation AUC: 0.6944\n",
            "Epoch 5/10 | Loss: 0.6275 | Accuracy: 79.09%\n",
            "Validation Precision: 0.4000 | Validation Recall: 0.3333\n",
            "Validation F1-Score: 0.3636 | Validation AUC: 0.6806\n",
            "Epoch 6/10 | Loss: 0.6048 | Accuracy: 81.82%\n",
            "Validation Precision: 0.4000 | Validation Recall: 0.3333\n",
            "Validation F1-Score: 0.3636 | Validation AUC: 0.6667\n",
            "Epoch 7/10 | Loss: 0.5870 | Accuracy: 82.73%\n",
            "Validation Precision: 0.4000 | Validation Recall: 0.3333\n",
            "Validation F1-Score: 0.3636 | Validation AUC: 0.6667\n",
            "Epoch 8/10 | Loss: 0.5636 | Accuracy: 84.55%\n",
            "Validation Precision: 0.2500 | Validation Recall: 0.1667\n",
            "Validation F1-Score: 0.2000 | Validation AUC: 0.6806\n",
            "Epoch 9/10 | Loss: 0.5481 | Accuracy: 87.27%\n",
            "Validation Precision: 0.2500 | Validation Recall: 0.1667\n",
            "Validation F1-Score: 0.2000 | Validation AUC: 0.6806\n",
            "Epoch 10/10 | Loss: 0.5184 | Accuracy: 89.09%\n",
            "Validation Precision: 0.2500 | Validation Recall: 0.1667\n",
            "Validation F1-Score: 0.2000 | Validation AUC: 0.6806\n",
            "\n",
            "Test Metrics:\n",
            "Test Precision: 0.3333 | Test Recall: 0.1667\n",
            "Test F1-Score: 0.2222 | Test AUC: 0.5000\n",
            "\n",
            "Learning Rate: 0.001\n",
            "Training Time: 0.52 seconds\n"
          ]
        }
      ]
    },
    {
      "cell_type": "markdown",
      "source": [
        "Saving best model"
      ],
      "metadata": {
        "id": "euqsffLGZVVK"
      }
    },
    {
      "cell_type": "code",
      "source": [
        "# Load the best model for inference\n",
        "best_model = FeedForwardNN(input_dim)\n",
        "best_model.load_state_dict(torch.load(\"best_feedforward_model.pth\"))\n",
        "best_model.to(device)\n"
      ],
      "metadata": {
        "colab": {
          "base_uri": "https://localhost:8080/"
        },
        "id": "qvj6IrhQZXf7",
        "outputId": "ee7d0fb9-68fe-45d3-a8ef-f72f17022784"
      },
      "execution_count": null,
      "outputs": [
        {
          "output_type": "stream",
          "name": "stderr",
          "text": [
            "<ipython-input-143-55df29be72a9>:3: FutureWarning: You are using `torch.load` with `weights_only=False` (the current default value), which uses the default pickle module implicitly. It is possible to construct malicious pickle data which will execute arbitrary code during unpickling (See https://github.com/pytorch/pytorch/blob/main/SECURITY.md#untrusted-models for more details). In a future release, the default value for `weights_only` will be flipped to `True`. This limits the functions that could be executed during unpickling. Arbitrary objects will no longer be allowed to be loaded via this mode unless they are explicitly allowlisted by the user via `torch.serialization.add_safe_globals`. We recommend you start setting `weights_only=True` for any use case where you don't have full control of the loaded file. Please open an issue on GitHub for any issues related to this experimental feature.\n",
            "  best_model.load_state_dict(torch.load(\"best_feedforward_model.pth\"))\n"
          ]
        },
        {
          "output_type": "execute_result",
          "data": {
            "text/plain": [
              "FeedForwardNN(\n",
              "  (fc1): Linear(in_features=59, out_features=64, bias=True)\n",
              "  (fc2): Linear(in_features=64, out_features=32, bias=True)\n",
              "  (fc3): Linear(in_features=32, out_features=1, bias=True)\n",
              "  (sigmoid): Sigmoid()\n",
              ")"
            ]
          },
          "metadata": {},
          "execution_count": 143
        }
      ]
    },
    {
      "cell_type": "code",
      "source": [
        "ff_model = FeedForwardNN(input_dim)  # Redefine model\n",
        "ff_model.load_state_dict(torch.load(\"best_feedforward_model.pth\"))  # Load weights\n",
        "ff_model.to(device)\n",
        "ff_model.eval()  # Set to evaluation mode\n"
      ],
      "metadata": {
        "id": "SQkaRBYY38EH",
        "outputId": "86232269-df49-4bbd-91d5-de984b7b0f3a",
        "colab": {
          "base_uri": "https://localhost:8080/"
        }
      },
      "execution_count": 184,
      "outputs": [
        {
          "output_type": "stream",
          "name": "stderr",
          "text": [
            "<ipython-input-184-f0313323dbfc>:2: FutureWarning: You are using `torch.load` with `weights_only=False` (the current default value), which uses the default pickle module implicitly. It is possible to construct malicious pickle data which will execute arbitrary code during unpickling (See https://github.com/pytorch/pytorch/blob/main/SECURITY.md#untrusted-models for more details). In a future release, the default value for `weights_only` will be flipped to `True`. This limits the functions that could be executed during unpickling. Arbitrary objects will no longer be allowed to be loaded via this mode unless they are explicitly allowlisted by the user via `torch.serialization.add_safe_globals`. We recommend you start setting `weights_only=True` for any use case where you don't have full control of the loaded file. Please open an issue on GitHub for any issues related to this experimental feature.\n",
            "  ff_model.load_state_dict(torch.load(\"best_feedforward_model.pth\"))  # Load weights\n"
          ]
        },
        {
          "output_type": "execute_result",
          "data": {
            "text/plain": [
              "FeedForwardNN(\n",
              "  (fc1): Linear(in_features=59, out_features=64, bias=True)\n",
              "  (fc2): Linear(in_features=64, out_features=32, bias=True)\n",
              "  (fc3): Linear(in_features=32, out_features=1, bias=True)\n",
              "  (sigmoid): Sigmoid()\n",
              ")"
            ]
          },
          "metadata": {},
          "execution_count": 184
        }
      ]
    },
    {
      "cell_type": "code",
      "source": [
        "from sklearn.metrics import precision_score, recall_score, f1_score, roc_auc_score\n",
        "\n",
        "# Calculate metrics\n",
        "ffnn_precision = precision_score(y_test, y_pred_ffnn)\n",
        "ffnn_recall = recall_score(y_test, y_pred_ffnn)\n",
        "ffnn_f1 = f1_score(y_test, y_pred_ffnn)\n",
        "ffnn_auc = roc_auc_score(y_test, y_prob_ffnn)\n",
        "\n",
        "# Store training time if you recorded it during training\n",
        "ffnn_time = ff_training_time  # Ensure this is properly stored\n",
        "\n",
        "# Print results\n",
        "print(f\"FastForward Neural Network Evaluation:\")\n",
        "print(f\"Precision: {ffnn_precision:.4f} | Recall: {ffnn_recall:.4f}\")\n",
        "print(f\"F1-Score: {ffnn_f1:.4f} | AUC: {ffnn_auc:.4f}\")\n",
        "print(f\"Training Time: {ffnn_time:.2f} seconds\")\n"
      ],
      "metadata": {
        "id": "9Zzd6CcO4BDq",
        "outputId": "00eb640a-bec3-4909-e6a6-b0b6e88c5338",
        "colab": {
          "base_uri": "https://localhost:8080/",
          "height": 211
        }
      },
      "execution_count": 185,
      "outputs": [
        {
          "output_type": "error",
          "ename": "NameError",
          "evalue": "name 'y_pred_ffnn' is not defined",
          "traceback": [
            "\u001b[0;31m---------------------------------------------------------------------------\u001b[0m",
            "\u001b[0;31mNameError\u001b[0m                                 Traceback (most recent call last)",
            "\u001b[0;32m<ipython-input-185-1acd68e5cf3e>\u001b[0m in \u001b[0;36m<cell line: 0>\u001b[0;34m()\u001b[0m\n\u001b[1;32m      2\u001b[0m \u001b[0;34m\u001b[0m\u001b[0m\n\u001b[1;32m      3\u001b[0m \u001b[0;31m# Calculate metrics\u001b[0m\u001b[0;34m\u001b[0m\u001b[0;34m\u001b[0m\u001b[0m\n\u001b[0;32m----> 4\u001b[0;31m \u001b[0mffnn_precision\u001b[0m \u001b[0;34m=\u001b[0m \u001b[0mprecision_score\u001b[0m\u001b[0;34m(\u001b[0m\u001b[0my_test\u001b[0m\u001b[0;34m,\u001b[0m \u001b[0my_pred_ffnn\u001b[0m\u001b[0;34m)\u001b[0m\u001b[0;34m\u001b[0m\u001b[0;34m\u001b[0m\u001b[0m\n\u001b[0m\u001b[1;32m      5\u001b[0m \u001b[0mffnn_recall\u001b[0m \u001b[0;34m=\u001b[0m \u001b[0mrecall_score\u001b[0m\u001b[0;34m(\u001b[0m\u001b[0my_test\u001b[0m\u001b[0;34m,\u001b[0m \u001b[0my_pred_ffnn\u001b[0m\u001b[0;34m)\u001b[0m\u001b[0;34m\u001b[0m\u001b[0;34m\u001b[0m\u001b[0m\n\u001b[1;32m      6\u001b[0m \u001b[0mffnn_f1\u001b[0m \u001b[0;34m=\u001b[0m \u001b[0mf1_score\u001b[0m\u001b[0;34m(\u001b[0m\u001b[0my_test\u001b[0m\u001b[0;34m,\u001b[0m \u001b[0my_pred_ffnn\u001b[0m\u001b[0;34m)\u001b[0m\u001b[0;34m\u001b[0m\u001b[0;34m\u001b[0m\u001b[0m\n",
            "\u001b[0;31mNameError\u001b[0m: name 'y_pred_ffnn' is not defined"
          ]
        }
      ]
    },
    {
      "cell_type": "markdown",
      "source": [
        "## Implement Logisitic Regretion"
      ],
      "metadata": {
        "id": "KlciCDP2a9ge"
      }
    },
    {
      "cell_type": "markdown",
      "source": [
        "1 Import Libraries"
      ],
      "metadata": {
        "id": "UbYCxxEFcj16"
      }
    },
    {
      "cell_type": "code",
      "source": [
        "from sklearn.linear_model import LogisticRegression\n",
        "import time\n",
        "from sklearn.metrics import precision_score, recall_score, f1_score, roc_auc_score\n",
        "from sklearn.preprocessing import StandardScaler\n",
        "\n",
        "# Assuming data preprocessing has been done and the data is available in these variables\n",
        "# X_train, X_val, X_test, y_train, y_val, y_test\n",
        "# Scaling features\n",
        "scaler = StandardScaler()\n",
        "X_train_scaled = scaler.fit_transform(X_train)\n",
        "X_val_scaled = scaler.transform(X_val)\n",
        "X_test_scaled = scaler.transform(X_test)\n"
      ],
      "metadata": {
        "id": "xV1CAogFbJLk"
      },
      "execution_count": null,
      "outputs": []
    },
    {
      "cell_type": "markdown",
      "source": [
        "2. Training"
      ],
      "metadata": {
        "id": "xN9ha_HTcv_1"
      }
    },
    {
      "cell_type": "code",
      "source": [
        "# Initialize the Logistic Regression model\n",
        "logreg_model = LogisticRegression(random_state=42, max_iter=1000)\n",
        "\n",
        "# Record the start time for training\n",
        "start_time = time.time()\n",
        "\n",
        "# Train the model\n",
        "logreg_model.fit(X_train_scaled, y_train)\n",
        "\n",
        "# Record the end time for training\n",
        "end_time = time.time()\n",
        "\n",
        "# Calculate the training time\n",
        "training_time = end_time - start_time\n"
      ],
      "metadata": {
        "id": "oZZWnBw6c12n"
      },
      "execution_count": null,
      "outputs": []
    },
    {
      "cell_type": "markdown",
      "source": [
        "3. Evaluation"
      ],
      "metadata": {
        "id": "deejg0w_c3h_"
      }
    },
    {
      "cell_type": "code",
      "source": [
        "# Predict on train, validation, and test sets\n",
        "y_train_pred = logreg_model.predict(X_train_scaled)\n",
        "y_val_pred = logreg_model.predict(X_val_scaled)\n",
        "y_test_pred = logreg_model.predict(X_test_scaled)\n",
        "\n",
        "# Calculate metrics for training, validation, and test sets\n",
        "train_precision = precision_score(y_train, y_train_pred)\n",
        "train_recall = recall_score(y_train, y_train_pred)\n",
        "train_f1 = f1_score(y_train, y_train_pred)\n",
        "train_auc = roc_auc_score(y_train, y_train_pred)\n",
        "\n",
        "val_precision = precision_score(y_val, y_val_pred)\n",
        "val_recall = recall_score(y_val, y_val_pred)\n",
        "val_f1 = f1_score(y_val, y_val_pred)\n",
        "val_auc = roc_auc_score(y_val, y_val_pred)\n",
        "\n",
        "test_precision = precision_score(y_test, y_test_pred)\n",
        "test_recall = recall_score(y_test, y_test_pred)\n",
        "test_f1 = f1_score(y_test, y_test_pred)\n",
        "test_auc = roc_auc_score(y_test, y_test_pred)\n",
        "\n",
        "# Print the metrics and training time\n",
        "print(f\"Training time: {training_time:.2f} seconds\")\n",
        "print(f\"Training Precision: {train_precision:.4f} | Training Recall: {train_recall:.4f} | Training F1-Score: {train_f1:.4f} | Training AUC: {train_auc:.4f}\")\n",
        "print(f\"Validation Precision: {val_precision:.4f} | Validation Recall: {val_recall:.4f} | Validation F1-Score: {val_f1:.4f} | Validation AUC: {val_auc:.4f}\")\n",
        "print(f\"Test Precision: {test_precision:.4f} | Test Recall: {test_recall:.4f} | Test F1-Score: {test_f1:.4f} | Test AUC: {test_auc:.4f}\")\n"
      ],
      "metadata": {
        "colab": {
          "base_uri": "https://localhost:8080/"
        },
        "id": "BR_Vi3aqc5mo",
        "outputId": "5a4675f8-7526-434e-ba60-a554caf0542d"
      },
      "execution_count": null,
      "outputs": [
        {
          "output_type": "stream",
          "name": "stdout",
          "text": [
            "Training time: 0.07 seconds\n",
            "Training Precision: 1.0000 | Training Recall: 1.0000 | Training F1-Score: 1.0000 | Training AUC: 1.0000\n",
            "Validation Precision: 1.0000 | Validation Recall: 0.5000 | Validation F1-Score: 0.6667 | Validation AUC: 0.7500\n",
            "Test Precision: 0.2500 | Test Recall: 0.1667 | Test F1-Score: 0.2000 | Test AUC: 0.4583\n"
          ]
        }
      ]
    },
    {
      "cell_type": "markdown",
      "source": [
        "## Implementing Support Vector Machine"
      ],
      "metadata": {
        "id": "RYj2KN_odCZE"
      }
    },
    {
      "cell_type": "code",
      "source": [
        "from sklearn.svm import SVC\n",
        "import time\n",
        "from sklearn.metrics import precision_score, recall_score, f1_score, roc_auc_score\n",
        "from sklearn.preprocessing import StandardScaler\n",
        "\n",
        "# Assuming data preprocessing has been done and the data is available in these variables\n",
        "# X_train, X_val, X_test, y_train, y_val, y_test\n",
        "# Scaling features\n",
        "scaler = StandardScaler()\n",
        "X_train_scaled = scaler.fit_transform(X_train)\n",
        "X_val_scaled = scaler.transform(X_val)\n",
        "X_test_scaled = scaler.transform(X_test)\n",
        "\n",
        "\n",
        "# Initialize the SVM model with a radial basis function kernel\n",
        "svm_model = SVC(probability=True, random_state=42)\n",
        "\n",
        "# Record the start time for training\n",
        "start_time = time.time()\n",
        "\n",
        "# Train the model\n",
        "svm_model.fit(X_train_scaled, y_train)\n",
        "\n",
        "# Record the end time for training\n",
        "end_time = time.time()\n",
        "\n",
        "# Calculate the training time\n",
        "training_time = end_time - start_time\n"
      ],
      "metadata": {
        "id": "rweuNg7udRko"
      },
      "execution_count": null,
      "outputs": []
    },
    {
      "cell_type": "markdown",
      "source": [
        "Evaluation"
      ],
      "metadata": {
        "id": "Z9kyZ_mNde_I"
      }
    },
    {
      "cell_type": "code",
      "source": [
        "# Predict on train, validation, and test sets\n",
        "y_train_pred = svm_model.predict(X_train_scaled)\n",
        "y_val_pred = svm_model.predict(X_val_scaled)\n",
        "y_test_pred = svm_model.predict(X_test_scaled)\n",
        "\n",
        "# Calculate metrics for training, validation, and test sets\n",
        "train_precision = precision_score(y_train, y_train_pred)\n",
        "train_recall = recall_score(y_train, y_train_pred)\n",
        "train_f1 = f1_score(y_train, y_train_pred)\n",
        "train_auc = roc_auc_score(y_train, svm_model.predict_proba(X_train_scaled)[:, 1])\n",
        "\n",
        "val_precision = precision_score(y_val, y_val_pred)\n",
        "val_recall = recall_score(y_val, y_val_pred)\n",
        "val_f1 = f1_score(y_val, y_val_pred)\n",
        "val_auc = roc_auc_score(y_val, svm_model.predict_proba(X_val_scaled)[:, 1])\n",
        "\n",
        "test_precision = precision_score(y_test, y_test_pred)\n",
        "test_recall = recall_score(y_test, y_test_pred)\n",
        "test_f1 = f1_score(y_test, y_test_pred)\n",
        "test_auc = roc_auc_score(y_test, svm_model.predict_proba(X_test_scaled)[:, 1])\n",
        "\n",
        "# Print the metrics and training time\n",
        "print(f\"Training time: {training_time:.2f} seconds\")\n",
        "print(f\"Training Precision: {train_precision:.4f} | Training Recall: {train_recall:.4f} | Training F1-Score: {train_f1:.4f} | Training AUC: {train_auc:.4f}\")\n",
        "print(f\"Validation Precision: {val_precision:.4f} | Validation Recall: {val_recall:.4f} | Validation F1-Score: {val_f1:.4f} | Validation AUC: {val_auc:.4f}\")\n",
        "print(f\"Test Precision: {test_precision:.4f} | Test Recall: {test_recall:.4f} | Test F1-Score: {test_f1:.4f} | Test AUC: {test_auc:.4f}\")\n"
      ],
      "metadata": {
        "colab": {
          "base_uri": "https://localhost:8080/"
        },
        "id": "l0y3VIgydgzl",
        "outputId": "b2a5f2e0-daa0-413e-ff6f-73ca51ba6efa"
      },
      "execution_count": null,
      "outputs": [
        {
          "output_type": "stream",
          "name": "stdout",
          "text": [
            "Training time: 0.01 seconds\n",
            "Training Precision: 1.0000 | Training Recall: 0.7308 | Training F1-Score: 0.8444 | Training AUC: 1.0000\n",
            "Validation Precision: 1.0000 | Validation Recall: 0.1667 | Validation F1-Score: 0.2857 | Validation AUC: 0.6389\n",
            "Test Precision: 0.0000 | Test Recall: 0.0000 | Test F1-Score: 0.0000 | Test AUC: 0.4167\n"
          ]
        },
        {
          "output_type": "stream",
          "name": "stderr",
          "text": [
            "/usr/local/lib/python3.11/dist-packages/sklearn/metrics/_classification.py:1565: UndefinedMetricWarning: Precision is ill-defined and being set to 0.0 due to no predicted samples. Use `zero_division` parameter to control this behavior.\n",
            "  _warn_prf(average, modifier, f\"{metric.capitalize()} is\", len(result))\n"
          ]
        }
      ]
    },
    {
      "cell_type": "markdown",
      "source": [
        "## Implementing Random Forest Classifier"
      ],
      "metadata": {
        "id": "Gxv7fW3_dqK8"
      }
    },
    {
      "cell_type": "code",
      "source": [
        "from sklearn.ensemble import RandomForestClassifier\n",
        "import time\n",
        "from sklearn.metrics import precision_score, recall_score, f1_score, roc_auc_score\n",
        "from sklearn.preprocessing import StandardScaler\n",
        "\n",
        "# Assuming data preprocessing has been done and the data is available in these variables\n",
        "# X_train, X_val, X_test, y_train, y_val, y_test\n",
        "# Scaling features\n",
        "scaler = StandardScaler()\n",
        "X_train_scaled = scaler.fit_transform(X_train)\n",
        "X_val_scaled = scaler.transform(X_val)\n",
        "X_test_scaled = scaler.transform(X_test)\n",
        "\n",
        "#TRAINING\n",
        "\n",
        "# Initialize the Random Forest model\n",
        "rf_model = RandomForestClassifier(n_estimators=100, random_state=42)\n",
        "\n",
        "# Record the start time for training\n",
        "start_time = time.time()\n",
        "\n",
        "# Train the model\n",
        "rf_model.fit(X_train_scaled, y_train)\n",
        "\n",
        "# Record the end time for training\n",
        "end_time = time.time()\n",
        "\n",
        "# Calculate the training time\n",
        "training_time = end_time - start_time\n",
        "\n",
        "#EVALUATION\n",
        "\n",
        "# Predict on train, validation, and test sets\n",
        "y_train_pred = rf_model.predict(X_train_scaled)\n",
        "y_val_pred = rf_model.predict(X_val_scaled)\n",
        "y_test_pred = rf_model.predict(X_test_scaled)\n",
        "\n",
        "# Calculate metrics for training, validation, and test sets\n",
        "train_precision = precision_score(y_train, y_train_pred)\n",
        "train_recall = recall_score(y_train, y_train_pred)\n",
        "train_f1 = f1_score(y_train, y_train_pred)\n",
        "train_auc = roc_auc_score(y_train, rf_model.predict_proba(X_train_scaled)[:, 1])\n",
        "\n",
        "val_precision = precision_score(y_val, y_val_pred)\n",
        "val_recall = recall_score(y_val, y_val_pred)\n",
        "val_f1 = f1_score(y_val, y_val_pred)\n",
        "val_auc = roc_auc_score(y_val, rf_model.predict_proba(X_val_scaled)[:, 1])\n",
        "\n",
        "test_precision = precision_score(y_test, y_test_pred)\n",
        "test_recall = recall_score(y_test, y_test_pred)\n",
        "test_f1 = f1_score(y_test, y_test_pred)\n",
        "test_auc = roc_auc_score(y_test, rf_model.predict_proba(X_test_scaled)[:, 1])\n",
        "\n",
        "# Print the metrics and training time\n",
        "print(f\"Training time: {training_time:.2f} seconds\")\n",
        "print(f\"Training Precision: {train_precision:.4f} | Training Recall: {train_recall:.4f} | Training F1-Score: {train_f1:.4f} | Training AUC: {train_auc:.4f}\")\n",
        "print(f\"Validation Precision: {val_precision:.4f} | Validation Recall: {val_recall:.4f} | Validation F1-Score: {val_f1:.4f} | Validation AUC: {val_auc:.4f}\")\n",
        "print(f\"Test Precision: {test_precision:.4f} | Test Recall: {test_recall:.4f} | Test F1-Score: {test_f1:.4f} | Test AUC: {test_auc:.4f}\")\n"
      ],
      "metadata": {
        "colab": {
          "base_uri": "https://localhost:8080/"
        },
        "id": "_6Sq7pKDd_kO",
        "outputId": "9d6c4da0-688d-441d-f991-482a751ab36d"
      },
      "execution_count": null,
      "outputs": [
        {
          "output_type": "stream",
          "name": "stdout",
          "text": [
            "Training time: 0.15 seconds\n",
            "Training Precision: 1.0000 | Training Recall: 1.0000 | Training F1-Score: 1.0000 | Training AUC: 1.0000\n",
            "Validation Precision: 0.7500 | Validation Recall: 0.5000 | Validation F1-Score: 0.6000 | Validation AUC: 0.7917\n",
            "Test Precision: 1.0000 | Test Recall: 0.1667 | Test F1-Score: 0.2857 | Test AUC: 0.4653\n"
          ]
        }
      ]
    },
    {
      "cell_type": "markdown",
      "source": [
        "## Implementing a K-Nearest Neighbor"
      ],
      "metadata": {
        "id": "VC7wLDMjfDAN"
      }
    },
    {
      "cell_type": "code",
      "source": [
        "from sklearn.neighbors import KNeighborsClassifier\n",
        "from sklearn.metrics import classification_report, accuracy_score\n",
        "import time\n",
        "\n",
        "# Initialize KNN model\n",
        "knn_model = KNeighborsClassifier(n_neighbors=5)\n",
        "\n",
        "# Record the start time for training\n",
        "start_time = time.time()\n",
        "\n",
        "# Train the model\n",
        "knn_model.fit(X_train_scaled, y_train)\n",
        "\n",
        "# Record the end time for training\n",
        "end_time = time.time()\n",
        "\n",
        "# Calculate training time\n",
        "training_time = end_time - start_time\n",
        "\n",
        "# Make predictions on the test set\n",
        "y_pred_knn = knn_model.predict(X_test_scaled)\n",
        "\n",
        "# Evaluate the model\n",
        "accuracy = accuracy_score(y_test, y_pred_knn)\n",
        "report = classification_report(y_test, y_pred_knn)\n",
        "\n",
        "# Store the metrics\n",
        "print(\"KNN Model Test Metrics:\")\n",
        "print(f\"Accuracy: {accuracy:.4f}\")\n",
        "print(f\"Training Time: {training_time:.4f} seconds\")\n",
        "print(\"Classification Report:\\n\", report)\n",
        "\n",
        "# Optionally, return metrics if you plan to store them\n",
        "metrics = {\n",
        "    \"model\": \"KNN\",\n",
        "    \"accuracy\": accuracy,\n",
        "    \"training_time\": training_time,\n",
        "    \"classification_report\": report\n",
        "}\n"
      ],
      "metadata": {
        "colab": {
          "base_uri": "https://localhost:8080/"
        },
        "id": "89j6P0lBfPE2",
        "outputId": "c57d81a8-14cc-4dc2-eb93-5f0fb2048f12"
      },
      "execution_count": null,
      "outputs": [
        {
          "output_type": "stream",
          "name": "stdout",
          "text": [
            "KNN Model Test Metrics:\n",
            "Accuracy: 0.7222\n",
            "Training Time: 0.0052 seconds\n",
            "Classification Report:\n",
            "               precision    recall  f1-score   support\n",
            "\n",
            "           0       0.73      0.92      0.81        12\n",
            "           1       0.67      0.33      0.44         6\n",
            "\n",
            "    accuracy                           0.72        18\n",
            "   macro avg       0.70      0.62      0.63        18\n",
            "weighted avg       0.71      0.72      0.69        18\n",
            "\n"
          ]
        }
      ]
    },
    {
      "cell_type": "markdown",
      "source": [
        "Implementing Gradient Boost machine"
      ],
      "metadata": {
        "id": "YEVJvZG7fUYp"
      }
    },
    {
      "cell_type": "code",
      "source": [
        "from sklearn.ensemble import GradientBoostingClassifier\n",
        "from sklearn.metrics import precision_score, recall_score, f1_score, roc_auc_score\n",
        "import time\n",
        "\n",
        "# Initialize Gradient Boosting Classifier\n",
        "gbm_model = GradientBoostingClassifier(n_estimators=100, learning_rate=0.1, max_depth=3, random_state=42)\n",
        "\n",
        "# Record the start time for training\n",
        "start_time = time.time()\n",
        "\n",
        "# Train the model\n",
        "gbm_model.fit(X_train_scaled, y_train)\n",
        "\n",
        "# Record the end time for training\n",
        "end_time = time.time()\n",
        "training_time = end_time - start_time\n",
        "\n",
        "# Predict on the validation and test sets\n",
        "y_val_pred = gbm_model.predict(X_val_scaled)\n",
        "y_test_pred = gbm_model.predict(X_test_scaled)\n",
        "\n",
        "# Calculate metrics for evaluation\n",
        "val_precision = precision_score(y_val, y_val_pred)\n",
        "val_recall = recall_score(y_val, y_val_pred)\n",
        "val_f1 = f1_score(y_val, y_val_pred)\n",
        "val_auc = roc_auc_score(y_val, gbm_model.predict_proba(X_val_scaled)[:, 1])\n",
        "\n",
        "test_precision = precision_score(y_test, y_test_pred)\n",
        "test_recall = recall_score(y_test, y_test_pred)\n",
        "test_f1 = f1_score(y_test, y_test_pred)\n",
        "test_auc = roc_auc_score(y_test, gbm_model.predict_proba(X_test_scaled)[:, 1])\n",
        "\n",
        "# Print the evaluation metrics\n",
        "print(f\"Gradient Boosting Model Evaluation (Validation Set):\")\n",
        "print(f\"Validation Precision: {val_precision:.4f} | Validation Recall: {val_recall:.4f}\")\n",
        "print(f\"Validation F1-Score: {val_f1:.4f} | Validation AUC: {val_auc:.4f}\")\n",
        "\n",
        "print(f\"\\nGradient Boosting Model Evaluation (Test Set):\")\n",
        "print(f\"Test Precision: {test_precision:.4f} | Test Recall: {test_recall:.4f}\")\n",
        "print(f\"Test F1-Score: {test_f1:.4f} | Test AUC: {test_auc:.4f}\")\n",
        "\n",
        "print(f\"\\nTraining Time: {training_time:.4f} seconds\")\n"
      ],
      "metadata": {
        "colab": {
          "base_uri": "https://localhost:8080/"
        },
        "id": "wnfUNlupf0Vn",
        "outputId": "fa9aab3e-5853-495c-ed80-f9d1f4c64e59"
      },
      "execution_count": null,
      "outputs": [
        {
          "output_type": "stream",
          "name": "stdout",
          "text": [
            "Gradient Boosting Model Evaluation (Validation Set):\n",
            "Validation Precision: 0.5000 | Validation Recall: 0.5000\n",
            "Validation F1-Score: 0.5000 | Validation AUC: 0.6389\n",
            "\n",
            "Gradient Boosting Model Evaluation (Test Set):\n",
            "Test Precision: 0.3333 | Test Recall: 0.3333\n",
            "Test F1-Score: 0.3333 | Test AUC: 0.4444\n",
            "\n",
            "Training Time: 0.2934 seconds\n"
          ]
        }
      ]
    },
    {
      "cell_type": "markdown",
      "source": [
        "## Implementing XGBoost"
      ],
      "metadata": {
        "id": "ODQ1xV3bf3dF"
      }
    },
    {
      "cell_type": "code",
      "source": [
        "!pip install xgboost\n"
      ],
      "metadata": {
        "colab": {
          "base_uri": "https://localhost:8080/"
        },
        "id": "TlYAPJOsgTrO",
        "outputId": "b89e228f-dbd8-4708-83a8-f969dcac4f55"
      },
      "execution_count": null,
      "outputs": [
        {
          "output_type": "stream",
          "name": "stdout",
          "text": [
            "Requirement already satisfied: xgboost in /usr/local/lib/python3.11/dist-packages (2.1.4)\n",
            "Requirement already satisfied: numpy in /usr/local/lib/python3.11/dist-packages (from xgboost) (1.26.4)\n",
            "Requirement already satisfied: nvidia-nccl-cu12 in /usr/local/lib/python3.11/dist-packages (from xgboost) (2.21.5)\n",
            "Requirement already satisfied: scipy in /usr/local/lib/python3.11/dist-packages (from xgboost) (1.13.1)\n"
          ]
        }
      ]
    },
    {
      "cell_type": "code",
      "source": [
        "import xgboost as xgb\n",
        "from sklearn.metrics import precision_score, recall_score, f1_score, roc_auc_score\n",
        "import time\n",
        "\n",
        "# Initialize XGBoost Classifier\n",
        "xgboost_model = xgb.XGBClassifier(n_estimators=100, learning_rate=0.1, max_depth=3, random_state=42)\n",
        "\n",
        "# Record the start time for training\n",
        "start_time = time.time()\n",
        "\n",
        "# Train the model\n",
        "xgboost_model.fit(X_train_scaled, y_train)\n",
        "\n",
        "# Record the end time for training\n",
        "end_time = time.time()\n",
        "training_time = end_time - start_time\n",
        "\n",
        "# Predict on the validation and test sets\n",
        "y_val_pred = xgboost_model.predict(X_val_scaled)\n",
        "y_test_pred = xgboost_model.predict(X_test_scaled)\n",
        "\n",
        "# Calculate metrics for evaluation\n",
        "val_precision = precision_score(y_val, y_val_pred)\n",
        "val_recall = recall_score(y_val, y_val_pred)\n",
        "val_f1 = f1_score(y_val, y_val_pred)\n",
        "val_auc = roc_auc_score(y_val, xgboost_model.predict_proba(X_val_scaled)[:, 1])\n",
        "\n",
        "test_precision = precision_score(y_test, y_test_pred)\n",
        "test_recall = recall_score(y_test, y_test_pred)\n",
        "test_f1 = f1_score(y_test, y_test_pred)\n",
        "test_auc = roc_auc_score(y_test, xgboost_model.predict_proba(X_test_scaled)[:, 1])\n",
        "\n",
        "# Print the evaluation metrics\n",
        "print(f\"XGBoost Model Evaluation (Validation Set):\")\n",
        "print(f\"Validation Precision: {val_precision:.4f} | Validation Recall: {val_recall:.4f}\")\n",
        "print(f\"Validation F1-Score: {val_f1:.4f} | Validation AUC: {val_auc:.4f}\")\n",
        "\n",
        "print(f\"\\nXGBoost Model Evaluation (Test Set):\")\n",
        "print(f\"Test Precision: {test_precision:.4f} | Test Recall: {test_recall:.4f}\")\n",
        "print(f\"Test F1-Score: {test_f1:.4f} | Test AUC: {test_auc:.4f}\")\n",
        "\n",
        "print(f\"\\nTraining Time: {training_time:.4f} seconds\")\n"
      ],
      "metadata": {
        "colab": {
          "base_uri": "https://localhost:8080/"
        },
        "id": "SRRCjGpcgcEf",
        "outputId": "5c8c9415-95b4-413f-97f6-29a41a892346"
      },
      "execution_count": null,
      "outputs": [
        {
          "output_type": "stream",
          "name": "stdout",
          "text": [
            "XGBoost Model Evaluation (Validation Set):\n",
            "Validation Precision: 0.6000 | Validation Recall: 0.5000\n",
            "Validation F1-Score: 0.5455 | Validation AUC: 0.5556\n",
            "\n",
            "XGBoost Model Evaluation (Test Set):\n",
            "Test Precision: 0.2000 | Test Recall: 0.1667\n",
            "Test F1-Score: 0.1818 | Test AUC: 0.3750\n",
            "\n",
            "Training Time: 0.0725 seconds\n"
          ]
        }
      ]
    },
    {
      "cell_type": "markdown",
      "source": [
        "## Implementing LightGBM"
      ],
      "metadata": {
        "id": "trCnfvrqhGK4"
      }
    },
    {
      "cell_type": "code",
      "source": [
        "!pip install lightgbm\n"
      ],
      "metadata": {
        "id": "RrGTq8YBiqyx"
      },
      "execution_count": null,
      "outputs": []
    },
    {
      "cell_type": "code",
      "source": [
        "import lightgbm as lgb\n",
        "from sklearn.metrics import precision_score, recall_score, f1_score, roc_auc_score\n",
        "import time\n",
        "\n",
        "# Initialize LightGBM Classifier\n",
        "lgbm_model = lgb.LGBMClassifier(n_estimators=100, learning_rate=0.1, max_depth=3, random_state=42)\n",
        "\n",
        "# Record the start time for training\n",
        "start_time = time.time()\n",
        "\n",
        "# Train the model\n",
        "lgbm_model.fit(X_train_scaled, y_train)\n",
        "\n",
        "# Record the end time for training\n",
        "end_time = time.time()\n",
        "training_time = end_time - start_time\n",
        "\n",
        "# Predict on the validation and test sets\n",
        "y_val_pred = lgbm_model.predict(X_val_scaled)\n",
        "y_test_pred = lgbm_model.predict(X_test_scaled)\n",
        "\n",
        "# Calculate metrics for evaluation\n",
        "val_precision = precision_score(y_val, y_val_pred)\n",
        "val_recall = recall_score(y_val, y_val_pred)\n",
        "val_f1 = f1_score(y_val, y_val_pred)\n",
        "val_auc = roc_auc_score(y_val, lgbm_model.predict_proba(X_val_scaled)[:, 1])\n",
        "\n",
        "test_precision = precision_score(y_test, y_test_pred)\n",
        "test_recall = recall_score(y_test, y_test_pred)\n",
        "test_f1 = f1_score(y_test, y_test_pred)\n",
        "test_auc = roc_auc_score(y_test, lgbm_model.predict_proba(X_test_scaled)[:, 1])\n",
        "\n",
        "# Print the evaluation metrics\n",
        "print(f\"LightGBM Model Evaluation (Validation Set):\")\n",
        "print(f\"Validation Precision: {val_precision:.4f} | Validation Recall: {val_recall:.4f}\")\n",
        "print(f\"Validation F1-Score: {val_f1:.4f} | Validation AUC: {val_auc:.4f}\")\n",
        "\n",
        "print(f\"\\nLightGBM Model Evaluation (Test Set):\")\n",
        "print(f\"Test Precision: {test_precision:.4f} | Test Recall: {test_recall:.4f}\")\n",
        "print(f\"Test F1-Score: {test_f1:.4f} | Test AUC: {test_auc:.4f}\")\n",
        "\n",
        "print(f\"\\nTraining Time: {training_time:.4f} seconds\")\n"
      ],
      "metadata": {
        "id": "cc2tl1xiisY2",
        "outputId": "cbfb01b8-a705-490b-d343-ea9cc7ddccd8",
        "colab": {
          "base_uri": "https://localhost:8080/"
        }
      },
      "execution_count": null,
      "outputs": [
        {
          "output_type": "stream",
          "name": "stdout",
          "text": [
            "[LightGBM] [Info] Number of positive: 26, number of negative: 55\n",
            "[LightGBM] [Info] Auto-choosing row-wise multi-threading, the overhead of testing was 0.001174 seconds.\n",
            "You can set `force_row_wise=true` to remove the overhead.\n",
            "And if memory is not enough, you can set `force_col_wise=true`.\n",
            "[LightGBM] [Info] Total Bins 217\n",
            "[LightGBM] [Info] Number of data points in the train set: 81, number of used features: 45\n",
            "[LightGBM] [Info] [binary:BoostFromScore]: pavg=0.320988 -> initscore=-0.749237\n",
            "[LightGBM] [Info] Start training from score -0.749237\n",
            "[LightGBM] [Warning] No further splits with positive gain, best gain: -inf\n",
            "[LightGBM] [Warning] No further splits with positive gain, best gain: -inf\n",
            "[LightGBM] [Warning] No further splits with positive gain, best gain: -inf\n",
            "[LightGBM] [Warning] No further splits with positive gain, best gain: -inf\n",
            "[LightGBM] [Warning] No further splits with positive gain, best gain: -inf\n",
            "[LightGBM] [Warning] No further splits with positive gain, best gain: -inf\n",
            "[LightGBM] [Warning] No further splits with positive gain, best gain: -inf\n",
            "[LightGBM] [Warning] No further splits with positive gain, best gain: -inf\n",
            "[LightGBM] [Warning] No further splits with positive gain, best gain: -inf\n",
            "[LightGBM] [Warning] No further splits with positive gain, best gain: -inf\n",
            "[LightGBM] [Warning] No further splits with positive gain, best gain: -inf\n",
            "[LightGBM] [Warning] No further splits with positive gain, best gain: -inf\n",
            "[LightGBM] [Warning] No further splits with positive gain, best gain: -inf\n",
            "[LightGBM] [Warning] No further splits with positive gain, best gain: -inf\n",
            "[LightGBM] [Warning] No further splits with positive gain, best gain: -inf\n",
            "[LightGBM] [Warning] No further splits with positive gain, best gain: -inf\n",
            "[LightGBM] [Warning] No further splits with positive gain, best gain: -inf\n",
            "[LightGBM] [Warning] No further splits with positive gain, best gain: -inf\n",
            "[LightGBM] [Warning] No further splits with positive gain, best gain: -inf\n",
            "[LightGBM] [Warning] No further splits with positive gain, best gain: -inf\n",
            "[LightGBM] [Warning] No further splits with positive gain, best gain: -inf\n",
            "[LightGBM] [Warning] No further splits with positive gain, best gain: -inf\n",
            "[LightGBM] [Warning] No further splits with positive gain, best gain: -inf\n",
            "[LightGBM] [Warning] No further splits with positive gain, best gain: -inf\n",
            "[LightGBM] [Warning] No further splits with positive gain, best gain: -inf\n",
            "[LightGBM] [Warning] No further splits with positive gain, best gain: -inf\n",
            "[LightGBM] [Warning] No further splits with positive gain, best gain: -inf\n",
            "[LightGBM] [Warning] No further splits with positive gain, best gain: -inf\n",
            "[LightGBM] [Warning] No further splits with positive gain, best gain: -inf\n",
            "[LightGBM] [Warning] No further splits with positive gain, best gain: -inf\n",
            "[LightGBM] [Warning] No further splits with positive gain, best gain: -inf\n",
            "[LightGBM] [Warning] No further splits with positive gain, best gain: -inf\n",
            "[LightGBM] [Warning] No further splits with positive gain, best gain: -inf\n",
            "[LightGBM] [Warning] No further splits with positive gain, best gain: -inf\n",
            "[LightGBM] [Warning] No further splits with positive gain, best gain: -inf\n",
            "[LightGBM] [Warning] No further splits with positive gain, best gain: -inf\n",
            "[LightGBM] [Warning] No further splits with positive gain, best gain: -inf\n",
            "[LightGBM] [Warning] No further splits with positive gain, best gain: -inf\n",
            "[LightGBM] [Warning] No further splits with positive gain, best gain: -inf\n",
            "[LightGBM] [Warning] No further splits with positive gain, best gain: -inf\n",
            "[LightGBM] [Warning] No further splits with positive gain, best gain: -inf\n",
            "[LightGBM] [Warning] No further splits with positive gain, best gain: -inf\n",
            "[LightGBM] [Warning] No further splits with positive gain, best gain: -inf\n",
            "[LightGBM] [Warning] No further splits with positive gain, best gain: -inf\n",
            "[LightGBM] [Warning] No further splits with positive gain, best gain: -inf\n",
            "[LightGBM] [Warning] No further splits with positive gain, best gain: -inf\n",
            "[LightGBM] [Warning] No further splits with positive gain, best gain: -inf\n",
            "[LightGBM] [Warning] No further splits with positive gain, best gain: -inf\n",
            "[LightGBM] [Warning] No further splits with positive gain, best gain: -inf\n",
            "[LightGBM] [Warning] No further splits with positive gain, best gain: -inf\n",
            "[LightGBM] [Warning] No further splits with positive gain, best gain: -inf\n",
            "[LightGBM] [Warning] No further splits with positive gain, best gain: -inf\n",
            "[LightGBM] [Warning] No further splits with positive gain, best gain: -inf\n",
            "[LightGBM] [Warning] No further splits with positive gain, best gain: -inf\n",
            "[LightGBM] [Warning] No further splits with positive gain, best gain: -inf\n",
            "[LightGBM] [Warning] No further splits with positive gain, best gain: -inf\n",
            "[LightGBM] [Warning] No further splits with positive gain, best gain: -inf\n",
            "[LightGBM] [Warning] No further splits with positive gain, best gain: -inf\n",
            "[LightGBM] [Warning] No further splits with positive gain, best gain: -inf\n",
            "[LightGBM] [Warning] No further splits with positive gain, best gain: -inf\n",
            "[LightGBM] [Warning] No further splits with positive gain, best gain: -inf\n",
            "[LightGBM] [Warning] No further splits with positive gain, best gain: -inf\n",
            "[LightGBM] [Warning] No further splits with positive gain, best gain: -inf\n",
            "[LightGBM] [Warning] No further splits with positive gain, best gain: -inf\n",
            "[LightGBM] [Warning] No further splits with positive gain, best gain: -inf\n",
            "[LightGBM] [Warning] No further splits with positive gain, best gain: -inf\n",
            "[LightGBM] [Warning] No further splits with positive gain, best gain: -inf\n",
            "[LightGBM] [Warning] No further splits with positive gain, best gain: -inf\n",
            "[LightGBM] [Warning] No further splits with positive gain, best gain: -inf\n",
            "[LightGBM] [Warning] No further splits with positive gain, best gain: -inf\n",
            "[LightGBM] [Warning] No further splits with positive gain, best gain: -inf\n",
            "[LightGBM] [Warning] No further splits with positive gain, best gain: -inf\n",
            "[LightGBM] [Warning] No further splits with positive gain, best gain: -inf\n",
            "[LightGBM] [Warning] No further splits with positive gain, best gain: -inf\n",
            "[LightGBM] [Warning] No further splits with positive gain, best gain: -inf\n",
            "[LightGBM] [Warning] No further splits with positive gain, best gain: -inf\n",
            "[LightGBM] [Warning] No further splits with positive gain, best gain: -inf\n",
            "[LightGBM] [Warning] No further splits with positive gain, best gain: -inf\n",
            "[LightGBM] [Warning] No further splits with positive gain, best gain: -inf\n",
            "[LightGBM] [Warning] No further splits with positive gain, best gain: -inf\n",
            "[LightGBM] [Warning] No further splits with positive gain, best gain: -inf\n",
            "[LightGBM] [Warning] No further splits with positive gain, best gain: -inf\n",
            "[LightGBM] [Warning] No further splits with positive gain, best gain: -inf\n",
            "[LightGBM] [Warning] No further splits with positive gain, best gain: -inf\n",
            "[LightGBM] [Warning] No further splits with positive gain, best gain: -inf\n",
            "[LightGBM] [Warning] No further splits with positive gain, best gain: -inf\n",
            "[LightGBM] [Warning] No further splits with positive gain, best gain: -inf\n",
            "[LightGBM] [Warning] No further splits with positive gain, best gain: -inf\n",
            "[LightGBM] [Warning] No further splits with positive gain, best gain: -inf\n",
            "[LightGBM] [Warning] No further splits with positive gain, best gain: -inf\n",
            "[LightGBM] [Warning] No further splits with positive gain, best gain: -inf\n",
            "[LightGBM] [Warning] No further splits with positive gain, best gain: -inf\n",
            "[LightGBM] [Warning] No further splits with positive gain, best gain: -inf\n",
            "[LightGBM] [Warning] No further splits with positive gain, best gain: -inf\n",
            "[LightGBM] [Warning] No further splits with positive gain, best gain: -inf\n",
            "[LightGBM] [Warning] No further splits with positive gain, best gain: -inf\n",
            "[LightGBM] [Warning] No further splits with positive gain, best gain: -inf\n",
            "[LightGBM] [Warning] No further splits with positive gain, best gain: -inf\n",
            "[LightGBM] [Warning] No further splits with positive gain, best gain: -inf\n",
            "[LightGBM] [Warning] No further splits with positive gain, best gain: -inf\n",
            "LightGBM Model Evaluation (Validation Set):\n",
            "Validation Precision: 0.4000 | Validation Recall: 0.3333\n",
            "Validation F1-Score: 0.3636 | Validation AUC: 0.6667\n",
            "\n",
            "LightGBM Model Evaluation (Test Set):\n",
            "Test Precision: 0.2500 | Test Recall: 0.1667\n",
            "Test F1-Score: 0.2000 | Test AUC: 0.4583\n",
            "\n",
            "Training Time: 0.0694 seconds\n"
          ]
        },
        {
          "output_type": "stream",
          "name": "stderr",
          "text": [
            "/usr/local/lib/python3.11/dist-packages/sklearn/utils/deprecation.py:151: FutureWarning: 'force_all_finite' was renamed to 'ensure_all_finite' in 1.6 and will be removed in 1.8.\n",
            "  warnings.warn(\n",
            "/usr/local/lib/python3.11/dist-packages/sklearn/utils/deprecation.py:151: FutureWarning: 'force_all_finite' was renamed to 'ensure_all_finite' in 1.6 and will be removed in 1.8.\n",
            "  warnings.warn(\n",
            "/usr/local/lib/python3.11/dist-packages/sklearn/utils/deprecation.py:151: FutureWarning: 'force_all_finite' was renamed to 'ensure_all_finite' in 1.6 and will be removed in 1.8.\n",
            "  warnings.warn(\n",
            "/usr/local/lib/python3.11/dist-packages/sklearn/utils/deprecation.py:151: FutureWarning: 'force_all_finite' was renamed to 'ensure_all_finite' in 1.6 and will be removed in 1.8.\n",
            "  warnings.warn(\n",
            "/usr/local/lib/python3.11/dist-packages/sklearn/utils/deprecation.py:151: FutureWarning: 'force_all_finite' was renamed to 'ensure_all_finite' in 1.6 and will be removed in 1.8.\n",
            "  warnings.warn(\n"
          ]
        }
      ]
    },
    {
      "cell_type": "markdown",
      "source": [
        "## Implementing CATBoost"
      ],
      "metadata": {
        "id": "kWUT3-V_i3jT"
      }
    },
    {
      "cell_type": "code",
      "source": [
        "!pip install catboost\n"
      ],
      "metadata": {
        "id": "bYGZZJ5YjQqR",
        "outputId": "f5f1bcf5-247b-4ec2-dae1-41cb4c346c0a",
        "colab": {
          "base_uri": "https://localhost:8080/"
        }
      },
      "execution_count": null,
      "outputs": [
        {
          "output_type": "stream",
          "name": "stdout",
          "text": [
            "Collecting catboost\n",
            "  Downloading catboost-1.2.7-cp311-cp311-manylinux2014_x86_64.whl.metadata (1.2 kB)\n",
            "Requirement already satisfied: graphviz in /usr/local/lib/python3.11/dist-packages (from catboost) (0.20.3)\n",
            "Requirement already satisfied: matplotlib in /usr/local/lib/python3.11/dist-packages (from catboost) (3.10.0)\n",
            "Requirement already satisfied: numpy<2.0,>=1.16.0 in /usr/local/lib/python3.11/dist-packages (from catboost) (1.26.4)\n",
            "Requirement already satisfied: pandas>=0.24 in /usr/local/lib/python3.11/dist-packages (from catboost) (2.2.2)\n",
            "Requirement already satisfied: scipy in /usr/local/lib/python3.11/dist-packages (from catboost) (1.13.1)\n",
            "Requirement already satisfied: plotly in /usr/local/lib/python3.11/dist-packages (from catboost) (5.24.1)\n",
            "Requirement already satisfied: six in /usr/local/lib/python3.11/dist-packages (from catboost) (1.17.0)\n",
            "Requirement already satisfied: python-dateutil>=2.8.2 in /usr/local/lib/python3.11/dist-packages (from pandas>=0.24->catboost) (2.8.2)\n",
            "Requirement already satisfied: pytz>=2020.1 in /usr/local/lib/python3.11/dist-packages (from pandas>=0.24->catboost) (2025.1)\n",
            "Requirement already satisfied: tzdata>=2022.7 in /usr/local/lib/python3.11/dist-packages (from pandas>=0.24->catboost) (2025.1)\n",
            "Requirement already satisfied: contourpy>=1.0.1 in /usr/local/lib/python3.11/dist-packages (from matplotlib->catboost) (1.3.1)\n",
            "Requirement already satisfied: cycler>=0.10 in /usr/local/lib/python3.11/dist-packages (from matplotlib->catboost) (0.12.1)\n",
            "Requirement already satisfied: fonttools>=4.22.0 in /usr/local/lib/python3.11/dist-packages (from matplotlib->catboost) (4.56.0)\n",
            "Requirement already satisfied: kiwisolver>=1.3.1 in /usr/local/lib/python3.11/dist-packages (from matplotlib->catboost) (1.4.8)\n",
            "Requirement already satisfied: packaging>=20.0 in /usr/local/lib/python3.11/dist-packages (from matplotlib->catboost) (24.2)\n",
            "Requirement already satisfied: pillow>=8 in /usr/local/lib/python3.11/dist-packages (from matplotlib->catboost) (11.1.0)\n",
            "Requirement already satisfied: pyparsing>=2.3.1 in /usr/local/lib/python3.11/dist-packages (from matplotlib->catboost) (3.2.1)\n",
            "Requirement already satisfied: tenacity>=6.2.0 in /usr/local/lib/python3.11/dist-packages (from plotly->catboost) (9.0.0)\n",
            "Downloading catboost-1.2.7-cp311-cp311-manylinux2014_x86_64.whl (98.7 MB)\n",
            "\u001b[2K   \u001b[90m━━━━━━━━━━━━━━━━━━━━━━━━━━━━━━━━━━━━━━━━\u001b[0m \u001b[32m98.7/98.7 MB\u001b[0m \u001b[31m4.6 MB/s\u001b[0m eta \u001b[36m0:00:00\u001b[0m\n",
            "\u001b[?25hInstalling collected packages: catboost\n",
            "Successfully installed catboost-1.2.7\n"
          ]
        }
      ]
    },
    {
      "cell_type": "code",
      "source": [
        "from catboost import CatBoostClassifier\n",
        "from sklearn.metrics import precision_score, recall_score, f1_score, roc_auc_score\n",
        "import time\n",
        "\n",
        "# Initialize CatBoost Classifier\n",
        "catboost_model = CatBoostClassifier(iterations=100, learning_rate=0.1, depth=3, random_seed=42, verbose=0)\n",
        "\n",
        "# Record start time\n",
        "start_time = time.time()\n",
        "\n",
        "# Train the model\n",
        "catboost_model.fit(X_train_scaled, y_train)\n",
        "\n",
        "# Record end time\n",
        "end_time = time.time()\n",
        "training_time = end_time - start_time\n",
        "\n",
        "# Predict on validation and test sets\n",
        "y_val_pred = catboost_model.predict(X_val_scaled)\n",
        "y_test_pred = catboost_model.predict(X_test_scaled)\n",
        "\n",
        "# Calculate evaluation metrics\n",
        "val_precision = precision_score(y_val, y_val_pred)\n",
        "val_recall = recall_score(y_val, y_val_pred)\n",
        "val_f1 = f1_score(y_val, y_val_pred)\n",
        "val_auc = roc_auc_score(y_val, catboost_model.predict_proba(X_val_scaled)[:, 1])\n",
        "\n",
        "test_precision = precision_score(y_test, y_test_pred)\n",
        "test_recall = recall_score(y_test, y_test_pred)\n",
        "test_f1 = f1_score(y_test, y_test_pred)\n",
        "test_auc = roc_auc_score(y_test, catboost_model.predict_proba(X_test_scaled)[:, 1])\n",
        "\n",
        "# Print evaluation results\n",
        "print(f\"CatBoost Model Evaluation (Validation Set):\")\n",
        "print(f\"Validation Precision: {val_precision:.4f} | Validation Recall: {val_recall:.4f}\")\n",
        "print(f\"Validation F1-Score: {val_f1:.4f} | Validation AUC: {val_auc:.4f}\")\n",
        "\n",
        "print(f\"\\nCatBoost Model Evaluation (Test Set):\")\n",
        "print(f\"Test Precision: {test_precision:.4f} | Test Recall: {test_recall:.4f}\")\n",
        "print(f\"Test F1-Score: {test_f1:.4f} | Test AUC: {test_auc:.4f}\")\n",
        "\n",
        "print(f\"\\nTraining Time: {training_time:.4f} seconds\")\n"
      ],
      "metadata": {
        "id": "A81YYFTgjVP-",
        "outputId": "f5ee1f8e-a201-4434-9b3b-d57c5dfc1133",
        "colab": {
          "base_uri": "https://localhost:8080/"
        }
      },
      "execution_count": null,
      "outputs": [
        {
          "output_type": "stream",
          "name": "stdout",
          "text": [
            "CatBoost Model Evaluation (Validation Set):\n",
            "Validation Precision: 0.4286 | Validation Recall: 0.5000\n",
            "Validation F1-Score: 0.4615 | Validation AUC: 0.5972\n",
            "\n",
            "CatBoost Model Evaluation (Test Set):\n",
            "Test Precision: 0.2500 | Test Recall: 0.1667\n",
            "Test F1-Score: 0.2000 | Test AUC: 0.4167\n",
            "\n",
            "Training Time: 0.4858 seconds\n"
          ]
        }
      ]
    },
    {
      "cell_type": "markdown",
      "source": [
        "## Implementing A neural network"
      ],
      "metadata": {
        "id": "Pv6CDU82mFzh"
      }
    },
    {
      "cell_type": "markdown",
      "source": [
        "Defining"
      ],
      "metadata": {
        "id": "9MJAaH8gmLAT"
      }
    },
    {
      "cell_type": "code",
      "source": [
        "import torch\n",
        "import torch.nn as nn\n",
        "import torch.optim as optim\n",
        "import time\n",
        "from sklearn.metrics import precision_score, recall_score, f1_score, roc_auc_score\n",
        "\n",
        "# Define the Neural Network Model\n",
        "class NeuralNetwork(nn.Module):\n",
        "    def __init__(self, input_dim):\n",
        "        super(NeuralNetwork, self).__init__()\n",
        "        self.fc1 = nn.Linear(input_dim, 64)\n",
        "        self.fc2 = nn.Linear(64, 32)\n",
        "        self.output = nn.Linear(32, 1)\n",
        "        self.relu = nn.ReLU()\n",
        "        self.sigmoid = nn.Sigmoid()\n",
        "\n",
        "    def forward(self, x):\n",
        "        x = self.relu(self.fc1(x))\n",
        "        x = self.relu(self.fc2(x))\n",
        "        x = self.sigmoid(self.output(x))\n",
        "        return x\n",
        "\n",
        "# Initialize the model\n",
        "input_dim = X_train_scaled.shape[1]  # Number of features\n",
        "model = NeuralNetwork(input_dim)\n",
        "\n",
        "# Move model to GPU if available\n",
        "device = torch.device(\"cuda\" if torch.cuda.is_available() else \"cpu\")\n",
        "model.to(device)\n"
      ],
      "metadata": {
        "id": "Z0VavbVJmKLP",
        "outputId": "b11c98a1-24d6-42fb-c9f9-0f3b40993c77",
        "colab": {
          "base_uri": "https://localhost:8080/"
        }
      },
      "execution_count": null,
      "outputs": [
        {
          "output_type": "execute_result",
          "data": {
            "text/plain": [
              "NeuralNetwork(\n",
              "  (fc1): Linear(in_features=59, out_features=64, bias=True)\n",
              "  (fc2): Linear(in_features=64, out_features=32, bias=True)\n",
              "  (output): Linear(in_features=32, out_features=1, bias=True)\n",
              "  (relu): ReLU()\n",
              "  (sigmoid): Sigmoid()\n",
              ")"
            ]
          },
          "metadata": {},
          "execution_count": 160
        }
      ]
    },
    {
      "cell_type": "markdown",
      "source": [
        "Implementation"
      ],
      "metadata": {
        "id": "9OHS6qfQmeRF"
      }
    },
    {
      "cell_type": "code",
      "source": [
        "import torch\n",
        "import torch.nn as nn\n",
        "import torch.optim as optim\n",
        "from torch.utils.data import TensorDataset, DataLoader\n",
        "import time\n",
        "\n",
        "# Check for GPU availability\n",
        "device = torch.device(\"cuda\" if torch.cuda.is_available() else \"cpu\")\n",
        "\n",
        "# Convert data to PyTorch tensors (Fixed the .values issue)\n",
        "X_train_tensor = torch.tensor(X_train_scaled, dtype=torch.float32).to(device)\n",
        "y_train_tensor = torch.tensor(y_train, dtype=torch.float32).view(-1, 1).to(device)\n",
        "\n",
        "X_val_tensor = torch.tensor(X_val_scaled, dtype=torch.float32).to(device)\n",
        "y_val_tensor = torch.tensor(y_val, dtype=torch.float32).view(-1, 1).to(device)\n",
        "\n",
        "X_test_tensor = torch.tensor(X_test_scaled, dtype=torch.float32).to(device)\n",
        "y_test_tensor = torch.tensor(y_test, dtype=torch.float32).view(-1, 1).to(device)\n",
        "\n",
        "# Create DataLoaders\n",
        "train_dataset = TensorDataset(X_train_tensor, y_train_tensor)\n",
        "train_loader = DataLoader(train_dataset, batch_size=32, shuffle=True)\n",
        "\n",
        "val_dataset = TensorDataset(X_val_tensor, y_val_tensor)\n",
        "val_loader = DataLoader(val_dataset, batch_size=32, shuffle=False)\n",
        "\n",
        "test_dataset = TensorDataset(X_test_tensor, y_test_tensor)\n",
        "test_loader = DataLoader(test_dataset, batch_size=32, shuffle=False)\n",
        "\n",
        "# Define a simple Neural Network model\n",
        "class NeuralNetwork(nn.Module):\n",
        "    def __init__(self, input_dim):\n",
        "        super(NeuralNetwork, self).__init__()\n",
        "        self.fc1 = nn.Linear(input_dim, 64)\n",
        "        self.relu = nn.ReLU()\n",
        "        self.fc2 = nn.Linear(64, 32)\n",
        "        self.fc3 = nn.Linear(32, 1)\n",
        "        self.sigmoid = nn.Sigmoid()\n",
        "\n",
        "    def forward(self, x):\n",
        "        x = self.fc1(x)\n",
        "        x = self.relu(x)\n",
        "        x = self.fc2(x)\n",
        "        x = self.relu(x)\n",
        "        x = self.fc3(x)\n",
        "        return self.sigmoid(x)\n",
        "\n",
        "# Initialize model\n",
        "input_dim = X_train_scaled.shape[1]\n",
        "model = NeuralNetwork(input_dim).to(device)\n",
        "\n",
        "# Loss function and optimizer\n",
        "criterion = nn.BCELoss()\n",
        "optimizer = optim.Adam(model.parameters(), lr=0.001)\n",
        "\n",
        "# Training loop\n",
        "num_epochs = 50\n",
        "start_time = time.time()\n",
        "\n",
        "for epoch in range(num_epochs):\n",
        "    model.train()\n",
        "    epoch_loss = 0\n",
        "\n",
        "    for batch_X, batch_y in train_loader:\n",
        "        optimizer.zero_grad()\n",
        "        outputs = model(batch_X)\n",
        "        loss = criterion(outputs, batch_y)\n",
        "        loss.backward()\n",
        "        optimizer.step()\n",
        "        epoch_loss += loss.item()\n",
        "\n",
        "    avg_loss = epoch_loss / len(train_loader)\n",
        "    print(f\"Epoch [{epoch+1}/{num_epochs}], Loss: {avg_loss:.4f}\")\n",
        "\n",
        "training_time = time.time() - start_time\n",
        "print(f\"Training Time: {training_time:.2f} seconds\")\n",
        "\n",
        "# Evaluation\n",
        "model.eval()\n",
        "with torch.no_grad():\n",
        "    y_pred_test = model(X_test_tensor)\n",
        "    y_pred_test = (y_pred_test > 0.5).float()\n",
        "    accuracy = (y_pred_test == y_test_tensor).float().mean().item()\n",
        "    print(f\"Test Accuracy: {accuracy:.4f}\")\n"
      ],
      "metadata": {
        "id": "BczRHMzkmgdG",
        "outputId": "186d978c-7642-4c20-be92-ef1d221bf6f4",
        "colab": {
          "base_uri": "https://localhost:8080/"
        }
      },
      "execution_count": null,
      "outputs": [
        {
          "output_type": "stream",
          "name": "stdout",
          "text": [
            "Epoch [1/50], Loss: 0.6764\n",
            "Epoch [2/50], Loss: 0.6549\n",
            "Epoch [3/50], Loss: 0.6430\n",
            "Epoch [4/50], Loss: 0.6208\n",
            "Epoch [5/50], Loss: 0.6085\n",
            "Epoch [6/50], Loss: 0.5953\n",
            "Epoch [7/50], Loss: 0.5741\n",
            "Epoch [8/50], Loss: 0.5606\n",
            "Epoch [9/50], Loss: 0.5583\n",
            "Epoch [10/50], Loss: 0.5377\n",
            "Epoch [11/50], Loss: 0.5050\n",
            "Epoch [12/50], Loss: 0.4834\n",
            "Epoch [13/50], Loss: 0.4662\n",
            "Epoch [14/50], Loss: 0.4747\n",
            "Epoch [15/50], Loss: 0.4356\n",
            "Epoch [16/50], Loss: 0.4222\n",
            "Epoch [17/50], Loss: 0.3968\n",
            "Epoch [18/50], Loss: 0.3676\n",
            "Epoch [19/50], Loss: 0.3773\n",
            "Epoch [20/50], Loss: 0.3336\n",
            "Epoch [21/50], Loss: 0.3094\n",
            "Epoch [22/50], Loss: 0.2991\n",
            "Epoch [23/50], Loss: 0.2662\n",
            "Epoch [24/50], Loss: 0.2503\n",
            "Epoch [25/50], Loss: 0.2223\n",
            "Epoch [26/50], Loss: 0.2084\n",
            "Epoch [27/50], Loss: 0.1924\n",
            "Epoch [28/50], Loss: 0.1633\n",
            "Epoch [29/50], Loss: 0.1426\n",
            "Epoch [30/50], Loss: 0.1276\n",
            "Epoch [31/50], Loss: 0.1086\n",
            "Epoch [32/50], Loss: 0.0938\n",
            "Epoch [33/50], Loss: 0.0828\n",
            "Epoch [34/50], Loss: 0.0752\n",
            "Epoch [35/50], Loss: 0.0668\n",
            "Epoch [36/50], Loss: 0.0534\n",
            "Epoch [37/50], Loss: 0.0481\n",
            "Epoch [38/50], Loss: 0.0446\n",
            "Epoch [39/50], Loss: 0.0360\n",
            "Epoch [40/50], Loss: 0.0320\n",
            "Epoch [41/50], Loss: 0.0269\n",
            "Epoch [42/50], Loss: 0.0239\n",
            "Epoch [43/50], Loss: 0.0224\n",
            "Epoch [44/50], Loss: 0.0208\n",
            "Epoch [45/50], Loss: 0.0184\n",
            "Epoch [46/50], Loss: 0.0159\n",
            "Epoch [47/50], Loss: 0.0161\n",
            "Epoch [48/50], Loss: 0.0146\n",
            "Epoch [49/50], Loss: 0.0131\n",
            "Epoch [50/50], Loss: 0.0119\n",
            "Training Time: 0.48 seconds\n",
            "Test Accuracy: 0.5556\n"
          ]
        }
      ]
    },
    {
      "cell_type": "markdown",
      "source": [
        "Evaluation"
      ],
      "metadata": {
        "id": "iG1auNp3v7FB"
      }
    },
    {
      "cell_type": "code",
      "source": [
        "# Switch to evaluation mode\n",
        "model.eval()\n",
        "\n",
        "# Get predictions for validation set\n",
        "with torch.no_grad():\n",
        "    y_val_probs = model(X_val_tensor).cpu().numpy()\n",
        "    y_val_pred = (y_val_probs >= 0.5).astype(int)\n",
        "\n",
        "    y_test_probs = model(X_test_tensor).cpu().numpy()\n",
        "    y_test_pred = (y_test_probs >= 0.5).astype(int)\n",
        "\n",
        "# Compute Metrics\n",
        "val_precision = precision_score(y_val, y_val_pred)\n",
        "val_recall = recall_score(y_val, y_val_pred)\n",
        "val_f1 = f1_score(y_val, y_val_pred)\n",
        "val_auc = roc_auc_score(y_val, y_val_probs)\n",
        "\n",
        "test_precision = precision_score(y_test, y_test_pred)\n",
        "test_recall = recall_score(y_test, y_test_pred)\n",
        "test_f1 = f1_score(y_test, y_test_pred)\n",
        "test_auc = roc_auc_score(y_test, y_test_probs)\n",
        "\n",
        "# Print Evaluation Results\n",
        "print(f\"Neural Network Evaluation (Validation Set):\")\n",
        "print(f\"Validation Precision: {val_precision:.4f} | Validation Recall: {val_recall:.4f}\")\n",
        "print(f\"Validation F1-Score: {val_f1:.4f} | Validation AUC: {val_auc:.4f}\")\n",
        "\n",
        "print(f\"\\nNeural Network Evaluation (Test Set):\")\n",
        "print(f\"Test Precision: {test_precision:.4f} | Test Recall: {test_recall:.4f}\")\n",
        "print(f\"Test F1-Score: {test_f1:.4f} | Test AUC: {test_auc:.4f}\")\n",
        "\n",
        "print(f\"\\nTraining Time: {training_time:.4f} seconds\")\n"
      ],
      "metadata": {
        "id": "cQWZFhV8v9WH",
        "outputId": "775543fa-a2a6-48f7-cc20-00fefc1c4e86",
        "colab": {
          "base_uri": "https://localhost:8080/"
        }
      },
      "execution_count": null,
      "outputs": [
        {
          "output_type": "stream",
          "name": "stdout",
          "text": [
            "Neural Network Evaluation (Validation Set):\n",
            "Validation Precision: 1.0000 | Validation Recall: 0.5000\n",
            "Validation F1-Score: 0.6667 | Validation AUC: 0.7222\n",
            "\n",
            "Neural Network Evaluation (Test Set):\n",
            "Test Precision: 0.2500 | Test Recall: 0.1667\n",
            "Test F1-Score: 0.2000 | Test AUC: 0.4167\n",
            "\n",
            "Training Time: 0.4476 seconds\n"
          ]
        }
      ]
    },
    {
      "cell_type": "markdown",
      "source": [
        "## Implementing DNN"
      ],
      "metadata": {
        "id": "YXYQSVqtvFPm"
      }
    },
    {
      "cell_type": "markdown",
      "source": [
        "Defining"
      ],
      "metadata": {
        "id": "kQIbwm4yvPFo"
      }
    },
    {
      "cell_type": "code",
      "source": [
        "import torch\n",
        "import torch.nn as nn\n",
        "import torch.optim as optim\n",
        "import time\n",
        "from sklearn.metrics import precision_score, recall_score, f1_score, roc_auc_score\n",
        "\n",
        "# Define the Deep Neural Network (DNN) Model\n",
        "class DNNModel(nn.Module):\n",
        "    def __init__(self, input_dim):\n",
        "        super(DNNModel, self).__init__()\n",
        "        self.fc1 = nn.Linear(input_dim, 128)\n",
        "        self.fc2 = nn.Linear(128, 64)\n",
        "        self.fc3 = nn.Linear(64, 32)\n",
        "        self.output = nn.Linear(32, 1)\n",
        "        self.relu = nn.ReLU()\n",
        "        self.sigmoid = nn.Sigmoid()\n",
        "\n",
        "    def forward(self, x):\n",
        "        x = self.relu(self.fc1(x))\n",
        "        x = self.relu(self.fc2(x))\n",
        "        x = self.relu(self.fc3(x))\n",
        "        x = self.sigmoid(self.output(x))\n",
        "        return x\n",
        "\n",
        "# Initialize the model\n",
        "input_dim = X_train_scaled.shape[1]\n",
        "model = DNNModel(input_dim)\n",
        "device = torch.device(\"cuda\" if torch.cuda.is_available() else \"cpu\")\n",
        "model.to(device)\n",
        "\n",
        "# Define loss and optimizer\n",
        "criterion = nn.BCELoss()\n",
        "optimizer = optim.Adam(model.parameters(), lr=0.001)\n"
      ],
      "metadata": {
        "id": "B9le53eTvQQl"
      },
      "execution_count": null,
      "outputs": []
    },
    {
      "cell_type": "markdown",
      "source": [
        "Training"
      ],
      "metadata": {
        "id": "iYVEpeqEvlYd"
      }
    },
    {
      "cell_type": "code",
      "source": [
        "# Convert data to PyTorch tensors\n",
        "X_train_tensor = torch.tensor(X_train_scaled, dtype=torch.float32).to(device)\n",
        "y_train_tensor = torch.tensor(y_train, dtype=torch.float32).view(-1, 1).to(device)\n",
        "\n",
        "X_val_tensor = torch.tensor(X_val_scaled, dtype=torch.float32).to(device)\n",
        "y_val_tensor = torch.tensor(y_val, dtype=torch.float32).view(-1, 1).to(device)\n",
        "\n",
        "# Training parameters\n",
        "epochs = 100\n",
        "batch_size = 32\n",
        "train_losses = []\n",
        "val_losses = []\n",
        "\n",
        "# Training loop\n",
        "start_time = time.time()\n",
        "\n",
        "for epoch in range(epochs):\n",
        "    model.train()\n",
        "    optimizer.zero_grad()\n",
        "\n",
        "    # Forward pass\n",
        "    outputs = model(X_train_tensor)\n",
        "    loss = criterion(outputs, y_train_tensor)\n",
        "\n",
        "    # Backward pass\n",
        "    loss.backward()\n",
        "    optimizer.step()\n",
        "\n",
        "    # Validate the model\n",
        "    model.eval()\n",
        "    with torch.no_grad():\n",
        "        val_outputs = model(X_val_tensor)\n",
        "        val_loss = criterion(val_outputs, y_val_tensor)\n",
        "\n",
        "    train_losses.append(loss.item())\n",
        "    val_losses.append(val_loss.item())\n",
        "\n",
        "    if (epoch + 1) % 10 == 0:\n",
        "        print(f\"Epoch [{epoch+1}/{epochs}], Loss: {loss.item():.4f}, Val Loss: {val_loss.item():.4f}\")\n",
        "\n",
        "training_time = time.time() - start_time\n",
        "print(f\"\\nTraining completed in {training_time:.2f} seconds\")\n"
      ],
      "metadata": {
        "id": "k7wgtto4vnqv",
        "outputId": "6efecdad-edb2-4086-bf40-440000941c6e",
        "colab": {
          "base_uri": "https://localhost:8080/"
        }
      },
      "execution_count": null,
      "outputs": [
        {
          "output_type": "stream",
          "name": "stdout",
          "text": [
            "Epoch [10/100], Loss: 0.5956, Val Loss: 0.6140\n",
            "Epoch [20/100], Loss: 0.4602, Val Loss: 0.5729\n",
            "Epoch [30/100], Loss: 0.3076, Val Loss: 0.6299\n",
            "Epoch [40/100], Loss: 0.1881, Val Loss: 0.8405\n",
            "Epoch [50/100], Loss: 0.0992, Val Loss: 1.0207\n",
            "Epoch [60/100], Loss: 0.0317, Val Loss: 1.0561\n",
            "Epoch [70/100], Loss: 0.0081, Val Loss: 1.1030\n",
            "Epoch [80/100], Loss: 0.0029, Val Loss: 1.1873\n",
            "Epoch [90/100], Loss: 0.0015, Val Loss: 1.2556\n",
            "Epoch [100/100], Loss: 0.0010, Val Loss: 1.3096\n",
            "\n",
            "Training completed in 0.45 seconds\n"
          ]
        }
      ]
    },
    {
      "cell_type": "markdown",
      "source": [
        "Evaluation"
      ],
      "metadata": {
        "id": "G-ZZtzyDvsfQ"
      }
    },
    {
      "cell_type": "code",
      "source": [
        "# Convert test data to PyTorch tensors\n",
        "X_test_tensor = torch.tensor(X_test_scaled, dtype=torch.float32).to(device)\n",
        "y_test_tensor = torch.tensor(y_test, dtype=torch.float32).view(-1, 1).to(device)\n",
        "\n",
        "# Get predictions\n",
        "model.eval()\n",
        "with torch.no_grad():\n",
        "    test_outputs = model(X_test_tensor).cpu().numpy()\n",
        "\n",
        "# Convert probabilities to binary predictions using a threshold of 0.5\n",
        "y_pred = (test_outputs >= 0.5).astype(int)\n",
        "\n",
        "# Calculate evaluation metrics\n",
        "test_precision = precision_score(y_test, y_pred)\n",
        "test_recall = recall_score(y_test, y_pred)\n",
        "test_f1 = f1_score(y_test, y_pred)\n",
        "test_auc = roc_auc_score(y_test, test_outputs)\n",
        "\n",
        "# Print the results\n",
        "print(\"\\nDNN Model Test Metrics:\")\n",
        "print(f\"Test Precision: {test_precision:.4f} | Test Recall: {test_recall:.4f}\")\n",
        "print(f\"Test F1-Score: {test_f1:.4f} | Test AUC: {test_auc:.4f}\")\n",
        "print(f\"Training Time: {training_time:.2f} seconds | Learning Rate: 0.001\")\n"
      ],
      "metadata": {
        "id": "fGpHYewzvuyV",
        "outputId": "7f4a1bf8-aa1f-413c-ef8a-846747c6cdf0",
        "colab": {
          "base_uri": "https://localhost:8080/"
        }
      },
      "execution_count": null,
      "outputs": [
        {
          "output_type": "stream",
          "name": "stdout",
          "text": [
            "\n",
            "DNN Model Test Metrics:\n",
            "Test Precision: 0.2500 | Test Recall: 0.1667\n",
            "Test F1-Score: 0.2000 | Test AUC: 0.4167\n",
            "Training Time: 0.45 seconds | Learning Rate: 0.001\n"
          ]
        }
      ]
    },
    {
      "cell_type": "markdown",
      "source": [
        "# Comparing The Models"
      ],
      "metadata": {
        "id": "gRKUKYlMwVEz"
      }
    },
    {
      "cell_type": "code",
      "source": [
        "import pandas as pd\n",
        "\n",
        "# Store the results of all models\n",
        "model_comparison = pd.DataFrame({\n",
        "    \"Model\": [\n",
        "        \"Logistic Regression\", \"Random Forest\", \"Support Vector Machine\",\n",
        "        \"XGBoost\", \"Gradient Boosting\", \"LightGBM\", \"Naive Bayes\",\n",
        "        \"K-Nearest Neighbors\", \"Decision Tree\", \"Deep Neural Network\"\n",
        "    ],\n",
        "    \"Precision\": [log_precision, rf_precision, svm_precision,\n",
        "                  xgb_precision, gbm_precision, lgbm_precision,\n",
        "                  nb_precision, knn_precision, dt_precision, dnn_precision],\n",
        "    \"Recall\": [log_recall, rf_recall, svm_recall,\n",
        "               xgb_recall, gbm_recall, lgbm_recall,\n",
        "               nb_recall, knn_recall, dt_recall, dnn_recall],\n",
        "    \"F1-Score\": [log_f1, rf_f1, svm_f1,\n",
        "                 xgb_f1, gbm_f1, lgbm_f1,\n",
        "                 nb_f1, knn_f1, dt_f1, dnn_f1],\n",
        "    \"AUC\": [log_auc, rf_auc, svm_auc,\n",
        "            xgb_auc, gbm_auc, lgbm_auc,\n",
        "            nb_auc, knn_auc, dt_auc, dnn_auc],\n",
        "    \"Training Time (s)\": [log_time, rf_time, svm_time,\n",
        "                          xgb_time, gbm_time, lgbm_time,\n",
        "                          nb_time, knn_time, dt_time, dnn_time],\n",
        "    \"Learning Rate\": [0.001, \"N/A\", \"N/A\", 0.1, 0.1, 0.05, \"N/A\", \"N/A\", \"N/A\", 0.001]\n",
        "})\n",
        "\n",
        "# Sort models by highest AUC\n",
        "model_comparison = model_comparison.sort_values(by=\"AUC\", ascending=False)\n",
        "\n",
        "# Display the table\n",
        "print(model_comparison)\n"
      ],
      "metadata": {
        "id": "0DdTmZcJwZq_",
        "outputId": "266b89ca-d366-4dfd-f919-8f0f8feb8e73",
        "colab": {
          "base_uri": "https://localhost:8080/",
          "height": 211
        }
      },
      "execution_count": null,
      "outputs": [
        {
          "output_type": "error",
          "ename": "NameError",
          "evalue": "name 'log_precision' is not defined",
          "traceback": [
            "\u001b[0;31m---------------------------------------------------------------------------\u001b[0m",
            "\u001b[0;31mNameError\u001b[0m                                 Traceback (most recent call last)",
            "\u001b[0;32m<ipython-input-169-1b859a527ea1>\u001b[0m in \u001b[0;36m<cell line: 0>\u001b[0;34m()\u001b[0m\n\u001b[1;32m      8\u001b[0m         \u001b[0;34m\"K-Nearest Neighbors\"\u001b[0m\u001b[0;34m,\u001b[0m \u001b[0;34m\"Decision Tree\"\u001b[0m\u001b[0;34m,\u001b[0m \u001b[0;34m\"Deep Neural Network\"\u001b[0m\u001b[0;34m\u001b[0m\u001b[0;34m\u001b[0m\u001b[0m\n\u001b[1;32m      9\u001b[0m     ],\n\u001b[0;32m---> 10\u001b[0;31m     \"Precision\": [log_precision, rf_precision, svm_precision, \n\u001b[0m\u001b[1;32m     11\u001b[0m                   \u001b[0mxgb_precision\u001b[0m\u001b[0;34m,\u001b[0m \u001b[0mgbm_precision\u001b[0m\u001b[0;34m,\u001b[0m \u001b[0mlgbm_precision\u001b[0m\u001b[0;34m,\u001b[0m\u001b[0;34m\u001b[0m\u001b[0;34m\u001b[0m\u001b[0m\n\u001b[1;32m     12\u001b[0m                   nb_precision, knn_precision, dt_precision, dnn_precision],\n",
            "\u001b[0;31mNameError\u001b[0m: name 'log_precision' is not defined"
          ]
        }
      ]
    }
  ]
}