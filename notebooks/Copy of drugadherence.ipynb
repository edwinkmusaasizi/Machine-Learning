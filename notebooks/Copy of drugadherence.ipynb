{
  "nbformat": 4,
  "nbformat_minor": 0,
  "metadata": {
    "colab": {
      "provenance": [],
      "toc_visible": true,
      "authorship_tag": "ABX9TyO/L4zlMsRF4bBsF/72hb4Z"
    },
    "kernelspec": {
      "name": "python3",
      "display_name": "Python 3"
    },
    "language_info": {
      "name": "python"
    }
  },
  "cells": [
    {
      "cell_type": "markdown",
      "source": [
        "# **0.0 DATA PROCESSING**"
      ],
      "metadata": {
        "id": "qkMtfHS29wQB"
      }
    },
    {
      "cell_type": "code",
      "execution_count": 104,
      "metadata": {
        "colab": {
          "base_uri": "https://localhost:8080/"
        },
        "collapsed": true,
        "id": "h4fuIGZJTyAw",
        "outputId": "e25ad09c-8149-4d7c-e225-1d37c8a3a124"
      },
      "outputs": [
        {
          "output_type": "stream",
          "name": "stdout",
          "text": [
            "Cloning into 'Machine-Learning'...\n",
            "remote: Enumerating objects: 53, done.\u001b[K\n",
            "remote: Counting objects: 100% (53/53), done.\u001b[K\n",
            "remote: Compressing objects: 100% (49/49), done.\u001b[K\n",
            "remote: Total 53 (delta 18), reused 7 (delta 0), pack-reused 0 (from 0)\u001b[K\n",
            "Receiving objects: 100% (53/53), 445.02 KiB | 3.53 MiB/s, done.\n",
            "Resolving deltas: 100% (18/18), done.\n"
          ]
        }
      ],
      "source": [
        "!git clone https://github.com/edwinkmusaasizi/Machine-Learning.git"
      ]
    },
    {
      "cell_type": "code",
      "source": [
        "%cd Machine-Learning\n",
        "%cd data\n",
        "%cd interim\n",
        "!ls"
      ],
      "metadata": {
        "colab": {
          "base_uri": "https://localhost:8080/"
        },
        "id": "XOq1g9EKBMoS",
        "outputId": "d7baecea-a961-423d-daa0-eb4b656f9795"
      },
      "execution_count": 105,
      "outputs": [
        {
          "output_type": "stream",
          "name": "stdout",
          "text": [
            "/content/Machine-Learning/data/interim/Machine-Learning/data/interim/Machine-Learning\n",
            "/content/Machine-Learning/data/interim/Machine-Learning/data/interim/Machine-Learning/data\n",
            "/content/Machine-Learning/data/interim/Machine-Learning/data/interim/Machine-Learning/data/interim\n",
            "cleaned_mental_health_data.csv\n"
          ]
        }
      ]
    },
    {
      "cell_type": "markdown",
      "source": [
        "0.1 Data Processing"
      ],
      "metadata": {
        "id": "w3CAYEIG383K"
      }
    },
    {
      "cell_type": "code",
      "source": [
        "import pandas as pd\n",
        "import numpy as np\n",
        "import torch\n",
        "from torch.utils.data import DataLoader, TensorDataset\n",
        "from sklearn.model_selection import train_test_split\n",
        "from sklearn.preprocessing import StandardScaler, LabelEncoder\n",
        "\n",
        "# Load data\n",
        "df = pd.read_csv(\"cleaned_mental_health_data.csv\")\n",
        "\n",
        "# Define adherence labels based on questionnaire responses\n",
        "non_adherence_columns = [\n",
        "    \"Do you ever forget to take your medication?\",\n",
        "    \"Are you careless at times about taking your medication?\",\n",
        "    \"When you feel better, do you sometimes stop taking your medication?\",\n",
        "    \"Sometimes if you feel worse when you take the medication, do you stop taking it?\",\n",
        "    \"I take my medication only when I am sick\"\n",
        "]\n",
        "\n",
        "df[\"adherence\"] = np.where(df[non_adherence_columns].eq(\"Yes\").any(axis=1), 0, 1)\n",
        "\n",
        "# Drop redundant columns\n",
        "df = df.drop(columns=non_adherence_columns + [\"If you have any further comments about medication or this questionnaire, please write them below\"])\n",
        "\n",
        "# Identify all categorical columns\n",
        "categorical_cols = df.select_dtypes(include=['object', 'category']).columns\n",
        "print(\"Categorical columns to encode:\", categorical_cols)\n",
        "\n",
        "# Encode all categorical features\n",
        "for col in categorical_cols:\n",
        "    le = LabelEncoder()\n",
        "    df[col] = le.fit_transform(df[col].astype(str))\n",
        "\n",
        "# Split features and labels\n",
        "X = df.drop(columns=\"adherence\").values\n",
        "y = df[\"adherence\"].values\n",
        "\n",
        "# Split data into train, validation, test (70-15-15)\n",
        "X_train, X_temp, y_train, y_temp = train_test_split(X, y, test_size=0.3, stratify=y, random_state=42)\n",
        "X_val, X_test, y_val, y_test = train_test_split(X_temp, y_temp, test_size=0.5, stratify=y_temp, random_state=42)\n",
        "\n",
        "# Apply SMOTE to only the training set\n",
        "from imblearn.over_sampling import SMOTE\n",
        "\n",
        "# Apply SMOTE only to the training data\n",
        "smote = SMOTE(sampling_strategy='auto', random_state=42)\n",
        "X_train_resampled, y_train_resampled = smote.fit_resample(X_train, y_train)\n",
        "\n",
        "# Check new class distribution\n",
        "from collections import Counter\n",
        "print(\"New class distribution:\", Counter(y_train_resampled))\n",
        "\n",
        "# Normalize numerical features\n",
        "scaler = StandardScaler()\n",
        "X_train = scaler.fit_transform(X_train)\n",
        "X_val = scaler.transform(X_val)\n",
        "X_test = scaler.transform(X_test)\n",
        "\n",
        "# Convert to PyTorch tensors\n",
        "train_dataset = TensorDataset(torch.FloatTensor(X_train), torch.FloatTensor(y_train))\n",
        "val_dataset = TensorDataset(torch.FloatTensor(X_val), torch.FloatTensor(y_val))\n",
        "test_dataset = TensorDataset(torch.FloatTensor(X_test), torch.FloatTensor(y_test))\n",
        "\n",
        "# Create DataLoaders\n",
        "batch_size = 32\n",
        "train_loader = DataLoader(train_dataset, batch_size=batch_size, shuffle=True)\n",
        "val_loader = DataLoader(val_dataset, batch_size=batch_size)\n",
        "test_loader = DataLoader(test_dataset, batch_size=batch_size)"
      ],
      "metadata": {
        "colab": {
          "base_uri": "https://localhost:8080/"
        },
        "id": "hJM_oZTZ5Kyy",
        "outputId": "faa34c41-1956-4cb8-f378-e9b305947f42"
      },
      "execution_count": 106,
      "outputs": [
        {
          "output_type": "stream",
          "name": "stdout",
          "text": [
            "Categorical columns to encode: Index(['sex', 'Religion', 'marital status', 'education status', 'residence',\n",
            "       'substance use', 'comorbidity',\n",
            "       'It is unnatural for my mind and body to be controlled by medication?',\n",
            "       'My thoughts are clearer on medication',\n",
            "       'By staying on medication, I can prevent getting sick',\n",
            "       'I feel weird, like a ‘zombie’ on medication',\n",
            "       'Medication makes me feel tired and sluggish',\n",
            "       'Some of your symptoms are made by your mind.', 'You are mentally well',\n",
            "       'You do not need medication', 'Your stay in the hospital is necessary',\n",
            "       'The doctor is right in prescribing medication for you.',\n",
            "       'You do not need to be seen by a doctor or psychiatrist',\n",
            "       'If someone said you have a nervous or mental illness, they would be right',\n",
            "       'None of the unusual things you are experiencing are due to an illness.',\n",
            "       '. Loss of energy or drive', 'Feeling unmotivated or numb',\n",
            "       'Daytime sedation or drowsiness', 'Sleeping too much',\n",
            "       'Muscles being too tense or stiff', 'Muscles trembling or shaking',\n",
            "       'Feeling restless or jittery',\n",
            "       'Need to move around and pace; inability to sit still',\n",
            "       'Trouble getting to sleep or staying asleep (insomnia)',\n",
            "       'Blurry vision', 'Dry mouth', 'Drooling',\n",
            "       'Memory and concentration problems', 'Constipation', 'Weight changes',\n",
            "       'Changes in sexual functioning', 'Menstrual or breast problem',\n",
            "       'I feel over burdened by the number of pills i swallow per day.',\n",
            "       'How often do yo take your drugs',\n",
            "       'How often do you find no medications in the hospital',\n",
            "       'I am satisfied with doctors explanation about mental illness and the need for treatment',\n",
            "       'Do you sometimes stop your medications because of religious or cultural beliefs'],\n",
            "      dtype='object')\n",
            "New class distribution: Counter({1: 55, 0: 55})\n"
          ]
        }
      ]
    },
    {
      "cell_type": "code",
      "source": [
        "# Check class distribution in the training set\n",
        "class_distribution = np.bincount(y_train)\n",
        "print(\"Class Distribution in Training Set:\")\n",
        "print(f\"Class 0 (Non-Adherent): {class_distribution[0]}\")\n",
        "print(f\"Class 1 (Adherent): {class_distribution[1]}\")"
      ],
      "metadata": {
        "colab": {
          "base_uri": "https://localhost:8080/"
        },
        "id": "uemTnvGF5Wxd",
        "outputId": "178253c5-8b7b-460a-e6e2-edbce8448da9"
      },
      "execution_count": 107,
      "outputs": [
        {
          "output_type": "stream",
          "name": "stdout",
          "text": [
            "Class Distribution in Training Set:\n",
            "Class 0 (Non-Adherent): 55\n",
            "Class 1 (Adherent): 26\n"
          ]
        }
      ]
    },
    {
      "cell_type": "markdown",
      "source": [
        "Implement class weight"
      ],
      "metadata": {
        "id": "zSgD2y_45fQO"
      }
    },
    {
      "cell_type": "code",
      "source": [
        "import torch\n",
        "import torch.nn as nn\n",
        "import torch.optim as optim\n",
        "from torch.utils.data import DataLoader, TensorDataset\n",
        "from sklearn.utils.class_weight import compute_class_weight\n",
        "import numpy as np\n",
        "import pandas as pd\n",
        "\n",
        "# Compute class weights\n",
        "class_weights = compute_class_weight('balanced', classes=np.unique(y_train), y=y_train)\n",
        "class_weights = torch.tensor(class_weights, dtype=torch.float32)\n",
        "\n",
        "# Define loss function with class weights\n",
        "criterion = nn.CrossEntropyLoss(weight=class_weights)\n",
        "\n",
        "# Example model (Assuming a simple neural network)\n",
        "class AdherenceModel(nn.Module):\n",
        "    def __init__(self, input_size):\n",
        "        super(AdherenceModel, self).__init__()\n",
        "        self.fc1 = nn.Linear(input_size, 64)\n",
        "        self.relu = nn.ReLU()\n",
        "        self.fc2 = nn.Linear(64, 2)  # Output has 2 classes (0 and 1)\n",
        "\n",
        "    def forward(self, x):\n",
        "        x = self.fc1(x)\n",
        "        x = self.relu(x)\n",
        "        x = self.fc2(x)  # No softmax needed for CrossEntropyLoss\n",
        "        return x\n",
        "\n",
        "# Initialize model\n",
        "input_size = X_train.shape[1]  # Number of features\n",
        "model = AdherenceModel(input_size)\n",
        "\n",
        "# Define optimizer\n",
        "optimizer = optim.Adam(model.parameters(), lr=0.001)\n",
        "\n",
        "# Training loop (simplified)\n",
        "for epoch in range(10):  # Adjust epochs as needed\n",
        "    model.train()\n",
        "    for batch_X, batch_y in train_loader:\n",
        "        optimizer.zero_grad()\n",
        "        outputs = model(batch_X)\n",
        "        batch_y = batch_y.long()  # Convert to long for CrossEntropyLoss\n",
        "        loss = criterion(outputs, batch_y)\n",
        "        loss.backward()\n",
        "        optimizer.step()\n",
        "    print(f\"Epoch {epoch+1}, Loss: {loss.item()}\")\n",
        "\n"
      ],
      "metadata": {
        "colab": {
          "base_uri": "https://localhost:8080/"
        },
        "id": "AlfiL7ZA5ide",
        "outputId": "5b5ed559-5b76-4867-f989-4ce30bd8c9ce"
      },
      "execution_count": 108,
      "outputs": [
        {
          "output_type": "stream",
          "name": "stdout",
          "text": [
            "Epoch 1, Loss: 0.7398043870925903\n",
            "Epoch 2, Loss: 0.6390100717544556\n",
            "Epoch 3, Loss: 0.6645118594169617\n",
            "Epoch 4, Loss: 0.6223667860031128\n",
            "Epoch 5, Loss: 0.5667624473571777\n",
            "Epoch 6, Loss: 0.5892457365989685\n",
            "Epoch 7, Loss: 0.542084813117981\n",
            "Epoch 8, Loss: 0.5019883513450623\n",
            "Epoch 9, Loss: 0.44666144251823425\n",
            "Epoch 10, Loss: 0.4940347969532013\n"
          ]
        }
      ]
    },
    {
      "cell_type": "markdown",
      "source": [],
      "metadata": {
        "id": "M6xRzM2l5T3k"
      }
    },
    {
      "cell_type": "markdown",
      "source": [
        "# MODEL 1: DNN"
      ],
      "metadata": {
        "id": "zGOedJj44NEC"
      }
    },
    {
      "cell_type": "markdown",
      "source": [
        "## **1.0 Teacher Model(DNN)**"
      ],
      "metadata": {
        "id": "MbJ-Zgft991a"
      }
    },
    {
      "cell_type": "markdown",
      "source": [
        "1.1  Define the Teacher Model Architecture\n",
        "\n"
      ],
      "metadata": {
        "id": "wsi6nwMMANuA"
      }
    },
    {
      "cell_type": "code",
      "source": [
        "import torch.nn as nn\n",
        "\n",
        "class TeacherModel(nn.Module):\n",
        "    def __init__(self, input_dim):\n",
        "        super(TeacherModel, self).__init__()\n",
        "        self.layers = nn.Sequential(\n",
        "            nn.Linear(input_dim, 256),\n",
        "            nn.ReLU(),\n",
        "            nn.Dropout(0.5),\n",
        "            nn.Linear(256, 128),\n",
        "            nn.ReLU(),\n",
        "            nn.Dropout(0.5),\n",
        "            nn.Linear(128, 64),\n",
        "            nn.ReLU(),\n",
        "            nn.Linear(64, 1),\n",
        "            nn.Sigmoid()\n",
        "        )\n",
        "\n",
        "    def forward(self, x):\n",
        "        return self.layers(x)\n",
        "\n",
        "# Initialize model\n",
        "input_dim = X_train.shape[1]\n",
        "teacher = TeacherModel(input_dim)"
      ],
      "metadata": {
        "id": "6TBz1aVfASdg"
      },
      "execution_count": 76,
      "outputs": []
    },
    {
      "cell_type": "markdown",
      "source": [
        "1.2 Training Loop"
      ],
      "metadata": {
        "id": "kCV4znXeAX2X"
      }
    },
    {
      "cell_type": "code",
      "source": [
        "import torch.optim as optim\n",
        "from sklearn.metrics import accuracy_score, roc_auc_score\n",
        "\n",
        "# Loss and optimizer\n",
        "criterion = nn.BCELoss()\n",
        "optimizer = optim.Adam(teacher.parameters(), lr=0.001)\n",
        "\n",
        "# Early stopping parameters\n",
        "best_val_loss = float('inf')\n",
        "patience = 5\n",
        "counter = 0\n",
        "\n",
        "# Training loop\n",
        "num_epochs = 100\n",
        "for epoch in range(num_epochs):\n",
        "    # Training\n",
        "    teacher.train()\n",
        "    train_loss = 0.0\n",
        "    for inputs, labels in train_loader:\n",
        "        optimizer.zero_grad()\n",
        "        outputs = teacher(inputs).squeeze()\n",
        "        loss = criterion(outputs, labels)\n",
        "        loss.backward()\n",
        "        optimizer.step()\n",
        "        train_loss += loss.item() * inputs.size(0)\n",
        "\n",
        "    # Validation\n",
        "    teacher.eval()\n",
        "    val_loss = 0.0\n",
        "    val_preds, val_true = [], []\n",
        "    with torch.no_grad():\n",
        "        for inputs, labels in val_loader:\n",
        "            outputs = teacher(inputs).squeeze()\n",
        "            loss = criterion(outputs, labels)\n",
        "            val_loss += loss.item() * inputs.size(0)\n",
        "            val_preds.extend(outputs.numpy())\n",
        "            val_true.extend(labels.numpy())\n",
        "\n",
        "    # Calculate metrics\n",
        "    train_loss = train_loss / len(train_loader.dataset)\n",
        "    val_loss = val_loss / len(val_loader.dataset)\n",
        "    val_auc = roc_auc_score(val_true, val_preds)\n",
        "    val_preds_binary = (np.array(val_preds) > 0.5).astype(int)\n",
        "    val_acc = accuracy_score(val_true, val_preds_binary)\n",
        "\n",
        "    print(f\"Epoch {epoch+1}/{num_epochs}\")\n",
        "    print(f\"Train Loss: {train_loss:.4f} | Val Loss: {val_loss:.4f} | Val AUC: {val_auc:.4f} | Val Acc: {val_acc:.4f}\")\n",
        "\n",
        "    # Early stopping\n",
        "    if val_loss < best_val_loss:\n",
        "        best_val_loss = val_loss\n",
        "        counter = 0\n",
        "        torch.save(teacher.state_dict(), \"best_teacher.pth\")\n",
        "    else:\n",
        "        counter += 1\n",
        "        if counter >= patience:\n",
        "            print(\"Early stopping!\")\n",
        "            break"
      ],
      "metadata": {
        "id": "KriFvjVWShcd",
        "outputId": "2c862ccb-2459-4a42-fecb-262ded8c0592",
        "colab": {
          "base_uri": "https://localhost:8080/"
        }
      },
      "execution_count": 77,
      "outputs": [
        {
          "output_type": "stream",
          "name": "stdout",
          "text": [
            "Epoch 1/100\n",
            "Train Loss: 0.7056 | Val Loss: 0.6902 | Val AUC: 0.5972 | Val Acc: 0.5556\n",
            "Epoch 2/100\n",
            "Train Loss: 0.6860 | Val Loss: 0.6715 | Val AUC: 0.6806 | Val Acc: 0.6667\n",
            "Epoch 3/100\n",
            "Train Loss: 0.6617 | Val Loss: 0.6473 | Val AUC: 0.7361 | Val Acc: 0.6667\n",
            "Epoch 4/100\n",
            "Train Loss: 0.6270 | Val Loss: 0.6243 | Val AUC: 0.7222 | Val Acc: 0.6667\n",
            "Epoch 5/100\n",
            "Train Loss: 0.5949 | Val Loss: 0.6026 | Val AUC: 0.7083 | Val Acc: 0.6667\n",
            "Epoch 6/100\n",
            "Train Loss: 0.5845 | Val Loss: 0.5887 | Val AUC: 0.7083 | Val Acc: 0.6667\n",
            "Epoch 7/100\n",
            "Train Loss: 0.5534 | Val Loss: 0.5838 | Val AUC: 0.7083 | Val Acc: 0.6667\n",
            "Epoch 8/100\n",
            "Train Loss: 0.5440 | Val Loss: 0.5893 | Val AUC: 0.7222 | Val Acc: 0.6667\n",
            "Epoch 9/100\n",
            "Train Loss: 0.5314 | Val Loss: 0.5998 | Val AUC: 0.7222 | Val Acc: 0.6667\n",
            "Epoch 10/100\n",
            "Train Loss: 0.5234 | Val Loss: 0.6085 | Val AUC: 0.7222 | Val Acc: 0.6667\n",
            "Epoch 11/100\n",
            "Train Loss: 0.4944 | Val Loss: 0.6004 | Val AUC: 0.7222 | Val Acc: 0.6667\n",
            "Epoch 12/100\n",
            "Train Loss: 0.4584 | Val Loss: 0.5930 | Val AUC: 0.7639 | Val Acc: 0.6667\n",
            "Early stopping!\n"
          ]
        }
      ]
    },
    {
      "cell_type": "markdown",
      "source": [
        "1.3 Evaluation"
      ],
      "metadata": {
        "id": "lpAgEnrZSmWT"
      }
    },
    {
      "cell_type": "code",
      "source": [
        "from sklearn.metrics import precision_score, recall_score, f1_score, roc_auc_score, confusion_matrix\n",
        "\n",
        "def calculate_specificity(y_true, y_pred):\n",
        "    \"\"\"Calculate specificity (true negative rate).\"\"\"\n",
        "    tn, fp, fn, tp = confusion_matrix(y_true, y_pred).ravel()\n",
        "    specificity = tn / (tn + fp)\n",
        "    return specificity\n",
        "\n",
        "# Training loop\n",
        "num_epochs = 100\n",
        "for epoch in range(num_epochs):\n",
        "    # Training\n",
        "    teacher.train()\n",
        "    train_loss = 0.0\n",
        "    for inputs, labels in train_loader:\n",
        "        optimizer.zero_grad()\n",
        "        outputs = teacher(inputs).squeeze()\n",
        "        loss = criterion(outputs, labels)\n",
        "        loss.backward()\n",
        "        optimizer.step()\n",
        "        train_loss += loss.item() * inputs.size(0)\n",
        "\n",
        "    # Validation\n",
        "    teacher.eval()\n",
        "    val_loss = 0.0\n",
        "    val_preds, val_true = [], []\n",
        "    with torch.no_grad():\n",
        "        for inputs, labels in val_loader:\n",
        "            outputs = teacher(inputs).squeeze()\n",
        "            loss = criterion(outputs, labels)\n",
        "            val_loss += loss.item() * inputs.size(0)\n",
        "            val_preds.extend(outputs.numpy())\n",
        "            val_true.extend(labels.numpy())\n",
        "\n",
        "    # Calculate metrics\n",
        "    train_loss = train_loss / len(train_loader.dataset)\n",
        "    val_loss = val_loss / len(val_loader.dataset)\n",
        "\n",
        "    # Convert predictions to binary (0 or 1)\n",
        "    val_preds_binary = (np.array(val_preds) > 0.5).astype(int)\n",
        "\n",
        "    # Calculate precision, recall, F1-score, specificity, and AUC\n",
        "    val_precision = precision_score(val_true, val_preds_binary)\n",
        "    val_recall = recall_score(val_true, val_preds_binary)\n",
        "    val_f1 = f1_score(val_true, val_preds_binary)\n",
        "    val_specificity = calculate_specificity(val_true, val_preds_binary)\n",
        "    val_auc = roc_auc_score(val_true, val_preds)\n",
        "\n",
        "    print(f\"Epoch {epoch+1}/{num_epochs}\")\n",
        "    print(f\"Train Loss: {train_loss:.4f} | Val Loss: {val_loss:.4f}\")\n",
        "    print(f\"Val Precision: {val_precision:.4f} | Val Recall: {val_recall:.4f}\")\n",
        "    print(f\"Val F1-Score: {val_f1:.4f} | Val Specificity: {val_specificity:.4f}\")\n",
        "    print(f\"Val AUC: {val_auc:.4f}\")\n",
        "\n",
        "    # Early stopping\n",
        "    if val_loss < best_val_loss:\n",
        "        best_val_loss = val_loss\n",
        "        counter = 0\n",
        "        torch.save(teacher.state_dict(), \"best_teacher.pth\")\n",
        "    else:\n",
        "        counter += 1\n",
        "        if counter >= patience:\n",
        "            print(\"Early stopping!\")\n",
        "            break\n",
        "\n",
        "print(f\"Learning Rate: {optimizer.param_groups[0]['lr']}\")"
      ],
      "metadata": {
        "id": "LBcGuVmsSs6U",
        "outputId": "bedd4428-1a95-41a5-9152-352953f5c93a",
        "colab": {
          "base_uri": "https://localhost:8080/"
        }
      },
      "execution_count": 78,
      "outputs": [
        {
          "output_type": "stream",
          "name": "stdout",
          "text": [
            "Epoch 1/100\n",
            "Train Loss: 0.4705 | Val Loss: 0.5833\n",
            "Val Precision: 0.0000 | Val Recall: 0.0000\n",
            "Val F1-Score: 0.0000 | Val Specificity: 1.0000\n",
            "Val AUC: 0.7361\n",
            "Epoch 2/100\n",
            "Train Loss: 0.4363 | Val Loss: 0.5844\n",
            "Val Precision: 0.0000 | Val Recall: 0.0000\n",
            "Val F1-Score: 0.0000 | Val Specificity: 1.0000\n",
            "Val AUC: 0.7361\n",
            "Epoch 3/100\n",
            "Train Loss: 0.4078 | Val Loss: 0.5961\n",
            "Val Precision: 1.0000 | Val Recall: 0.1667\n",
            "Val F1-Score: 0.2857 | Val Specificity: 1.0000\n",
            "Val AUC: 0.7500\n",
            "Epoch 4/100\n",
            "Train Loss: 0.3858 | Val Loss: 0.6202\n",
            "Val Precision: 1.0000 | Val Recall: 0.1667\n",
            "Val F1-Score: 0.2857 | Val Specificity: 1.0000\n",
            "Val AUC: 0.7500\n",
            "Epoch 5/100\n",
            "Train Loss: 0.3521 | Val Loss: 0.6489\n",
            "Val Precision: 1.0000 | Val Recall: 0.1667\n",
            "Val F1-Score: 0.2857 | Val Specificity: 1.0000\n",
            "Val AUC: 0.7639\n",
            "Epoch 6/100\n",
            "Train Loss: 0.3373 | Val Loss: 0.6927\n",
            "Val Precision: 1.0000 | Val Recall: 0.1667\n",
            "Val F1-Score: 0.2857 | Val Specificity: 1.0000\n",
            "Val AUC: 0.7639\n",
            "Early stopping!\n",
            "Learning Rate: 0.001\n"
          ]
        },
        {
          "output_type": "stream",
          "name": "stderr",
          "text": [
            "/usr/local/lib/python3.11/dist-packages/sklearn/metrics/_classification.py:1565: UndefinedMetricWarning: Precision is ill-defined and being set to 0.0 due to no predicted samples. Use `zero_division` parameter to control this behavior.\n",
            "  _warn_prf(average, modifier, f\"{metric.capitalize()} is\", len(result))\n",
            "/usr/local/lib/python3.11/dist-packages/sklearn/metrics/_classification.py:1565: UndefinedMetricWarning: Precision is ill-defined and being set to 0.0 due to no predicted samples. Use `zero_division` parameter to control this behavior.\n",
            "  _warn_prf(average, modifier, f\"{metric.capitalize()} is\", len(result))\n"
          ]
        }
      ]
    },
    {
      "cell_type": "markdown",
      "source": [
        "1.4 Test Evaluation"
      ],
      "metadata": {
        "id": "Fon2IdccZaOi"
      }
    },
    {
      "cell_type": "code",
      "source": [
        "# Load the best saved model\n",
        "teacher.load_state_dict(torch.load(\"best_teacher.pth\"))\n",
        "\n",
        "# Test evaluation\n",
        "teacher.eval()\n",
        "test_preds, test_true = [], []\n",
        "with torch.no_grad():\n",
        "    for inputs, labels in test_loader:\n",
        "        outputs = teacher(inputs).squeeze()\n",
        "        test_preds.extend(outputs.numpy())\n",
        "        test_true.extend(labels.numpy())\n",
        "\n",
        "# Convert predictions to binary (0 or 1)\n",
        "test_preds_binary = (np.array(test_preds) > 0.3).astype(int) #lowered the threshold from 0.5 to 0.3\n",
        "\n",
        "# Calculate metrics\n",
        "test_precision = precision_score(test_true, test_preds_binary)\n",
        "test_recall = recall_score(test_true, test_preds_binary)\n",
        "test_f1 = f1_score(test_true, test_preds_binary)\n",
        "test_specificity = calculate_specificity(test_true, test_preds_binary)\n",
        "test_auc = roc_auc_score(test_true, test_preds)\n",
        "\n",
        "print(\"Test Metrics:\")\n",
        "print(f\"Test Precision: {test_precision:.4f} | Test Recall: {test_recall:.4f}\")\n",
        "print(f\"Test F1-Score: {test_f1:.4f} | Test Specificity: {test_specificity:.4f}\")\n",
        "print(f\"Test AUC: {test_auc:.4f}\")"
      ],
      "metadata": {
        "id": "EA7GuVWmZZ3T",
        "outputId": "2830e082-88c5-4292-c595-13a6ebeb1606",
        "colab": {
          "base_uri": "https://localhost:8080/"
        }
      },
      "execution_count": 79,
      "outputs": [
        {
          "output_type": "stream",
          "name": "stdout",
          "text": [
            "Test Metrics:\n",
            "Test Precision: 0.2000 | Test Recall: 0.1667\n",
            "Test F1-Score: 0.1818 | Test Specificity: 0.6667\n",
            "Test AUC: 0.4306\n"
          ]
        },
        {
          "output_type": "stream",
          "name": "stderr",
          "text": [
            "<ipython-input-79-95e920c83986>:2: FutureWarning: You are using `torch.load` with `weights_only=False` (the current default value), which uses the default pickle module implicitly. It is possible to construct malicious pickle data which will execute arbitrary code during unpickling (See https://github.com/pytorch/pytorch/blob/main/SECURITY.md#untrusted-models for more details). In a future release, the default value for `weights_only` will be flipped to `True`. This limits the functions that could be executed during unpickling. Arbitrary objects will no longer be allowed to be loaded via this mode unless they are explicitly allowlisted by the user via `torch.serialization.add_safe_globals`. We recommend you start setting `weights_only=True` for any use case where you don't have full control of the loaded file. Please open an issue on GitHub for any issues related to this experimental feature.\n",
            "  teacher.load_state_dict(torch.load(\"best_teacher.pth\"))\n"
          ]
        }
      ]
    },
    {
      "cell_type": "markdown",
      "source": [
        "## **2.0 Contrastive Learning**\n",
        "\n",
        "---\n",
        "\n"
      ],
      "metadata": {
        "id": "-p_QPB9vcUXx"
      }
    },
    {
      "cell_type": "markdown",
      "source": [
        "2.1 Data Preparation for Contrastive Learning"
      ],
      "metadata": {
        "id": "1UxfTJuCdUjP"
      }
    },
    {
      "cell_type": "markdown",
      "source": [
        "We need to create pairs of samples for contrastive learning. Each pair consists of:\n",
        "\n",
        "Two samples from the same class (positive pair).\n",
        "\n",
        "Two samples from different classes (negative pair)."
      ],
      "metadata": {
        "id": "pfhpzJTadvdp"
      }
    },
    {
      "cell_type": "code",
      "source": [
        "import torch\n",
        "from torch.utils.data import Dataset, DataLoader\n",
        "\n",
        "class ContrastiveDataset(Dataset):\n",
        "    def __init__(self, X, y):\n",
        "        self.X = X\n",
        "        self.y = y\n",
        "\n",
        "    def __len__(self):\n",
        "        return len(self.X)\n",
        "\n",
        "    def __getitem__(self, idx):\n",
        "        x1 = self.X[idx]\n",
        "        y1 = self.y[idx]\n",
        "\n",
        "        # Randomly select a positive or negative pair\n",
        "        if torch.rand(1) > 0.5:\n",
        "            # Positive pair: same class\n",
        "            idx2 = torch.randint(0, len(self.X), (1,)).item()\n",
        "            while self.y[idx2] != y1:\n",
        "                idx2 = torch.randint(0, len(self.X), (1,)).item()\n",
        "            label = 1  # Positive pair label\n",
        "        else:\n",
        "            # Negative pair: different class\n",
        "            idx2 = torch.randint(0, len(self.X), (1,)).item()\n",
        "            while self.y[idx2] == y1:\n",
        "                idx2 = torch.randint(0, len(self.X), (1,)).item()\n",
        "            label = 0  # Negative pair label\n",
        "\n",
        "        x2 = self.X[idx2]\n",
        "        return x1, x2, label\n",
        "\n",
        "# Create contrastive datasets\n",
        "train_contrastive_dataset = ContrastiveDataset(X_train, y_train)\n",
        "val_contrastive_dataset = ContrastiveDataset(X_val, y_val)\n",
        "\n",
        "# Create DataLoaders\n",
        "batch_size = 32\n",
        "train_contrastive_loader = DataLoader(train_contrastive_dataset, batch_size=batch_size, shuffle=True)\n",
        "val_contrastive_loader = DataLoader(val_contrastive_dataset, batch_size=batch_size)"
      ],
      "metadata": {
        "id": "X2RJPUf1djeC"
      },
      "execution_count": 80,
      "outputs": []
    },
    {
      "cell_type": "markdown",
      "source": [
        "23.2 Define the Contrastive Loss"
      ],
      "metadata": {
        "id": "zYi7fKaMdyvp"
      }
    },
    {
      "cell_type": "markdown",
      "source": [
        "We’ll use the NT-Xent (Normalized Temperature-Scaled Cross Entropy) loss, which is commonly used in contrastive learning."
      ],
      "metadata": {
        "id": "zvsE2GF5d6na"
      }
    },
    {
      "cell_type": "code",
      "source": [
        "import torch.nn.functional as F\n",
        "\n",
        "class ContrastiveLoss(nn.Module):\n",
        "    def __init__(self, temperature=0.5):\n",
        "        super(ContrastiveLoss, self).__init__()\n",
        "        self.temperature = temperature\n",
        "\n",
        "    def forward(self, z1, z2, labels):\n",
        "        # Normalize the embeddings\n",
        "        z1 = F.normalize(z1, dim=1)\n",
        "        z2 = F.normalize(z2, dim=1)\n",
        "\n",
        "        # Compute similarity matrix\n",
        "        sim_matrix = torch.matmul(z1, z2.T) / self.temperature\n",
        "\n",
        "        # Positive pairs are on the diagonal\n",
        "        pos_pairs = torch.diag(sim_matrix)\n",
        "\n",
        "        # Negative pairs are off-diagonal\n",
        "        neg_pairs = sim_matrix[~torch.eye(sim_matrix.size(0), dtype=bool)]\n",
        "\n",
        "        # Compute contrastive loss\n",
        "        pos_loss = -torch.log(torch.exp(pos_pairs) / torch.exp(sim_matrix).sum(dim=1))\n",
        "        neg_loss = -torch.log(1 - torch.exp(neg_pairs) / torch.exp(sim_matrix).sum(dim=1))\n",
        "\n",
        "        # Combine losses\n",
        "        loss = (pos_loss.mean() + neg_loss.mean()) / 2\n",
        "        return loss"
      ],
      "metadata": {
        "id": "8cKKGyJjd-iy"
      },
      "execution_count": 81,
      "outputs": []
    },
    {
      "cell_type": "markdown",
      "source": [
        "2.3  Define the Encoder Model"
      ],
      "metadata": {
        "id": "OTo4lU3SeCeV"
      }
    },
    {
      "cell_type": "markdown",
      "source": [
        "The encoder model will learn meaningful representations of the input data. We’ll use a simple feedforward neural network."
      ],
      "metadata": {
        "id": "PAlob6KRfekd"
      }
    },
    {
      "cell_type": "code",
      "source": [
        "class Encoder(nn.Module):\n",
        "    def __init__(self, input_dim, hidden_dim=128, output_dim=64):\n",
        "        super(Encoder, self).__init__()\n",
        "        self.layers = nn.Sequential(\n",
        "            nn.Linear(input_dim, hidden_dim),\n",
        "            nn.ReLU(),\n",
        "            nn.Linear(hidden_dim, output_dim)\n",
        "        )\n",
        "\n",
        "    def forward(self, x):\n",
        "        return self.layers(x)\n",
        "\n",
        "# Initialize encoder\n",
        "input_dim = X_train.shape[1]\n",
        "encoder = Encoder(input_dim)"
      ],
      "metadata": {
        "id": "tr6LLuORffpW"
      },
      "execution_count": 82,
      "outputs": []
    },
    {
      "cell_type": "markdown",
      "source": [
        "2.4 Training Loop with Contrastive Learning"
      ],
      "metadata": {
        "id": "c6EoZ0LXfvqg"
      }
    },
    {
      "cell_type": "code",
      "source": [
        "import torch\n",
        "import torch.nn as nn\n",
        "import torch.optim as optim\n",
        "from torch.utils.data import Dataset, DataLoader\n",
        "import torch.nn.functional as F\n",
        "\n",
        "# Define ContrastiveDataset\n",
        "class ContrastiveDataset(Dataset):\n",
        "    def __init__(self, X, y):\n",
        "        self.X = torch.FloatTensor(X)  # Convert to FloatTensor\n",
        "        self.y = torch.FloatTensor(y)  # Convert to FloatTensor\n",
        "\n",
        "    def __len__(self):\n",
        "        return len(self.X)\n",
        "\n",
        "    def __getitem__(self, idx):\n",
        "        x1 = self.X[idx]\n",
        "        y1 = self.y[idx]\n",
        "\n",
        "        # Randomly select a positive or negative pair\n",
        "        if torch.rand(1) > 0.5:\n",
        "            # Positive pair: same class\n",
        "            idx2 = torch.randint(0, len(self.X), (1,)).item()\n",
        "            while self.y[idx2] != y1:\n",
        "                idx2 = torch.randint(0, len(self.X), (1,)).item()\n",
        "            label = 1  # Positive pair label\n",
        "        else:\n",
        "            # Negative pair: different class\n",
        "            idx2 = torch.randint(0, len(self.X), (1,)).item()\n",
        "            while self.y[idx2] == y1:\n",
        "                idx2 = torch.randint(0, len(self.X), (1,)).item()\n",
        "            label = 0  # Negative pair label\n",
        "\n",
        "        x2 = self.X[idx2]\n",
        "        return x1, x2, label\n",
        "\n",
        "# Define ContrastiveLoss\n",
        "class ContrastiveLoss(nn.Module):\n",
        "    def __init__(self, temperature=0.5):\n",
        "        super(ContrastiveLoss, self).__init__()\n",
        "        self.temperature = temperature\n",
        "\n",
        "    def forward(self, z1, z2, labels):\n",
        "        # Normalize the embeddings\n",
        "        z1 = F.normalize(z1, dim=1)\n",
        "        z2 = F.normalize(z2, dim=1)\n",
        "\n",
        "        # Compute similarity matrix\n",
        "        sim_matrix = torch.matmul(z1, z2.T) / self.temperature\n",
        "\n",
        "        # Positive pairs are on the diagonal\n",
        "        pos_pairs = torch.diag(sim_matrix)\n",
        "\n",
        "        # Negative pairs are off-diagonal\n",
        "        mask = ~torch.eye(sim_matrix.size(0), dtype=bool, device=sim_matrix.device)\n",
        "        neg_pairs = sim_matrix[mask].reshape(sim_matrix.size(0), -1)\n",
        "\n",
        "        # Compute contrastive loss\n",
        "        pos_loss = -torch.log(torch.exp(pos_pairs) / torch.exp(sim_matrix).sum(dim=1))\n",
        "        neg_loss = -torch.log(1 - torch.exp(neg_pairs) / torch.exp(sim_matrix).sum(dim=1).unsqueeze(1))\n",
        "\n",
        "        # Combine losses\n",
        "        loss = (pos_loss.mean() + neg_loss.mean()) / 2\n",
        "        return loss\n",
        "\n",
        "# Define Encoder\n",
        "class Encoder(nn.Module):\n",
        "    def __init__(self, input_dim, hidden_dim=128, output_dim=64):\n",
        "        super(Encoder, self).__init__()\n",
        "        self.layers = nn.Sequential(\n",
        "            nn.Linear(input_dim, hidden_dim),\n",
        "            nn.ReLU(),\n",
        "            nn.Linear(hidden_dim, output_dim)\n",
        "        )\n",
        "\n",
        "    def forward(self, x):\n",
        "        return self.layers(x)\n",
        "\n",
        "# Initialize encoder\n",
        "input_dim = X_train.shape[1]\n",
        "encoder = Encoder(input_dim).float()  # Ensure model uses Float\n",
        "\n",
        "# Create contrastive datasets\n",
        "train_contrastive_dataset = ContrastiveDataset(X_train, y_train)\n",
        "val_contrastive_dataset = ContrastiveDataset(X_val, y_val)\n",
        "\n",
        "# Create DataLoaders\n",
        "batch_size = 32\n",
        "train_contrastive_loader = DataLoader(train_contrastive_dataset, batch_size=batch_size, shuffle=True, drop_last=True)\n",
        "val_contrastive_loader = DataLoader(val_contrastive_dataset, batch_size=batch_size, drop_last=True)\n",
        "\n",
        "# Loss and optimizer\n",
        "contrastive_loss = ContrastiveLoss(temperature=0.5)\n",
        "optimizer = optim.Adam(encoder.parameters(), lr=0.001)\n",
        "\n",
        "# Training loop\n",
        "num_epochs = 50\n",
        "for epoch in range(num_epochs):\n",
        "    encoder.train()\n",
        "    train_loss = 0.0\n",
        "    for x1, x2, labels in train_contrastive_loader:\n",
        "        optimizer.zero_grad()\n",
        "\n",
        "        # Forward pass\n",
        "        z1 = encoder(x1)\n",
        "        z2 = encoder(x2)\n",
        "\n",
        "        # Compute contrastive loss\n",
        "        loss = contrastive_loss(z1, z2, labels)\n",
        "\n",
        "        # Backward pass\n",
        "        loss.backward()\n",
        "        optimizer.step()\n",
        "\n",
        "        train_loss += loss.item() * x1.size(0)\n",
        "\n",
        "    # Validation\n",
        "    encoder.eval()\n",
        "    val_loss = 0.0\n",
        "    with torch.no_grad():\n",
        "        for x1, x2, labels in val_contrastive_loader:\n",
        "            z1 = encoder(x1)\n",
        "            z2 = encoder(x2)\n",
        "            loss = contrastive_loss(z1, z2, labels)\n",
        "            val_loss += loss.item() * x1.size(0)\n",
        "\n",
        "    # Calculate average losses\n",
        "    train_loss = train_loss / len(train_contrastive_loader.dataset)\n",
        "    val_loss = val_loss / len(val_contrastive_loader.dataset)\n",
        "\n",
        "    print(f\"Epoch {epoch+1}/{num_epochs}\")\n",
        "    print(f\"Train Loss: {train_loss:.4f} | Val Loss: {val_loss:.4f}\")"
      ],
      "metadata": {
        "id": "jDH5Fu5Hf7jN",
        "outputId": "c65b2637-597b-4eb3-e8a0-1b826e203135",
        "colab": {
          "base_uri": "https://localhost:8080/"
        }
      },
      "execution_count": 83,
      "outputs": [
        {
          "output_type": "stream",
          "name": "stdout",
          "text": [
            "Epoch 1/50\n",
            "Train Loss: 1.4059 | Val Loss: 0.0000\n",
            "Epoch 2/50\n",
            "Train Loss: 1.3944 | Val Loss: 0.0000\n",
            "Epoch 3/50\n",
            "Train Loss: 1.3920 | Val Loss: 0.0000\n",
            "Epoch 4/50\n",
            "Train Loss: 1.4067 | Val Loss: 0.0000\n",
            "Epoch 5/50\n",
            "Train Loss: 1.4016 | Val Loss: 0.0000\n",
            "Epoch 6/50\n",
            "Train Loss: 1.3899 | Val Loss: 0.0000\n",
            "Epoch 7/50\n",
            "Train Loss: 1.3833 | Val Loss: 0.0000\n",
            "Epoch 8/50\n",
            "Train Loss: 1.4039 | Val Loss: 0.0000\n",
            "Epoch 9/50\n",
            "Train Loss: 1.3821 | Val Loss: 0.0000\n",
            "Epoch 10/50\n",
            "Train Loss: 1.3726 | Val Loss: 0.0000\n",
            "Epoch 11/50\n",
            "Train Loss: 1.3912 | Val Loss: 0.0000\n",
            "Epoch 12/50\n",
            "Train Loss: 1.3853 | Val Loss: 0.0000\n",
            "Epoch 13/50\n",
            "Train Loss: 1.3822 | Val Loss: 0.0000\n",
            "Epoch 14/50\n",
            "Train Loss: 1.3827 | Val Loss: 0.0000\n",
            "Epoch 15/50\n",
            "Train Loss: 1.3868 | Val Loss: 0.0000\n",
            "Epoch 16/50\n",
            "Train Loss: 1.3804 | Val Loss: 0.0000\n",
            "Epoch 17/50\n",
            "Train Loss: 1.3834 | Val Loss: 0.0000\n",
            "Epoch 18/50\n",
            "Train Loss: 1.3821 | Val Loss: 0.0000\n",
            "Epoch 19/50\n",
            "Train Loss: 1.3925 | Val Loss: 0.0000\n",
            "Epoch 20/50\n",
            "Train Loss: 1.3913 | Val Loss: 0.0000\n",
            "Epoch 21/50\n",
            "Train Loss: 1.3799 | Val Loss: 0.0000\n",
            "Epoch 22/50\n",
            "Train Loss: 1.3837 | Val Loss: 0.0000\n",
            "Epoch 23/50\n",
            "Train Loss: 1.3810 | Val Loss: 0.0000\n",
            "Epoch 24/50\n",
            "Train Loss: 1.3799 | Val Loss: 0.0000\n",
            "Epoch 25/50\n",
            "Train Loss: 1.3903 | Val Loss: 0.0000\n",
            "Epoch 26/50\n",
            "Train Loss: 1.3913 | Val Loss: 0.0000\n",
            "Epoch 27/50\n",
            "Train Loss: 1.3792 | Val Loss: 0.0000\n",
            "Epoch 28/50\n",
            "Train Loss: 1.3834 | Val Loss: 0.0000\n",
            "Epoch 29/50\n",
            "Train Loss: 1.3821 | Val Loss: 0.0000\n",
            "Epoch 30/50\n",
            "Train Loss: 1.3823 | Val Loss: 0.0000\n",
            "Epoch 31/50\n",
            "Train Loss: 1.3829 | Val Loss: 0.0000\n",
            "Epoch 32/50\n",
            "Train Loss: 1.3865 | Val Loss: 0.0000\n",
            "Epoch 33/50\n",
            "Train Loss: 1.3861 | Val Loss: 0.0000\n",
            "Epoch 34/50\n",
            "Train Loss: 1.3860 | Val Loss: 0.0000\n",
            "Epoch 35/50\n",
            "Train Loss: 1.3826 | Val Loss: 0.0000\n",
            "Epoch 36/50\n",
            "Train Loss: 1.3732 | Val Loss: 0.0000\n",
            "Epoch 37/50\n",
            "Train Loss: 1.3818 | Val Loss: 0.0000\n",
            "Epoch 38/50\n",
            "Train Loss: 1.3833 | Val Loss: 0.0000\n",
            "Epoch 39/50\n",
            "Train Loss: 1.3840 | Val Loss: 0.0000\n",
            "Epoch 40/50\n",
            "Train Loss: 1.3782 | Val Loss: 0.0000\n",
            "Epoch 41/50\n",
            "Train Loss: 1.3851 | Val Loss: 0.0000\n",
            "Epoch 42/50\n",
            "Train Loss: 1.3788 | Val Loss: 0.0000\n",
            "Epoch 43/50\n",
            "Train Loss: 1.3872 | Val Loss: 0.0000\n",
            "Epoch 44/50\n",
            "Train Loss: 1.3830 | Val Loss: 0.0000\n",
            "Epoch 45/50\n",
            "Train Loss: 1.3803 | Val Loss: 0.0000\n",
            "Epoch 46/50\n",
            "Train Loss: 1.3761 | Val Loss: 0.0000\n",
            "Epoch 47/50\n",
            "Train Loss: 1.3801 | Val Loss: 0.0000\n",
            "Epoch 48/50\n",
            "Train Loss: 1.3894 | Val Loss: 0.0000\n",
            "Epoch 49/50\n",
            "Train Loss: 1.3758 | Val Loss: 0.0000\n",
            "Epoch 50/50\n",
            "Train Loss: 1.3831 | Val Loss: 0.0000\n"
          ]
        }
      ]
    },
    {
      "cell_type": "markdown",
      "source": [
        "2.5 Use Learned Representations\n"
      ],
      "metadata": {
        "id": "btdTcxyuvgth"
      }
    },
    {
      "cell_type": "code",
      "source": [
        "# Extract learned representations\n",
        "encoder.eval()\n",
        "with torch.no_grad():\n",
        "    z_train = encoder(torch.FloatTensor(X_train))\n",
        "    z_val = encoder(torch.FloatTensor(X_val))\n",
        "    z_test = encoder(torch.FloatTensor(X_test))"
      ],
      "metadata": {
        "id": "LULIDi4MufqY"
      },
      "execution_count": 84,
      "outputs": []
    },
    {
      "cell_type": "markdown",
      "source": [
        "## 3.0 Sparse Knowledge **Distillation**\n",
        "\n",
        "Teacher Model: A large, complex model trained on the dataset (from Step 2).\n",
        "\n",
        "Student Model: A smaller, sparse model that learns from the teacher’s predictions.\n",
        "\n",
        "Knowledge Distillation: The process of transferring knowledge from the teacher to the student.\n",
        "\n",
        "Sparsity: Encouraging the student model to have many zero weights, making it more efficient."
      ],
      "metadata": {
        "id": "r3_4SgIVcKkV"
      }
    },
    {
      "cell_type": "markdown",
      "source": [
        "3.1 Define the Student Model\n",
        "\n",
        "The student model will be a smaller version of the teacher model. We’ll also add sparsity constraints using L1 regularization."
      ],
      "metadata": {
        "id": "PGfm6YI6cOrx"
      }
    },
    {
      "cell_type": "code",
      "source": [
        "class StudentModel(nn.Module):\n",
        "    def __init__(self, input_dim, hidden_dim=64, output_dim=1):\n",
        "        super(StudentModel, self).__init__()\n",
        "        self.layers = nn.Sequential(\n",
        "            nn.Linear(input_dim, hidden_dim),\n",
        "            nn.ReLU(),\n",
        "            nn.Linear(hidden_dim, output_dim),\n",
        "            nn.Sigmoid()\n",
        "        )\n",
        "\n",
        "    def forward(self, x):\n",
        "        return self.layers(x)\n",
        "\n",
        "# Initialize student model\n",
        "input_dim = X_train.shape[1]\n",
        "student = StudentModel(input_dim).float()"
      ],
      "metadata": {
        "id": "YN_mGPTTcnQj"
      },
      "execution_count": 85,
      "outputs": []
    },
    {
      "cell_type": "markdown",
      "source": [
        "3.2Define the Distillation Loss\n",
        "\n",
        "The distillation loss consists of two parts:\n",
        "\n",
        "Cross-Entropy Loss: Measures the difference between the student’s predictions and the true labels.\n",
        "\n",
        "L1 Regularization: Encourages sparsity in the student model."
      ],
      "metadata": {
        "id": "7CsPoVkdc_cn"
      }
    },
    {
      "cell_type": "code",
      "source": [
        "def distillation_loss(student_outputs, teacher_outputs, labels, alpha=0.5, lambda_l1=0.01):\n",
        "    # Cross-entropy loss (student vs true labels)\n",
        "    ce_loss = F.binary_cross_entropy(student_outputs, labels)\n",
        "\n",
        "    # L1 regularization (encourage sparsity)\n",
        "    l1_loss = 0.0\n",
        "    for param in student.parameters():\n",
        "        l1_loss += torch.norm(param, p=1)\n",
        "\n",
        "    # Combine losses\n",
        "    loss = alpha * ce_loss + (1 - alpha) * F.binary_cross_entropy(student_outputs, teacher_outputs) + lambda_l1 * l1_loss\n",
        "    return loss"
      ],
      "metadata": {
        "id": "VR9hPUfFdpue"
      },
      "execution_count": 86,
      "outputs": []
    },
    {
      "cell_type": "markdown",
      "source": [
        " 3.3 Training Loop for Knowledge Distillation"
      ],
      "metadata": {
        "id": "2-vYFUtEdeuR"
      }
    },
    {
      "cell_type": "code",
      "source": [
        "# Load the best teacher model\n",
        "teacher.load_state_dict(torch.load(\"best_teacher.pth\"))\n",
        "teacher.eval()\n",
        "\n",
        "# Loss and optimizer for student\n",
        "optimizer_student = optim.Adam(student.parameters(), lr=0.001)\n",
        "\n",
        "# Training loop\n",
        "num_epochs = 50\n",
        "for epoch in range(num_epochs):\n",
        "    student.train()\n",
        "    train_loss = 0.0\n",
        "    for inputs, labels in train_loader:\n",
        "        optimizer_student.zero_grad()\n",
        "\n",
        "        # Forward pass (student)\n",
        "        student_outputs = student(inputs).squeeze()\n",
        "\n",
        "        # Forward pass (teacher)\n",
        "        with torch.no_grad():\n",
        "            teacher_outputs = teacher(inputs).squeeze()\n",
        "\n",
        "        # Compute distillation loss\n",
        "        loss = distillation_loss(student_outputs, teacher_outputs, labels)\n",
        "\n",
        "        # Backward pass\n",
        "        loss.backward()\n",
        "        optimizer_student.step()\n",
        "\n",
        "        train_loss += loss.item() * inputs.size(0)\n",
        "\n",
        "    # Validation\n",
        "    student.eval()\n",
        "    val_loss = 0.0\n",
        "    val_preds, val_true = [], []\n",
        "    with torch.no_grad():\n",
        "        for inputs, labels in val_loader:\n",
        "            student_outputs = student(inputs).squeeze()\n",
        "            teacher_outputs = teacher(inputs).squeeze()\n",
        "            loss = distillation_loss(student_outputs, teacher_outputs, labels)\n",
        "            val_loss += loss.item() * inputs.size(0)\n",
        "            val_preds.extend(student_outputs.numpy())\n",
        "            val_true.extend(labels.numpy())\n",
        "\n",
        "    # Calculate average losses\n",
        "    train_loss = train_loss / len(train_loader.dataset)\n",
        "    val_loss = val_loss / len(val_loader.dataset)\n",
        "\n",
        "    # Calculate metrics\n",
        "    val_preds_binary = (np.array(val_preds) > 0.5).astype(int)\n",
        "    val_accuracy = accuracy_score(val_true, val_preds_binary)\n",
        "    val_f1 = f1_score(val_true, val_preds_binary)\n",
        "\n",
        "    print(f\"Epoch {epoch+1}/{num_epochs}\")\n",
        "    print(f\"Train Loss: {train_loss:.4f} | Val Loss: {val_loss:.4f}\")\n",
        "    print(f\"Val Accuracy: {val_accuracy:.4f} | Val F1-Score: {val_f1:.4f}\")"
      ],
      "metadata": {
        "collapsed": true,
        "id": "9JysA8d0d1Bq",
        "outputId": "aa243aa1-5ead-45a4-9d2e-f142f4f95bbf",
        "colab": {
          "base_uri": "https://localhost:8080/"
        }
      },
      "execution_count": 87,
      "outputs": [
        {
          "output_type": "stream",
          "name": "stdout",
          "text": [
            "Epoch 1/50\n",
            "Train Loss: 3.2773 | Val Loss: 3.1941\n",
            "Val Accuracy: 0.2778 | Val F1-Score: 0.3810\n",
            "Epoch 2/50\n",
            "Train Loss: 3.1531 | Val Loss: 3.0739\n",
            "Val Accuracy: 0.2778 | Val F1-Score: 0.3158\n",
            "Epoch 3/50\n",
            "Train Loss: 3.0363 | Val Loss: 2.9587\n",
            "Val Accuracy: 0.3333 | Val F1-Score: 0.3333\n",
            "Epoch 4/50\n",
            "Train Loss: 2.9225 | Val Loss: 2.8471\n",
            "Val Accuracy: 0.3889 | Val F1-Score: 0.3529\n",
            "Epoch 5/50\n",
            "Train Loss: 2.8139 | Val Loss: 2.7396\n",
            "Val Accuracy: 0.5000 | Val F1-Score: 0.4000\n",
            "Epoch 6/50\n",
            "Train Loss: 2.7094 | Val Loss: 2.6358\n",
            "Val Accuracy: 0.5556 | Val F1-Score: 0.4286\n",
            "Epoch 7/50\n",
            "Train Loss: 2.6065 | Val Loss: 2.5352\n",
            "Val Accuracy: 0.6111 | Val F1-Score: 0.4615\n",
            "Epoch 8/50\n",
            "Train Loss: 2.5081 | Val Loss: 2.4379\n",
            "Val Accuracy: 0.5000 | Val F1-Score: 0.1818\n",
            "Epoch 9/50\n",
            "Train Loss: 2.4125 | Val Loss: 2.3440\n",
            "Val Accuracy: 0.5000 | Val F1-Score: 0.1818\n",
            "Epoch 10/50\n",
            "Train Loss: 2.3195 | Val Loss: 2.2536\n",
            "Val Accuracy: 0.5556 | Val F1-Score: 0.2000\n",
            "Epoch 11/50\n",
            "Train Loss: 2.2302 | Val Loss: 2.1662\n",
            "Val Accuracy: 0.5556 | Val F1-Score: 0.2000\n",
            "Epoch 12/50\n",
            "Train Loss: 2.1436 | Val Loss: 2.0816\n",
            "Val Accuracy: 0.6111 | Val F1-Score: 0.2222\n",
            "Epoch 13/50\n",
            "Train Loss: 2.0598 | Val Loss: 1.9998\n",
            "Val Accuracy: 0.6111 | Val F1-Score: 0.2222\n"
          ]
        },
        {
          "output_type": "stream",
          "name": "stderr",
          "text": [
            "<ipython-input-87-e65f4e703bbd>:2: FutureWarning: You are using `torch.load` with `weights_only=False` (the current default value), which uses the default pickle module implicitly. It is possible to construct malicious pickle data which will execute arbitrary code during unpickling (See https://github.com/pytorch/pytorch/blob/main/SECURITY.md#untrusted-models for more details). In a future release, the default value for `weights_only` will be flipped to `True`. This limits the functions that could be executed during unpickling. Arbitrary objects will no longer be allowed to be loaded via this mode unless they are explicitly allowlisted by the user via `torch.serialization.add_safe_globals`. We recommend you start setting `weights_only=True` for any use case where you don't have full control of the loaded file. Please open an issue on GitHub for any issues related to this experimental feature.\n",
            "  teacher.load_state_dict(torch.load(\"best_teacher.pth\"))\n"
          ]
        },
        {
          "output_type": "stream",
          "name": "stdout",
          "text": [
            "Epoch 14/50\n",
            "Train Loss: 1.9789 | Val Loss: 1.9211\n",
            "Val Accuracy: 0.6667 | Val F1-Score: 0.2500\n",
            "Epoch 15/50\n",
            "Train Loss: 1.9012 | Val Loss: 1.8450\n",
            "Val Accuracy: 0.6667 | Val F1-Score: 0.2500\n",
            "Epoch 16/50\n",
            "Train Loss: 1.8255 | Val Loss: 1.7715\n",
            "Val Accuracy: 0.6111 | Val F1-Score: 0.0000\n",
            "Epoch 17/50\n",
            "Train Loss: 1.7528 | Val Loss: 1.7007\n",
            "Val Accuracy: 0.6667 | Val F1-Score: 0.0000\n",
            "Epoch 18/50\n",
            "Train Loss: 1.6827 | Val Loss: 1.6317\n",
            "Val Accuracy: 0.6667 | Val F1-Score: 0.0000\n",
            "Epoch 19/50\n",
            "Train Loss: 1.6143 | Val Loss: 1.5659\n",
            "Val Accuracy: 0.6667 | Val F1-Score: 0.0000\n",
            "Epoch 20/50\n",
            "Train Loss: 1.5489 | Val Loss: 1.5025\n",
            "Val Accuracy: 0.6667 | Val F1-Score: 0.0000\n",
            "Epoch 21/50\n",
            "Train Loss: 1.4863 | Val Loss: 1.4421\n",
            "Val Accuracy: 0.6667 | Val F1-Score: 0.0000\n",
            "Epoch 22/50\n",
            "Train Loss: 1.4264 | Val Loss: 1.3848\n",
            "Val Accuracy: 0.6667 | Val F1-Score: 0.0000\n",
            "Epoch 23/50\n",
            "Train Loss: 1.3697 | Val Loss: 1.3297\n",
            "Val Accuracy: 0.6667 | Val F1-Score: 0.0000\n",
            "Epoch 24/50\n",
            "Train Loss: 1.3146 | Val Loss: 1.2767\n",
            "Val Accuracy: 0.6667 | Val F1-Score: 0.0000\n",
            "Epoch 25/50\n",
            "Train Loss: 1.2625 | Val Loss: 1.2258\n",
            "Val Accuracy: 0.6667 | Val F1-Score: 0.0000\n",
            "Epoch 26/50\n",
            "Train Loss: 1.2125 | Val Loss: 1.1775\n",
            "Val Accuracy: 0.6667 | Val F1-Score: 0.0000\n",
            "Epoch 27/50\n",
            "Train Loss: 1.1652 | Val Loss: 1.1324\n",
            "Val Accuracy: 0.6667 | Val F1-Score: 0.0000\n",
            "Epoch 28/50\n",
            "Train Loss: 1.1209 | Val Loss: 1.0899\n",
            "Val Accuracy: 0.6667 | Val F1-Score: 0.0000\n",
            "Epoch 29/50\n",
            "Train Loss: 1.0792 | Val Loss: 1.0497\n",
            "Val Accuracy: 0.6667 | Val F1-Score: 0.0000\n",
            "Epoch 30/50\n",
            "Train Loss: 1.0395 | Val Loss: 1.0117\n",
            "Val Accuracy: 0.6667 | Val F1-Score: 0.0000\n",
            "Epoch 31/50\n",
            "Train Loss: 1.0023 | Val Loss: 0.9754\n",
            "Val Accuracy: 0.6667 | Val F1-Score: 0.0000\n",
            "Epoch 32/50\n",
            "Train Loss: 0.9669 | Val Loss: 0.9417\n",
            "Val Accuracy: 0.6667 | Val F1-Score: 0.0000\n",
            "Epoch 33/50\n",
            "Train Loss: 0.9346 | Val Loss: 0.9100\n",
            "Val Accuracy: 0.6667 | Val F1-Score: 0.0000\n",
            "Epoch 34/50\n",
            "Train Loss: 0.9044 | Val Loss: 0.8806\n",
            "Val Accuracy: 0.6667 | Val F1-Score: 0.0000\n",
            "Epoch 35/50\n",
            "Train Loss: 0.8760 | Val Loss: 0.8529\n",
            "Val Accuracy: 0.6667 | Val F1-Score: 0.0000\n",
            "Epoch 36/50\n",
            "Train Loss: 0.8495 | Val Loss: 0.8277\n",
            "Val Accuracy: 0.6667 | Val F1-Score: 0.0000\n",
            "Epoch 37/50\n",
            "Train Loss: 0.8253 | Val Loss: 0.8048\n",
            "Val Accuracy: 0.6667 | Val F1-Score: 0.0000\n",
            "Epoch 38/50\n",
            "Train Loss: 0.8033 | Val Loss: 0.7838\n",
            "Val Accuracy: 0.6667 | Val F1-Score: 0.0000\n",
            "Epoch 39/50\n",
            "Train Loss: 0.7832 | Val Loss: 0.7653\n",
            "Val Accuracy: 0.6667 | Val F1-Score: 0.0000\n",
            "Epoch 40/50\n",
            "Train Loss: 0.7657 | Val Loss: 0.7493\n",
            "Val Accuracy: 0.6667 | Val F1-Score: 0.0000\n",
            "Epoch 41/50\n",
            "Train Loss: 0.7503 | Val Loss: 0.7353\n",
            "Val Accuracy: 0.6667 | Val F1-Score: 0.0000\n",
            "Epoch 42/50\n",
            "Train Loss: 0.7372 | Val Loss: 0.7237\n",
            "Val Accuracy: 0.6667 | Val F1-Score: 0.0000\n",
            "Epoch 43/50\n",
            "Train Loss: 0.7258 | Val Loss: 0.7134\n",
            "Val Accuracy: 0.6667 | Val F1-Score: 0.0000\n",
            "Epoch 44/50\n",
            "Train Loss: 0.7160 | Val Loss: 0.7053\n",
            "Val Accuracy: 0.6667 | Val F1-Score: 0.0000\n",
            "Epoch 45/50\n",
            "Train Loss: 0.7086 | Val Loss: 0.6998\n",
            "Val Accuracy: 0.6667 | Val F1-Score: 0.0000\n",
            "Epoch 46/50\n",
            "Train Loss: 0.7029 | Val Loss: 0.6953\n",
            "Val Accuracy: 0.6667 | Val F1-Score: 0.0000\n",
            "Epoch 47/50\n",
            "Train Loss: 0.6983 | Val Loss: 0.6910\n",
            "Val Accuracy: 0.6667 | Val F1-Score: 0.0000\n",
            "Epoch 48/50\n",
            "Train Loss: 0.6938 | Val Loss: 0.6870\n",
            "Val Accuracy: 0.6667 | Val F1-Score: 0.0000\n",
            "Epoch 49/50\n",
            "Train Loss: 0.6895 | Val Loss: 0.6839\n",
            "Val Accuracy: 0.6667 | Val F1-Score: 0.0000\n",
            "Epoch 50/50\n",
            "Train Loss: 0.6860 | Val Loss: 0.6811\n",
            "Val Accuracy: 0.6667 | Val F1-Score: 0.0000\n"
          ]
        }
      ]
    },
    {
      "cell_type": "markdown",
      "source": [
        "3.4 Evaluate the Student Model"
      ],
      "metadata": {
        "id": "KgVl4TMTd-Cq"
      }
    },
    {
      "cell_type": "code",
      "source": [
        "# Test evaluation\n",
        "student.eval()\n",
        "test_preds, test_true = [], []\n",
        "with torch.no_grad():\n",
        "    for inputs, labels in test_loader:\n",
        "        outputs = student(inputs).squeeze()\n",
        "        test_preds.extend(outputs.numpy())\n",
        "        test_true.extend(labels.numpy())\n",
        "\n",
        "# Convert predictions to binary (0 or 1)\n",
        "test_preds_binary = (np.array(test_preds) > 0.5).astype(int)\n",
        "\n",
        "# Calculate metrics\n",
        "test_accuracy = accuracy_score(test_true, test_preds_binary)\n",
        "test_f1 = f1_score(test_true, test_preds_binary)\n",
        "test_precision = precision_score(test_true, test_preds_binary)\n",
        "test_recall = recall_score(test_true, test_preds_binary)\n",
        "\n",
        "print(\"Test Metrics:\")\n",
        "print(f\"Test Accuracy: {test_accuracy:.4f} | Test F1-Score: {test_f1:.4f}\")\n",
        "print(f\"Test Precision: {test_precision:.4f} | Test Recall: {test_recall:.4f}\")"
      ],
      "metadata": {
        "id": "cHzz7ZZYeOuq",
        "outputId": "17c52a43-e538-477b-b2a3-cabf2f71bcc3",
        "colab": {
          "base_uri": "https://localhost:8080/"
        }
      },
      "execution_count": 88,
      "outputs": [
        {
          "output_type": "stream",
          "name": "stdout",
          "text": [
            "Test Metrics:\n",
            "Test Accuracy: 0.6667 | Test F1-Score: 0.0000\n",
            "Test Precision: 0.0000 | Test Recall: 0.0000\n"
          ]
        },
        {
          "output_type": "stream",
          "name": "stderr",
          "text": [
            "/usr/local/lib/python3.11/dist-packages/sklearn/metrics/_classification.py:1565: UndefinedMetricWarning: Precision is ill-defined and being set to 0.0 due to no predicted samples. Use `zero_division` parameter to control this behavior.\n",
            "  _warn_prf(average, modifier, f\"{metric.capitalize()} is\", len(result))\n"
          ]
        }
      ]
    },
    {
      "cell_type": "markdown",
      "source": [
        "3.5 Sparsity Analysis\n",
        "To analyze the sparsity of the student model, calculate the percentage of zero weights in its parameters."
      ],
      "metadata": {
        "id": "DaFgB70UeU1N"
      }
    },
    {
      "cell_type": "code",
      "source": [
        "def calculate_sparsity(model):\n",
        "    total_params = 0\n",
        "    zero_params = 0\n",
        "    for param in model.parameters():\n",
        "        total_params += param.numel()\n",
        "        zero_params += (param == 0).sum().item()\n",
        "    sparsity = zero_params / total_params\n",
        "    return sparsity\n",
        "\n",
        "# Calculate sparsity\n",
        "sparsity = calculate_sparsity(student)\n",
        "print(f\"Sparsity of Student Model: {sparsity:.4f}\")"
      ],
      "metadata": {
        "id": "IBszZUGpebrS",
        "outputId": "2072aef2-936b-4094-aa2c-0c7a63b4d7f9",
        "colab": {
          "base_uri": "https://localhost:8080/"
        }
      },
      "execution_count": 89,
      "outputs": [
        {
          "output_type": "stream",
          "name": "stdout",
          "text": [
            "Sparsity of Student Model: 0.0000\n"
          ]
        }
      ]
    },
    {
      "cell_type": "markdown",
      "source": [
        "## **4.0 Neuroevolution**"
      ],
      "metadata": {
        "id": "AndCk31zgiPF"
      }
    },
    {
      "cell_type": "markdown",
      "source": [
        "4.1 Define the Fitness Function"
      ],
      "metadata": {
        "id": "h4746eEdgpfY"
      }
    },
    {
      "cell_type": "code",
      "source": [
        "def fitness_function(model, data_loader):\n",
        "    model.eval()\n",
        "    correct = 0\n",
        "    total = 0\n",
        "    with torch.no_grad():\n",
        "        for inputs, labels in data_loader:\n",
        "            outputs = model(inputs).squeeze()\n",
        "            preds = (outputs > 0.5).float()\n",
        "            correct += (preds == labels).sum().item()\n",
        "            total += labels.size(0)\n",
        "    accuracy = correct / total\n",
        "\n",
        "    # Calculate sparsity\n",
        "    sparsity = calculate_sparsity(model)\n",
        "\n",
        "    # Combine accuracy and sparsity into a single fitness score\n",
        "    fitness = accuracy + sparsity\n",
        "    return fitness"
      ],
      "metadata": {
        "id": "dIg4uy-phw9F"
      },
      "execution_count": 90,
      "outputs": []
    },
    {
      "cell_type": "markdown",
      "source": [
        "4.2 Define the Evolutionary Algorithm\n",
        "\n",
        "We’ll use a simple genetic algorithm to evolve the student model. The algorithm consists of the following steps:\n",
        "\n",
        "Initialize Population: Create a population of candidate models with random architectures.\n",
        "\n",
        "Evaluate Fitness: Evaluate the fitness of each candidate model.\n",
        "\n",
        "Selection: Select the best-performing models to create the next generation.\n",
        "\n",
        "Mutation and Crossover: Generate new candidate models by mutating and crossing over the selected models.\n",
        "\n",
        "Repeat: Repeat the process for a fixed number of generations."
      ],
      "metadata": {
        "id": "n5oMChBfhwZ9"
      }
    },
    {
      "cell_type": "code",
      "source": [
        "import random\n",
        "\n",
        "# Define mutation and crossover functions\n",
        "def mutate(model):\n",
        "    for param in model.parameters():\n",
        "        if random.random() < 0.1:  # Mutation probability\n",
        "            param.data += torch.randn_like(param.data) * 0.1  # Add random noise\n",
        "    return model\n",
        "\n",
        "def crossover(model1, model2):\n",
        "    child = StudentModel(input_dim).float()\n",
        "    for param1, param2, param_child in zip(model1.parameters(), model2.parameters(), child.parameters()):\n",
        "        if random.random() < 0.5:  # Crossover probability\n",
        "            param_child.data = param1.data\n",
        "        else:\n",
        "            param_child.data = param2.data\n",
        "    return child\n",
        "\n",
        "# Initialize population\n",
        "population_size = 10\n",
        "population = [StudentModel(input_dim).float() for _ in range(population_size)]\n",
        "\n",
        "# Evolutionary algorithm\n",
        "num_generations = 20\n",
        "for generation in range(num_generations):\n",
        "    print(f\"Generation {generation+1}/{num_generations}\")\n",
        "\n",
        "    # Evaluate fitness of each individual\n",
        "    fitness_scores = []\n",
        "    for model in population:\n",
        "        fitness = fitness_function(model, val_loader)\n",
        "        fitness_scores.append(fitness)\n",
        "\n",
        "    # Sort population based on fitness scores\n",
        "    sorted_indices = sorted(range(len(fitness_scores)), key=lambda i: fitness_scores[i], reverse=True)\n",
        "    sorted_population = [population[i] for i in sorted_indices]\n",
        "\n",
        "    # Select top-performing individuals\n",
        "    top_models = sorted_population[:5]  # Select top 5 models\n",
        "\n",
        "    # Create next generation\n",
        "    next_generation = top_models.copy()  # Keep top models\n",
        "    while len(next_generation) < population_size:\n",
        "        parent1, parent2 = random.sample(top_models, 2)  # Select two parents\n",
        "        child = crossover(parent1, parent2)  # Create child\n",
        "        child = mutate(child)  # Mutate child\n",
        "        next_generation.append(child)\n",
        "\n",
        "    # Update population\n",
        "    population = next_generation\n",
        "\n",
        "# Select the best model from the final population\n",
        "best_model = max(population, key=lambda model: fitness_function(model, val_loader))"
      ],
      "metadata": {
        "id": "DPUVFfVfiC8E",
        "outputId": "a23bf034-12d8-4bed-da82-ac7ea3dfc44c",
        "colab": {
          "base_uri": "https://localhost:8080/"
        }
      },
      "execution_count": 91,
      "outputs": [
        {
          "output_type": "stream",
          "name": "stdout",
          "text": [
            "Generation 1/20\n",
            "Generation 2/20\n",
            "Generation 3/20\n",
            "Generation 4/20\n",
            "Generation 5/20\n",
            "Generation 6/20\n",
            "Generation 7/20\n",
            "Generation 8/20\n",
            "Generation 9/20\n",
            "Generation 10/20\n",
            "Generation 11/20\n",
            "Generation 12/20\n",
            "Generation 13/20\n",
            "Generation 14/20\n",
            "Generation 15/20\n",
            "Generation 16/20\n",
            "Generation 17/20\n",
            "Generation 18/20\n",
            "Generation 19/20\n",
            "Generation 20/20\n"
          ]
        }
      ]
    },
    {
      "cell_type": "markdown",
      "source": [
        "4.3 Evaluate the Best Model"
      ],
      "metadata": {
        "id": "WHbm9pYvoFUi"
      }
    },
    {
      "cell_type": "code",
      "source": [
        "# Test evaluation\n",
        "best_model.eval()\n",
        "test_preds, test_true = [], []\n",
        "with torch.no_grad():\n",
        "    for inputs, labels in test_loader:\n",
        "        outputs = best_model(inputs).squeeze()\n",
        "        test_preds.extend(outputs.numpy())\n",
        "        test_true.extend(labels.numpy())\n",
        "\n",
        "# Convert predictions to binary (0 or 1)\n",
        "test_preds_binary = (np.array(test_preds) > 0.5).astype(int)\n",
        "\n",
        "# Calculate metrics\n",
        "test_accuracy = accuracy_score(test_true, test_preds_binary)\n",
        "test_f1 = f1_score(test_true, test_preds_binary)\n",
        "test_precision = precision_score(test_true, test_preds_binary)\n",
        "test_recall = recall_score(test_true, test_preds_binary)\n",
        "\n",
        "print(\"Test Metrics for Best Model:\")\n",
        "print(f\"Test Accuracy: {test_accuracy:.4f} | Test F1-Score: {test_f1:.4f}\")\n",
        "print(f\"Test Precision: {test_precision:.4f} | Test Recall: {test_recall:.4f}\")\n",
        "\n",
        "# Calculate sparsity\n",
        "sparsity = calculate_sparsity(best_model)\n",
        "print(f\"Sparsity of Best Model: {sparsity:.4f}\")"
      ],
      "metadata": {
        "id": "Kq90ySSRoI2U",
        "outputId": "22e9b348-dd5b-4f65-c9d1-dc7f981dfbf8",
        "colab": {
          "base_uri": "https://localhost:8080/"
        }
      },
      "execution_count": 92,
      "outputs": [
        {
          "output_type": "stream",
          "name": "stdout",
          "text": [
            "Test Metrics for Best Model:\n",
            "Test Accuracy: 0.3889 | Test F1-Score: 0.1538\n",
            "Test Precision: 0.1429 | Test Recall: 0.1667\n",
            "Sparsity of Best Model: 0.0000\n"
          ]
        }
      ]
    },
    {
      "cell_type": "markdown",
      "source": [
        "## 5.0 Evaluation\n",
        "\n",
        "Evaluate the final sparse student model on the test set using metrics such as:\n",
        "\n",
        "Accuracy\n",
        "\n",
        "Precision, Recall, F1-score\n",
        "\n",
        "ROC-AUC"
      ],
      "metadata": {
        "id": "778Qs50Wovc2"
      }
    },
    {
      "cell_type": "markdown",
      "source": [
        "5.1 Evaluate best model"
      ],
      "metadata": {
        "id": "TVgHk0kVo3GP"
      }
    },
    {
      "cell_type": "code",
      "source": [
        "import numpy as np\n",
        "from sklearn.metrics import accuracy_score, f1_score, precision_score, recall_score, confusion_matrix, roc_curve, auc\n",
        "import seaborn as sns\n",
        "import matplotlib.pyplot as plt\n",
        "\n",
        "# Test evaluation\n",
        "best_model.eval()\n",
        "test_preds, test_true = [], []\n",
        "with torch.no_grad():\n",
        "    for inputs, labels in test_loader:\n",
        "        outputs = best_model(inputs).squeeze()\n",
        "        test_preds.extend(outputs.numpy())\n",
        "        test_true.extend(labels.numpy())\n",
        "\n",
        "# Convert predictions to binary (0 or 1)\n",
        "test_preds_binary = (np.array(test_preds) > 0.5).astype(int)\n",
        "\n",
        "# Calculate metrics\n",
        "test_accuracy = accuracy_score(test_true, test_preds_binary)\n",
        "test_f1 = f1_score(test_true, test_preds_binary)\n",
        "test_precision = precision_score(test_true, test_preds_binary)\n",
        "test_recall = recall_score(test_true, test_preds_binary)\n",
        "\n",
        "print(\"Test Metrics for Best Model:\")\n",
        "print(f\"Test Accuracy: {test_accuracy:.4f} | Test F1-Score: {test_f1:.4f}\")\n",
        "print(f\"Test Precision: {test_precision:.4f} | Test Recall: {test_recall:.4f}\")\n",
        "\n",
        "# Calculate sparsity\n",
        "def calculate_sparsity(model):\n",
        "    total_params = 0\n",
        "    zero_params = 0\n",
        "    for param in model.parameters():\n",
        "        total_params += param.numel()\n",
        "        zero_params += (param == 0).sum().item()\n",
        "    sparsity = zero_params / total_params\n",
        "    return sparsity\n",
        "\n",
        "sparsity = calculate_sparsity(best_model)\n",
        "print(f\"Sparsity of Best Model: {sparsity:.4f}\")\n",
        "\n",
        "# Generate confusion matrix\n",
        "cm = confusion_matrix(test_true, test_preds_binary)\n",
        "sns.heatmap(cm, annot=True, fmt=\"d\", cmap=\"Blues\", xticklabels=[\"Non-Adherent\", \"Adherent\"], yticklabels=[\"Non-Adherent\", \"Adherent\"])\n",
        "plt.xlabel(\"Predicted\")\n",
        "plt.ylabel(\"True\")\n",
        "plt.title(\"Confusion Matrix\")\n",
        "plt.show()\n",
        "\n",
        "# Compute ROC curve\n",
        "fpr, tpr, thresholds = roc_curve(test_true, test_preds)\n",
        "roc_auc = auc(fpr, tpr)\n",
        "\n",
        "# Plot ROC curve\n",
        "plt.figure()\n",
        "plt.plot(fpr, tpr, color=\"darkorange\", lw=2, label=f\"ROC curve (area = {roc_auc:.2f})\")\n",
        "plt.plot([0, 1], [0, 1], color=\"navy\", lw=2, linestyle=\"--\")\n",
        "plt.xlabel(\"False Positive Rate\")\n",
        "plt.ylabel(\"True Positive Rate\")\n",
        "plt.title(\"Receiver Operating Characteristic (ROC) Curve\")\n",
        "plt.legend(loc=\"lower right\")\n",
        "plt.show()"
      ],
      "metadata": {
        "id": "f7uWLUXwqsFJ",
        "outputId": "0ed225d2-6309-44b6-9a8c-cf62ea488673",
        "colab": {
          "base_uri": "https://localhost:8080/",
          "height": 996
        }
      },
      "execution_count": 93,
      "outputs": [
        {
          "output_type": "stream",
          "name": "stdout",
          "text": [
            "Test Metrics for Best Model:\n",
            "Test Accuracy: 0.3889 | Test F1-Score: 0.1538\n",
            "Test Precision: 0.1429 | Test Recall: 0.1667\n",
            "Sparsity of Best Model: 0.0000\n"
          ]
        },
        {
          "output_type": "display_data",
          "data": {
            "text/plain": [
              "<Figure size 640x480 with 2 Axes>"
            ],
            "image/png": "[encoded data removed]"
          },
          "metadata": {}
        },
        {
          "output_type": "display_data",
          "data": {
            "text/plain": [
              "<Figure size 640x480 with 1 Axes>"
            ],
            "image/png": "[encoded data removed]"
          },
          "metadata": {}
        }
      ]
    },
    {
      "cell_type": "markdown",
      "source": [
        "# MODEL 2: XGBOOST"
      ],
      "metadata": {
        "id": "8036nwn-4eT4"
      }
    },
    {
      "cell_type": "markdown",
      "source": [
        "## Implementation\n"
      ],
      "metadata": {
        "id": "xWBe69b2JTSi"
      }
    },
    {
      "cell_type": "markdown",
      "source": [
        "Data Processing & SMOTE Application"
      ],
      "metadata": {
        "id": "OMwhCSwLJY26"
      }
    },
    {
      "cell_type": "code",
      "source": [
        "import pandas as pd\n",
        "import numpy as np\n",
        "from sklearn.model_selection import train_test_split\n",
        "from sklearn.preprocessing import StandardScaler, LabelEncoder\n",
        "from imblearn.over_sampling import SMOTE\n",
        "from torch.utils.data import DataLoader, TensorDataset\n",
        "\n",
        "# Load data\n",
        "df = pd.read_csv(\"cleaned_mental_health_data.csv\")\n",
        "\n",
        "# Define adherence labels based on questionnaire responses\n",
        "non_adherence_columns = [\n",
        "    \"Do you ever forget to take your medication?\",\n",
        "    \"Are you careless at times about taking your medication?\",\n",
        "    \"When you feel better, do you sometimes stop taking your medication?\",\n",
        "    \"Sometimes if you feel worse when you take the medication, do you stop taking it?\",\n",
        "    \"I take my medication only when I am sick\"\n",
        "]\n",
        "df[\"adherence\"] = np.where(df[non_adherence_columns].eq(\"Yes\").any(axis=1), 0, 1)\n",
        "\n",
        "# Drop redundant columns\n",
        "df = df.drop(columns=non_adherence_columns + [\"If you have any further comments about medication or this questionnaire, please write them below\"])\n",
        "\n",
        "# Encode categorical features\n",
        "categorical_cols = df.select_dtypes(include=['object', 'category']).columns\n",
        "for col in categorical_cols:\n",
        "    le = LabelEncoder()\n",
        "    df[col] = le.fit_transform(df[col].astype(str))\n",
        "\n",
        "# Split features and labels\n",
        "X = df.drop(columns=\"adherence\").values\n",
        "y = df[\"adherence\"].values\n",
        "\n",
        "# Split into train, validation, and test sets\n",
        "X_train, X_temp, y_train, y_temp = train_test_split(X, y, test_size=0.3, stratify=y, random_state=42)\n",
        "X_val, X_test, y_val, y_test = train_test_split(X_temp, y_temp, test_size=0.5, stratify=y_temp, random_state=42)\n",
        "\n",
        "# Apply SMOTE to the training data to balance the classes\n",
        "smote = SMOTE(sampling_strategy='auto', random_state=42)\n",
        "X_train_resampled, y_train_resampled = smote.fit_resample(X_train, y_train)\n",
        "\n",
        "# Normalize features\n",
        "scaler = StandardScaler()\n",
        "X_train = scaler.fit_transform(X_train_resampled)\n",
        "X_val = scaler.transform(X_val)\n",
        "X_test = scaler.transform(X_test)\n",
        "\n",
        "# Convert to PyTorch tensors\n",
        "train_dataset = TensorDataset(torch.FloatTensor(X_train), torch.FloatTensor(y_train_resampled))\n",
        "val_dataset = TensorDataset(torch.FloatTensor(X_val), torch.FloatTensor(y_val))\n",
        "test_dataset = TensorDataset(torch.FloatTensor(X_test), torch.FloatTensor(y_test))\n",
        "\n",
        "# Create DataLoader\n",
        "batch_size = 32\n",
        "train_loader = DataLoader(train_dataset, batch_size=batch_size, shuffle=True)\n",
        "val_loader = DataLoader(val_dataset, batch_size=batch_size)\n",
        "test_loader = DataLoader(test_dataset, batch_size=batch_size)\n"
      ],
      "metadata": {
        "id": "6ByhGVVvJhOe"
      },
      "execution_count": 118,
      "outputs": []
    },
    {
      "cell_type": "markdown",
      "source": [
        " Define Teacher Model"
      ],
      "metadata": {
        "id": "aclSCnQBJnC9"
      }
    },
    {
      "cell_type": "code",
      "source": [
        "import torch.nn as nn\n",
        "\n",
        "class TeacherModel(nn.Module):\n",
        "    def __init__(self, input_dim):\n",
        "        super(TeacherModel, self).__init__()\n",
        "        self.fc1 = nn.Linear(input_dim, 128)\n",
        "        self.fc2 = nn.Linear(128, 64)\n",
        "        self.fc3 = nn.Linear(64, 1)\n",
        "        self.sigmoid = nn.Sigmoid()\n",
        "\n",
        "    def forward(self, x):\n",
        "        x = torch.relu(self.fc1(x))\n",
        "        x = torch.relu(self.fc2(x))\n",
        "        x = self.fc3(x)\n",
        "        x = self.sigmoid(x)\n",
        "        return x\n",
        "\n",
        "# Initialize teacher model\n",
        "teacher_model = TeacherModel(input_dim=X_train.shape[1])\n",
        "teacher_model.to(device)  # Move to GPU if available\n"
      ],
      "metadata": {
        "colab": {
          "base_uri": "https://localhost:8080/"
        },
        "id": "BDVTTOtyJuMt",
        "outputId": "b4d18fcf-d9d3-4f53-b1e6-6debce9e5ac7"
      },
      "execution_count": 119,
      "outputs": [
        {
          "output_type": "execute_result",
          "data": {
            "text/plain": [
              "TeacherModel(\n",
              "  (fc1): Linear(in_features=59, out_features=128, bias=True)\n",
              "  (fc2): Linear(in_features=128, out_features=64, bias=True)\n",
              "  (fc3): Linear(in_features=64, out_features=1, bias=True)\n",
              "  (sigmoid): Sigmoid()\n",
              ")"
            ]
          },
          "metadata": {},
          "execution_count": 119
        }
      ]
    },
    {
      "cell_type": "markdown",
      "source": [
        "Train the Teacher Model"
      ],
      "metadata": {
        "id": "KzcyJuh4J6NS"
      }
    },
    {
      "cell_type": "code",
      "source": [
        "import torch.optim as optim\n",
        "\n",
        "# Loss and optimizer\n",
        "criterion = nn.BCELoss()\n",
        "optimizer = optim.Adam(teacher_model.parameters(), lr=0.001)\n",
        "\n",
        "epochs = 10\n",
        "for epoch in range(epochs):\n",
        "    teacher_model.train()\n",
        "    total_loss = 0.0\n",
        "    for inputs, labels in train_loader:\n",
        "        inputs, labels = inputs.to(device), labels.to(device)\n",
        "\n",
        "        optimizer.zero_grad()\n",
        "        outputs = teacher_model(inputs).squeeze()\n",
        "        loss = criterion(outputs, labels)\n",
        "        loss.backward()\n",
        "        optimizer.step()\n",
        "\n",
        "        total_loss += loss.item()\n",
        "\n",
        "    print(f\"Epoch {epoch+1}/{epochs}, Loss: {total_loss:.4f}\")\n",
        "\n",
        "# Save the trained teacher model\n",
        "torch.save(teacher_model.state_dict(), \"best_teacher.pth\")\n"
      ],
      "metadata": {
        "colab": {
          "base_uri": "https://localhost:8080/"
        },
        "id": "A7YCd9oNJ_S1",
        "outputId": "12bd8392-a953-4ffe-90dd-14b5373446bd"
      },
      "execution_count": 120,
      "outputs": [
        {
          "output_type": "stream",
          "name": "stdout",
          "text": [
            "Epoch 1/10, Loss: 2.8178\n",
            "Epoch 2/10, Loss: 2.6501\n",
            "Epoch 3/10, Loss: 2.5464\n",
            "Epoch 4/10, Loss: 2.3624\n",
            "Epoch 5/10, Loss: 2.2547\n",
            "Epoch 6/10, Loss: 2.1743\n",
            "Epoch 7/10, Loss: 2.0328\n",
            "Epoch 8/10, Loss: 1.8023\n",
            "Epoch 9/10, Loss: 1.5875\n",
            "Epoch 10/10, Loss: 1.4401\n"
          ]
        }
      ]
    },
    {
      "cell_type": "markdown",
      "source": [
        "Evaluate the Teacher Model"
      ],
      "metadata": {
        "id": "VkeLplHTKgNv"
      }
    },
    {
      "cell_type": "code",
      "source": [
        "from sklearn.metrics import precision_score, recall_score, f1_score, roc_auc_score\n",
        "\n",
        "# Evaluate the Teacher Model on the validation set\n",
        "teacher_model.eval()\n",
        "val_preds, val_true = [], []\n",
        "with torch.no_grad():\n",
        "    for inputs, labels in val_loader:\n",
        "        inputs, labels = inputs.to(device), labels.to(device)\n",
        "        outputs = teacher_model(inputs).squeeze()\n",
        "        val_preds.extend(outputs.cpu().numpy())\n",
        "        val_true.extend(labels.cpu().numpy())\n",
        "\n",
        "# Convert predictions to binary (0 or 1)\n",
        "val_preds_binary = (np.array(val_preds) > 0.5).astype(int)\n",
        "\n",
        "# Calculate metrics\n",
        "val_precision = precision_score(val_true, val_preds_binary)\n",
        "val_recall = recall_score(val_true, val_preds_binary)\n",
        "val_f1 = f1_score(val_true, val_preds_binary)\n",
        "val_auc = roc_auc_score(val_true, val_preds)\n",
        "\n",
        "print(\"Teacher Model Evaluation (Validation Set):\")\n",
        "print(f\"Val Precision: {val_precision:.4f} | Val Recall: {val_recall:.4f}\")\n",
        "print(f\"Val F1-Score: {val_f1:.4f} | Val AUC: {val_auc:.4f}\")\n",
        "\n",
        "# Evaluate the Teacher Model on the test set\n",
        "test_preds, test_true = [], []\n",
        "with torch.no_grad():\n",
        "    for inputs, labels in test_loader:\n",
        "        inputs, labels = inputs.to(device), labels.to(device)\n",
        "        outputs = teacher_model(inputs).squeeze()\n",
        "        test_preds.extend(outputs.cpu().numpy())\n",
        "        test_true.extend(labels.cpu().numpy())\n",
        "\n",
        "# Convert predictions to binary (0 or 1)\n",
        "test_preds_binary = (np.array(test_preds) > 0.5).astype(int)\n",
        "\n",
        "# Calculate metrics\n",
        "test_precision = precision_score(test_true, test_preds_binary)\n",
        "test_recall = recall_score(test_true, test_preds_binary)\n",
        "test_f1 = f1_score(test_true, test_preds_binary)\n",
        "test_auc = roc_auc_score(test_true, test_preds)\n",
        "\n",
        "print(\"Teacher Model Evaluation (Test Set):\")\n",
        "print(f\"Test Precision: {test_precision:.4f} | Test Recall: {test_recall:.4f}\")\n",
        "print(f\"Test F1-Score: {test_f1:.4f} | Test AUC: {test_auc:.4f}\")\n"
      ],
      "metadata": {
        "colab": {
          "base_uri": "https://localhost:8080/"
        },
        "id": "gkYt6WC0Khdk",
        "outputId": "353ef9b4-2643-4821-f495-6c4870eef5db"
      },
      "execution_count": 121,
      "outputs": [
        {
          "output_type": "stream",
          "name": "stdout",
          "text": [
            "Teacher Model Evaluation (Validation Set):\n",
            "Val Precision: 0.3333 | Val Recall: 0.1667\n",
            "Val F1-Score: 0.2222 | Val AUC: 0.7361\n",
            "Teacher Model Evaluation (Test Set):\n",
            "Test Precision: 0.2500 | Test Recall: 0.1667\n",
            "Test F1-Score: 0.2000 | Test AUC: 0.5000\n"
          ]
        }
      ]
    },
    {
      "cell_type": "markdown",
      "source": [
        "Load Teacher Model and Define Student Model"
      ],
      "metadata": {
        "id": "nGs_98nZKmD8"
      }
    },
    {
      "cell_type": "code",
      "source": [
        "# Load the trained teacher model\n",
        "teacher_model = TeacherModel(input_dim=X_train.shape[1])\n",
        "teacher_model.load_state_dict(torch.load(\"best_teacher.pth\"))\n",
        "teacher_model.eval()  # Set to evaluation mode\n",
        "teacher_model.to(device)\n",
        "\n",
        "# Define the Student Model\n",
        "class StudentModel(nn.Module):\n",
        "    def __init__(self, input_dim):\n",
        "        super(StudentModel, self).__init__()\n",
        "        self.fc1 = nn.Linear(input_dim, 64)\n",
        "        self.fc2 = nn.Linear(64, 32)\n",
        "        self.fc3 = nn.Linear(32, 1)\n",
        "        self.sigmoid = nn.Sigmoid()\n",
        "\n",
        "    def forward(self, x):\n",
        "        x = torch.relu(self.fc1(x))\n",
        "        x = torch.relu(self.fc2(x))\n",
        "        x = self.fc3(x)\n",
        "        x = self.sigmoid(x)\n",
        "        return x\n",
        "\n",
        "# Initialize student model\n",
        "student_model = StudentModel(input_dim=X_train.shape[1])\n",
        "student_model.to(device)\n"
      ],
      "metadata": {
        "colab": {
          "base_uri": "https://localhost:8080/"
        },
        "id": "buxZilgtK5wj",
        "outputId": "d92dd5a4-8035-4d44-ae1a-6b10f541cc5c"
      },
      "execution_count": 122,
      "outputs": [
        {
          "output_type": "stream",
          "name": "stderr",
          "text": [
            "<ipython-input-122-202fad7a504f>:3: FutureWarning: You are using `torch.load` with `weights_only=False` (the current default value), which uses the default pickle module implicitly. It is possible to construct malicious pickle data which will execute arbitrary code during unpickling (See https://github.com/pytorch/pytorch/blob/main/SECURITY.md#untrusted-models for more details). In a future release, the default value for `weights_only` will be flipped to `True`. This limits the functions that could be executed during unpickling. Arbitrary objects will no longer be allowed to be loaded via this mode unless they are explicitly allowlisted by the user via `torch.serialization.add_safe_globals`. We recommend you start setting `weights_only=True` for any use case where you don't have full control of the loaded file. Please open an issue on GitHub for any issues related to this experimental feature.\n",
            "  teacher_model.load_state_dict(torch.load(\"best_teacher.pth\"))\n"
          ]
        },
        {
          "output_type": "execute_result",
          "data": {
            "text/plain": [
              "StudentModel(\n",
              "  (fc1): Linear(in_features=59, out_features=64, bias=True)\n",
              "  (fc2): Linear(in_features=64, out_features=32, bias=True)\n",
              "  (fc3): Linear(in_features=32, out_features=1, bias=True)\n",
              "  (sigmoid): Sigmoid()\n",
              ")"
            ]
          },
          "metadata": {},
          "execution_count": 122
        }
      ]
    },
    {
      "cell_type": "markdown",
      "source": [
        "Distillation Loss Function"
      ],
      "metadata": {
        "id": "-GMNXjhuLFpe"
      }
    },
    {
      "cell_type": "code",
      "source": [
        "import torch.nn.functional as F\n",
        "\n",
        "def distillation_loss(student_preds, teacher_preds, labels, alpha=0.7, temperature=2.0):\n",
        "    # BCE loss for the student's binary classification task\n",
        "    loss_bce = nn.BCELoss()(student_preds.squeeze(), labels)  # Ensure predictions are squeezed to match label shape\n",
        "\n",
        "    # Teacher's predictions should be detached for distillation loss\n",
        "    teacher_preds = teacher_preds.detach()\n",
        "\n",
        "    # Distillation loss (KL Divergence between the student and teacher predictions)\n",
        "    distillation_loss = nn.KLDivLoss(reduction='batchmean')(\n",
        "        F.log_softmax(student_preds / temperature, dim=0),\n",
        "        F.softmax(teacher_preds / temperature, dim=0)\n",
        "    )\n",
        "\n",
        "    # Combined loss\n",
        "    total_loss = alpha * loss_bce + (1 - alpha) * distillation_loss\n",
        "    return total_loss\n"
      ],
      "metadata": {
        "id": "zSOX0DESLLO4"
      },
      "execution_count": 130,
      "outputs": []
    },
    {
      "cell_type": "markdown",
      "source": [
        "Train the Student Model with Distillation"
      ],
      "metadata": {
        "id": "YpapJc7BLPv2"
      }
    },
    {
      "cell_type": "code",
      "source": [
        "# Load the best saved teacher model\n",
        "teacher_model.load_state_dict(torch.load(\"best_teacher.pth\"))\n",
        "teacher_model.eval()  # Set teacher model to evaluation mode\n",
        "\n",
        "# Training loop for student model\n",
        "best_val_loss = float(\"inf\")\n",
        "for epoch in range(epochs):\n",
        "    student_model.train()\n",
        "    for inputs, labels in train_loader:\n",
        "        inputs, labels = inputs.to(device), labels.to(device)\n",
        "\n",
        "        # Forward pass for teacher and student models\n",
        "        teacher_preds = teacher_model(inputs)\n",
        "        student_preds = student_model(inputs)\n",
        "\n",
        "        # Calculate distillation loss\n",
        "        loss = distillation_loss(student_preds.squeeze(), teacher_preds.squeeze(), labels)\n",
        "\n",
        "        # Zero gradients, backward pass and optimize\n",
        "        optimizer_student.zero_grad()\n",
        "        loss.backward()\n",
        "        optimizer_student.step()\n",
        "\n",
        "    # Validation loop\n",
        "    student_model.eval()\n",
        "    val_loss = 0\n",
        "    with torch.no_grad():\n",
        "        for inputs, labels in val_loader:\n",
        "            inputs, labels = inputs.to(device), labels.to(device)\n",
        "            student_preds = student_model(inputs)\n",
        "            teacher_preds = teacher_model(inputs)\n",
        "            loss = distillation_loss(student_preds.squeeze(), teacher_preds.squeeze(), labels)\n",
        "            val_loss += loss.item()\n",
        "\n",
        "    val_loss /= len(val_loader)\n",
        "\n",
        "    print(f\"Epoch {epoch+1}/{epochs}, Student Validation Loss: {val_loss:.4f}\")\n",
        "\n",
        "    # Early stopping based on validation loss\n",
        "    if val_loss < best_val_loss:\n",
        "        best_val_loss = val_loss\n",
        "        torch.save(student_model.state_dict(), \"best_student.pth\")\n"
      ],
      "metadata": {
        "colab": {
          "base_uri": "https://localhost:8080/"
        },
        "id": "jbjLmEfsLT-V",
        "outputId": "67617996-6971-4713-f530-5a2c769ed0ae"
      },
      "execution_count": 131,
      "outputs": [
        {
          "output_type": "stream",
          "name": "stdout",
          "text": [
            "Epoch 1/10, Student Validation Loss: 0.5382\n",
            "Epoch 2/10, Student Validation Loss: 0.5382\n",
            "Epoch 3/10, Student Validation Loss: 0.5382\n",
            "Epoch 4/10, Student Validation Loss: 0.5382\n",
            "Epoch 5/10, Student Validation Loss: 0.5382\n",
            "Epoch 6/10, Student Validation Loss: 0.5382\n",
            "Epoch 7/10, Student Validation Loss: 0.5382\n",
            "Epoch 8/10, Student Validation Loss: 0.5382\n",
            "Epoch 9/10, Student Validation Loss: 0.5382\n",
            "Epoch 10/10, Student Validation Loss: 0.5382\n"
          ]
        },
        {
          "output_type": "stream",
          "name": "stderr",
          "text": [
            "<ipython-input-131-1a506f72513f>:2: FutureWarning: You are using `torch.load` with `weights_only=False` (the current default value), which uses the default pickle module implicitly. It is possible to construct malicious pickle data which will execute arbitrary code during unpickling (See https://github.com/pytorch/pytorch/blob/main/SECURITY.md#untrusted-models for more details). In a future release, the default value for `weights_only` will be flipped to `True`. This limits the functions that could be executed during unpickling. Arbitrary objects will no longer be allowed to be loaded via this mode unless they are explicitly allowlisted by the user via `torch.serialization.add_safe_globals`. We recommend you start setting `weights_only=True` for any use case where you don't have full control of the loaded file. Please open an issue on GitHub for any issues related to this experimental feature.\n",
            "  teacher_model.load_state_dict(torch.load(\"best_teacher.pth\"))\n"
          ]
        }
      ]
    },
    {
      "cell_type": "markdown",
      "source": [
        "evaluate student moel"
      ],
      "metadata": {
        "id": "lQjoX2OZNhxv"
      }
    },
    {
      "cell_type": "code",
      "source": [
        "# Load the best student model for evaluation\n",
        "student_model.load_state_dict(torch.load(\"best_student.pth\"))\n",
        "student_model.eval()\n",
        "\n",
        "# Initialize metrics for student model\n",
        "test_preds_student, test_true = [], []\n",
        "\n",
        "with torch.no_grad():\n",
        "    for inputs, labels in test_loader:\n",
        "        inputs, labels = inputs.to(device), labels.to(device)\n",
        "        outputs_student = student_model(inputs).squeeze()\n",
        "        test_preds_student.extend(outputs_student.cpu().numpy())\n",
        "        test_true.extend(labels.cpu().numpy())\n",
        "\n",
        "# Convert predictions to binary (0 or 1)\n",
        "test_preds_student_binary = (np.array(test_preds_student) > 0.3).astype(int)\n",
        "\n",
        "# Calculate metrics for student model\n",
        "test_precision_student = precision_score(test_true, test_preds_student_binary)\n",
        "test_recall_student = recall_score(test_true, test_preds_student_binary)\n",
        "test_f1_student = f1_score(test_true, test_preds_student_binary)\n",
        "test_auc_student = roc_auc_score(test_true, test_preds_student)\n",
        "\n",
        "print(f\"Student Model Test Metrics:\")\n",
        "print(f\"Test Precision: {test_precision_student:.4f} | Test Recall: {test_recall_student:.4f}\")\n",
        "print(f\"Test F1-Score: {test_f1_student:.4f} | Test AUC: {test_auc_student:.4f}\")\n"
      ],
      "metadata": {
        "colab": {
          "base_uri": "https://localhost:8080/"
        },
        "id": "AT7FJtIpNlQl",
        "outputId": "82731427-1f48-4f9c-a073-15e5f43ffb5e"
      },
      "execution_count": 136,
      "outputs": [
        {
          "output_type": "stream",
          "name": "stdout",
          "text": [
            "Student Model Test Metrics:\n",
            "Test Precision: 0.3333 | Test Recall: 1.0000\n",
            "Test F1-Score: 0.5000 | Test AUC: 0.7083\n"
          ]
        },
        {
          "output_type": "stream",
          "name": "stderr",
          "text": [
            "<ipython-input-136-e4c329839e03>:2: FutureWarning: You are using `torch.load` with `weights_only=False` (the current default value), which uses the default pickle module implicitly. It is possible to construct malicious pickle data which will execute arbitrary code during unpickling (See https://github.com/pytorch/pytorch/blob/main/SECURITY.md#untrusted-models for more details). In a future release, the default value for `weights_only` will be flipped to `True`. This limits the functions that could be executed during unpickling. Arbitrary objects will no longer be allowed to be loaded via this mode unless they are explicitly allowlisted by the user via `torch.serialization.add_safe_globals`. We recommend you start setting `weights_only=True` for any use case where you don't have full control of the loaded file. Please open an issue on GitHub for any issues related to this experimental feature.\n",
            "  student_model.load_state_dict(torch.load(\"best_student.pth\"))\n"
          ]
        }
      ]
    },
    {
      "cell_type": "markdown",
      "source": [
        "# New section"
      ],
      "metadata": {
        "id": "8jo8AyjIWUam"
      }
    },
    {
      "cell_type": "markdown",
      "source": [
        "##Implement the Feedforward Neural Network"
      ],
      "metadata": {
        "id": "ZBQGUIJkWZSt"
      }
    },
    {
      "cell_type": "markdown",
      "source": [
        "1 Implementation"
      ],
      "metadata": {
        "id": "ysSZziXGX0ND"
      }
    },
    {
      "cell_type": "code",
      "source": [
        "import torch\n",
        "import torch.nn as nn\n",
        "import torch.optim as optim\n",
        "\n",
        "# Define the first model architecture (Feedforward Neural Network)\n",
        "class FeedForwardNN(nn.Module):\n",
        "    def __init__(self, input_dim):\n",
        "        super(FeedForwardNN, self).__init__()\n",
        "        self.fc1 = nn.Linear(input_dim, 64)  # First hidden layer\n",
        "        self.fc2 = nn.Linear(64, 32)         # Second hidden layer\n",
        "        self.fc3 = nn.Linear(32, 1)          # Output layer\n",
        "        self.sigmoid = nn.Sigmoid()          # Sigmoid activation for binary classification\n",
        "\n",
        "    def forward(self, x):\n",
        "        x = torch.relu(self.fc1(x))           # ReLU activation\n",
        "        x = torch.relu(self.fc2(x))           # ReLU activation\n",
        "        x = self.sigmoid(self.fc3(x))         # Output layer with sigmoid activation\n",
        "        return x\n",
        "\n",
        "# Example input dimension (you should use the actual number of features)\n",
        "input_dim = X_train.shape[1]  # assuming X_train is already defined\n",
        "model = FeedForwardNN(input_dim)\n",
        "\n",
        "# Define optimizer and loss function\n",
        "optimizer = optim.Adam(model.parameters(), lr=0.001)\n",
        "loss_fn = nn.BCELoss()  # Binary Cross Entropy for binary classification\n",
        "\n",
        "# Training loop\n",
        "def train_model(model, train_loader, val_loader, optimizer, loss_fn, epochs=100):\n",
        "    best_val_loss = float('inf')\n",
        "\n",
        "    for epoch in range(epochs):\n",
        "        model.train()\n",
        "        train_loss = 0\n",
        "        correct = 0\n",
        "        total = 0\n",
        "\n",
        "        for inputs, labels in train_loader:\n",
        "            inputs, labels = inputs.to(device), labels.to(device)\n",
        "            optimizer.zero_grad()\n",
        "\n",
        "            # Forward pass\n",
        "            outputs = model(inputs)\n",
        "            loss = loss_fn(outputs.squeeze(), labels)  # Squeeze to make outputs the same shape as labels\n",
        "            loss.backward()\n",
        "            optimizer.step()\n",
        "\n",
        "            train_loss += loss.item()\n",
        "\n",
        "            # Calculate accuracy\n",
        "            predicted = (outputs > 0.5).float()\n",
        "            correct += (predicted.squeeze() == labels).sum().item()\n",
        "            total += labels.size(0)\n",
        "\n",
        "        # Validation step\n",
        "        model.eval()\n",
        "        val_loss = 0\n",
        "        val_correct = 0\n",
        "        val_total = 0\n",
        "        with torch.no_grad():\n",
        "            for inputs, labels in val_loader:\n",
        "                inputs, labels = inputs.to(device), labels.to(device)\n",
        "\n",
        "                outputs = model(inputs)\n",
        "                val_loss += loss_fn(outputs.squeeze(), labels).item()\n",
        "\n",
        "                predicted = (outputs > 0.5).float()\n",
        "                val_correct += (predicted.squeeze() == labels).sum().item()\n",
        "                val_total += labels.size(0)\n",
        "\n",
        "        # Calculate metrics\n",
        "        train_loss = train_loss / len(train_loader)\n",
        "        train_accuracy = correct / total\n",
        "        val_loss = val_loss / len(val_loader)\n",
        "        val_accuracy = val_correct / val_total\n",
        "\n",
        "        print(f\"Epoch {epoch + 1}/{epochs}, Train Loss: {train_loss:.4f}, Train Accuracy: {train_accuracy:.4f}, \"\n",
        "              f\"Val Loss: {val_loss:.4f}, Val Accuracy: {val_accuracy:.4f}\")\n",
        "\n",
        "        # Save model if it's the best validation loss\n",
        "        if val_loss < best_val_loss:\n",
        "            best_val_loss = val_loss\n",
        "            torch.save(model.state_dict(), \"best_feedforward_model.pth\")\n",
        "\n",
        "# Move the model to the device\n",
        "device = torch.device(\"cuda\" if torch.cuda.is_available() else \"cpu\")\n",
        "model.to(device)\n",
        "\n",
        "# Train the model\n",
        "train_model(model, train_loader, val_loader, optimizer, loss_fn)\n"
      ],
      "metadata": {
        "id": "P5w4eM-WXXR5",
        "outputId": "95a26aa6-2bdd-40eb-c7e9-30f095a8002d",
        "colab": {
          "base_uri": "https://localhost:8080/"
        }
      },
      "execution_count": 137,
      "outputs": [
        {
          "output_type": "stream",
          "name": "stdout",
          "text": [
            "Epoch 1/100, Train Loss: 0.7077, Train Accuracy: 0.5000, Val Loss: 0.7428, Val Accuracy: 0.3333\n",
            "Epoch 2/100, Train Loss: 0.6827, Train Accuracy: 0.5182, Val Loss: 0.7225, Val Accuracy: 0.5000\n",
            "Epoch 3/100, Train Loss: 0.6629, Train Accuracy: 0.5818, Val Loss: 0.7050, Val Accuracy: 0.5000\n",
            "Epoch 4/100, Train Loss: 0.6504, Train Accuracy: 0.6727, Val Loss: 0.6895, Val Accuracy: 0.6111\n",
            "Epoch 5/100, Train Loss: 0.6287, Train Accuracy: 0.7727, Val Loss: 0.6730, Val Accuracy: 0.6667\n",
            "Epoch 6/100, Train Loss: 0.6105, Train Accuracy: 0.8000, Val Loss: 0.6559, Val Accuracy: 0.6111\n",
            "Epoch 7/100, Train Loss: 0.5879, Train Accuracy: 0.8364, Val Loss: 0.6373, Val Accuracy: 0.5556\n",
            "Epoch 8/100, Train Loss: 0.5620, Train Accuracy: 0.8455, Val Loss: 0.6194, Val Accuracy: 0.5000\n",
            "Epoch 9/100, Train Loss: 0.5321, Train Accuracy: 0.8727, Val Loss: 0.6034, Val Accuracy: 0.5000\n",
            "Epoch 10/100, Train Loss: 0.5039, Train Accuracy: 0.8909, Val Loss: 0.5878, Val Accuracy: 0.5000\n",
            "Epoch 11/100, Train Loss: 0.4685, Train Accuracy: 0.8909, Val Loss: 0.5746, Val Accuracy: 0.5556\n",
            "Epoch 12/100, Train Loss: 0.4354, Train Accuracy: 0.9091, Val Loss: 0.5639, Val Accuracy: 0.5556\n",
            "Epoch 13/100, Train Loss: 0.3930, Train Accuracy: 0.9091, Val Loss: 0.5572, Val Accuracy: 0.5556\n",
            "Epoch 14/100, Train Loss: 0.3705, Train Accuracy: 0.9182, Val Loss: 0.5546, Val Accuracy: 0.6111\n",
            "Epoch 15/100, Train Loss: 0.3543, Train Accuracy: 0.9182, Val Loss: 0.5560, Val Accuracy: 0.6111\n",
            "Epoch 16/100, Train Loss: 0.3040, Train Accuracy: 0.9364, Val Loss: 0.5587, Val Accuracy: 0.6667\n",
            "Epoch 17/100, Train Loss: 0.2613, Train Accuracy: 0.9636, Val Loss: 0.5592, Val Accuracy: 0.7778\n",
            "Epoch 18/100, Train Loss: 0.2371, Train Accuracy: 0.9727, Val Loss: 0.5627, Val Accuracy: 0.7778\n",
            "Epoch 19/100, Train Loss: 0.2097, Train Accuracy: 0.9818, Val Loss: 0.5690, Val Accuracy: 0.7778\n",
            "Epoch 20/100, Train Loss: 0.1778, Train Accuracy: 0.9818, Val Loss: 0.5741, Val Accuracy: 0.7778\n",
            "Epoch 21/100, Train Loss: 0.1543, Train Accuracy: 0.9818, Val Loss: 0.5794, Val Accuracy: 0.7222\n",
            "Epoch 22/100, Train Loss: 0.1389, Train Accuracy: 0.9818, Val Loss: 0.5872, Val Accuracy: 0.7222\n",
            "Epoch 23/100, Train Loss: 0.1140, Train Accuracy: 0.9818, Val Loss: 0.5946, Val Accuracy: 0.7222\n",
            "Epoch 24/100, Train Loss: 0.0965, Train Accuracy: 0.9818, Val Loss: 0.6016, Val Accuracy: 0.7222\n",
            "Epoch 25/100, Train Loss: 0.0815, Train Accuracy: 0.9818, Val Loss: 0.6077, Val Accuracy: 0.7222\n",
            "Epoch 26/100, Train Loss: 0.0769, Train Accuracy: 0.9909, Val Loss: 0.6118, Val Accuracy: 0.7222\n",
            "Epoch 27/100, Train Loss: 0.0620, Train Accuracy: 0.9909, Val Loss: 0.6164, Val Accuracy: 0.7222\n",
            "Epoch 28/100, Train Loss: 0.0516, Train Accuracy: 0.9909, Val Loss: 0.6245, Val Accuracy: 0.7222\n",
            "Epoch 29/100, Train Loss: 0.0459, Train Accuracy: 0.9909, Val Loss: 0.6316, Val Accuracy: 0.7222\n",
            "Epoch 30/100, Train Loss: 0.0383, Train Accuracy: 1.0000, Val Loss: 0.6395, Val Accuracy: 0.7222\n",
            "Epoch 31/100, Train Loss: 0.0316, Train Accuracy: 1.0000, Val Loss: 0.6484, Val Accuracy: 0.7222\n",
            "Epoch 32/100, Train Loss: 0.0271, Train Accuracy: 1.0000, Val Loss: 0.6580, Val Accuracy: 0.7222\n",
            "Epoch 33/100, Train Loss: 0.0246, Train Accuracy: 1.0000, Val Loss: 0.6690, Val Accuracy: 0.7222\n",
            "Epoch 34/100, Train Loss: 0.0212, Train Accuracy: 1.0000, Val Loss: 0.6773, Val Accuracy: 0.7222\n",
            "Epoch 35/100, Train Loss: 0.0184, Train Accuracy: 1.0000, Val Loss: 0.6865, Val Accuracy: 0.7222\n",
            "Epoch 36/100, Train Loss: 0.0176, Train Accuracy: 1.0000, Val Loss: 0.6949, Val Accuracy: 0.7222\n",
            "Epoch 37/100, Train Loss: 0.0149, Train Accuracy: 1.0000, Val Loss: 0.7021, Val Accuracy: 0.7222\n",
            "Epoch 38/100, Train Loss: 0.0123, Train Accuracy: 1.0000, Val Loss: 0.7100, Val Accuracy: 0.7222\n",
            "Epoch 39/100, Train Loss: 0.0116, Train Accuracy: 1.0000, Val Loss: 0.7176, Val Accuracy: 0.7222\n",
            "Epoch 40/100, Train Loss: 0.0115, Train Accuracy: 1.0000, Val Loss: 0.7252, Val Accuracy: 0.7222\n",
            "Epoch 41/100, Train Loss: 0.0094, Train Accuracy: 1.0000, Val Loss: 0.7320, Val Accuracy: 0.7222\n",
            "Epoch 42/100, Train Loss: 0.0084, Train Accuracy: 1.0000, Val Loss: 0.7391, Val Accuracy: 0.7222\n",
            "Epoch 43/100, Train Loss: 0.0079, Train Accuracy: 1.0000, Val Loss: 0.7460, Val Accuracy: 0.7222\n",
            "Epoch 44/100, Train Loss: 0.0076, Train Accuracy: 1.0000, Val Loss: 0.7530, Val Accuracy: 0.7222\n",
            "Epoch 45/100, Train Loss: 0.0070, Train Accuracy: 1.0000, Val Loss: 0.7595, Val Accuracy: 0.7222\n",
            "Epoch 46/100, Train Loss: 0.0066, Train Accuracy: 1.0000, Val Loss: 0.7661, Val Accuracy: 0.7222\n",
            "Epoch 47/100, Train Loss: 0.0060, Train Accuracy: 1.0000, Val Loss: 0.7723, Val Accuracy: 0.7222\n",
            "Epoch 48/100, Train Loss: 0.0060, Train Accuracy: 1.0000, Val Loss: 0.7783, Val Accuracy: 0.7222\n",
            "Epoch 49/100, Train Loss: 0.0052, Train Accuracy: 1.0000, Val Loss: 0.7843, Val Accuracy: 0.7222\n",
            "Epoch 50/100, Train Loss: 0.0052, Train Accuracy: 1.0000, Val Loss: 0.7903, Val Accuracy: 0.7222\n",
            "Epoch 51/100, Train Loss: 0.0047, Train Accuracy: 1.0000, Val Loss: 0.7956, Val Accuracy: 0.7222\n",
            "Epoch 52/100, Train Loss: 0.0047, Train Accuracy: 1.0000, Val Loss: 0.8009, Val Accuracy: 0.7222\n",
            "Epoch 53/100, Train Loss: 0.0045, Train Accuracy: 1.0000, Val Loss: 0.8059, Val Accuracy: 0.7222\n",
            "Epoch 54/100, Train Loss: 0.0041, Train Accuracy: 1.0000, Val Loss: 0.8108, Val Accuracy: 0.7222\n",
            "Epoch 55/100, Train Loss: 0.0038, Train Accuracy: 1.0000, Val Loss: 0.8160, Val Accuracy: 0.7222\n",
            "Epoch 56/100, Train Loss: 0.0037, Train Accuracy: 1.0000, Val Loss: 0.8209, Val Accuracy: 0.7222\n",
            "Epoch 57/100, Train Loss: 0.0033, Train Accuracy: 1.0000, Val Loss: 0.8260, Val Accuracy: 0.7222\n",
            "Epoch 58/100, Train Loss: 0.0034, Train Accuracy: 1.0000, Val Loss: 0.8310, Val Accuracy: 0.7222\n",
            "Epoch 59/100, Train Loss: 0.0031, Train Accuracy: 1.0000, Val Loss: 0.8360, Val Accuracy: 0.7222\n",
            "Epoch 60/100, Train Loss: 0.0030, Train Accuracy: 1.0000, Val Loss: 0.8403, Val Accuracy: 0.7222\n",
            "Epoch 61/100, Train Loss: 0.0030, Train Accuracy: 1.0000, Val Loss: 0.8446, Val Accuracy: 0.7222\n",
            "Epoch 62/100, Train Loss: 0.0027, Train Accuracy: 1.0000, Val Loss: 0.8487, Val Accuracy: 0.7222\n",
            "Epoch 63/100, Train Loss: 0.0027, Train Accuracy: 1.0000, Val Loss: 0.8529, Val Accuracy: 0.7222\n",
            "Epoch 64/100, Train Loss: 0.0028, Train Accuracy: 1.0000, Val Loss: 0.8569, Val Accuracy: 0.7222\n",
            "Epoch 65/100, Train Loss: 0.0024, Train Accuracy: 1.0000, Val Loss: 0.8605, Val Accuracy: 0.7222\n",
            "Epoch 66/100, Train Loss: 0.0025, Train Accuracy: 1.0000, Val Loss: 0.8643, Val Accuracy: 0.7222\n",
            "Epoch 67/100, Train Loss: 0.0022, Train Accuracy: 1.0000, Val Loss: 0.8683, Val Accuracy: 0.7222\n",
            "Epoch 68/100, Train Loss: 0.0022, Train Accuracy: 1.0000, Val Loss: 0.8721, Val Accuracy: 0.7222\n",
            "Epoch 69/100, Train Loss: 0.0022, Train Accuracy: 1.0000, Val Loss: 0.8762, Val Accuracy: 0.7222\n",
            "Epoch 70/100, Train Loss: 0.0020, Train Accuracy: 1.0000, Val Loss: 0.8798, Val Accuracy: 0.7222\n",
            "Epoch 71/100, Train Loss: 0.0020, Train Accuracy: 1.0000, Val Loss: 0.8833, Val Accuracy: 0.7222\n",
            "Epoch 72/100, Train Loss: 0.0019, Train Accuracy: 1.0000, Val Loss: 0.8866, Val Accuracy: 0.7222\n",
            "Epoch 73/100, Train Loss: 0.0019, Train Accuracy: 1.0000, Val Loss: 0.8905, Val Accuracy: 0.7222\n",
            "Epoch 74/100, Train Loss: 0.0017, Train Accuracy: 1.0000, Val Loss: 0.8947, Val Accuracy: 0.7222\n",
            "Epoch 75/100, Train Loss: 0.0017, Train Accuracy: 1.0000, Val Loss: 0.8985, Val Accuracy: 0.7222\n",
            "Epoch 76/100, Train Loss: 0.0016, Train Accuracy: 1.0000, Val Loss: 0.9021, Val Accuracy: 0.7222\n",
            "Epoch 77/100, Train Loss: 0.0015, Train Accuracy: 1.0000, Val Loss: 0.9055, Val Accuracy: 0.7222\n",
            "Epoch 78/100, Train Loss: 0.0016, Train Accuracy: 1.0000, Val Loss: 0.9090, Val Accuracy: 0.7222\n",
            "Epoch 79/100, Train Loss: 0.0015, Train Accuracy: 1.0000, Val Loss: 0.9124, Val Accuracy: 0.7222\n",
            "Epoch 80/100, Train Loss: 0.0015, Train Accuracy: 1.0000, Val Loss: 0.9156, Val Accuracy: 0.7222\n",
            "Epoch 81/100, Train Loss: 0.0015, Train Accuracy: 1.0000, Val Loss: 0.9188, Val Accuracy: 0.7222\n",
            "Epoch 82/100, Train Loss: 0.0013, Train Accuracy: 1.0000, Val Loss: 0.9216, Val Accuracy: 0.7222\n",
            "Epoch 83/100, Train Loss: 0.0013, Train Accuracy: 1.0000, Val Loss: 0.9247, Val Accuracy: 0.7222\n",
            "Epoch 84/100, Train Loss: 0.0015, Train Accuracy: 1.0000, Val Loss: 0.9276, Val Accuracy: 0.7222\n",
            "Epoch 85/100, Train Loss: 0.0013, Train Accuracy: 1.0000, Val Loss: 0.9301, Val Accuracy: 0.7222\n",
            "Epoch 86/100, Train Loss: 0.0012, Train Accuracy: 1.0000, Val Loss: 0.9331, Val Accuracy: 0.7222\n",
            "Epoch 87/100, Train Loss: 0.0012, Train Accuracy: 1.0000, Val Loss: 0.9360, Val Accuracy: 0.7222\n",
            "Epoch 88/100, Train Loss: 0.0011, Train Accuracy: 1.0000, Val Loss: 0.9387, Val Accuracy: 0.7778\n",
            "Epoch 89/100, Train Loss: 0.0011, Train Accuracy: 1.0000, Val Loss: 0.9415, Val Accuracy: 0.7778\n",
            "Epoch 90/100, Train Loss: 0.0012, Train Accuracy: 1.0000, Val Loss: 0.9443, Val Accuracy: 0.7778\n",
            "Epoch 91/100, Train Loss: 0.0011, Train Accuracy: 1.0000, Val Loss: 0.9470, Val Accuracy: 0.7778\n",
            "Epoch 92/100, Train Loss: 0.0011, Train Accuracy: 1.0000, Val Loss: 0.9497, Val Accuracy: 0.7778\n",
            "Epoch 93/100, Train Loss: 0.0010, Train Accuracy: 1.0000, Val Loss: 0.9523, Val Accuracy: 0.7778\n",
            "Epoch 94/100, Train Loss: 0.0010, Train Accuracy: 1.0000, Val Loss: 0.9549, Val Accuracy: 0.7778\n",
            "Epoch 95/100, Train Loss: 0.0010, Train Accuracy: 1.0000, Val Loss: 0.9573, Val Accuracy: 0.7778\n",
            "Epoch 96/100, Train Loss: 0.0010, Train Accuracy: 1.0000, Val Loss: 0.9600, Val Accuracy: 0.7778\n",
            "Epoch 97/100, Train Loss: 0.0011, Train Accuracy: 1.0000, Val Loss: 0.9625, Val Accuracy: 0.7778\n",
            "Epoch 98/100, Train Loss: 0.0009, Train Accuracy: 1.0000, Val Loss: 0.9650, Val Accuracy: 0.7778\n",
            "Epoch 99/100, Train Loss: 0.0009, Train Accuracy: 1.0000, Val Loss: 0.9674, Val Accuracy: 0.7778\n",
            "Epoch 100/100, Train Loss: 0.0009, Train Accuracy: 1.0000, Val Loss: 0.9700, Val Accuracy: 0.7778\n"
          ]
        }
      ]
    },
    {
      "cell_type": "markdown",
      "source": [
        "2. Prepare Data"
      ],
      "metadata": {
        "id": "x2CnxVsQYENi"
      }
    },
    {
      "cell_type": "code",
      "source": [
        "import torch\n",
        "from torch.utils.data import DataLoader, TensorDataset\n",
        "from sklearn.preprocessing import StandardScaler\n",
        "from sklearn.model_selection import train_test_split\n",
        "import pandas as pd\n",
        "import numpy as np\n",
        "\n",
        "# Load data\n",
        "df = pd.read_csv(\"cleaned_mental_health_data.csv\")\n",
        "\n",
        "# Define adherence labels based on questionnaire responses\n",
        "non_adherence_columns = [\n",
        "    \"Do you ever forget to take your medication?\",\n",
        "    \"Are you careless at times about taking your medication?\",\n",
        "    \"When you feel better, do you sometimes stop taking your medication?\",\n",
        "    \"Sometimes if you feel worse when you take the medication, do you stop taking it?\",\n",
        "    \"I take my medication only when I am sick\"\n",
        "]\n",
        "\n",
        "df[\"adherence\"] = np.where(df[non_adherence_columns].eq(\"Yes\").any(axis=1), 0, 1)\n",
        "\n",
        "# Drop redundant columns\n",
        "df = df.drop(columns=non_adherence_columns + [\"If you have any further comments about medication or this questionnaire, please write them below\"])\n",
        "\n",
        "# Identify all categorical columns\n",
        "categorical_cols = df.select_dtypes(include=['object', 'category']).columns\n",
        "print(\"Categorical columns to encode:\", categorical_cols)\n",
        "\n",
        "# Encode all categorical features\n",
        "from sklearn.preprocessing import LabelEncoder\n",
        "for col in categorical_cols:\n",
        "    le = LabelEncoder()\n",
        "    df[col] = le.fit_transform(df[col].astype(str))\n",
        "\n",
        "# Split features and labels\n",
        "X = df.drop(columns=\"adherence\").values\n",
        "y = df[\"adherence\"].values\n",
        "\n",
        "# Split data into train, validation, test (70-15-15)\n",
        "X_train, X_temp, y_train, y_temp = train_test_split(X, y, test_size=0.3, stratify=y, random_state=42)\n",
        "X_val, X_test, y_val, y_test = train_test_split(X_temp, y_temp, test_size=0.5, stratify=y_temp, random_state=42)\n",
        "\n",
        "# Apply SMOTE to only the training set\n",
        "from imblearn.over_sampling import SMOTE\n",
        "\n",
        "# Apply SMOTE only to the training data\n",
        "smote = SMOTE(sampling_strategy='auto', random_state=42)\n",
        "X_train_resampled, y_train_resampled = smote.fit_resample(X_train, y_train)\n",
        "\n",
        "# Check new class distribution\n",
        "from collections import Counter\n",
        "print(\"New class distribution:\", Counter(y_train_resampled))\n",
        "\n",
        "# Normalize numerical features\n",
        "scaler = StandardScaler()\n",
        "X_train_scaled = scaler.fit_transform(X_train_resampled)\n",
        "X_val_scaled = scaler.transform(X_val)\n",
        "X_test_scaled = scaler.transform(X_test)\n",
        "\n",
        "# Check the shape of the data to ensure it matches\n",
        "print(\"Shape of X_train_scaled:\", X_train_scaled.shape)\n",
        "print(\"Shape of y_train_resampled:\", y_train_resampled.shape)\n",
        "\n",
        "# Ensure that X_train_scaled and y_train_resampled have the same number of samples\n",
        "assert X_train_scaled.shape[0] == y_train_resampled.shape[0], \"Mismatch in number of samples between X_train_scaled and y_train_resampled\"\n",
        "\n",
        "# Convert to torch tensors\n",
        "train_tensor = TensorDataset(torch.tensor(X_train_scaled, dtype=torch.float32),\n",
        "                              torch.tensor(y_train_resampled, dtype=torch.float32))\n",
        "val_tensor = TensorDataset(torch.tensor(X_val_scaled, dtype=torch.float32),\n",
        "                            torch.tensor(y_val, dtype=torch.float32))\n",
        "test_tensor = TensorDataset(torch.tensor(X_test_scaled, dtype=torch.float32),\n",
        "                             torch.tensor(y_test, dtype=torch.float32))\n",
        "\n",
        "# Create DataLoaders\n",
        "batch_size = 32\n",
        "train_loader = DataLoader(train_tensor, batch_size=batch_size, shuffle=True)\n",
        "val_loader = DataLoader(val_tensor, batch_size=batch_size)\n",
        "test_loader = DataLoader(test_tensor, batch_size=batch_size)\n"
      ],
      "metadata": {
        "id": "o4mfmtVAYKJC",
        "outputId": "618e59c2-b22f-488d-897a-6d99f2e3bb16",
        "colab": {
          "base_uri": "https://localhost:8080/"
        }
      },
      "execution_count": 139,
      "outputs": [
        {
          "output_type": "stream",
          "name": "stdout",
          "text": [
            "Categorical columns to encode: Index(['sex', 'Religion', 'marital status', 'education status', 'residence',\n",
            "       'substance use', 'comorbidity',\n",
            "       'It is unnatural for my mind and body to be controlled by medication?',\n",
            "       'My thoughts are clearer on medication',\n",
            "       'By staying on medication, I can prevent getting sick',\n",
            "       'I feel weird, like a ‘zombie’ on medication',\n",
            "       'Medication makes me feel tired and sluggish',\n",
            "       'Some of your symptoms are made by your mind.', 'You are mentally well',\n",
            "       'You do not need medication', 'Your stay in the hospital is necessary',\n",
            "       'The doctor is right in prescribing medication for you.',\n",
            "       'You do not need to be seen by a doctor or psychiatrist',\n",
            "       'If someone said you have a nervous or mental illness, they would be right',\n",
            "       'None of the unusual things you are experiencing are due to an illness.',\n",
            "       '. Loss of energy or drive', 'Feeling unmotivated or numb',\n",
            "       'Daytime sedation or drowsiness', 'Sleeping too much',\n",
            "       'Muscles being too tense or stiff', 'Muscles trembling or shaking',\n",
            "       'Feeling restless or jittery',\n",
            "       'Need to move around and pace; inability to sit still',\n",
            "       'Trouble getting to sleep or staying asleep (insomnia)',\n",
            "       'Blurry vision', 'Dry mouth', 'Drooling',\n",
            "       'Memory and concentration problems', 'Constipation', 'Weight changes',\n",
            "       'Changes in sexual functioning', 'Menstrual or breast problem',\n",
            "       'I feel over burdened by the number of pills i swallow per day.',\n",
            "       'How often do yo take your drugs',\n",
            "       'How often do you find no medications in the hospital',\n",
            "       'I am satisfied with doctors explanation about mental illness and the need for treatment',\n",
            "       'Do you sometimes stop your medications because of religious or cultural beliefs'],\n",
            "      dtype='object')\n",
            "New class distribution: Counter({1: 55, 0: 55})\n",
            "Shape of X_train_scaled: (110, 59)\n",
            "Shape of y_train_resampled: (110,)\n"
          ]
        }
      ]
    },
    {
      "cell_type": "markdown",
      "source": [
        "3 Model initialisation"
      ],
      "metadata": {
        "id": "-HMidXW5Yrpx"
      }
    },
    {
      "cell_type": "code",
      "source": [
        "# Initialize the FeedForwardNN model\n",
        "input_dim = X_train.shape[1]  # number of features in your dataset\n",
        "model = FeedForwardNN(input_dim)\n",
        "\n",
        "# Set device to GPU if available, otherwise use CPU\n",
        "device = torch.device(\"cuda\" if torch.cuda.is_available() else \"cpu\")\n",
        "model.to(device)\n",
        "\n",
        "# Define optimizer and loss function\n",
        "optimizer = optim.Adam(model.parameters(), lr=0.001)\n",
        "loss_fn = nn.BCELoss()  # Binary Cross Entropy Loss for binary classification\n"
      ],
      "metadata": {
        "id": "xWcNQjEuYwBH"
      },
      "execution_count": 140,
      "outputs": []
    },
    {
      "cell_type": "markdown",
      "source": [
        "4 TRaining the model"
      ],
      "metadata": {
        "id": "0jzHG3RWYyzY"
      }
    },
    {
      "cell_type": "code",
      "source": [
        "# Training the model\n",
        "train_model(model, train_loader, val_loader, optimizer, loss_fn, epochs=100)\n"
      ],
      "metadata": {
        "id": "YA7eZnOuY_zf",
        "outputId": "2d690c08-5479-4439-b3a3-a1dc830bb504",
        "colab": {
          "base_uri": "https://localhost:8080/"
        }
      },
      "execution_count": 141,
      "outputs": [
        {
          "output_type": "stream",
          "name": "stdout",
          "text": [
            "Epoch 1/100, Train Loss: 0.6876, Train Accuracy: 0.5818, Val Loss: 0.6774, Val Accuracy: 0.5556\n",
            "Epoch 2/100, Train Loss: 0.6628, Train Accuracy: 0.7000, Val Loss: 0.6593, Val Accuracy: 0.5556\n",
            "Epoch 3/100, Train Loss: 0.6476, Train Accuracy: 0.7727, Val Loss: 0.6403, Val Accuracy: 0.5556\n",
            "Epoch 4/100, Train Loss: 0.6316, Train Accuracy: 0.7818, Val Loss: 0.6214, Val Accuracy: 0.6111\n",
            "Epoch 5/100, Train Loss: 0.6092, Train Accuracy: 0.8182, Val Loss: 0.6022, Val Accuracy: 0.6667\n",
            "Epoch 6/100, Train Loss: 0.5837, Train Accuracy: 0.8545, Val Loss: 0.5828, Val Accuracy: 0.6667\n",
            "Epoch 7/100, Train Loss: 0.5746, Train Accuracy: 0.8545, Val Loss: 0.5662, Val Accuracy: 0.6667\n",
            "Epoch 8/100, Train Loss: 0.5603, Train Accuracy: 0.8909, Val Loss: 0.5529, Val Accuracy: 0.6667\n",
            "Epoch 9/100, Train Loss: 0.5318, Train Accuracy: 0.8818, Val Loss: 0.5427, Val Accuracy: 0.6667\n",
            "Epoch 10/100, Train Loss: 0.5092, Train Accuracy: 0.9091, Val Loss: 0.5372, Val Accuracy: 0.6667\n",
            "Epoch 11/100, Train Loss: 0.4702, Train Accuracy: 0.9273, Val Loss: 0.5356, Val Accuracy: 0.6667\n",
            "Epoch 12/100, Train Loss: 0.4595, Train Accuracy: 0.9364, Val Loss: 0.5362, Val Accuracy: 0.6667\n",
            "Epoch 13/100, Train Loss: 0.4218, Train Accuracy: 0.9455, Val Loss: 0.5401, Val Accuracy: 0.7778\n",
            "Epoch 14/100, Train Loss: 0.4131, Train Accuracy: 0.9455, Val Loss: 0.5472, Val Accuracy: 0.7778\n",
            "Epoch 15/100, Train Loss: 0.3682, Train Accuracy: 0.9455, Val Loss: 0.5557, Val Accuracy: 0.7778\n",
            "Epoch 16/100, Train Loss: 0.3368, Train Accuracy: 0.9636, Val Loss: 0.5691, Val Accuracy: 0.7778\n",
            "Epoch 17/100, Train Loss: 0.3207, Train Accuracy: 0.9636, Val Loss: 0.5839, Val Accuracy: 0.7778\n",
            "Epoch 18/100, Train Loss: 0.2879, Train Accuracy: 0.9636, Val Loss: 0.5999, Val Accuracy: 0.7778\n",
            "Epoch 19/100, Train Loss: 0.2559, Train Accuracy: 0.9909, Val Loss: 0.6176, Val Accuracy: 0.7778\n",
            "Epoch 20/100, Train Loss: 0.2293, Train Accuracy: 0.9909, Val Loss: 0.6365, Val Accuracy: 0.7778\n",
            "Epoch 21/100, Train Loss: 0.1945, Train Accuracy: 0.9909, Val Loss: 0.6599, Val Accuracy: 0.8333\n",
            "Epoch 22/100, Train Loss: 0.1675, Train Accuracy: 0.9909, Val Loss: 0.6814, Val Accuracy: 0.7778\n",
            "Epoch 23/100, Train Loss: 0.1437, Train Accuracy: 0.9909, Val Loss: 0.7059, Val Accuracy: 0.7778\n",
            "Epoch 24/100, Train Loss: 0.1280, Train Accuracy: 0.9909, Val Loss: 0.7332, Val Accuracy: 0.8333\n",
            "Epoch 25/100, Train Loss: 0.1034, Train Accuracy: 0.9909, Val Loss: 0.7606, Val Accuracy: 0.8333\n",
            "Epoch 26/100, Train Loss: 0.0881, Train Accuracy: 1.0000, Val Loss: 0.7882, Val Accuracy: 0.8333\n",
            "Epoch 27/100, Train Loss: 0.0718, Train Accuracy: 1.0000, Val Loss: 0.8139, Val Accuracy: 0.8333\n",
            "Epoch 28/100, Train Loss: 0.0612, Train Accuracy: 1.0000, Val Loss: 0.8392, Val Accuracy: 0.8333\n",
            "Epoch 29/100, Train Loss: 0.0526, Train Accuracy: 1.0000, Val Loss: 0.8621, Val Accuracy: 0.8333\n",
            "Epoch 30/100, Train Loss: 0.0462, Train Accuracy: 1.0000, Val Loss: 0.8852, Val Accuracy: 0.8333\n",
            "Epoch 31/100, Train Loss: 0.0396, Train Accuracy: 1.0000, Val Loss: 0.9074, Val Accuracy: 0.8333\n",
            "Epoch 32/100, Train Loss: 0.0336, Train Accuracy: 1.0000, Val Loss: 0.9306, Val Accuracy: 0.8333\n",
            "Epoch 33/100, Train Loss: 0.0288, Train Accuracy: 1.0000, Val Loss: 0.9524, Val Accuracy: 0.8333\n",
            "Epoch 34/100, Train Loss: 0.0265, Train Accuracy: 1.0000, Val Loss: 0.9729, Val Accuracy: 0.8333\n",
            "Epoch 35/100, Train Loss: 0.0227, Train Accuracy: 1.0000, Val Loss: 0.9930, Val Accuracy: 0.8333\n",
            "Epoch 36/100, Train Loss: 0.0201, Train Accuracy: 1.0000, Val Loss: 1.0120, Val Accuracy: 0.8333\n",
            "Epoch 37/100, Train Loss: 0.0194, Train Accuracy: 1.0000, Val Loss: 1.0309, Val Accuracy: 0.8333\n",
            "Epoch 38/100, Train Loss: 0.0162, Train Accuracy: 1.0000, Val Loss: 1.0481, Val Accuracy: 0.8333\n",
            "Epoch 39/100, Train Loss: 0.0150, Train Accuracy: 1.0000, Val Loss: 1.0637, Val Accuracy: 0.8333\n",
            "Epoch 40/100, Train Loss: 0.0133, Train Accuracy: 1.0000, Val Loss: 1.0777, Val Accuracy: 0.8333\n",
            "Epoch 41/100, Train Loss: 0.0119, Train Accuracy: 1.0000, Val Loss: 1.0907, Val Accuracy: 0.8333\n",
            "Epoch 42/100, Train Loss: 0.0112, Train Accuracy: 1.0000, Val Loss: 1.1030, Val Accuracy: 0.8333\n",
            "Epoch 43/100, Train Loss: 0.0102, Train Accuracy: 1.0000, Val Loss: 1.1152, Val Accuracy: 0.8333\n",
            "Epoch 44/100, Train Loss: 0.0090, Train Accuracy: 1.0000, Val Loss: 1.1269, Val Accuracy: 0.8333\n",
            "Epoch 45/100, Train Loss: 0.0087, Train Accuracy: 1.0000, Val Loss: 1.1388, Val Accuracy: 0.8333\n",
            "Epoch 46/100, Train Loss: 0.0077, Train Accuracy: 1.0000, Val Loss: 1.1507, Val Accuracy: 0.8333\n",
            "Epoch 47/100, Train Loss: 0.0073, Train Accuracy: 1.0000, Val Loss: 1.1627, Val Accuracy: 0.8333\n",
            "Epoch 48/100, Train Loss: 0.0069, Train Accuracy: 1.0000, Val Loss: 1.1740, Val Accuracy: 0.8333\n",
            "Epoch 49/100, Train Loss: 0.0067, Train Accuracy: 1.0000, Val Loss: 1.1854, Val Accuracy: 0.8333\n",
            "Epoch 50/100, Train Loss: 0.0064, Train Accuracy: 1.0000, Val Loss: 1.1960, Val Accuracy: 0.8333\n",
            "Epoch 51/100, Train Loss: 0.0057, Train Accuracy: 1.0000, Val Loss: 1.2062, Val Accuracy: 0.8333\n",
            "Epoch 52/100, Train Loss: 0.0057, Train Accuracy: 1.0000, Val Loss: 1.2153, Val Accuracy: 0.8333\n",
            "Epoch 53/100, Train Loss: 0.0049, Train Accuracy: 1.0000, Val Loss: 1.2247, Val Accuracy: 0.8333\n",
            "Epoch 54/100, Train Loss: 0.0048, Train Accuracy: 1.0000, Val Loss: 1.2332, Val Accuracy: 0.8333\n",
            "Epoch 55/100, Train Loss: 0.0046, Train Accuracy: 1.0000, Val Loss: 1.2416, Val Accuracy: 0.8333\n",
            "Epoch 56/100, Train Loss: 0.0045, Train Accuracy: 1.0000, Val Loss: 1.2497, Val Accuracy: 0.8333\n",
            "Epoch 57/100, Train Loss: 0.0043, Train Accuracy: 1.0000, Val Loss: 1.2579, Val Accuracy: 0.8333\n",
            "Epoch 58/100, Train Loss: 0.0038, Train Accuracy: 1.0000, Val Loss: 1.2659, Val Accuracy: 0.8333\n",
            "Epoch 59/100, Train Loss: 0.0037, Train Accuracy: 1.0000, Val Loss: 1.2736, Val Accuracy: 0.8333\n",
            "Epoch 60/100, Train Loss: 0.0037, Train Accuracy: 1.0000, Val Loss: 1.2810, Val Accuracy: 0.8333\n",
            "Epoch 61/100, Train Loss: 0.0036, Train Accuracy: 1.0000, Val Loss: 1.2879, Val Accuracy: 0.8333\n",
            "Epoch 62/100, Train Loss: 0.0033, Train Accuracy: 1.0000, Val Loss: 1.2951, Val Accuracy: 0.8333\n",
            "Epoch 63/100, Train Loss: 0.0033, Train Accuracy: 1.0000, Val Loss: 1.3021, Val Accuracy: 0.8333\n",
            "Epoch 64/100, Train Loss: 0.0033, Train Accuracy: 1.0000, Val Loss: 1.3084, Val Accuracy: 0.8333\n",
            "Epoch 65/100, Train Loss: 0.0029, Train Accuracy: 1.0000, Val Loss: 1.3151, Val Accuracy: 0.8333\n",
            "Epoch 66/100, Train Loss: 0.0029, Train Accuracy: 1.0000, Val Loss: 1.3212, Val Accuracy: 0.8333\n",
            "Epoch 67/100, Train Loss: 0.0029, Train Accuracy: 1.0000, Val Loss: 1.3273, Val Accuracy: 0.8333\n",
            "Epoch 68/100, Train Loss: 0.0026, Train Accuracy: 1.0000, Val Loss: 1.3335, Val Accuracy: 0.8333\n",
            "Epoch 69/100, Train Loss: 0.0027, Train Accuracy: 1.0000, Val Loss: 1.3394, Val Accuracy: 0.8333\n",
            "Epoch 70/100, Train Loss: 0.0024, Train Accuracy: 1.0000, Val Loss: 1.3451, Val Accuracy: 0.8333\n",
            "Epoch 71/100, Train Loss: 0.0024, Train Accuracy: 1.0000, Val Loss: 1.3512, Val Accuracy: 0.8333\n",
            "Epoch 72/100, Train Loss: 0.0022, Train Accuracy: 1.0000, Val Loss: 1.3566, Val Accuracy: 0.8333\n",
            "Epoch 73/100, Train Loss: 0.0023, Train Accuracy: 1.0000, Val Loss: 1.3621, Val Accuracy: 0.8333\n",
            "Epoch 74/100, Train Loss: 0.0022, Train Accuracy: 1.0000, Val Loss: 1.3676, Val Accuracy: 0.8333\n",
            "Epoch 75/100, Train Loss: 0.0020, Train Accuracy: 1.0000, Val Loss: 1.3729, Val Accuracy: 0.8333\n",
            "Epoch 76/100, Train Loss: 0.0022, Train Accuracy: 1.0000, Val Loss: 1.3780, Val Accuracy: 0.8333\n",
            "Epoch 77/100, Train Loss: 0.0019, Train Accuracy: 1.0000, Val Loss: 1.3829, Val Accuracy: 0.8333\n",
            "Epoch 78/100, Train Loss: 0.0020, Train Accuracy: 1.0000, Val Loss: 1.3877, Val Accuracy: 0.8333\n",
            "Epoch 79/100, Train Loss: 0.0019, Train Accuracy: 1.0000, Val Loss: 1.3924, Val Accuracy: 0.8333\n",
            "Epoch 80/100, Train Loss: 0.0018, Train Accuracy: 1.0000, Val Loss: 1.3973, Val Accuracy: 0.8333\n",
            "Epoch 81/100, Train Loss: 0.0018, Train Accuracy: 1.0000, Val Loss: 1.4021, Val Accuracy: 0.8333\n",
            "Epoch 82/100, Train Loss: 0.0017, Train Accuracy: 1.0000, Val Loss: 1.4069, Val Accuracy: 0.8333\n",
            "Epoch 83/100, Train Loss: 0.0017, Train Accuracy: 1.0000, Val Loss: 1.4117, Val Accuracy: 0.8333\n",
            "Epoch 84/100, Train Loss: 0.0015, Train Accuracy: 1.0000, Val Loss: 1.4166, Val Accuracy: 0.8333\n",
            "Epoch 85/100, Train Loss: 0.0015, Train Accuracy: 1.0000, Val Loss: 1.4216, Val Accuracy: 0.8333\n",
            "Epoch 86/100, Train Loss: 0.0015, Train Accuracy: 1.0000, Val Loss: 1.4263, Val Accuracy: 0.8333\n",
            "Epoch 87/100, Train Loss: 0.0015, Train Accuracy: 1.0000, Val Loss: 1.4311, Val Accuracy: 0.8333\n",
            "Epoch 88/100, Train Loss: 0.0014, Train Accuracy: 1.0000, Val Loss: 1.4353, Val Accuracy: 0.8333\n",
            "Epoch 89/100, Train Loss: 0.0014, Train Accuracy: 1.0000, Val Loss: 1.4397, Val Accuracy: 0.8333\n",
            "Epoch 90/100, Train Loss: 0.0014, Train Accuracy: 1.0000, Val Loss: 1.4440, Val Accuracy: 0.8333\n",
            "Epoch 91/100, Train Loss: 0.0013, Train Accuracy: 1.0000, Val Loss: 1.4484, Val Accuracy: 0.8333\n",
            "Epoch 92/100, Train Loss: 0.0013, Train Accuracy: 1.0000, Val Loss: 1.4526, Val Accuracy: 0.8333\n",
            "Epoch 93/100, Train Loss: 0.0012, Train Accuracy: 1.0000, Val Loss: 1.4569, Val Accuracy: 0.8333\n",
            "Epoch 94/100, Train Loss: 0.0013, Train Accuracy: 1.0000, Val Loss: 1.4608, Val Accuracy: 0.8333\n",
            "Epoch 95/100, Train Loss: 0.0011, Train Accuracy: 1.0000, Val Loss: 1.4651, Val Accuracy: 0.8333\n",
            "Epoch 96/100, Train Loss: 0.0012, Train Accuracy: 1.0000, Val Loss: 1.4690, Val Accuracy: 0.8333\n",
            "Epoch 97/100, Train Loss: 0.0012, Train Accuracy: 1.0000, Val Loss: 1.4730, Val Accuracy: 0.8333\n",
            "Epoch 98/100, Train Loss: 0.0011, Train Accuracy: 1.0000, Val Loss: 1.4769, Val Accuracy: 0.8333\n",
            "Epoch 99/100, Train Loss: 0.0011, Train Accuracy: 1.0000, Val Loss: 1.4805, Val Accuracy: 0.8333\n",
            "Epoch 100/100, Train Loss: 0.0011, Train Accuracy: 1.0000, Val Loss: 1.4841, Val Accuracy: 0.8333\n"
          ]
        }
      ]
    },
    {
      "cell_type": "markdown",
      "source": [
        "5 Evaluation"
      ],
      "metadata": {
        "id": "Nl-csvbpZD8O"
      }
    },
    {
      "cell_type": "code",
      "source": [
        "import time\n",
        "import torch\n",
        "import torch.optim as optim\n",
        "from sklearn.metrics import precision_score, recall_score, f1_score, roc_auc_score\n",
        "\n",
        "# Define your model (for example, using a simple neural network)\n",
        "class SimpleNN(torch.nn.Module):\n",
        "    def __init__(self, input_dim):\n",
        "        super(SimpleNN, self).__init__()\n",
        "        self.fc1 = torch.nn.Linear(input_dim, 64)\n",
        "        self.fc2 = torch.nn.Linear(64, 32)\n",
        "        self.fc3 = torch.nn.Linear(32, 1)\n",
        "        self.sigmoid = torch.nn.Sigmoid()\n",
        "\n",
        "    def forward(self, x):\n",
        "        x = torch.relu(self.fc1(x))\n",
        "        x = torch.relu(self.fc2(x))\n",
        "        x = self.fc3(x)\n",
        "        x = self.sigmoid(x)\n",
        "        return x\n",
        "\n",
        "# Initialize model, optimizer, and loss function\n",
        "input_dim = X_train_scaled.shape[1]\n",
        "model = SimpleNN(input_dim)\n",
        "learning_rate = 0.001\n",
        "optimizer = optim.Adam(model.parameters(), lr=learning_rate)\n",
        "criterion = torch.nn.BCELoss()\n",
        "\n",
        "# Start tracking training time\n",
        "start_time = time.time()\n",
        "\n",
        "# Training loop\n",
        "epochs = 10\n",
        "for epoch in range(epochs):\n",
        "    model.train()\n",
        "    running_loss = 0.0\n",
        "    correct = 0\n",
        "    total = 0\n",
        "\n",
        "    for inputs, labels in train_loader:\n",
        "        # Move data to GPU if available\n",
        "        inputs, labels = inputs.to(device), labels.to(device)\n",
        "\n",
        "        # Zero gradients\n",
        "        optimizer.zero_grad()\n",
        "\n",
        "        # Forward pass\n",
        "        outputs = model(inputs)\n",
        "        loss = criterion(outputs.squeeze(), labels)\n",
        "\n",
        "        # Backward pass and optimization\n",
        "        loss.backward()\n",
        "        optimizer.step()\n",
        "\n",
        "        # Update metrics\n",
        "        running_loss += loss.item()\n",
        "        predicted = (outputs.squeeze() > 0.5).float()\n",
        "        correct += (predicted == labels).sum().item()\n",
        "        total += labels.size(0)\n",
        "\n",
        "    epoch_loss = running_loss / len(train_loader)\n",
        "    epoch_accuracy = 100 * correct / total\n",
        "\n",
        "    # Evaluation on validation set after each epoch\n",
        "    model.eval()\n",
        "    val_preds, val_labels = [], []\n",
        "    with torch.no_grad():\n",
        "        for inputs, labels in val_loader:\n",
        "            inputs, labels = inputs.to(device), labels.to(device)\n",
        "            outputs = model(inputs)\n",
        "            val_preds.append(outputs.squeeze().cpu().numpy())\n",
        "            val_labels.append(labels.cpu().numpy())\n",
        "\n",
        "    val_preds = np.concatenate(val_preds)\n",
        "    val_labels = np.concatenate(val_labels)\n",
        "\n",
        "    # Calculate metrics\n",
        "    val_precision = precision_score(val_labels, (val_preds > 0.5).astype(int))\n",
        "    val_recall = recall_score(val_labels, (val_preds > 0.5).astype(int))\n",
        "    val_f1 = f1_score(val_labels, (val_preds > 0.5).astype(int))\n",
        "    val_auc = roc_auc_score(val_labels, val_preds)\n",
        "\n",
        "    # Print metrics\n",
        "    print(f\"Epoch {epoch+1}/{epochs} | Loss: {epoch_loss:.4f} | Accuracy: {epoch_accuracy:.2f}%\")\n",
        "    print(f\"Validation Precision: {val_precision:.4f} | Validation Recall: {val_recall:.4f}\")\n",
        "    print(f\"Validation F1-Score: {val_f1:.4f} | Validation AUC: {val_auc:.4f}\")\n",
        "\n",
        "# End training time\n",
        "end_time = time.time()\n",
        "training_time = end_time - start_time\n",
        "\n",
        "# Final evaluation on test set\n",
        "model.eval()\n",
        "test_preds, test_labels = [], []\n",
        "with torch.no_grad():\n",
        "    for inputs, labels in test_loader:\n",
        "        inputs, labels = inputs.to(device), labels.to(device)\n",
        "        outputs = model(inputs)\n",
        "        test_preds.append(outputs.squeeze().cpu().numpy())\n",
        "        test_labels.append(labels.cpu().numpy())\n",
        "\n",
        "test_preds = np.concatenate(test_preds)\n",
        "test_labels = np.concatenate(test_labels)\n",
        "\n",
        "# Calculate final test metrics\n",
        "test_precision = precision_score(test_labels, (test_preds > 0.5).astype(int))\n",
        "test_recall = recall_score(test_labels, (test_preds > 0.5).astype(int))\n",
        "test_f1 = f1_score(test_labels, (test_preds > 0.5).astype(int))\n",
        "test_auc = roc_auc_score(test_labels, test_preds)\n",
        "\n",
        "# Print test metrics\n",
        "print(\"\\nTest Metrics:\")\n",
        "print(f\"Test Precision: {test_precision:.4f} | Test Recall: {test_recall:.4f}\")\n",
        "print(f\"Test F1-Score: {test_f1:.4f} | Test AUC: {test_auc:.4f}\")\n",
        "\n",
        "# Print learning rate and training time\n",
        "print(f\"\\nLearning Rate: {learning_rate}\")\n",
        "print(f\"Training Time: {training_time:.2f} seconds\")\n"
      ],
      "metadata": {
        "id": "l4VXdK-bZJJW",
        "outputId": "37630113-1b98-48cc-9347-982d3559fe8f",
        "colab": {
          "base_uri": "https://localhost:8080/"
        }
      },
      "execution_count": 144,
      "outputs": [
        {
          "output_type": "stream",
          "name": "stdout",
          "text": [
            "Epoch 1/10 | Loss: 0.6937 | Accuracy: 49.09%\n",
            "Validation Precision: 0.3333 | Validation Recall: 1.0000\n",
            "Validation F1-Score: 0.5000 | Validation AUC: 0.5694\n",
            "Epoch 2/10 | Loss: 0.6743 | Accuracy: 60.91%\n",
            "Validation Precision: 0.4167 | Validation Recall: 0.8333\n",
            "Validation F1-Score: 0.5556 | Validation AUC: 0.6944\n",
            "Epoch 3/10 | Loss: 0.6608 | Accuracy: 72.73%\n",
            "Validation Precision: 0.5000 | Validation Recall: 0.8333\n",
            "Validation F1-Score: 0.6250 | Validation AUC: 0.7500\n",
            "Epoch 4/10 | Loss: 0.6394 | Accuracy: 75.45%\n",
            "Validation Precision: 0.6250 | Validation Recall: 0.8333\n",
            "Validation F1-Score: 0.7143 | Validation AUC: 0.6944\n",
            "Epoch 5/10 | Loss: 0.6275 | Accuracy: 79.09%\n",
            "Validation Precision: 0.4000 | Validation Recall: 0.3333\n",
            "Validation F1-Score: 0.3636 | Validation AUC: 0.6806\n",
            "Epoch 6/10 | Loss: 0.6048 | Accuracy: 81.82%\n",
            "Validation Precision: 0.4000 | Validation Recall: 0.3333\n",
            "Validation F1-Score: 0.3636 | Validation AUC: 0.6667\n",
            "Epoch 7/10 | Loss: 0.5870 | Accuracy: 82.73%\n",
            "Validation Precision: 0.4000 | Validation Recall: 0.3333\n",
            "Validation F1-Score: 0.3636 | Validation AUC: 0.6667\n",
            "Epoch 8/10 | Loss: 0.5636 | Accuracy: 84.55%\n",
            "Validation Precision: 0.2500 | Validation Recall: 0.1667\n",
            "Validation F1-Score: 0.2000 | Validation AUC: 0.6806\n",
            "Epoch 9/10 | Loss: 0.5481 | Accuracy: 87.27%\n",
            "Validation Precision: 0.2500 | Validation Recall: 0.1667\n",
            "Validation F1-Score: 0.2000 | Validation AUC: 0.6806\n",
            "Epoch 10/10 | Loss: 0.5184 | Accuracy: 89.09%\n",
            "Validation Precision: 0.2500 | Validation Recall: 0.1667\n",
            "Validation F1-Score: 0.2000 | Validation AUC: 0.6806\n",
            "\n",
            "Test Metrics:\n",
            "Test Precision: 0.3333 | Test Recall: 0.1667\n",
            "Test F1-Score: 0.2222 | Test AUC: 0.5000\n",
            "\n",
            "Learning Rate: 0.001\n",
            "Training Time: 0.52 seconds\n"
          ]
        }
      ]
    },
    {
      "cell_type": "markdown",
      "source": [
        "Saving best model"
      ],
      "metadata": {
        "id": "euqsffLGZVVK"
      }
    },
    {
      "cell_type": "code",
      "source": [
        "# Load the best model for inference\n",
        "best_model = FeedForwardNN(input_dim)\n",
        "best_model.load_state_dict(torch.load(\"best_feedforward_model.pth\"))\n",
        "best_model.to(device)\n"
      ],
      "metadata": {
        "id": "qvj6IrhQZXf7",
        "outputId": "ee7d0fb9-68fe-45d3-a8ef-f72f17022784",
        "colab": {
          "base_uri": "https://localhost:8080/"
        }
      },
      "execution_count": 143,
      "outputs": [
        {
          "output_type": "stream",
          "name": "stderr",
          "text": [
            "<ipython-input-143-55df29be72a9>:3: FutureWarning: You are using `torch.load` with `weights_only=False` (the current default value), which uses the default pickle module implicitly. It is possible to construct malicious pickle data which will execute arbitrary code during unpickling (See https://github.com/pytorch/pytorch/blob/main/SECURITY.md#untrusted-models for more details). In a future release, the default value for `weights_only` will be flipped to `True`. This limits the functions that could be executed during unpickling. Arbitrary objects will no longer be allowed to be loaded via this mode unless they are explicitly allowlisted by the user via `torch.serialization.add_safe_globals`. We recommend you start setting `weights_only=True` for any use case where you don't have full control of the loaded file. Please open an issue on GitHub for any issues related to this experimental feature.\n",
            "  best_model.load_state_dict(torch.load(\"best_feedforward_model.pth\"))\n"
          ]
        },
        {
          "output_type": "execute_result",
          "data": {
            "text/plain": [
              "FeedForwardNN(\n",
              "  (fc1): Linear(in_features=59, out_features=64, bias=True)\n",
              "  (fc2): Linear(in_features=64, out_features=32, bias=True)\n",
              "  (fc3): Linear(in_features=32, out_features=1, bias=True)\n",
              "  (sigmoid): Sigmoid()\n",
              ")"
            ]
          },
          "metadata": {},
          "execution_count": 143
        }
      ]
    },
    {
      "cell_type": "markdown",
      "source": [
        "## Implement Logisitic Regretion"
      ],
      "metadata": {
        "id": "KlciCDP2a9ge"
      }
    },
    {
      "cell_type": "markdown",
      "source": [
        "1 Import Libraries"
      ],
      "metadata": {
        "id": "UbYCxxEFcj16"
      }
    },
    {
      "cell_type": "code",
      "source": [
        "from sklearn.linear_model import LogisticRegression\n",
        "import time\n",
        "from sklearn.metrics import precision_score, recall_score, f1_score, roc_auc_score\n",
        "from sklearn.preprocessing import StandardScaler\n",
        "\n",
        "# Assuming data preprocessing has been done and the data is available in these variables\n",
        "# X_train, X_val, X_test, y_train, y_val, y_test\n",
        "# Scaling features\n",
        "scaler = StandardScaler()\n",
        "X_train_scaled = scaler.fit_transform(X_train)\n",
        "X_val_scaled = scaler.transform(X_val)\n",
        "X_test_scaled = scaler.transform(X_test)\n"
      ],
      "metadata": {
        "id": "xV1CAogFbJLk"
      },
      "execution_count": 147,
      "outputs": []
    },
    {
      "cell_type": "markdown",
      "source": [
        "2. Training"
      ],
      "metadata": {
        "id": "xN9ha_HTcv_1"
      }
    },
    {
      "cell_type": "code",
      "source": [
        "# Initialize the Logistic Regression model\n",
        "logreg_model = LogisticRegression(random_state=42, max_iter=1000)\n",
        "\n",
        "# Record the start time for training\n",
        "start_time = time.time()\n",
        "\n",
        "# Train the model\n",
        "logreg_model.fit(X_train_scaled, y_train)\n",
        "\n",
        "# Record the end time for training\n",
        "end_time = time.time()\n",
        "\n",
        "# Calculate the training time\n",
        "training_time = end_time - start_time\n"
      ],
      "metadata": {
        "id": "oZZWnBw6c12n"
      },
      "execution_count": 148,
      "outputs": []
    },
    {
      "cell_type": "markdown",
      "source": [
        "3. Evaluation"
      ],
      "metadata": {
        "id": "deejg0w_c3h_"
      }
    },
    {
      "cell_type": "code",
      "source": [
        "# Predict on train, validation, and test sets\n",
        "y_train_pred = logreg_model.predict(X_train_scaled)\n",
        "y_val_pred = logreg_model.predict(X_val_scaled)\n",
        "y_test_pred = logreg_model.predict(X_test_scaled)\n",
        "\n",
        "# Calculate metrics for training, validation, and test sets\n",
        "train_precision = precision_score(y_train, y_train_pred)\n",
        "train_recall = recall_score(y_train, y_train_pred)\n",
        "train_f1 = f1_score(y_train, y_train_pred)\n",
        "train_auc = roc_auc_score(y_train, y_train_pred)\n",
        "\n",
        "val_precision = precision_score(y_val, y_val_pred)\n",
        "val_recall = recall_score(y_val, y_val_pred)\n",
        "val_f1 = f1_score(y_val, y_val_pred)\n",
        "val_auc = roc_auc_score(y_val, y_val_pred)\n",
        "\n",
        "test_precision = precision_score(y_test, y_test_pred)\n",
        "test_recall = recall_score(y_test, y_test_pred)\n",
        "test_f1 = f1_score(y_test, y_test_pred)\n",
        "test_auc = roc_auc_score(y_test, y_test_pred)\n",
        "\n",
        "# Print the metrics and training time\n",
        "print(f\"Training time: {training_time:.2f} seconds\")\n",
        "print(f\"Training Precision: {train_precision:.4f} | Training Recall: {train_recall:.4f} | Training F1-Score: {train_f1:.4f} | Training AUC: {train_auc:.4f}\")\n",
        "print(f\"Validation Precision: {val_precision:.4f} | Validation Recall: {val_recall:.4f} | Validation F1-Score: {val_f1:.4f} | Validation AUC: {val_auc:.4f}\")\n",
        "print(f\"Test Precision: {test_precision:.4f} | Test Recall: {test_recall:.4f} | Test F1-Score: {test_f1:.4f} | Test AUC: {test_auc:.4f}\")\n"
      ],
      "metadata": {
        "id": "BR_Vi3aqc5mo",
        "outputId": "5a4675f8-7526-434e-ba60-a554caf0542d",
        "colab": {
          "base_uri": "https://localhost:8080/"
        }
      },
      "execution_count": 149,
      "outputs": [
        {
          "output_type": "stream",
          "name": "stdout",
          "text": [
            "Training time: 0.07 seconds\n",
            "Training Precision: 1.0000 | Training Recall: 1.0000 | Training F1-Score: 1.0000 | Training AUC: 1.0000\n",
            "Validation Precision: 1.0000 | Validation Recall: 0.5000 | Validation F1-Score: 0.6667 | Validation AUC: 0.7500\n",
            "Test Precision: 0.2500 | Test Recall: 0.1667 | Test F1-Score: 0.2000 | Test AUC: 0.4583\n"
          ]
        }
      ]
    },
    {
      "cell_type": "markdown",
      "source": [
        "## Implementing Support Vector Machine"
      ],
      "metadata": {
        "id": "RYj2KN_odCZE"
      }
    },
    {
      "cell_type": "code",
      "source": [
        "from sklearn.svm import SVC\n",
        "import time\n",
        "from sklearn.metrics import precision_score, recall_score, f1_score, roc_auc_score\n",
        "from sklearn.preprocessing import StandardScaler\n",
        "\n",
        "# Assuming data preprocessing has been done and the data is available in these variables\n",
        "# X_train, X_val, X_test, y_train, y_val, y_test\n",
        "# Scaling features\n",
        "scaler = StandardScaler()\n",
        "X_train_scaled = scaler.fit_transform(X_train)\n",
        "X_val_scaled = scaler.transform(X_val)\n",
        "X_test_scaled = scaler.transform(X_test)\n",
        "\n",
        "\n",
        "# Initialize the SVM model with a radial basis function kernel\n",
        "svm_model = SVC(probability=True, random_state=42)\n",
        "\n",
        "# Record the start time for training\n",
        "start_time = time.time()\n",
        "\n",
        "# Train the model\n",
        "svm_model.fit(X_train_scaled, y_train)\n",
        "\n",
        "# Record the end time for training\n",
        "end_time = time.time()\n",
        "\n",
        "# Calculate the training time\n",
        "training_time = end_time - start_time\n"
      ],
      "metadata": {
        "id": "rweuNg7udRko"
      },
      "execution_count": 150,
      "outputs": []
    },
    {
      "cell_type": "markdown",
      "source": [
        "Evaluation"
      ],
      "metadata": {
        "id": "Z9kyZ_mNde_I"
      }
    },
    {
      "cell_type": "code",
      "source": [
        "# Predict on train, validation, and test sets\n",
        "y_train_pred = svm_model.predict(X_train_scaled)\n",
        "y_val_pred = svm_model.predict(X_val_scaled)\n",
        "y_test_pred = svm_model.predict(X_test_scaled)\n",
        "\n",
        "# Calculate metrics for training, validation, and test sets\n",
        "train_precision = precision_score(y_train, y_train_pred)\n",
        "train_recall = recall_score(y_train, y_train_pred)\n",
        "train_f1 = f1_score(y_train, y_train_pred)\n",
        "train_auc = roc_auc_score(y_train, svm_model.predict_proba(X_train_scaled)[:, 1])\n",
        "\n",
        "val_precision = precision_score(y_val, y_val_pred)\n",
        "val_recall = recall_score(y_val, y_val_pred)\n",
        "val_f1 = f1_score(y_val, y_val_pred)\n",
        "val_auc = roc_auc_score(y_val, svm_model.predict_proba(X_val_scaled)[:, 1])\n",
        "\n",
        "test_precision = precision_score(y_test, y_test_pred)\n",
        "test_recall = recall_score(y_test, y_test_pred)\n",
        "test_f1 = f1_score(y_test, y_test_pred)\n",
        "test_auc = roc_auc_score(y_test, svm_model.predict_proba(X_test_scaled)[:, 1])\n",
        "\n",
        "# Print the metrics and training time\n",
        "print(f\"Training time: {training_time:.2f} seconds\")\n",
        "print(f\"Training Precision: {train_precision:.4f} | Training Recall: {train_recall:.4f} | Training F1-Score: {train_f1:.4f} | Training AUC: {train_auc:.4f}\")\n",
        "print(f\"Validation Precision: {val_precision:.4f} | Validation Recall: {val_recall:.4f} | Validation F1-Score: {val_f1:.4f} | Validation AUC: {val_auc:.4f}\")\n",
        "print(f\"Test Precision: {test_precision:.4f} | Test Recall: {test_recall:.4f} | Test F1-Score: {test_f1:.4f} | Test AUC: {test_auc:.4f}\")\n"
      ],
      "metadata": {
        "id": "l0y3VIgydgzl",
        "outputId": "b2a5f2e0-daa0-413e-ff6f-73ca51ba6efa",
        "colab": {
          "base_uri": "https://localhost:8080/"
        }
      },
      "execution_count": 151,
      "outputs": [
        {
          "output_type": "stream",
          "name": "stdout",
          "text": [
            "Training time: 0.01 seconds\n",
            "Training Precision: 1.0000 | Training Recall: 0.7308 | Training F1-Score: 0.8444 | Training AUC: 1.0000\n",
            "Validation Precision: 1.0000 | Validation Recall: 0.1667 | Validation F1-Score: 0.2857 | Validation AUC: 0.6389\n",
            "Test Precision: 0.0000 | Test Recall: 0.0000 | Test F1-Score: 0.0000 | Test AUC: 0.4167\n"
          ]
        },
        {
          "output_type": "stream",
          "name": "stderr",
          "text": [
            "/usr/local/lib/python3.11/dist-packages/sklearn/metrics/_classification.py:1565: UndefinedMetricWarning: Precision is ill-defined and being set to 0.0 due to no predicted samples. Use `zero_division` parameter to control this behavior.\n",
            "  _warn_prf(average, modifier, f\"{metric.capitalize()} is\", len(result))\n"
          ]
        }
      ]
    },
    {
      "cell_type": "markdown",
      "source": [
        "## Implementing Random Forest Classifier"
      ],
      "metadata": {
        "id": "Gxv7fW3_dqK8"
      }
    },
    {
      "cell_type": "code",
      "source": [
        "from sklearn.ensemble import RandomForestClassifier\n",
        "import time\n",
        "from sklearn.metrics import precision_score, recall_score, f1_score, roc_auc_score\n",
        "from sklearn.preprocessing import StandardScaler\n",
        "\n",
        "# Assuming data preprocessing has been done and the data is available in these variables\n",
        "# X_train, X_val, X_test, y_train, y_val, y_test\n",
        "# Scaling features\n",
        "scaler = StandardScaler()\n",
        "X_train_scaled = scaler.fit_transform(X_train)\n",
        "X_val_scaled = scaler.transform(X_val)\n",
        "X_test_scaled = scaler.transform(X_test)\n",
        "\n",
        "#TRAINING\n",
        "\n",
        "# Initialize the Random Forest model\n",
        "rf_model = RandomForestClassifier(n_estimators=100, random_state=42)\n",
        "\n",
        "# Record the start time for training\n",
        "start_time = time.time()\n",
        "\n",
        "# Train the model\n",
        "rf_model.fit(X_train_scaled, y_train)\n",
        "\n",
        "# Record the end time for training\n",
        "end_time = time.time()\n",
        "\n",
        "# Calculate the training time\n",
        "training_time = end_time - start_time\n",
        "\n",
        "#EVALUATION\n",
        "\n",
        "# Predict on train, validation, and test sets\n",
        "y_train_pred = rf_model.predict(X_train_scaled)\n",
        "y_val_pred = rf_model.predict(X_val_scaled)\n",
        "y_test_pred = rf_model.predict(X_test_scaled)\n",
        "\n",
        "# Calculate metrics for training, validation, and test sets\n",
        "train_precision = precision_score(y_train, y_train_pred)\n",
        "train_recall = recall_score(y_train, y_train_pred)\n",
        "train_f1 = f1_score(y_train, y_train_pred)\n",
        "train_auc = roc_auc_score(y_train, rf_model.predict_proba(X_train_scaled)[:, 1])\n",
        "\n",
        "val_precision = precision_score(y_val, y_val_pred)\n",
        "val_recall = recall_score(y_val, y_val_pred)\n",
        "val_f1 = f1_score(y_val, y_val_pred)\n",
        "val_auc = roc_auc_score(y_val, rf_model.predict_proba(X_val_scaled)[:, 1])\n",
        "\n",
        "test_precision = precision_score(y_test, y_test_pred)\n",
        "test_recall = recall_score(y_test, y_test_pred)\n",
        "test_f1 = f1_score(y_test, y_test_pred)\n",
        "test_auc = roc_auc_score(y_test, rf_model.predict_proba(X_test_scaled)[:, 1])\n",
        "\n",
        "# Print the metrics and training time\n",
        "print(f\"Training time: {training_time:.2f} seconds\")\n",
        "print(f\"Training Precision: {train_precision:.4f} | Training Recall: {train_recall:.4f} | Training F1-Score: {train_f1:.4f} | Training AUC: {train_auc:.4f}\")\n",
        "print(f\"Validation Precision: {val_precision:.4f} | Validation Recall: {val_recall:.4f} | Validation F1-Score: {val_f1:.4f} | Validation AUC: {val_auc:.4f}\")\n",
        "print(f\"Test Precision: {test_precision:.4f} | Test Recall: {test_recall:.4f} | Test F1-Score: {test_f1:.4f} | Test AUC: {test_auc:.4f}\")\n"
      ],
      "metadata": {
        "id": "_6Sq7pKDd_kO",
        "outputId": "9d6c4da0-688d-441d-f991-482a751ab36d",
        "colab": {
          "base_uri": "https://localhost:8080/"
        }
      },
      "execution_count": 152,
      "outputs": [
        {
          "output_type": "stream",
          "name": "stdout",
          "text": [
            "Training time: 0.15 seconds\n",
            "Training Precision: 1.0000 | Training Recall: 1.0000 | Training F1-Score: 1.0000 | Training AUC: 1.0000\n",
            "Validation Precision: 0.7500 | Validation Recall: 0.5000 | Validation F1-Score: 0.6000 | Validation AUC: 0.7917\n",
            "Test Precision: 1.0000 | Test Recall: 0.1667 | Test F1-Score: 0.2857 | Test AUC: 0.4653\n"
          ]
        }
      ]
    },
    {
      "cell_type": "markdown",
      "source": [
        "## Implementing a K-Nearest Neighbor"
      ],
      "metadata": {
        "id": "VC7wLDMjfDAN"
      }
    },
    {
      "cell_type": "code",
      "source": [
        "from sklearn.neighbors import KNeighborsClassifier\n",
        "from sklearn.metrics import classification_report, accuracy_score\n",
        "import time\n",
        "\n",
        "# Initialize KNN model\n",
        "knn_model = KNeighborsClassifier(n_neighbors=5)\n",
        "\n",
        "# Record the start time for training\n",
        "start_time = time.time()\n",
        "\n",
        "# Train the model\n",
        "knn_model.fit(X_train_scaled, y_train)\n",
        "\n",
        "# Record the end time for training\n",
        "end_time = time.time()\n",
        "\n",
        "# Calculate training time\n",
        "training_time = end_time - start_time\n",
        "\n",
        "# Make predictions on the test set\n",
        "y_pred_knn = knn_model.predict(X_test_scaled)\n",
        "\n",
        "# Evaluate the model\n",
        "accuracy = accuracy_score(y_test, y_pred_knn)\n",
        "report = classification_report(y_test, y_pred_knn)\n",
        "\n",
        "# Store the metrics\n",
        "print(\"KNN Model Test Metrics:\")\n",
        "print(f\"Accuracy: {accuracy:.4f}\")\n",
        "print(f\"Training Time: {training_time:.4f} seconds\")\n",
        "print(\"Classification Report:\\n\", report)\n",
        "\n",
        "# Optionally, return metrics if you plan to store them\n",
        "metrics = {\n",
        "    \"model\": \"KNN\",\n",
        "    \"accuracy\": accuracy,\n",
        "    \"training_time\": training_time,\n",
        "    \"classification_report\": report\n",
        "}\n"
      ],
      "metadata": {
        "id": "89j6P0lBfPE2",
        "outputId": "c57d81a8-14cc-4dc2-eb93-5f0fb2048f12",
        "colab": {
          "base_uri": "https://localhost:8080/"
        }
      },
      "execution_count": 153,
      "outputs": [
        {
          "output_type": "stream",
          "name": "stdout",
          "text": [
            "KNN Model Test Metrics:\n",
            "Accuracy: 0.7222\n",
            "Training Time: 0.0052 seconds\n",
            "Classification Report:\n",
            "               precision    recall  f1-score   support\n",
            "\n",
            "           0       0.73      0.92      0.81        12\n",
            "           1       0.67      0.33      0.44         6\n",
            "\n",
            "    accuracy                           0.72        18\n",
            "   macro avg       0.70      0.62      0.63        18\n",
            "weighted avg       0.71      0.72      0.69        18\n",
            "\n"
          ]
        }
      ]
    },
    {
      "cell_type": "markdown",
      "source": [
        "Implementing Gradient Boost machine"
      ],
      "metadata": {
        "id": "YEVJvZG7fUYp"
      }
    },
    {
      "cell_type": "code",
      "source": [
        "from sklearn.ensemble import GradientBoostingClassifier\n",
        "from sklearn.metrics import precision_score, recall_score, f1_score, roc_auc_score\n",
        "import time\n",
        "\n",
        "# Initialize Gradient Boosting Classifier\n",
        "gbm_model = GradientBoostingClassifier(n_estimators=100, learning_rate=0.1, max_depth=3, random_state=42)\n",
        "\n",
        "# Record the start time for training\n",
        "start_time = time.time()\n",
        "\n",
        "# Train the model\n",
        "gbm_model.fit(X_train_scaled, y_train)\n",
        "\n",
        "# Record the end time for training\n",
        "end_time = time.time()\n",
        "training_time = end_time - start_time\n",
        "\n",
        "# Predict on the validation and test sets\n",
        "y_val_pred = gbm_model.predict(X_val_scaled)\n",
        "y_test_pred = gbm_model.predict(X_test_scaled)\n",
        "\n",
        "# Calculate metrics for evaluation\n",
        "val_precision = precision_score(y_val, y_val_pred)\n",
        "val_recall = recall_score(y_val, y_val_pred)\n",
        "val_f1 = f1_score(y_val, y_val_pred)\n",
        "val_auc = roc_auc_score(y_val, gbm_model.predict_proba(X_val_scaled)[:, 1])\n",
        "\n",
        "test_precision = precision_score(y_test, y_test_pred)\n",
        "test_recall = recall_score(y_test, y_test_pred)\n",
        "test_f1 = f1_score(y_test, y_test_pred)\n",
        "test_auc = roc_auc_score(y_test, gbm_model.predict_proba(X_test_scaled)[:, 1])\n",
        "\n",
        "# Print the evaluation metrics\n",
        "print(f\"Gradient Boosting Model Evaluation (Validation Set):\")\n",
        "print(f\"Validation Precision: {val_precision:.4f} | Validation Recall: {val_recall:.4f}\")\n",
        "print(f\"Validation F1-Score: {val_f1:.4f} | Validation AUC: {val_auc:.4f}\")\n",
        "\n",
        "print(f\"\\nGradient Boosting Model Evaluation (Test Set):\")\n",
        "print(f\"Test Precision: {test_precision:.4f} | Test Recall: {test_recall:.4f}\")\n",
        "print(f\"Test F1-Score: {test_f1:.4f} | Test AUC: {test_auc:.4f}\")\n",
        "\n",
        "print(f\"\\nTraining Time: {training_time:.4f} seconds\")\n"
      ],
      "metadata": {
        "id": "wnfUNlupf0Vn",
        "outputId": "fa9aab3e-5853-495c-ed80-f9d1f4c64e59",
        "colab": {
          "base_uri": "https://localhost:8080/"
        }
      },
      "execution_count": 154,
      "outputs": [
        {
          "output_type": "stream",
          "name": "stdout",
          "text": [
            "Gradient Boosting Model Evaluation (Validation Set):\n",
            "Validation Precision: 0.5000 | Validation Recall: 0.5000\n",
            "Validation F1-Score: 0.5000 | Validation AUC: 0.6389\n",
            "\n",
            "Gradient Boosting Model Evaluation (Test Set):\n",
            "Test Precision: 0.3333 | Test Recall: 0.3333\n",
            "Test F1-Score: 0.3333 | Test AUC: 0.4444\n",
            "\n",
            "Training Time: 0.2934 seconds\n"
          ]
        }
      ]
    },
    {
      "cell_type": "markdown",
      "source": [
        "## Implementing XGBoost"
      ],
      "metadata": {
        "id": "ODQ1xV3bf3dF"
      }
    },
    {
      "cell_type": "code",
      "source": [
        "!pip install xgboost\n"
      ],
      "metadata": {
        "id": "TlYAPJOsgTrO",
        "outputId": "b89e228f-dbd8-4708-83a8-f969dcac4f55",
        "colab": {
          "base_uri": "https://localhost:8080/"
        }
      },
      "execution_count": 155,
      "outputs": [
        {
          "output_type": "stream",
          "name": "stdout",
          "text": [
            "Requirement already satisfied: xgboost in /usr/local/lib/python3.11/dist-packages (2.1.4)\n",
            "Requirement already satisfied: numpy in /usr/local/lib/python3.11/dist-packages (from xgboost) (1.26.4)\n",
            "Requirement already satisfied: nvidia-nccl-cu12 in /usr/local/lib/python3.11/dist-packages (from xgboost) (2.21.5)\n",
            "Requirement already satisfied: scipy in /usr/local/lib/python3.11/dist-packages (from xgboost) (1.13.1)\n"
          ]
        }
      ]
    },
    {
      "cell_type": "code",
      "source": [
        "import xgboost as xgb\n",
        "from sklearn.metrics import precision_score, recall_score, f1_score, roc_auc_score\n",
        "import time\n",
        "\n",
        "# Initialize XGBoost Classifier\n",
        "xgboost_model = xgb.XGBClassifier(n_estimators=100, learning_rate=0.1, max_depth=3, random_state=42)\n",
        "\n",
        "# Record the start time for training\n",
        "start_time = time.time()\n",
        "\n",
        "# Train the model\n",
        "xgboost_model.fit(X_train_scaled, y_train)\n",
        "\n",
        "# Record the end time for training\n",
        "end_time = time.time()\n",
        "training_time = end_time - start_time\n",
        "\n",
        "# Predict on the validation and test sets\n",
        "y_val_pred = xgboost_model.predict(X_val_scaled)\n",
        "y_test_pred = xgboost_model.predict(X_test_scaled)\n",
        "\n",
        "# Calculate metrics for evaluation\n",
        "val_precision = precision_score(y_val, y_val_pred)\n",
        "val_recall = recall_score(y_val, y_val_pred)\n",
        "val_f1 = f1_score(y_val, y_val_pred)\n",
        "val_auc = roc_auc_score(y_val, xgboost_model.predict_proba(X_val_scaled)[:, 1])\n",
        "\n",
        "test_precision = precision_score(y_test, y_test_pred)\n",
        "test_recall = recall_score(y_test, y_test_pred)\n",
        "test_f1 = f1_score(y_test, y_test_pred)\n",
        "test_auc = roc_auc_score(y_test, xgboost_model.predict_proba(X_test_scaled)[:, 1])\n",
        "\n",
        "# Print the evaluation metrics\n",
        "print(f\"XGBoost Model Evaluation (Validation Set):\")\n",
        "print(f\"Validation Precision: {val_precision:.4f} | Validation Recall: {val_recall:.4f}\")\n",
        "print(f\"Validation F1-Score: {val_f1:.4f} | Validation AUC: {val_auc:.4f}\")\n",
        "\n",
        "print(f\"\\nXGBoost Model Evaluation (Test Set):\")\n",
        "print(f\"Test Precision: {test_precision:.4f} | Test Recall: {test_recall:.4f}\")\n",
        "print(f\"Test F1-Score: {test_f1:.4f} | Test AUC: {test_auc:.4f}\")\n",
        "\n",
        "print(f\"\\nTraining Time: {training_time:.4f} seconds\")\n"
      ],
      "metadata": {
        "id": "SRRCjGpcgcEf",
        "outputId": "5c8c9415-95b4-413f-97f6-29a41a892346",
        "colab": {
          "base_uri": "https://localhost:8080/"
        }
      },
      "execution_count": 156,
      "outputs": [
        {
          "output_type": "stream",
          "name": "stdout",
          "text": [
            "XGBoost Model Evaluation (Validation Set):\n",
            "Validation Precision: 0.6000 | Validation Recall: 0.5000\n",
            "Validation F1-Score: 0.5455 | Validation AUC: 0.5556\n",
            "\n",
            "XGBoost Model Evaluation (Test Set):\n",
            "Test Precision: 0.2000 | Test Recall: 0.1667\n",
            "Test F1-Score: 0.1818 | Test AUC: 0.3750\n",
            "\n",
            "Training Time: 0.0725 seconds\n"
          ]
        }
      ]
    },
    {
      "cell_type": "markdown",
      "source": [
        "## Implementing"
      ],
      "metadata": {
        "id": "trCnfvrqhGK4"
      }
    }
  ]
}