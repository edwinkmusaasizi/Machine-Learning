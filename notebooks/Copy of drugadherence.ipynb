{
  "nbformat": 4,
  "nbformat_minor": 0,
  "metadata": {
    "colab": {
      "provenance": [],
      "authorship_tag": "ABX9TyPGnCZJoz7SKASg79noGoud"
    },
    "kernelspec": {
      "name": "python3",
      "display_name": "Python 3"
    },
    "language_info": {
      "name": "python"
    }
  },
  "cells": [
    {
      "cell_type": "code",
      "execution_count": 1,
      "metadata": {
        "colab": {
          "base_uri": "https://localhost:8080/"
        },
        "collapsed": true,
        "id": "h4fuIGZJTyAw",
        "outputId": "f124f8b6-696a-4f3b-eab0-6ebd96666d64"
      },
      "outputs": [
        {
          "output_type": "stream",
          "name": "stdout",
          "text": [
            "fatal: destination path 'Machine-Learning' already exists and is not an empty directory.\n"
          ]
        }
      ],
      "source": [
        "!git clone https://github.com/edwinkmusaasizi/Machine-Learning.git"
      ]
    },
    {
      "cell_type": "code",
      "source": [
        "\n",
        "!ls"
      ],
      "metadata": {
        "colab": {
          "base_uri": "https://localhost:8080/"
        },
        "id": "7aizPwFV_7Te",
        "outputId": "21b2e472-b63b-40bb-f732-0ced902c330f"
      },
      "execution_count": 2,
      "outputs": [
        {
          "output_type": "stream",
          "name": "stdout",
          "text": [
            "Machine-Learning  sample_data\n"
          ]
        }
      ]
    },
    {
      "cell_type": "code",
      "source": [
        "%cd Machine-Learning\n",
        "!ls"
      ],
      "metadata": {
        "colab": {
          "base_uri": "https://localhost:8080/"
        },
        "id": "XOq1g9EKBMoS",
        "outputId": "cc77724d-c670-4c44-9dc7-67304b704f31"
      },
      "execution_count": 3,
      "outputs": [
        {
          "output_type": "stream",
          "name": "stdout",
          "text": [
            "/content/Machine-Learning\n",
            "data\t Machine-Learning  notebooks  references  requirements.txt\n",
            "LICENCE  models\t\t   README.md  reports\t  src\n"
          ]
        }
      ]
    },
    {
      "cell_type": "code",
      "source": [
        "!ls"
      ],
      "metadata": {
        "colab": {
          "base_uri": "https://localhost:8080/"
        },
        "collapsed": true,
        "id": "V3W_IUneUtZX",
        "outputId": "e9a1662a-6e5e-47e1-e724-50d3befd4820"
      },
      "execution_count": null,
      "outputs": [
        {
          "output_type": "stream",
          "name": "stdout",
          "text": [
            "cleaned_mental_health_data.csv\n"
          ]
        }
      ]
    },
    {
      "cell_type": "code",
      "source": [
        "import pandas as pd\n",
        "df = pd.read_csv('cleaned_mental_health_data.csv')\n",
        "print(df.head())"
      ],
      "metadata": {
        "colab": {
          "base_uri": "https://localhost:8080/"
        },
        "collapsed": true,
        "id": "GjcpzzLtU7xt",
        "outputId": "ad75e82f-49f2-4d3e-cc29-3e90790c46ee"
      },
      "execution_count": null,
      "outputs": [
        {
          "output_type": "stream",
          "name": "stdout",
          "text": [
            "   age     sex   Religion       marital status education status residence  \\\n",
            "0   25    Male  christian               single         tertiary     urban   \n",
            "1   55  Female  christian              widowed          primary     urban   \n",
            "2   22    Male  christian  married /cohabiting        secondary     urban   \n",
            "3   28    Male    Moslems               single          primary     urban   \n",
            "4   33  Female  christian            separated          primary     rural   \n",
            "\n",
            "   Income substance use  distance traveled in kilometers comorbidity  ...  \\\n",
            "0  300000           Yes                                2          No  ...   \n",
            "1  243000            No                                3          No  ...   \n",
            "2  200000           Yes                               20          No  ...   \n",
            "3       1           Yes                                1          No  ...   \n",
            "4       0            No                               25          No  ...   \n",
            "\n",
            "  Menstrual or breast problem How long have you been on treatment (years)  \\\n",
            "0                          No                                         4.0   \n",
            "1                          No                                         0.5   \n",
            "2                          No                                         1.0   \n",
            "3                          No                                         3.0   \n",
            "4                          No                                         8.0   \n",
            "\n",
            "  How satisfied are you with the psychiatry medications you are taking  \\\n",
            "0                                                  3                     \n",
            "1                                                  5                     \n",
            "2                                                  3                     \n",
            "3                                                  2                     \n",
            "4                                                  4                     \n",
            "\n",
            "  I feel over burdened by the number of pills i swallow per day.  \\\n",
            "0                                                 No               \n",
            "1                                                 No               \n",
            "2                                                 No               \n",
            "3                                                Yes               \n",
            "4                                                Yes               \n",
            "\n",
            "  How many pills do you swallow per day How often do yo take your drugs  \\\n",
            "0                                     6                             TDS   \n",
            "1                                     1                              OD   \n",
            "2                                     1                              OD   \n",
            "3                                     7                              BD   \n",
            "4                                    11                             TDS   \n",
            "\n",
            "  How often do you find no medications in the hospital  \\\n",
            "0                                          Sometimes     \n",
            "1                                             Rarely     \n",
            "2                                              Never     \n",
            "3                                             Rarely     \n",
            "4                                          Sometimes     \n",
            "\n",
            "  I get social support from my family and friends about my mental illness  \\\n",
            "0                                                  4                        \n",
            "1                                                  2                        \n",
            "2                                                  3                        \n",
            "3                                                  5                        \n",
            "4                                                  5                        \n",
            "\n",
            "  I am satisfied with doctors explanation about mental illness and the need for treatment  \\\n",
            "0                                     Strongly agree                                        \n",
            "1                                     Strongly agree                                        \n",
            "2                                              Agree                                        \n",
            "3                                  Strongly disagree                                        \n",
            "4                                     Strongly agree                                        \n",
            "\n",
            "  Do you sometimes stop your medications because of religious or cultural beliefs  \n",
            "0                                                Yes                               \n",
            "1                                                 No                               \n",
            "2                                                 No                               \n",
            "3                                                 No                               \n",
            "4                                                Yes                               \n",
            "\n",
            "[5 rows x 65 columns]\n"
          ]
        }
      ]
    },
    {
      "cell_type": "markdown",
      "source": [
        "1 DATA PROCESSING"
      ],
      "metadata": {
        "id": "hacF7GSoaHjP"
      }
    },
    {
      "cell_type": "markdown",
      "source": [
        "1.1 Define Target Variable"
      ],
      "metadata": {
        "id": "JYgPz4oFZ804"
      }
    },
    {
      "cell_type": "code",
      "source": [
        "import pandas as pd\n",
        "import seaborn as sns\n",
        "import matplotlib.pyplot as plt\n",
        "\n",
        "\n",
        "\n",
        "# Step 1: Inspect the relevant columns\n",
        "print(df['Do you ever forget to take your medication?'].unique())\n",
        "print(df['Are you careless at times about taking your medication?'].unique())\n",
        "print(df['When you feel better, do you sometimes stop taking your medication?'].unique())\n",
        "print(df['Sometimes if you feel worse when you take the medication, do you stop taking it?'].unique())\n",
        "\n",
        "# Step 2: Define the target variable\n",
        "df['adherence'] = (\n",
        "    (df['Do you ever forget to take your medication?'] == 'No') &\n",
        "    (df['Are you careless at times about taking your medication?'] == 'No') &\n",
        "    (df['When you feel better, do you sometimes stop taking your medication?'] == 'No') &\n",
        "    (df['Sometimes if you feel worse when you take the medication, do you stop taking it?'] == 'No')\n",
        ").astype(int)\n",
        "\n",
        "# Step 3: Verify the target variable\n",
        "print(df['adherence'].value_counts())\n",
        "sns.countplot(data=df, x='adherence')\n",
        "plt.title('Distribution of Adherence')\n",
        "plt.show()\n",
        "\n",
        "# Step 4: Drop the original columns (to avoid redundancy)\n",
        "df = df.drop(columns=[\n",
        "    'Do you ever forget to take your medication?',\n",
        "    'Are you careless at times about taking your medication?',\n",
        "    'When you feel better, do you sometimes stop taking your medication?',\n",
        "    'Sometimes if you feel worse when you take the medication, do you stop taking it?'\n",
        "])\n",
        "\n",
        "# Display the first few rows after processing\n",
        "print(df.head())"
      ],
      "metadata": {
        "colab": {
          "base_uri": "https://localhost:8080/",
          "height": 547
        },
        "collapsed": true,
        "id": "GXYq9VKjV6td",
        "outputId": "85997db1-556b-40b5-bf35-8466bf8bd81a"
      },
      "execution_count": null,
      "outputs": [
        {
          "output_type": "error",
          "ename": "KeyError",
          "evalue": "'Do you ever forget to take your medication?'",
          "traceback": [
            "\u001b[0;31m---------------------------------------------------------------------------\u001b[0m",
            "\u001b[0;31mKeyError\u001b[0m                                  Traceback (most recent call last)",
            "\u001b[0;32m/usr/local/lib/python3.11/dist-packages/pandas/core/indexes/base.py\u001b[0m in \u001b[0;36mget_loc\u001b[0;34m(self, key)\u001b[0m\n\u001b[1;32m   3804\u001b[0m         \u001b[0;32mtry\u001b[0m\u001b[0;34m:\u001b[0m\u001b[0;34m\u001b[0m\u001b[0;34m\u001b[0m\u001b[0m\n\u001b[0;32m-> 3805\u001b[0;31m             \u001b[0;32mreturn\u001b[0m \u001b[0mself\u001b[0m\u001b[0;34m.\u001b[0m\u001b[0m_engine\u001b[0m\u001b[0;34m.\u001b[0m\u001b[0mget_loc\u001b[0m\u001b[0;34m(\u001b[0m\u001b[0mcasted_key\u001b[0m\u001b[0;34m)\u001b[0m\u001b[0;34m\u001b[0m\u001b[0;34m\u001b[0m\u001b[0m\n\u001b[0m\u001b[1;32m   3806\u001b[0m         \u001b[0;32mexcept\u001b[0m \u001b[0mKeyError\u001b[0m \u001b[0;32mas\u001b[0m \u001b[0merr\u001b[0m\u001b[0;34m:\u001b[0m\u001b[0;34m\u001b[0m\u001b[0;34m\u001b[0m\u001b[0m\n",
            "\u001b[0;32mindex.pyx\u001b[0m in \u001b[0;36mpandas._libs.index.IndexEngine.get_loc\u001b[0;34m()\u001b[0m\n",
            "\u001b[0;32mindex.pyx\u001b[0m in \u001b[0;36mpandas._libs.index.IndexEngine.get_loc\u001b[0;34m()\u001b[0m\n",
            "\u001b[0;32mpandas/_libs/hashtable_class_helper.pxi\u001b[0m in \u001b[0;36mpandas._libs.hashtable.PyObjectHashTable.get_item\u001b[0;34m()\u001b[0m\n",
            "\u001b[0;32mpandas/_libs/hashtable_class_helper.pxi\u001b[0m in \u001b[0;36mpandas._libs.hashtable.PyObjectHashTable.get_item\u001b[0;34m()\u001b[0m\n",
            "\u001b[0;31mKeyError\u001b[0m: 'Do you ever forget to take your medication?'",
            "\nThe above exception was the direct cause of the following exception:\n",
            "\u001b[0;31mKeyError\u001b[0m                                  Traceback (most recent call last)",
            "\u001b[0;32m<ipython-input-38-87728458c2ec>\u001b[0m in \u001b[0;36m<cell line: 0>\u001b[0;34m()\u001b[0m\n\u001b[1;32m      6\u001b[0m \u001b[0;34m\u001b[0m\u001b[0m\n\u001b[1;32m      7\u001b[0m \u001b[0;31m# Step 1: Inspect the relevant columns\u001b[0m\u001b[0;34m\u001b[0m\u001b[0;34m\u001b[0m\u001b[0m\n\u001b[0;32m----> 8\u001b[0;31m \u001b[0mprint\u001b[0m\u001b[0;34m(\u001b[0m\u001b[0mdf\u001b[0m\u001b[0;34m[\u001b[0m\u001b[0;34m'Do you ever forget to take your medication?'\u001b[0m\u001b[0;34m]\u001b[0m\u001b[0;34m.\u001b[0m\u001b[0munique\u001b[0m\u001b[0;34m(\u001b[0m\u001b[0;34m)\u001b[0m\u001b[0;34m)\u001b[0m\u001b[0;34m\u001b[0m\u001b[0;34m\u001b[0m\u001b[0m\n\u001b[0m\u001b[1;32m      9\u001b[0m \u001b[0mprint\u001b[0m\u001b[0;34m(\u001b[0m\u001b[0mdf\u001b[0m\u001b[0;34m[\u001b[0m\u001b[0;34m'Are you careless at times about taking your medication?'\u001b[0m\u001b[0;34m]\u001b[0m\u001b[0;34m.\u001b[0m\u001b[0munique\u001b[0m\u001b[0;34m(\u001b[0m\u001b[0;34m)\u001b[0m\u001b[0;34m)\u001b[0m\u001b[0;34m\u001b[0m\u001b[0;34m\u001b[0m\u001b[0m\n\u001b[1;32m     10\u001b[0m \u001b[0mprint\u001b[0m\u001b[0;34m(\u001b[0m\u001b[0mdf\u001b[0m\u001b[0;34m[\u001b[0m\u001b[0;34m'When you feel better, do you sometimes stop taking your medication?'\u001b[0m\u001b[0;34m]\u001b[0m\u001b[0;34m.\u001b[0m\u001b[0munique\u001b[0m\u001b[0;34m(\u001b[0m\u001b[0;34m)\u001b[0m\u001b[0;34m)\u001b[0m\u001b[0;34m\u001b[0m\u001b[0;34m\u001b[0m\u001b[0m\n",
            "\u001b[0;32m/usr/local/lib/python3.11/dist-packages/pandas/core/frame.py\u001b[0m in \u001b[0;36m__getitem__\u001b[0;34m(self, key)\u001b[0m\n\u001b[1;32m   4100\u001b[0m             \u001b[0;32mif\u001b[0m \u001b[0mself\u001b[0m\u001b[0;34m.\u001b[0m\u001b[0mcolumns\u001b[0m\u001b[0;34m.\u001b[0m\u001b[0mnlevels\u001b[0m \u001b[0;34m>\u001b[0m \u001b[0;36m1\u001b[0m\u001b[0;34m:\u001b[0m\u001b[0;34m\u001b[0m\u001b[0;34m\u001b[0m\u001b[0m\n\u001b[1;32m   4101\u001b[0m                 \u001b[0;32mreturn\u001b[0m \u001b[0mself\u001b[0m\u001b[0;34m.\u001b[0m\u001b[0m_getitem_multilevel\u001b[0m\u001b[0;34m(\u001b[0m\u001b[0mkey\u001b[0m\u001b[0;34m)\u001b[0m\u001b[0;34m\u001b[0m\u001b[0;34m\u001b[0m\u001b[0m\n\u001b[0;32m-> 4102\u001b[0;31m             \u001b[0mindexer\u001b[0m \u001b[0;34m=\u001b[0m \u001b[0mself\u001b[0m\u001b[0;34m.\u001b[0m\u001b[0mcolumns\u001b[0m\u001b[0;34m.\u001b[0m\u001b[0mget_loc\u001b[0m\u001b[0;34m(\u001b[0m\u001b[0mkey\u001b[0m\u001b[0;34m)\u001b[0m\u001b[0;34m\u001b[0m\u001b[0;34m\u001b[0m\u001b[0m\n\u001b[0m\u001b[1;32m   4103\u001b[0m             \u001b[0;32mif\u001b[0m \u001b[0mis_integer\u001b[0m\u001b[0;34m(\u001b[0m\u001b[0mindexer\u001b[0m\u001b[0;34m)\u001b[0m\u001b[0;34m:\u001b[0m\u001b[0;34m\u001b[0m\u001b[0;34m\u001b[0m\u001b[0m\n\u001b[1;32m   4104\u001b[0m                 \u001b[0mindexer\u001b[0m \u001b[0;34m=\u001b[0m \u001b[0;34m[\u001b[0m\u001b[0mindexer\u001b[0m\u001b[0;34m]\u001b[0m\u001b[0;34m\u001b[0m\u001b[0;34m\u001b[0m\u001b[0m\n",
            "\u001b[0;32m/usr/local/lib/python3.11/dist-packages/pandas/core/indexes/base.py\u001b[0m in \u001b[0;36mget_loc\u001b[0;34m(self, key)\u001b[0m\n\u001b[1;32m   3810\u001b[0m             ):\n\u001b[1;32m   3811\u001b[0m                 \u001b[0;32mraise\u001b[0m \u001b[0mInvalidIndexError\u001b[0m\u001b[0;34m(\u001b[0m\u001b[0mkey\u001b[0m\u001b[0;34m)\u001b[0m\u001b[0;34m\u001b[0m\u001b[0;34m\u001b[0m\u001b[0m\n\u001b[0;32m-> 3812\u001b[0;31m             \u001b[0;32mraise\u001b[0m \u001b[0mKeyError\u001b[0m\u001b[0;34m(\u001b[0m\u001b[0mkey\u001b[0m\u001b[0;34m)\u001b[0m \u001b[0;32mfrom\u001b[0m \u001b[0merr\u001b[0m\u001b[0;34m\u001b[0m\u001b[0;34m\u001b[0m\u001b[0m\n\u001b[0m\u001b[1;32m   3813\u001b[0m         \u001b[0;32mexcept\u001b[0m \u001b[0mTypeError\u001b[0m\u001b[0;34m:\u001b[0m\u001b[0;34m\u001b[0m\u001b[0;34m\u001b[0m\u001b[0m\n\u001b[1;32m   3814\u001b[0m             \u001b[0;31m# If we have a listlike key, _check_indexing_error will raise\u001b[0m\u001b[0;34m\u001b[0m\u001b[0;34m\u001b[0m\u001b[0m\n",
            "\u001b[0;31mKeyError\u001b[0m: 'Do you ever forget to take your medication?'"
          ]
        }
      ]
    },
    {
      "cell_type": "markdown",
      "source": [
        "1.2 Select Features"
      ],
      "metadata": {
        "id": "_I1qBnb8fpNC"
      }
    },
    {
      "cell_type": "code",
      "source": [
        "# Step 1: Drop irrelevant columns\n",
        "X = df.drop(columns=[\n",
        "    'adherence',  # Target variable\n",
        "    'If you have any further comments about medication or this questionnaire, please write them below'  # Free-text column\n",
        "])\n",
        "\n",
        "# Step 2: Separate the target variable\n",
        "y = df['adherence']\n",
        "\n",
        "# Step 3: Verify the features and target\n",
        "print(\"Shape of X (features):\", X.shape)\n",
        "print(\"Shape of y (target):\", y.shape)\n",
        "\n",
        "# Step 4: Inspect the features\n",
        "print(X.columns)"
      ],
      "metadata": {
        "colab": {
          "base_uri": "https://localhost:8080/"
        },
        "collapsed": true,
        "id": "47AU0C2BdTIf",
        "outputId": "c981c776-99e7-4715-ae77-051f05b42f63"
      },
      "execution_count": null,
      "outputs": [
        {
          "output_type": "stream",
          "name": "stdout",
          "text": [
            "Shape of X (features): (117, 60)\n",
            "Shape of y (target): (117,)\n",
            "Index(['age', 'sex', 'Religion', 'marital status', 'education status',\n",
            "       'residence', 'Income', 'substance use',\n",
            "       'distance traveled in kilometers', 'comorbidity',\n",
            "       'I take my medication only when I am sick',\n",
            "       'It is unnatural for my mind and body to be controlled by medication?',\n",
            "       'My thoughts are clearer on medication',\n",
            "       'By staying on medication, I can prevent getting sick',\n",
            "       'I feel weird, like a ‘zombie’ on medication',\n",
            "       'Medication makes me feel tired and sluggish',\n",
            "       'Some of your symptoms are made by your mind.', 'You are mentally well',\n",
            "       'You do not need medication', 'Your stay in the hospital is necessary',\n",
            "       'The doctor is right in prescribing medication for you.',\n",
            "       'You do not need to be seen by a doctor or psychiatrist',\n",
            "       'If someone said you have a nervous or mental illness, they would be right',\n",
            "       'None of the unusual things you are experiencing are due to an illness.',\n",
            "       'For me, the good things about medication outweigh the bad',\n",
            "       'I feel strange, \"doped up\", on medication',\n",
            "       'I take medications of my own free choice',\n",
            "       'Medications make me feel more relaxed',\n",
            "       'Medication makes me feel tired and sluggish.1',\n",
            "       'I take medication only when I feel ill',\n",
            "       'I feel more normal on medication',\n",
            "       'It is unnatural for my mind and body to be controlled by medications',\n",
            "       'My thoughts are clearer on medication.1',\n",
            "       'Taking medication will prevent me from having a breakdown',\n",
            "       '. Loss of energy or drive', 'Feeling unmotivated or numb',\n",
            "       'Daytime sedation or drowsiness', 'Sleeping too much',\n",
            "       'Muscles being too tense or stiff', 'Muscles trembling or shaking',\n",
            "       'Feeling restless or jittery',\n",
            "       'Need to move around and pace; inability to sit still',\n",
            "       'Trouble getting to sleep or staying asleep (insomnia)',\n",
            "       'Blurry vision', 'Dry mouth', 'Drooling',\n",
            "       'Memory and concentration problems', 'Constipation', 'Weight changes',\n",
            "       'Changes in sexual functioning', 'Menstrual or breast problem',\n",
            "       'How long have you been on treatment (years)',\n",
            "       'How satisfied are you with the psychiatry medications you are taking',\n",
            "       'I feel over burdened by the number of pills i swallow per day.',\n",
            "       'How many pills do you swallow per day',\n",
            "       'How often do yo take your drugs',\n",
            "       'How often do you find no medications in the hospital',\n",
            "       'I get social support from my family and friends about my mental illness',\n",
            "       'I am satisfied with doctors explanation about mental illness and the need for treatment',\n",
            "       'Do you sometimes stop your medications because of religious or cultural beliefs'],\n",
            "      dtype='object')\n"
          ]
        }
      ]
    },
    {
      "cell_type": "markdown",
      "source": [
        "**1.3 Encoding Categorical Values**"
      ],
      "metadata": {
        "id": "lt6NKvDDizJg"
      }
    },
    {
      "cell_type": "code",
      "source": [
        "# Step 1: Identify categorical columns\n",
        "categorical_columns = X.select_dtypes(include=['object']).columns\n",
        "print(\"Categorical columns:\", categorical_columns)\n",
        "\n",
        "# Step 2: Perform one-hot encoding\n",
        "X = pd.get_dummies(X, columns=categorical_columns, drop_first=True)\n",
        "\n",
        "# Step 3: Verify the encoded features\n",
        "print(\"Column names after encoding:\", X.columns)\n",
        "print(\"Shape of X after encoding:\", X.shape)\n",
        "\n",
        "# Display the first few rows after encoding\n",
        "print(X.head())"
      ],
      "metadata": {
        "colab": {
          "base_uri": "https://localhost:8080/"
        },
        "collapsed": true,
        "id": "rU-sXieYi8Uw",
        "outputId": "676b16b0-31d0-43c3-8658-65ac9a6822bb"
      },
      "execution_count": null,
      "outputs": [
        {
          "output_type": "stream",
          "name": "stdout",
          "text": [
            "Categorical columns: Index([], dtype='object')\n",
            "Column names after encoding: Index(['age', 'Income', 'distance traveled in kilometers',\n",
            "       'For me, the good things about medication outweigh the bad',\n",
            "       'I feel strange, \"doped up\", on medication',\n",
            "       'I take medications of my own free choice',\n",
            "       'Medications make me feel more relaxed',\n",
            "       'Medication makes me feel tired and sluggish.1',\n",
            "       'I take medication only when I feel ill',\n",
            "       'I feel more normal on medication',\n",
            "       'It is unnatural for my mind and body to be controlled by medications',\n",
            "       'My thoughts are clearer on medication.1',\n",
            "       'Taking medication will prevent me from having a breakdown',\n",
            "       'How long have you been on treatment (years)',\n",
            "       'How satisfied are you with the psychiatry medications you are taking',\n",
            "       'How many pills do you swallow per day',\n",
            "       'I get social support from my family and friends about my mental illness',\n",
            "       'sex_Male', 'Religion_christian', 'marital status_married /cohabiting',\n",
            "       'marital status_separated', 'marital status_single',\n",
            "       'marital status_widowed', 'education status_primary',\n",
            "       'education status_secondary', 'education status_tertiary',\n",
            "       'residence_urban', 'substance use_Yes', 'comorbidity_Yes',\n",
            "       'I take my medication only when I am sick_Yes',\n",
            "       'It is unnatural for my mind and body to be controlled by medication?_yes',\n",
            "       'My thoughts are clearer on medication_Yes',\n",
            "       'By staying on medication, I can prevent getting sick_Yes',\n",
            "       'I feel weird, like a ‘zombie’ on medication_Yes',\n",
            "       'Medication makes me feel tired and sluggish_Yes',\n",
            "       'Some of your symptoms are made by your mind._Unsure',\n",
            "       'Some of your symptoms are made by your mind._agree',\n",
            "       'You are mentally well_Unsure', 'You are mentally well_agree',\n",
            "       'You do not need medication_Disagree',\n",
            "       'You do not need medication_Unsure',\n",
            "       'Your stay in the hospital is necessary_Disagree',\n",
            "       'Your stay in the hospital is necessary_Unsure',\n",
            "       'The doctor is right in prescribing medication for you._Disagree',\n",
            "       'The doctor is right in prescribing medication for you._Unsure',\n",
            "       'You do not need to be seen by a doctor or psychiatrist_Disagree',\n",
            "       'You do not need to be seen by a doctor or psychiatrist_Unsure',\n",
            "       'If someone said you have a nervous or mental illness, they would be right_Disagree',\n",
            "       'If someone said you have a nervous or mental illness, they would be right_Unsure',\n",
            "       'None of the unusual things you are experiencing are due to an illness._Disagree',\n",
            "       'None of the unusual things you are experiencing are due to an illness._Unsure',\n",
            "       '. Loss of energy or drive_Yes', 'Feeling unmotivated or numb_Yes',\n",
            "       'Daytime sedation or drowsiness_Yes', 'Sleeping too much_Yes',\n",
            "       'Muscles being too tense or stiff_Yes',\n",
            "       'Muscles trembling or shaking_Yes', 'Feeling restless or jittery_Yes',\n",
            "       'Need to move around and pace; inability to sit still_Yes',\n",
            "       'Trouble getting to sleep or staying asleep (insomnia)_Yes',\n",
            "       'Blurry vision_Yes', 'Dry mouth_Yes', 'Drooling_Yes',\n",
            "       'Memory and concentration problems_Yes', 'Constipation_Yes',\n",
            "       'Weight changes_increase', 'Weight changes_no change',\n",
            "       'Changes in sexual functioning_Yes', 'Menstrual or breast problem_Yes',\n",
            "       'I feel over burdened by the number of pills i swallow per day._Yes',\n",
            "       'How often do yo take your drugs_OD',\n",
            "       'How often do yo take your drugs_Others',\n",
            "       'How often do yo take your drugs_TDS',\n",
            "       'How often do you find no medications in the hospital_Never',\n",
            "       'How often do you find no medications in the hospital_Often',\n",
            "       'How often do you find no medications in the hospital_Rarely',\n",
            "       'How often do you find no medications in the hospital_Sometimes',\n",
            "       'I am satisfied with doctors explanation about mental illness and the need for treatment_Disagree',\n",
            "       'I am satisfied with doctors explanation about mental illness and the need for treatment_Neutral',\n",
            "       'I am satisfied with doctors explanation about mental illness and the need for treatment_Strongly agree',\n",
            "       'I am satisfied with doctors explanation about mental illness and the need for treatment_Strongly disagree',\n",
            "       'Do you sometimes stop your medications because of religious or cultural beliefs_Yes'],\n",
            "      dtype='object')\n",
            "Shape of X after encoding: (117, 82)\n",
            "   age  Income  distance traveled in kilometers  \\\n",
            "0   25  300000                                2   \n",
            "1   55  243000                                3   \n",
            "2   22  200000                               20   \n",
            "3   28       1                                1   \n",
            "4   33       0                               25   \n",
            "\n",
            "   For me, the good things about medication outweigh the bad  \\\n",
            "0                                               True           \n",
            "1                                               True           \n",
            "2                                              False           \n",
            "3                                               True           \n",
            "4                                              False           \n",
            "\n",
            "   I feel strange, \"doped up\", on medication  \\\n",
            "0                                       True   \n",
            "1                                       True   \n",
            "2                                      False   \n",
            "3                                       True   \n",
            "4                                       True   \n",
            "\n",
            "   I take medications of my own free choice  \\\n",
            "0                                      True   \n",
            "1                                     False   \n",
            "2                                      True   \n",
            "3                                      True   \n",
            "4                                     False   \n",
            "\n",
            "   Medications make me feel more relaxed  \\\n",
            "0                                  False   \n",
            "1                                  False   \n",
            "2                                   True   \n",
            "3                                   True   \n",
            "4                                  False   \n",
            "\n",
            "   Medication makes me feel tired and sluggish.1  \\\n",
            "0                                           True   \n",
            "1                                           True   \n",
            "2                                           True   \n",
            "3                                           True   \n",
            "4                                           True   \n",
            "\n",
            "   I take medication only when I feel ill  I feel more normal on medication  \\\n",
            "0                                   False                             False   \n",
            "1                                    True                             False   \n",
            "2                                   False                              True   \n",
            "3                                   False                              True   \n",
            "4                                    True                             False   \n",
            "\n",
            "   ...  How often do yo take your drugs_TDS  \\\n",
            "0  ...                                 True   \n",
            "1  ...                                False   \n",
            "2  ...                                False   \n",
            "3  ...                                False   \n",
            "4  ...                                 True   \n",
            "\n",
            "   How often do you find no medications in the hospital_Never  \\\n",
            "0                                              False            \n",
            "1                                              False            \n",
            "2                                               True            \n",
            "3                                              False            \n",
            "4                                              False            \n",
            "\n",
            "   How often do you find no medications in the hospital_Often  \\\n",
            "0                                              False            \n",
            "1                                              False            \n",
            "2                                              False            \n",
            "3                                              False            \n",
            "4                                              False            \n",
            "\n",
            "   How often do you find no medications in the hospital_Rarely  \\\n",
            "0                                              False             \n",
            "1                                               True             \n",
            "2                                              False             \n",
            "3                                               True             \n",
            "4                                              False             \n",
            "\n",
            "   How often do you find no medications in the hospital_Sometimes  \\\n",
            "0                                               True                \n",
            "1                                              False                \n",
            "2                                              False                \n",
            "3                                              False                \n",
            "4                                               True                \n",
            "\n",
            "   I am satisfied with doctors explanation about mental illness and the need for treatment_Disagree  \\\n",
            "0                                              False                                                  \n",
            "1                                              False                                                  \n",
            "2                                              False                                                  \n",
            "3                                              False                                                  \n",
            "4                                              False                                                  \n",
            "\n",
            "   I am satisfied with doctors explanation about mental illness and the need for treatment_Neutral  \\\n",
            "0                                              False                                                 \n",
            "1                                              False                                                 \n",
            "2                                              False                                                 \n",
            "3                                              False                                                 \n",
            "4                                              False                                                 \n",
            "\n",
            "   I am satisfied with doctors explanation about mental illness and the need for treatment_Strongly agree  \\\n",
            "0                                               True                                                        \n",
            "1                                               True                                                        \n",
            "2                                              False                                                        \n",
            "3                                              False                                                        \n",
            "4                                               True                                                        \n",
            "\n",
            "   I am satisfied with doctors explanation about mental illness and the need for treatment_Strongly disagree  \\\n",
            "0                                              False                                                           \n",
            "1                                              False                                                           \n",
            "2                                              False                                                           \n",
            "3                                               True                                                           \n",
            "4                                              False                                                           \n",
            "\n",
            "   Do you sometimes stop your medications because of religious or cultural beliefs_Yes  \n",
            "0                                               True                                    \n",
            "1                                              False                                    \n",
            "2                                              False                                    \n",
            "3                                              False                                    \n",
            "4                                               True                                    \n",
            "\n",
            "[5 rows x 82 columns]\n"
          ]
        }
      ]
    },
    {
      "cell_type": "markdown",
      "source": [
        "**1.4 spliting the Data**\n",
        "We’ll split the dataset into:\n",
        "\n",
        "Training set: 80% of the data (used to train the model).\n",
        "\n",
        "Testing set: 20% of the data (used to evaluate the model)."
      ],
      "metadata": {
        "id": "xF5kKxbEkeBE"
      }
    },
    {
      "cell_type": "code",
      "source": [
        "from sklearn.model_selection import train_test_split\n",
        "\n",
        "# Step 1: Split the data into training and testing sets\n",
        "X_train, X_test, y_train, y_test = train_test_split(X, y, test_size=0.2, random_state=42)\n",
        "\n",
        "# Step 2: Verify the split\n",
        "print(\"Shape of X_train:\", X_train.shape)\n",
        "print(\"Shape of X_test:\", X_test.shape)\n",
        "print(\"Shape of y_train:\", y_train.shape)\n",
        "print(\"Shape of y_test:\", y_test.shape)"
      ],
      "metadata": {
        "colab": {
          "base_uri": "https://localhost:8080/"
        },
        "id": "1oFbZ6S7kciE",
        "outputId": "42753d24-cbac-421c-8db0-e359d460b968"
      },
      "execution_count": null,
      "outputs": [
        {
          "output_type": "stream",
          "name": "stdout",
          "text": [
            "Shape of X_train: (93, 82)\n",
            "Shape of X_test: (24, 82)\n",
            "Shape of y_train: (93,)\n",
            "Shape of y_test: (24,)\n"
          ]
        }
      ]
    },
    {
      "cell_type": "markdown",
      "source": [
        "2 Training Evaluating A Random Forest"
      ],
      "metadata": {
        "id": "Qiti1alqk14F"
      }
    },
    {
      "cell_type": "code",
      "source": [
        "from sklearn.ensemble import RandomForestClassifier\n",
        "from sklearn.metrics import accuracy_score, classification_report, confusion_matrix\n",
        "import pandas as pd\n",
        "import time\n",
        "\n",
        "# Step 1: Initialize the model\n",
        "model = RandomForestClassifier(random_state=42)\n",
        "\n",
        "# Step 2: Train the model and measure training time\n",
        "start_time = time.time()  # Start timer\n",
        "model.fit(X_train, y_train)\n",
        "training_time = time.time() - start_time  # End timer\n",
        "\n",
        "# Step 3: Make predictions\n",
        "y_pred = model.predict(X_test)\n",
        "\n",
        "# Step 4: Evaluate the model\n",
        "accuracy = accuracy_score(y_test, y_pred)\n",
        "print(\"Accuracy:\", accuracy)\n",
        "\n",
        "# Generate classification report\n",
        "print(\"Classification Report:\\n\", classification_report(y_test, y_pred))\n",
        "\n",
        "# Generate confusion matrix\n",
        "conf_matrix = confusion_matrix(y_test, y_pred)\n",
        "print(\"Confusion Matrix:\\n\", conf_matrix)\n",
        "\n",
        "# Calculate specificity and sensitivity\n",
        "TN = conf_matrix[0, 0]  # True Negatives\n",
        "FP = conf_matrix[0, 1]  # False Positives\n",
        "FN = conf_matrix[1, 0]  # False Negatives\n",
        "TP = conf_matrix[1, 1]  # True Positives\n",
        "\n",
        "specificity = TN / (TN + FP)\n",
        "sensitivity = TP / (TP + FN)\n",
        "\n",
        "print(\"Specificity:\", specificity)\n",
        "print(\"Sensitivity (Recall):\", sensitivity)\n",
        "\n",
        "# Display training time\n",
        "print(\"Training Time:\", training_time, \"seconds\")\n",
        "\n",
        "# Step 5: Analyze feature importance\n",
        "importances = model.feature_importances_\n",
        "feature_names = X.columns\n",
        "importance_df = pd.DataFrame({'Feature': feature_names, 'Importance': importances})\n",
        "importance_df = importance_df.sort_values(by='Importance', ascending=False)\n",
        "print(\"Top 10 Features by Importance:\\n\", importance_df.head(10))"
      ],
      "metadata": {
        "colab": {
          "base_uri": "https://localhost:8080/"
        },
        "id": "bgayyx6dobTD",
        "outputId": "85fad1df-0104-4ddf-b291-8e6db9b207e5"
      },
      "execution_count": null,
      "outputs": [
        {
          "output_type": "stream",
          "name": "stdout",
          "text": [
            "Accuracy: 0.6666666666666666\n",
            "Classification Report:\n",
            "               precision    recall  f1-score   support\n",
            "\n",
            "           0       0.70      0.88      0.78        16\n",
            "           1       0.50      0.25      0.33         8\n",
            "\n",
            "    accuracy                           0.67        24\n",
            "   macro avg       0.60      0.56      0.56        24\n",
            "weighted avg       0.63      0.67      0.63        24\n",
            "\n",
            "Confusion Matrix:\n",
            " [[14  2]\n",
            " [ 6  2]]\n",
            "Specificity: 0.875\n",
            "Sensitivity (Recall): 0.25\n",
            "Training Time: 0.14958524703979492 seconds\n",
            "Top 10 Features by Importance:\n",
            "                                               Feature  Importance\n",
            "13        How long have you been on treatment (years)    0.065305\n",
            "0                                                 age    0.061948\n",
            "2                     distance traveled in kilometers    0.055137\n",
            "14  How satisfied are you with the psychiatry medi...    0.047528\n",
            "29       I take my medication only when I am sick_Yes    0.044658\n",
            "16  I get social support from my family and friend...    0.034237\n",
            "1                                              Income    0.032624\n",
            "15              How many pills do you swallow per day    0.028369\n",
            "24                         education status_secondary    0.021621\n",
            "36  Some of your symptoms are made by your mind._a...    0.021355\n"
          ]
        }
      ]
    }
  ]
}