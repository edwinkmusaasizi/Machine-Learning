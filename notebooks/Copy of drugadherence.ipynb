{
  "nbformat": 4,
  "nbformat_minor": 0,
  "metadata": {
    "colab": {
      "provenance": [],
      "toc_visible": true,
      "authorship_tag": "ABX9TyPKIgzf8L+mhUIJod4cnbrd"
    },
    "kernelspec": {
      "name": "python3",
      "display_name": "Python 3"
    },
    "language_info": {
      "name": "python"
    }
  },
  "cells": [
    {
      "cell_type": "markdown",
      "source": [
        "# **0.0 DATA PROCESSING**"
      ],
      "metadata": {
        "id": "qkMtfHS29wQB"
      }
    },
    {
      "cell_type": "code",
      "execution_count": 1,
      "metadata": {
        "colab": {
          "base_uri": "https://localhost:8080/"
        },
        "collapsed": true,
        "id": "h4fuIGZJTyAw",
        "outputId": "e5a2638a-06e1-443c-f0f9-ef9369f6be8d"
      },
      "outputs": [
        {
          "output_type": "stream",
          "name": "stdout",
          "text": [
            "fatal: destination path 'Machine-Learning' already exists and is not an empty directory.\n"
          ]
        }
      ],
      "source": [
        "!git clone https://github.com/edwinkmusaasizi/Machine-Learning.git"
      ]
    },
    {
      "cell_type": "code",
      "source": [
        "%cd Machine-Learning\n",
        "%cd data\n",
        "%cd interim\n",
        "!ls"
      ],
      "metadata": {
        "colab": {
          "base_uri": "https://localhost:8080/"
        },
        "id": "XOq1g9EKBMoS",
        "outputId": "0151ac36-d0a5-4196-836d-0ea3fb38756f"
      },
      "execution_count": 2,
      "outputs": [
        {
          "output_type": "stream",
          "name": "stdout",
          "text": [
            "/content/Machine-Learning\n",
            "/content/Machine-Learning/data\n",
            "/content/Machine-Learning/data/interim\n",
            "best_teacher.pth  cleaned_mental_health_data.csv  Machine-Learning\n"
          ]
        }
      ]
    },
    {
      "cell_type": "markdown",
      "source": [
        "0.1 Data Processing"
      ],
      "metadata": {
        "id": "w3CAYEIG383K"
      }
    },
    {
      "cell_type": "code",
      "source": [
        "import pandas as pd\n",
        "import numpy as np\n",
        "import torch\n",
        "from torch.utils.data import DataLoader, TensorDataset\n",
        "from sklearn.model_selection import train_test_split\n",
        "from sklearn.preprocessing import StandardScaler, LabelEncoder\n",
        "\n",
        "# Load data\n",
        "df = pd.read_csv(\"cleaned_mental_health_data.csv\")\n",
        "\n",
        "# Define adherence labels based on questionnaire responses\n",
        "non_adherence_columns = [\n",
        "    \"Do you ever forget to take your medication?\",\n",
        "    \"Are you careless at times about taking your medication?\",\n",
        "    \"When you feel better, do you sometimes stop taking your medication?\",\n",
        "    \"Sometimes if you feel worse when you take the medication, do you stop taking it?\",\n",
        "    \"I take my medication only when I am sick\"\n",
        "]\n",
        "\n",
        "df[\"adherence\"] = np.where(df[non_adherence_columns].eq(\"Yes\").any(axis=1), 0, 1)\n",
        "\n",
        "# Drop redundant columns\n",
        "df = df.drop(columns=non_adherence_columns + [\"If you have any further comments about medication or this questionnaire, please write them below\"])\n",
        "\n",
        "# Identify all categorical columns\n",
        "categorical_cols = df.select_dtypes(include=['object', 'category']).columns\n",
        "print(\"Categorical columns to encode:\", categorical_cols)\n",
        "\n",
        "# Encode all categorical features\n",
        "for col in categorical_cols:\n",
        "    le = LabelEncoder()\n",
        "    df[col] = le.fit_transform(df[col].astype(str))\n",
        "\n",
        "# Split features and labels\n",
        "X = df.drop(columns=\"adherence\").values\n",
        "y = df[\"adherence\"].values\n",
        "\n",
        "# Split data into train, validation, test (70-15-15)\n",
        "X_train, X_temp, y_train, y_temp = train_test_split(X, y, test_size=0.3, stratify=y, random_state=42)\n",
        "X_val, X_test, y_val, y_test = train_test_split(X_temp, y_temp, test_size=0.5, stratify=y_temp, random_state=42)\n",
        "\n",
        "# Apply SMOTE to only the training set\n",
        "from imblearn.over_sampling import SMOTE\n",
        "\n",
        "# Apply SMOTE only to the training data\n",
        "smote = SMOTE(sampling_strategy='auto', random_state=42)\n",
        "X_train_resampled, y_train_resampled = smote.fit_resample(X_train, y_train)\n",
        "\n",
        "# Check new class distribution\n",
        "from collections import Counter\n",
        "print(\"New class distribution:\", Counter(y_train_resampled))\n",
        "\n",
        "# Normalize numerical features\n",
        "scaler = StandardScaler()\n",
        "X_train = scaler.fit_transform(X_train)\n",
        "X_val = scaler.transform(X_val)\n",
        "X_test = scaler.transform(X_test)\n",
        "\n",
        "# Convert to PyTorch tensors\n",
        "train_dataset = TensorDataset(torch.FloatTensor(X_train), torch.FloatTensor(y_train))\n",
        "val_dataset = TensorDataset(torch.FloatTensor(X_val), torch.FloatTensor(y_val))\n",
        "test_dataset = TensorDataset(torch.FloatTensor(X_test), torch.FloatTensor(y_test))\n",
        "\n",
        "# Create DataLoaders\n",
        "batch_size = 32\n",
        "train_loader = DataLoader(train_dataset, batch_size=batch_size, shuffle=True)\n",
        "val_loader = DataLoader(val_dataset, batch_size=batch_size)\n",
        "test_loader = DataLoader(test_dataset, batch_size=batch_size)"
      ],
      "metadata": {
        "colab": {
          "base_uri": "https://localhost:8080/"
        },
        "id": "hJM_oZTZ5Kyy",
        "outputId": "8ba734de-97b5-4ccf-d3d5-24c1b3be6da4"
      },
      "execution_count": 3,
      "outputs": [
        {
          "output_type": "stream",
          "name": "stdout",
          "text": [
            "Categorical columns to encode: Index(['sex', 'Religion', 'marital status', 'education status', 'residence',\n",
            "       'substance use', 'comorbidity',\n",
            "       'It is unnatural for my mind and body to be controlled by medication?',\n",
            "       'My thoughts are clearer on medication',\n",
            "       'By staying on medication, I can prevent getting sick',\n",
            "       'I feel weird, like a ‘zombie’ on medication',\n",
            "       'Medication makes me feel tired and sluggish',\n",
            "       'Some of your symptoms are made by your mind.', 'You are mentally well',\n",
            "       'You do not need medication', 'Your stay in the hospital is necessary',\n",
            "       'The doctor is right in prescribing medication for you.',\n",
            "       'You do not need to be seen by a doctor or psychiatrist',\n",
            "       'If someone said you have a nervous or mental illness, they would be right',\n",
            "       'None of the unusual things you are experiencing are due to an illness.',\n",
            "       '. Loss of energy or drive', 'Feeling unmotivated or numb',\n",
            "       'Daytime sedation or drowsiness', 'Sleeping too much',\n",
            "       'Muscles being too tense or stiff', 'Muscles trembling or shaking',\n",
            "       'Feeling restless or jittery',\n",
            "       'Need to move around and pace; inability to sit still',\n",
            "       'Trouble getting to sleep or staying asleep (insomnia)',\n",
            "       'Blurry vision', 'Dry mouth', 'Drooling',\n",
            "       'Memory and concentration problems', 'Constipation', 'Weight changes',\n",
            "       'Changes in sexual functioning', 'Menstrual or breast problem',\n",
            "       'I feel over burdened by the number of pills i swallow per day.',\n",
            "       'How often do yo take your drugs',\n",
            "       'How often do you find no medications in the hospital',\n",
            "       'I am satisfied with doctors explanation about mental illness and the need for treatment',\n",
            "       'Do you sometimes stop your medications because of religious or cultural beliefs'],\n",
            "      dtype='object')\n",
            "New class distribution: Counter({1: 55, 0: 55})\n"
          ]
        }
      ]
    },
    {
      "cell_type": "code",
      "source": [
        "# Check class distribution in the training set\n",
        "class_distribution = np.bincount(y_train)\n",
        "print(\"Class Distribution in Training Set:\")\n",
        "print(f\"Class 0 (Non-Adherent): {class_distribution[0]}\")\n",
        "print(f\"Class 1 (Adherent): {class_distribution[1]}\")"
      ],
      "metadata": {
        "colab": {
          "base_uri": "https://localhost:8080/"
        },
        "id": "uemTnvGF5Wxd",
        "outputId": "2c899df1-cac6-4778-9432-52073b678610"
      },
      "execution_count": 4,
      "outputs": [
        {
          "output_type": "stream",
          "name": "stdout",
          "text": [
            "Class Distribution in Training Set:\n",
            "Class 0 (Non-Adherent): 55\n",
            "Class 1 (Adherent): 26\n"
          ]
        }
      ]
    },
    {
      "cell_type": "markdown",
      "source": [
        "Implement class weight"
      ],
      "metadata": {
        "id": "zSgD2y_45fQO"
      }
    },
    {
      "cell_type": "code",
      "source": [
        "import torch\n",
        "import torch.nn as nn\n",
        "import torch.optim as optim\n",
        "from torch.utils.data import DataLoader, TensorDataset\n",
        "from sklearn.utils.class_weight import compute_class_weight\n",
        "import numpy as np\n",
        "import pandas as pd\n",
        "\n",
        "# Compute class weights\n",
        "class_weights = compute_class_weight('balanced', classes=np.unique(y_train), y=y_train)\n",
        "class_weights = torch.tensor(class_weights, dtype=torch.float32)\n",
        "\n",
        "# Define loss function with class weights\n",
        "criterion = nn.CrossEntropyLoss(weight=class_weights)\n",
        "\n",
        "# Example model (Assuming a simple neural network)\n",
        "class AdherenceModel(nn.Module):\n",
        "    def __init__(self, input_size):\n",
        "        super(AdherenceModel, self).__init__()\n",
        "        self.fc1 = nn.Linear(input_size, 64)\n",
        "        self.relu = nn.ReLU()\n",
        "        self.fc2 = nn.Linear(64, 2)  # Output has 2 classes (0 and 1)\n",
        "\n",
        "    def forward(self, x):\n",
        "        x = self.fc1(x)\n",
        "        x = self.relu(x)\n",
        "        x = self.fc2(x)  # No softmax needed for CrossEntropyLoss\n",
        "        return x\n",
        "\n",
        "# Initialize model\n",
        "input_size = X_train.shape[1]  # Number of features\n",
        "model = AdherenceModel(input_size)\n",
        "\n",
        "# Define optimizer\n",
        "optimizer = optim.Adam(model.parameters(), lr=0.001)\n",
        "\n",
        "# Training loop (simplified)\n",
        "for epoch in range(10):  # Adjust epochs as needed\n",
        "    model.train()\n",
        "    for batch_X, batch_y in train_loader:\n",
        "        optimizer.zero_grad()\n",
        "        outputs = model(batch_X)\n",
        "        batch_y = batch_y.long()  # Convert to long for CrossEntropyLoss\n",
        "        loss = criterion(outputs, batch_y)\n",
        "        loss.backward()\n",
        "        optimizer.step()\n",
        "    print(f\"Epoch {epoch+1}, Loss: {loss.item()}\")\n",
        "\n"
      ],
      "metadata": {
        "colab": {
          "base_uri": "https://localhost:8080/"
        },
        "id": "AlfiL7ZA5ide",
        "outputId": "2fcbf98c-cef6-4f8b-bfb7-455b9a125ca4"
      },
      "execution_count": 5,
      "outputs": [
        {
          "output_type": "stream",
          "name": "stdout",
          "text": [
            "Epoch 1, Loss: 0.8319224119186401\n",
            "Epoch 2, Loss: 0.6781903505325317\n",
            "Epoch 3, Loss: 0.6962060332298279\n",
            "Epoch 4, Loss: 0.6489077210426331\n",
            "Epoch 5, Loss: 0.6264535188674927\n",
            "Epoch 6, Loss: 0.6139345765113831\n",
            "Epoch 7, Loss: 0.6004074811935425\n",
            "Epoch 8, Loss: 0.5703045725822449\n",
            "Epoch 9, Loss: 0.5055087208747864\n",
            "Epoch 10, Loss: 0.539543092250824\n"
          ]
        }
      ]
    },
    {
      "cell_type": "markdown",
      "source": [],
      "metadata": {
        "id": "M6xRzM2l5T3k"
      }
    },
    {
      "cell_type": "markdown",
      "source": [
        "# MODEL IMPLEMANTION"
      ],
      "metadata": {
        "id": "8jo8AyjIWUam"
      }
    },
    {
      "cell_type": "markdown",
      "source": [
        "## Implement Logisitic Regretion"
      ],
      "metadata": {
        "id": "KlciCDP2a9ge"
      }
    },
    {
      "cell_type": "markdown",
      "source": [
        "1 Import Libraries"
      ],
      "metadata": {
        "id": "UbYCxxEFcj16"
      }
    },
    {
      "cell_type": "code",
      "source": [
        "from sklearn.linear_model import LogisticRegression\n",
        "import time\n",
        "from sklearn.metrics import precision_score, recall_score, f1_score, roc_auc_score\n",
        "from sklearn.preprocessing import StandardScaler\n",
        "\n",
        "# Assuming data preprocessing has been done and the data is available in these variables\n",
        "# X_train, X_val, X_test, y_train, y_val, y_test\n",
        "# Scaling features\n",
        "scaler = StandardScaler()\n",
        "X_train_scaled = scaler.fit_transform(X_train)\n",
        "X_val_scaled = scaler.transform(X_val)\n",
        "X_test_scaled = scaler.transform(X_test)\n"
      ],
      "metadata": {
        "id": "xV1CAogFbJLk"
      },
      "execution_count": 6,
      "outputs": []
    },
    {
      "cell_type": "markdown",
      "source": [
        "2. Training"
      ],
      "metadata": {
        "id": "xN9ha_HTcv_1"
      }
    },
    {
      "cell_type": "code",
      "source": [
        "# Initialize the Logistic Regression model\n",
        "logreg_model = LogisticRegression(random_state=42, max_iter=1000)\n",
        "\n",
        "# Record the start time for training\n",
        "start_time = time.time()\n",
        "\n",
        "# Train the model\n",
        "logreg_model.fit(X_train_scaled, y_train)\n",
        "\n",
        "# Record the end time for training\n",
        "end_time = time.time()\n",
        "\n",
        "# Calculate the training time\n",
        "training_time = end_time - start_time\n"
      ],
      "metadata": {
        "id": "oZZWnBw6c12n"
      },
      "execution_count": 7,
      "outputs": []
    },
    {
      "cell_type": "markdown",
      "source": [
        "3. Evaluation"
      ],
      "metadata": {
        "id": "deejg0w_c3h_"
      }
    },
    {
      "cell_type": "code",
      "source": [
        "import pandas as pd\n",
        "\n",
        "# Get predicted probabilities\n",
        "y_prob_logreg = logreg_model.predict_proba(X_test_scaled)[:, 1]  # Probability for class 1\n",
        "\n",
        "# Convert probabilities to binary predictions (threshold = 0.5)\n",
        "y_pred_logreg = (y_prob_logreg >= 0.5).astype(int)\n",
        "\n",
        "# Calculate evaluation metrics\n",
        "logreg_precision = precision_score(y_test, y_pred_logreg)\n",
        "logreg_recall = recall_score(y_test, y_pred_logreg)\n",
        "logreg_f1 = f1_score(y_test, y_pred_logreg)\n",
        "logreg_auc = roc_auc_score(y_test, y_prob_logreg)\n",
        "\n",
        "# Store results in a dictionary for comparison\n",
        "model_results = {\n",
        "    \"Model\": [\"Logistic Regression\"],\n",
        "    \"Precision\": [logreg_precision],\n",
        "    \"Recall\": [logreg_recall],\n",
        "    \"F1-Score\": [logreg_f1],\n",
        "    \"AUC\": [logreg_auc],\n",
        "    \"Training Time (s)\": [training_time]\n",
        "}\n",
        "\n",
        "# Convert to DataFrame\n",
        "results_df = pd.DataFrame(model_results)\n",
        "\n",
        "# Display results\n",
        "print(results_df)\n"
      ],
      "metadata": {
        "colab": {
          "base_uri": "https://localhost:8080/"
        },
        "id": "vwXwqxDM_XKy",
        "outputId": "10949ce4-b8f3-4d50-def2-702bbd6c9946"
      },
      "execution_count": 8,
      "outputs": [
        {
          "output_type": "stream",
          "name": "stdout",
          "text": [
            "                 Model  Precision    Recall  F1-Score       AUC  \\\n",
            "0  Logistic Regression       0.25  0.166667       0.2  0.347222   \n",
            "\n",
            "   Training Time (s)  \n",
            "0           0.039221  \n"
          ]
        }
      ]
    },
    {
      "cell_type": "markdown",
      "source": [
        "## Implementing Support Vector Machine"
      ],
      "metadata": {
        "id": "RYj2KN_odCZE"
      }
    },
    {
      "cell_type": "code",
      "source": [
        "from sklearn.svm import SVC\n",
        "import time\n",
        "from sklearn.metrics import precision_score, recall_score, f1_score, roc_auc_score\n",
        "from sklearn.preprocessing import StandardScaler\n",
        "\n",
        "# Assuming data preprocessing has been done and the data is available in these variables\n",
        "# X_train, X_val, X_test, y_train, y_val, y_test\n",
        "# Scaling features\n",
        "scaler = StandardScaler()\n",
        "X_train_scaled = scaler.fit_transform(X_train)\n",
        "X_val_scaled = scaler.transform(X_val)\n",
        "X_test_scaled = scaler.transform(X_test)\n",
        "\n",
        "\n",
        "# Initialize the SVM model with a radial basis function kernel\n",
        "svm_model = SVC(probability=True, random_state=42)\n",
        "\n",
        "# Record the start time for training\n",
        "start_time = time.time()\n",
        "\n",
        "# Train the model\n",
        "svm_model.fit(X_train_scaled, y_train)\n",
        "\n",
        "# Record the end time for training\n",
        "end_time = time.time()\n",
        "\n",
        "# Calculate the training time\n",
        "training_time = end_time - start_time\n"
      ],
      "metadata": {
        "id": "rweuNg7udRko"
      },
      "execution_count": 9,
      "outputs": []
    },
    {
      "cell_type": "markdown",
      "source": [
        "Evaluation"
      ],
      "metadata": {
        "id": "Z9kyZ_mNde_I"
      }
    },
    {
      "cell_type": "code",
      "source": [
        "# Get predicted probabilities\n",
        "y_prob_svm = svm_model.predict_proba(X_test_scaled)[:, 1]  # Probability for class 1\n",
        "\n",
        "# Convert probabilities to binary predictions (threshold = 0.5)\n",
        "y_pred_svm = (y_prob_svm >= 0.5).astype(int)\n",
        "\n",
        "# Calculate evaluation metrics\n",
        "svm_precision = precision_score(y_test, y_pred_svm)\n",
        "svm_recall = recall_score(y_test, y_pred_svm)\n",
        "svm_f1 = f1_score(y_test, y_pred_svm)\n",
        "svm_auc = roc_auc_score(y_test, y_prob_svm)\n",
        "\n",
        "# Store results in a dictionary for comparison\n",
        "svm_results = {\n",
        "    \"Model\": [\"Support Vector Machine (SVM)\"],\n",
        "    \"Precision\": [svm_precision],\n",
        "    \"Recall\": [svm_recall],\n",
        "    \"F1-Score\": [svm_f1],\n",
        "    \"AUC\": [svm_auc],\n",
        "    \"Training Time (s)\": [training_time]\n",
        "}\n",
        "\n",
        "# Convert to DataFrame\n",
        "svm_results_df = pd.DataFrame(svm_results)\n",
        "\n",
        "# Append to the existing results DataFrame\n",
        "results_df = pd.concat([results_df, svm_results_df], ignore_index=True)\n",
        "\n",
        "# Display updated results\n",
        "print(results_df)\n"
      ],
      "metadata": {
        "colab": {
          "base_uri": "https://localhost:8080/"
        },
        "id": "XX1refb4_2Td",
        "outputId": "aa306e2c-80a3-4c88-b321-281d5259c2b5"
      },
      "execution_count": 10,
      "outputs": [
        {
          "output_type": "stream",
          "name": "stdout",
          "text": [
            "                          Model  Precision    Recall  F1-Score       AUC  \\\n",
            "0           Logistic Regression       0.25  0.166667       0.2  0.347222   \n",
            "1  Support Vector Machine (SVM)       0.00  0.000000       0.0  0.416667   \n",
            "\n",
            "   Training Time (s)  \n",
            "0           0.039221  \n",
            "1           0.049726  \n"
          ]
        },
        {
          "output_type": "stream",
          "name": "stderr",
          "text": [
            "/usr/local/lib/python3.11/dist-packages/sklearn/metrics/_classification.py:1565: UndefinedMetricWarning: Precision is ill-defined and being set to 0.0 due to no predicted samples. Use `zero_division` parameter to control this behavior.\n",
            "  _warn_prf(average, modifier, f\"{metric.capitalize()} is\", len(result))\n"
          ]
        }
      ]
    },
    {
      "cell_type": "markdown",
      "source": [
        "## Implementing Random Forest Classifier"
      ],
      "metadata": {
        "id": "Gxv7fW3_dqK8"
      }
    },
    {
      "cell_type": "code",
      "source": [
        "from sklearn.ensemble import RandomForestClassifier\n",
        "import time\n",
        "from sklearn.metrics import precision_score, recall_score, f1_score, roc_auc_score\n",
        "from sklearn.preprocessing import StandardScaler\n",
        "\n",
        "# Assuming data preprocessing has been done and the data is available in these variables\n",
        "# X_train, X_val, X_test, y_train, y_val, y_test\n",
        "# Scaling features\n",
        "scaler = StandardScaler()\n",
        "X_train_scaled = scaler.fit_transform(X_train)\n",
        "X_val_scaled = scaler.transform(X_val)\n",
        "X_test_scaled = scaler.transform(X_test)\n",
        "\n",
        "#TRAINING\n",
        "\n",
        "# Initialize the Random Forest model\n",
        "rf_model = RandomForestClassifier(n_estimators=100, random_state=42)\n",
        "\n",
        "# Record the start time for training\n",
        "start_time = time.time()\n",
        "\n",
        "# Train the model\n",
        "rf_model.fit(X_train_scaled, y_train)\n",
        "\n",
        "# Record the end time for training\n",
        "end_time = time.time()\n",
        "\n",
        "# Calculate the training time\n",
        "training_time = end_time - start_time\n",
        "\n",
        "\n"
      ],
      "metadata": {
        "id": "_6Sq7pKDd_kO"
      },
      "execution_count": 11,
      "outputs": []
    },
    {
      "cell_type": "markdown",
      "source": [
        "Evaluation"
      ],
      "metadata": {
        "id": "PK6DKYoIAtWy"
      }
    },
    {
      "cell_type": "code",
      "source": [
        "# Get predicted probabilities\n",
        "y_prob_rf = rf_model.predict_proba(X_test_scaled)[:, 1]  # Probability for class 1\n",
        "\n",
        "# Convert probabilities to binary predictions (threshold = 0.5)\n",
        "y_pred_rf = (y_prob_rf >= 0.5).astype(int)\n",
        "\n",
        "# Calculate evaluation metrics\n",
        "rf_precision = precision_score(y_test, y_pred_rf)\n",
        "rf_recall = recall_score(y_test, y_pred_rf)\n",
        "rf_f1 = f1_score(y_test, y_pred_rf)\n",
        "rf_auc = roc_auc_score(y_test, y_prob_rf)\n",
        "\n",
        "# Store results in a dictionary for comparison\n",
        "rf_results = {\n",
        "    \"Model\": [\"Random Forest\"],\n",
        "    \"Precision\": [rf_precision],\n",
        "    \"Recall\": [rf_recall],\n",
        "    \"F1-Score\": [rf_f1],\n",
        "    \"AUC\": [rf_auc],\n",
        "    \"Training Time (s)\": [training_time]\n",
        "}\n",
        "\n",
        "# Convert to DataFrame\n",
        "rf_results_df = pd.DataFrame(rf_results)\n",
        "\n",
        "# Append to the existing results DataFrame\n",
        "results_df = pd.concat([results_df, rf_results_df], ignore_index=True)\n",
        "\n",
        "# Display updated results\n",
        "print(results_df)\n"
      ],
      "metadata": {
        "colab": {
          "base_uri": "https://localhost:8080/"
        },
        "id": "wAyJ1TijAmpX",
        "outputId": "1fe29538-01f5-496a-e9fd-0300b8b76fa0"
      },
      "execution_count": 12,
      "outputs": [
        {
          "output_type": "stream",
          "name": "stdout",
          "text": [
            "                          Model  Precision    Recall  F1-Score       AUC  \\\n",
            "0           Logistic Regression       0.25  0.166667  0.200000  0.347222   \n",
            "1  Support Vector Machine (SVM)       0.00  0.000000  0.000000  0.416667   \n",
            "2                 Random Forest       1.00  0.166667  0.285714  0.465278   \n",
            "\n",
            "   Training Time (s)  \n",
            "0           0.039221  \n",
            "1           0.049726  \n",
            "2           0.677652  \n"
          ]
        }
      ]
    },
    {
      "cell_type": "markdown",
      "source": [
        "## Implementing a K-Nearest Neighbor"
      ],
      "metadata": {
        "id": "VC7wLDMjfDAN"
      }
    },
    {
      "cell_type": "code",
      "source": [
        "from sklearn.neighbors import KNeighborsClassifier\n",
        "from sklearn.metrics import classification_report, accuracy_score\n",
        "import time\n",
        "\n",
        "# Initialize KNN model\n",
        "knn_model = KNeighborsClassifier(n_neighbors=5)\n",
        "\n",
        "# Record the start time for training\n",
        "start_time = time.time()\n",
        "\n",
        "# Train the model\n",
        "knn_model.fit(X_train_scaled, y_train)\n",
        "\n",
        "# Record the end time for training\n",
        "end_time = time.time()\n",
        "\n",
        "# Calculate training time\n",
        "training_time = end_time - start_time\n",
        "\n",
        "# Make predictions on the test set\n",
        "y_pred_knn = knn_model.predict(X_test_scaled)\n",
        "\n",
        "\n"
      ],
      "metadata": {
        "id": "89j6P0lBfPE2"
      },
      "execution_count": 13,
      "outputs": []
    },
    {
      "cell_type": "code",
      "source": [
        "# Get predicted probabilities\n",
        "y_prob_knn = knn_model.predict_proba(X_test_scaled)[:, 1]  # Probability for class 1\n",
        "\n",
        "# Convert probabilities to binary predictions (threshold = 0.5)\n",
        "y_pred_knn = (y_prob_knn >= 0.5).astype(int)\n",
        "\n",
        "# Calculate evaluation metrics\n",
        "knn_precision = precision_score(y_test, y_pred_knn)\n",
        "knn_recall = recall_score(y_test, y_pred_knn)\n",
        "knn_f1 = f1_score(y_test, y_pred_knn)\n",
        "knn_auc = roc_auc_score(y_test, y_prob_knn)\n",
        "\n",
        "# Store results in a dictionary for comparison\n",
        "knn_results = {\n",
        "    \"Model\": [\"K-Nearest Neighbors (KNN)\"],\n",
        "    \"Precision\": [knn_precision],\n",
        "    \"Recall\": [knn_recall],\n",
        "    \"F1-Score\": [knn_f1],\n",
        "    \"AUC\": [knn_auc],\n",
        "    \"Training Time (s)\": [training_time]\n",
        "}\n",
        "\n",
        "# Convert to DataFrame\n",
        "knn_results_df = pd.DataFrame(knn_results)\n",
        "\n",
        "# Append to the existing results DataFrame\n",
        "results_df = pd.concat([results_df, knn_results_df], ignore_index=True)\n",
        "\n",
        "# Display updated results\n",
        "print(results_df)\n"
      ],
      "metadata": {
        "colab": {
          "base_uri": "https://localhost:8080/"
        },
        "id": "KHl2ICDqBh_n",
        "outputId": "7eb07507-b51d-4220-bb58-1b7d8d98b853"
      },
      "execution_count": 14,
      "outputs": [
        {
          "output_type": "stream",
          "name": "stdout",
          "text": [
            "                          Model  Precision    Recall  F1-Score       AUC  \\\n",
            "0           Logistic Regression   0.250000  0.166667  0.200000  0.347222   \n",
            "1  Support Vector Machine (SVM)   0.000000  0.000000  0.000000  0.416667   \n",
            "2                 Random Forest   1.000000  0.166667  0.285714  0.465278   \n",
            "3     K-Nearest Neighbors (KNN)   0.666667  0.333333  0.444444  0.645833   \n",
            "\n",
            "   Training Time (s)  \n",
            "0           0.039221  \n",
            "1           0.049726  \n",
            "2           0.677652  \n",
            "3           0.012624  \n"
          ]
        }
      ]
    },
    {
      "cell_type": "markdown",
      "source": [
        "Implementing Gradient Boost machine"
      ],
      "metadata": {
        "id": "YEVJvZG7fUYp"
      }
    },
    {
      "cell_type": "code",
      "source": [
        "from sklearn.ensemble import GradientBoostingClassifier\n",
        "from sklearn.metrics import precision_score, recall_score, f1_score, roc_auc_score\n",
        "import time\n",
        "\n",
        "# Initialize Gradient Boosting Classifier\n",
        "gbm_model = GradientBoostingClassifier(n_estimators=100, learning_rate=0.1, max_depth=3, random_state=42)\n",
        "\n",
        "# Record the start time for training\n",
        "start_time = time.time()\n",
        "\n",
        "# Train the model\n",
        "gbm_model.fit(X_train_scaled, y_train)\n",
        "\n",
        "# Record the end time for training\n",
        "end_time = time.time()\n",
        "training_time = end_time - start_time\n",
        "\n",
        "# Predict on the validation and test sets\n",
        "y_val_pred = gbm_model.predict(X_val_scaled)\n",
        "y_test_pred = gbm_model.predict(X_test_scaled)\n",
        "\n",
        "# Get predicted probabilities\n",
        "y_prob_knn = knn_model.predict_proba(X_test_scaled)[:, 1]  # Probability for class 1\n",
        "\n",
        "# Convert probabilities to binary predictions (threshold = 0.5)\n",
        "y_pred_knn = (y_prob_knn >= 0.5).astype(int)\n",
        "\n",
        "# Calculate evaluation metrics\n",
        "knn_precision = precision_score(y_test, y_pred_knn)\n",
        "knn_recall = recall_score(y_test, y_pred_knn)\n",
        "knn_f1 = f1_score(y_test, y_pred_knn)\n",
        "knn_auc = roc_auc_score(y_test, y_prob_knn)\n",
        "\n",
        "# Store results in a dictionary for comparison\n",
        "knn_results = {\n",
        "    \"Model\": [\"K-Nearest Neighbors (KNN)\"],\n",
        "    \"Precision\": [knn_precision],\n",
        "    \"Recall\": [knn_recall],\n",
        "    \"F1-Score\": [knn_f1],\n",
        "    \"AUC\": [knn_auc],\n",
        "    \"Training Time (s)\": [training_time]\n",
        "}\n",
        "\n",
        "# Convert to DataFrame\n",
        "knn_results_df = pd.DataFrame(knn_results)\n",
        "\n",
        "# Append to the existing results DataFrame\n",
        "results_df = pd.concat([results_df, knn_results_df], ignore_index=True)\n",
        "\n",
        "# Display updated results\n",
        "print(results_df)\n"
      ],
      "metadata": {
        "colab": {
          "base_uri": "https://localhost:8080/"
        },
        "id": "wnfUNlupf0Vn",
        "outputId": "68cbbb92-2e73-40a2-edcb-c8c00934709b"
      },
      "execution_count": 15,
      "outputs": [
        {
          "output_type": "stream",
          "name": "stdout",
          "text": [
            "                          Model  Precision    Recall  F1-Score       AUC  \\\n",
            "0           Logistic Regression   0.250000  0.166667  0.200000  0.347222   \n",
            "1  Support Vector Machine (SVM)   0.000000  0.000000  0.000000  0.416667   \n",
            "2                 Random Forest   1.000000  0.166667  0.285714  0.465278   \n",
            "3     K-Nearest Neighbors (KNN)   0.666667  0.333333  0.444444  0.645833   \n",
            "4     K-Nearest Neighbors (KNN)   0.666667  0.333333  0.444444  0.645833   \n",
            "\n",
            "   Training Time (s)  \n",
            "0           0.039221  \n",
            "1           0.049726  \n",
            "2           0.677652  \n",
            "3           0.012624  \n",
            "4           0.545308  \n"
          ]
        }
      ]
    },
    {
      "cell_type": "markdown",
      "source": [
        "## Implementing XGBoost"
      ],
      "metadata": {
        "id": "ODQ1xV3bf3dF"
      }
    },
    {
      "cell_type": "code",
      "source": [
        "!pip install xgboost\n"
      ],
      "metadata": {
        "colab": {
          "base_uri": "https://localhost:8080/"
        },
        "id": "TlYAPJOsgTrO",
        "outputId": "f7180a22-d14b-42ae-cf40-9d16e0f3e239"
      },
      "execution_count": 16,
      "outputs": [
        {
          "output_type": "stream",
          "name": "stdout",
          "text": [
            "Requirement already satisfied: xgboost in /usr/local/lib/python3.11/dist-packages (2.1.4)\n",
            "Requirement already satisfied: numpy in /usr/local/lib/python3.11/dist-packages (from xgboost) (1.26.4)\n",
            "Requirement already satisfied: nvidia-nccl-cu12 in /usr/local/lib/python3.11/dist-packages (from xgboost) (2.21.5)\n",
            "Requirement already satisfied: scipy in /usr/local/lib/python3.11/dist-packages (from xgboost) (1.13.1)\n"
          ]
        }
      ]
    },
    {
      "cell_type": "code",
      "source": [
        "import xgboost as xgb\n",
        "from sklearn.metrics import precision_score, recall_score, f1_score, roc_auc_score\n",
        "import time\n",
        "\n",
        "# Initialize XGBoost Classifier\n",
        "xgboost_model = xgb.XGBClassifier(n_estimators=100, learning_rate=0.1, max_depth=3, random_state=42)\n",
        "\n",
        "# Record the start time for training\n",
        "start_time = time.time()\n",
        "\n",
        "# Train the model\n",
        "xgboost_model.fit(X_train_scaled, y_train)\n",
        "\n",
        "# Record the end time for training\n",
        "end_time = time.time()\n",
        "training_time = end_time - start_time\n",
        "\n",
        "# Predict on the validation and test sets\n",
        "y_val_pred = xgboost_model.predict(X_val_scaled)\n",
        "y_test_pred = xgboost_model.predict(X_test_scaled)\n",
        "\n",
        "# Get predicted probabilities\n",
        "y_prob_xgb = xgboost_model.predict_proba(X_test_scaled)[:, 1]  # Probability for class 1\n",
        "\n",
        "# Convert probabilities to binary predictions (threshold = 0.5)\n",
        "y_pred_xgb = (y_prob_xgb >= 0.5).astype(int)\n",
        "\n",
        "# Calculate evaluation metrics\n",
        "xgb_precision = precision_score(y_test, y_pred_xgb)\n",
        "xgb_recall = recall_score(y_test, y_pred_xgb)\n",
        "xgb_f1 = f1_score(y_test, y_pred_xgb)\n",
        "xgb_auc = roc_auc_score(y_test, y_prob_xgb)\n",
        "\n",
        "# Store results in a dictionary for comparison\n",
        "xgb_results = {\n",
        "    \"Model\": [\"XGBoost\"],\n",
        "    \"Precision\": [xgb_precision],\n",
        "    \"Recall\": [xgb_recall],\n",
        "    \"F1-Score\": [xgb_f1],\n",
        "    \"AUC\": [xgb_auc],\n",
        "    \"Training Time (s)\": [training_time]\n",
        "}\n",
        "\n",
        "# Convert to DataFrame\n",
        "xgb_results_df = pd.DataFrame(xgb_results)\n",
        "\n",
        "# Append to the existing results DataFrame\n",
        "results_df = pd.concat([results_df, xgb_results_df], ignore_index=True)\n",
        "\n",
        "# Display updated results\n",
        "print(results_df)\n",
        "\n"
      ],
      "metadata": {
        "colab": {
          "base_uri": "https://localhost:8080/"
        },
        "id": "SRRCjGpcgcEf",
        "outputId": "89c523be-dc05-443d-fa3c-cda36428bdd0"
      },
      "execution_count": 17,
      "outputs": [
        {
          "output_type": "stream",
          "name": "stdout",
          "text": [
            "                          Model  Precision    Recall  F1-Score       AUC  \\\n",
            "0           Logistic Regression   0.250000  0.166667  0.200000  0.347222   \n",
            "1  Support Vector Machine (SVM)   0.000000  0.000000  0.000000  0.416667   \n",
            "2                 Random Forest   1.000000  0.166667  0.285714  0.465278   \n",
            "3     K-Nearest Neighbors (KNN)   0.666667  0.333333  0.444444  0.645833   \n",
            "4     K-Nearest Neighbors (KNN)   0.666667  0.333333  0.444444  0.645833   \n",
            "5                       XGBoost   0.200000  0.166667  0.181818  0.375000   \n",
            "\n",
            "   Training Time (s)  \n",
            "0           0.039221  \n",
            "1           0.049726  \n",
            "2           0.677652  \n",
            "3           0.012624  \n",
            "4           0.545308  \n",
            "5           0.075563  \n"
          ]
        }
      ]
    },
    {
      "cell_type": "markdown",
      "source": [
        "## Implementing LightGBM"
      ],
      "metadata": {
        "id": "trCnfvrqhGK4"
      }
    },
    {
      "cell_type": "code",
      "source": [
        "!pip install lightgbm\n"
      ],
      "metadata": {
        "id": "RrGTq8YBiqyx",
        "colab": {
          "base_uri": "https://localhost:8080/"
        },
        "outputId": "4e2fba2c-2846-4156-bcd9-a36c11eb6578"
      },
      "execution_count": 18,
      "outputs": [
        {
          "output_type": "stream",
          "name": "stdout",
          "text": [
            "Requirement already satisfied: lightgbm in /usr/local/lib/python3.11/dist-packages (4.5.0)\n",
            "Requirement already satisfied: numpy>=1.17.0 in /usr/local/lib/python3.11/dist-packages (from lightgbm) (1.26.4)\n",
            "Requirement already satisfied: scipy in /usr/local/lib/python3.11/dist-packages (from lightgbm) (1.13.1)\n"
          ]
        }
      ]
    },
    {
      "cell_type": "code",
      "source": [
        "import lightgbm as lgb\n",
        "from sklearn.metrics import precision_score, recall_score, f1_score, roc_auc_score\n",
        "import time\n",
        "\n",
        "# Initialize LightGBM Classifier\n",
        "lgbm_model = lgb.LGBMClassifier(n_estimators=100, learning_rate=0.1, max_depth=3, random_state=42)\n",
        "\n",
        "# Record the start time for training\n",
        "start_time = time.time()\n",
        "\n",
        "# Train the model\n",
        "lgbm_model.fit(X_train_scaled, y_train)\n",
        "\n",
        "# Record the end time for training\n",
        "end_time = time.time()\n",
        "training_time = end_time - start_time\n",
        "\n",
        "# Predict on the validation and test sets\n",
        "y_val_pred = lgbm_model.predict(X_val_scaled)\n",
        "y_test_pred = lgbm_model.predict(X_test_scaled)\n",
        "\n",
        "# Get predicted probabilities\n",
        "y_prob_lgbm = lgbm_model.predict_proba(X_test_scaled)[:, 1]  # Probability for class 1\n",
        "\n",
        "# Convert probabilities to binary predictions (threshold = 0.5)\n",
        "y_pred_lgbm = (y_prob_lgbm >= 0.5).astype(int)\n",
        "\n",
        "# Calculate evaluation metrics\n",
        "lgbm_precision = precision_score(y_test, y_pred_lgbm)\n",
        "lgbm_recall = recall_score(y_test, y_pred_lgbm)\n",
        "lgbm_f1 = f1_score(y_test, y_pred_lgbm)\n",
        "lgbm_auc = roc_auc_score(y_test, y_prob_lgbm)\n",
        "\n",
        "# Store results in a dictionary for comparison\n",
        "lgbm_results = {\n",
        "    \"Model\": [\"LightGBM\"],\n",
        "    \"Precision\": [lgbm_precision],\n",
        "    \"Recall\": [lgbm_recall],\n",
        "    \"F1-Score\": [lgbm_f1],\n",
        "    \"AUC\": [lgbm_auc],\n",
        "    \"Training Time (s)\": [training_time]\n",
        "}\n",
        "\n",
        "# Convert to DataFrame\n",
        "lgbm_results_df = pd.DataFrame(lgbm_results)\n",
        "\n",
        "# Append to the existing results DataFrame\n",
        "results_df = pd.concat([results_df, lgbm_results_df], ignore_index=True)\n",
        "\n",
        "# Display updated results\n",
        "print(results_df)\n"
      ],
      "metadata": {
        "id": "cc2tl1xiisY2",
        "outputId": "19a93199-b3a6-45a5-a0dc-7724895709f3",
        "colab": {
          "base_uri": "https://localhost:8080/"
        }
      },
      "execution_count": 19,
      "outputs": [
        {
          "output_type": "stream",
          "name": "stdout",
          "text": [
            "[LightGBM] [Info] Number of positive: 26, number of negative: 55\n",
            "[LightGBM] [Info] Auto-choosing col-wise multi-threading, the overhead of testing was 0.000161 seconds.\n",
            "You can set `force_col_wise=true` to remove the overhead.\n",
            "[LightGBM] [Info] Total Bins 218\n",
            "[LightGBM] [Info] Number of data points in the train set: 81, number of used features: 45\n",
            "[LightGBM] [Info] [binary:BoostFromScore]: pavg=0.320988 -> initscore=-0.749237\n",
            "[LightGBM] [Info] Start training from score -0.749237\n",
            "[LightGBM] [Warning] No further splits with positive gain, best gain: -inf\n",
            "[LightGBM] [Warning] No further splits with positive gain, best gain: -inf\n",
            "[LightGBM] [Warning] No further splits with positive gain, best gain: -inf\n",
            "[LightGBM] [Warning] No further splits with positive gain, best gain: -inf\n",
            "[LightGBM] [Warning] No further splits with positive gain, best gain: -inf\n",
            "[LightGBM] [Warning] No further splits with positive gain, best gain: -inf\n",
            "[LightGBM] [Warning] No further splits with positive gain, best gain: -inf\n",
            "[LightGBM] [Warning] No further splits with positive gain, best gain: -inf\n",
            "[LightGBM] [Warning] No further splits with positive gain, best gain: -inf\n",
            "[LightGBM] [Warning] No further splits with positive gain, best gain: -inf\n",
            "[LightGBM] [Warning] No further splits with positive gain, best gain: -inf\n",
            "[LightGBM] [Warning] No further splits with positive gain, best gain: -inf\n",
            "[LightGBM] [Warning] No further splits with positive gain, best gain: -inf\n",
            "[LightGBM] [Warning] No further splits with positive gain, best gain: -inf\n",
            "[LightGBM] [Warning] No further splits with positive gain, best gain: -inf\n",
            "[LightGBM] [Warning] No further splits with positive gain, best gain: -inf\n",
            "[LightGBM] [Warning] No further splits with positive gain, best gain: -inf\n",
            "[LightGBM] [Warning] No further splits with positive gain, best gain: -inf\n",
            "[LightGBM] [Warning] No further splits with positive gain, best gain: -inf\n",
            "[LightGBM] [Warning] No further splits with positive gain, best gain: -inf\n",
            "[LightGBM] [Warning] No further splits with positive gain, best gain: -inf\n",
            "[LightGBM] [Warning] No further splits with positive gain, best gain: -inf\n",
            "[LightGBM] [Warning] No further splits with positive gain, best gain: -inf\n",
            "[LightGBM] [Warning] No further splits with positive gain, best gain: -inf\n",
            "[LightGBM] [Warning] No further splits with positive gain, best gain: -inf\n",
            "[LightGBM] [Warning] No further splits with positive gain, best gain: -inf\n",
            "[LightGBM] [Warning] No further splits with positive gain, best gain: -inf\n",
            "[LightGBM] [Warning] No further splits with positive gain, best gain: -inf\n",
            "[LightGBM] [Warning] No further splits with positive gain, best gain: -inf\n",
            "[LightGBM] [Warning] No further splits with positive gain, best gain: -inf\n",
            "[LightGBM] [Warning] No further splits with positive gain, best gain: -inf\n",
            "[LightGBM] [Warning] No further splits with positive gain, best gain: -inf\n",
            "[LightGBM] [Warning] No further splits with positive gain, best gain: -inf\n",
            "[LightGBM] [Warning] No further splits with positive gain, best gain: -inf\n",
            "[LightGBM] [Warning] No further splits with positive gain, best gain: -inf\n",
            "[LightGBM] [Warning] No further splits with positive gain, best gain: -inf\n",
            "[LightGBM] [Warning] No further splits with positive gain, best gain: -inf\n",
            "[LightGBM] [Warning] No further splits with positive gain, best gain: -inf\n",
            "[LightGBM] [Warning] No further splits with positive gain, best gain: -inf\n",
            "[LightGBM] [Warning] No further splits with positive gain, best gain: -inf\n",
            "[LightGBM] [Warning] No further splits with positive gain, best gain: -inf\n",
            "[LightGBM] [Warning] No further splits with positive gain, best gain: -inf\n",
            "[LightGBM] [Warning] No further splits with positive gain, best gain: -inf\n",
            "[LightGBM] [Warning] No further splits with positive gain, best gain: -inf\n",
            "[LightGBM] [Warning] No further splits with positive gain, best gain: -inf\n",
            "[LightGBM] [Warning] No further splits with positive gain, best gain: -inf\n",
            "[LightGBM] [Warning] No further splits with positive gain, best gain: -inf\n",
            "[LightGBM] [Warning] No further splits with positive gain, best gain: -inf\n",
            "[LightGBM] [Warning] No further splits with positive gain, best gain: -inf\n",
            "[LightGBM] [Warning] No further splits with positive gain, best gain: -inf\n",
            "[LightGBM] [Warning] No further splits with positive gain, best gain: -inf\n",
            "[LightGBM] [Warning] No further splits with positive gain, best gain: -inf\n",
            "[LightGBM] [Warning] No further splits with positive gain, best gain: -inf\n",
            "[LightGBM] [Warning] No further splits with positive gain, best gain: -inf\n",
            "[LightGBM] [Warning] No further splits with positive gain, best gain: -inf\n",
            "[LightGBM] [Warning] No further splits with positive gain, best gain: -inf\n",
            "[LightGBM] [Warning] No further splits with positive gain, best gain: -inf\n",
            "[LightGBM] [Warning] No further splits with positive gain, best gain: -inf\n",
            "[LightGBM] [Warning] No further splits with positive gain, best gain: -inf\n",
            "[LightGBM] [Warning] No further splits with positive gain, best gain: -inf\n",
            "[LightGBM] [Warning] No further splits with positive gain, best gain: -inf\n",
            "[LightGBM] [Warning] No further splits with positive gain, best gain: -inf\n",
            "[LightGBM] [Warning] No further splits with positive gain, best gain: -inf\n",
            "[LightGBM] [Warning] No further splits with positive gain, best gain: -inf\n",
            "[LightGBM] [Warning] No further splits with positive gain, best gain: -inf\n",
            "[LightGBM] [Warning] No further splits with positive gain, best gain: -inf\n",
            "[LightGBM] [Warning] No further splits with positive gain, best gain: -inf\n",
            "[LightGBM] [Warning] No further splits with positive gain, best gain: -inf\n",
            "[LightGBM] [Warning] No further splits with positive gain, best gain: -inf\n",
            "[LightGBM] [Warning] No further splits with positive gain, best gain: -inf\n",
            "[LightGBM] [Warning] No further splits with positive gain, best gain: -inf\n",
            "[LightGBM] [Warning] No further splits with positive gain, best gain: -inf\n",
            "[LightGBM] [Warning] No further splits with positive gain, best gain: -inf\n",
            "[LightGBM] [Warning] No further splits with positive gain, best gain: -inf\n",
            "[LightGBM] [Warning] No further splits with positive gain, best gain: -inf\n",
            "[LightGBM] [Warning] No further splits with positive gain, best gain: -inf\n",
            "[LightGBM] [Warning] No further splits with positive gain, best gain: -inf\n",
            "[LightGBM] [Warning] No further splits with positive gain, best gain: -inf\n",
            "[LightGBM] [Warning] No further splits with positive gain, best gain: -inf\n",
            "[LightGBM] [Warning] No further splits with positive gain, best gain: -inf\n",
            "[LightGBM] [Warning] No further splits with positive gain, best gain: -inf\n",
            "[LightGBM] [Warning] No further splits with positive gain, best gain: -inf\n",
            "[LightGBM] [Warning] No further splits with positive gain, best gain: -inf\n",
            "[LightGBM] [Warning] No further splits with positive gain, best gain: -inf\n",
            "[LightGBM] [Warning] No further splits with positive gain, best gain: -inf\n",
            "[LightGBM] [Warning] No further splits with positive gain, best gain: -inf\n",
            "[LightGBM] [Warning] No further splits with positive gain, best gain: -inf\n",
            "[LightGBM] [Warning] No further splits with positive gain, best gain: -inf\n",
            "[LightGBM] [Warning] No further splits with positive gain, best gain: -inf\n",
            "[LightGBM] [Warning] No further splits with positive gain, best gain: -inf\n",
            "[LightGBM] [Warning] No further splits with positive gain, best gain: -inf\n",
            "[LightGBM] [Warning] No further splits with positive gain, best gain: -inf\n",
            "[LightGBM] [Warning] No further splits with positive gain, best gain: -inf\n",
            "[LightGBM] [Warning] No further splits with positive gain, best gain: -inf\n",
            "[LightGBM] [Warning] No further splits with positive gain, best gain: -inf\n",
            "[LightGBM] [Warning] No further splits with positive gain, best gain: -inf\n",
            "[LightGBM] [Warning] No further splits with positive gain, best gain: -inf\n",
            "[LightGBM] [Warning] No further splits with positive gain, best gain: -inf\n",
            "[LightGBM] [Warning] No further splits with positive gain, best gain: -inf\n",
            "[LightGBM] [Warning] No further splits with positive gain, best gain: -inf\n",
            "                          Model  Precision    Recall  F1-Score       AUC  \\\n",
            "0           Logistic Regression   0.250000  0.166667  0.200000  0.347222   \n",
            "1  Support Vector Machine (SVM)   0.000000  0.000000  0.000000  0.416667   \n",
            "2                 Random Forest   1.000000  0.166667  0.285714  0.465278   \n",
            "3     K-Nearest Neighbors (KNN)   0.666667  0.333333  0.444444  0.645833   \n",
            "4     K-Nearest Neighbors (KNN)   0.666667  0.333333  0.444444  0.645833   \n",
            "5                       XGBoost   0.200000  0.166667  0.181818  0.375000   \n",
            "6                      LightGBM   0.250000  0.166667  0.200000  0.458333   \n",
            "\n",
            "   Training Time (s)  \n",
            "0           0.039221  \n",
            "1           0.049726  \n",
            "2           0.677652  \n",
            "3           0.012624  \n",
            "4           0.545308  \n",
            "5           0.075563  \n",
            "6           0.023297  \n"
          ]
        },
        {
          "output_type": "stream",
          "name": "stderr",
          "text": [
            "/usr/local/lib/python3.11/dist-packages/sklearn/utils/deprecation.py:151: FutureWarning: 'force_all_finite' was renamed to 'ensure_all_finite' in 1.6 and will be removed in 1.8.\n",
            "  warnings.warn(\n",
            "/usr/local/lib/python3.11/dist-packages/sklearn/utils/deprecation.py:151: FutureWarning: 'force_all_finite' was renamed to 'ensure_all_finite' in 1.6 and will be removed in 1.8.\n",
            "  warnings.warn(\n",
            "/usr/local/lib/python3.11/dist-packages/sklearn/utils/deprecation.py:151: FutureWarning: 'force_all_finite' was renamed to 'ensure_all_finite' in 1.6 and will be removed in 1.8.\n",
            "  warnings.warn(\n",
            "/usr/local/lib/python3.11/dist-packages/sklearn/utils/deprecation.py:151: FutureWarning: 'force_all_finite' was renamed to 'ensure_all_finite' in 1.6 and will be removed in 1.8.\n",
            "  warnings.warn(\n"
          ]
        }
      ]
    },
    {
      "cell_type": "markdown",
      "source": [
        "## Implementing CATBoost"
      ],
      "metadata": {
        "id": "kWUT3-V_i3jT"
      }
    },
    {
      "cell_type": "code",
      "source": [
        "!pip install catboost\n"
      ],
      "metadata": {
        "id": "bYGZZJ5YjQqR",
        "outputId": "2f7fa11a-3c91-4ca7-f0d3-c4e6c82e9e1f",
        "colab": {
          "base_uri": "https://localhost:8080/"
        }
      },
      "execution_count": 20,
      "outputs": [
        {
          "output_type": "stream",
          "name": "stdout",
          "text": [
            "Requirement already satisfied: catboost in /usr/local/lib/python3.11/dist-packages (1.2.7)\n",
            "Requirement already satisfied: graphviz in /usr/local/lib/python3.11/dist-packages (from catboost) (0.20.3)\n",
            "Requirement already satisfied: matplotlib in /usr/local/lib/python3.11/dist-packages (from catboost) (3.10.0)\n",
            "Requirement already satisfied: numpy<2.0,>=1.16.0 in /usr/local/lib/python3.11/dist-packages (from catboost) (1.26.4)\n",
            "Requirement already satisfied: pandas>=0.24 in /usr/local/lib/python3.11/dist-packages (from catboost) (2.2.2)\n",
            "Requirement already satisfied: scipy in /usr/local/lib/python3.11/dist-packages (from catboost) (1.13.1)\n",
            "Requirement already satisfied: plotly in /usr/local/lib/python3.11/dist-packages (from catboost) (5.24.1)\n",
            "Requirement already satisfied: six in /usr/local/lib/python3.11/dist-packages (from catboost) (1.17.0)\n",
            "Requirement already satisfied: python-dateutil>=2.8.2 in /usr/local/lib/python3.11/dist-packages (from pandas>=0.24->catboost) (2.8.2)\n",
            "Requirement already satisfied: pytz>=2020.1 in /usr/local/lib/python3.11/dist-packages (from pandas>=0.24->catboost) (2025.1)\n",
            "Requirement already satisfied: tzdata>=2022.7 in /usr/local/lib/python3.11/dist-packages (from pandas>=0.24->catboost) (2025.1)\n",
            "Requirement already satisfied: contourpy>=1.0.1 in /usr/local/lib/python3.11/dist-packages (from matplotlib->catboost) (1.3.1)\n",
            "Requirement already satisfied: cycler>=0.10 in /usr/local/lib/python3.11/dist-packages (from matplotlib->catboost) (0.12.1)\n",
            "Requirement already satisfied: fonttools>=4.22.0 in /usr/local/lib/python3.11/dist-packages (from matplotlib->catboost) (4.56.0)\n",
            "Requirement already satisfied: kiwisolver>=1.3.1 in /usr/local/lib/python3.11/dist-packages (from matplotlib->catboost) (1.4.8)\n",
            "Requirement already satisfied: packaging>=20.0 in /usr/local/lib/python3.11/dist-packages (from matplotlib->catboost) (24.2)\n",
            "Requirement already satisfied: pillow>=8 in /usr/local/lib/python3.11/dist-packages (from matplotlib->catboost) (11.1.0)\n",
            "Requirement already satisfied: pyparsing>=2.3.1 in /usr/local/lib/python3.11/dist-packages (from matplotlib->catboost) (3.2.1)\n",
            "Requirement already satisfied: tenacity>=6.2.0 in /usr/local/lib/python3.11/dist-packages (from plotly->catboost) (9.0.0)\n"
          ]
        }
      ]
    },
    {
      "cell_type": "code",
      "source": [
        "from catboost import CatBoostClassifier\n",
        "from sklearn.metrics import precision_score, recall_score, f1_score, roc_auc_score\n",
        "import time\n",
        "\n",
        "# Initialize CatBoost Classifier\n",
        "catboost_model = CatBoostClassifier(iterations=100, learning_rate=0.1, depth=3, random_seed=42, verbose=0)\n",
        "\n",
        "# Record start time\n",
        "start_time = time.time()\n",
        "\n",
        "# Train the model\n",
        "catboost_model.fit(X_train_scaled, y_train)\n",
        "\n",
        "# Record end time\n",
        "end_time = time.time()\n",
        "training_time = end_time - start_time\n",
        "\n",
        "# Predict on validation and test sets\n",
        "y_val_pred = catboost_model.predict(X_val_scaled)\n",
        "y_test_pred = catboost_model.predict(X_test_scaled)\n",
        "\n",
        "# Get predicted probabilities\n",
        "y_prob_catboost = catboost_model.predict_proba(X_test_scaled)[:, 1]  # Probability for class 1\n",
        "\n",
        "# Convert probabilities to binary predictions (threshold = 0.5)\n",
        "y_pred_catboost = (y_prob_catboost >= 0.5).astype(int)\n",
        "\n",
        "# Calculate evaluation metrics\n",
        "catboost_precision = precision_score(y_test, y_pred_catboost)\n",
        "catboost_recall = recall_score(y_test, y_pred_catboost)\n",
        "catboost_f1 = f1_score(y_test, y_pred_catboost)\n",
        "catboost_auc = roc_auc_score(y_test, y_prob_catboost)\n",
        "\n",
        "# Store results in a dictionary for comparison\n",
        "catboost_results = {\n",
        "    \"Model\": [\"CatBoost\"],\n",
        "    \"Precision\": [catboost_precision],\n",
        "    \"Recall\": [catboost_recall],\n",
        "    \"F1-Score\": [catboost_f1],\n",
        "    \"AUC\": [catboost_auc],\n",
        "    \"Training Time (s)\": [training_time]\n",
        "}\n",
        "\n",
        "# Convert to DataFrame\n",
        "catboost_results_df = pd.DataFrame(catboost_results)\n",
        "\n",
        "# Append to the existing results DataFrame\n",
        "results_df = pd.concat([results_df, catboost_results_df], ignore_index=True)\n",
        "\n",
        "# Display updated results\n",
        "print(results_df)\n"
      ],
      "metadata": {
        "id": "A81YYFTgjVP-",
        "outputId": "4894d0f6-791e-43cc-d265-03fa713c7eb9",
        "colab": {
          "base_uri": "https://localhost:8080/"
        }
      },
      "execution_count": 21,
      "outputs": [
        {
          "output_type": "stream",
          "name": "stdout",
          "text": [
            "                          Model  Precision    Recall  F1-Score       AUC  \\\n",
            "0           Logistic Regression   0.250000  0.166667  0.200000  0.347222   \n",
            "1  Support Vector Machine (SVM)   0.000000  0.000000  0.000000  0.416667   \n",
            "2                 Random Forest   1.000000  0.166667  0.285714  0.465278   \n",
            "3     K-Nearest Neighbors (KNN)   0.666667  0.333333  0.444444  0.645833   \n",
            "4     K-Nearest Neighbors (KNN)   0.666667  0.333333  0.444444  0.645833   \n",
            "5                       XGBoost   0.200000  0.166667  0.181818  0.375000   \n",
            "6                      LightGBM   0.250000  0.166667  0.200000  0.458333   \n",
            "7                      CatBoost   0.250000  0.166667  0.200000  0.416667   \n",
            "\n",
            "   Training Time (s)  \n",
            "0           0.039221  \n",
            "1           0.049726  \n",
            "2           0.677652  \n",
            "3           0.012624  \n",
            "4           0.545308  \n",
            "5           0.075563  \n",
            "6           0.023297  \n",
            "7           0.254018  \n"
          ]
        }
      ]
    },
    {
      "cell_type": "markdown",
      "source": [
        "## Implementing Fastforwar-NN"
      ],
      "metadata": {
        "id": "86QiETKbLc-w"
      }
    },
    {
      "cell_type": "code",
      "source": [
        "import torch\n",
        "import torch.nn as nn\n",
        "import torch.optim as optim\n",
        "import time\n",
        "from sklearn.metrics import precision_score, recall_score, f1_score, roc_auc_score\n",
        "\n",
        "# Define the Feedforward Neural Network (FNN) Model\n",
        "class FNNModel(nn.Module):\n",
        "    def __init__(self, input_dim):\n",
        "        super(FNNModel, self).__init__()\n",
        "        self.fc1 = nn.Linear(input_dim, 64)  # Input layer\n",
        "        self.fc2 = nn.Linear(64, 32)         # Hidden layer\n",
        "        self.fc3 = nn.Linear(32, 1)          # Output layer\n",
        "        self.relu = nn.ReLU()\n",
        "        self.sigmoid = nn.Sigmoid()\n",
        "\n",
        "    def forward(self, x):\n",
        "        x = self.relu(self.fc1(x))   # Apply ReLU activation\n",
        "        x = self.relu(self.fc2(x))   # Apply ReLU activation\n",
        "        x = self.sigmoid(self.fc3(x))  # Output layer with sigmoid for binary classification\n",
        "        return x\n",
        "\n",
        "# Initialize the FNN model\n",
        "input_dim = X_train_scaled.shape[1]  # Number of features\n",
        "fnn_model = FNNModel(input_dim)\n",
        "\n",
        "# Move model to GPU if available\n",
        "device = torch.device(\"cuda\" if torch.cuda.is_available() else \"cpu\")\n",
        "fnn_model.to(device)\n",
        "\n",
        "# Define the loss function and optimizer\n",
        "criterion = nn.BCELoss()\n",
        "optimizer = optim.Adam(fnn_model.parameters(), lr=0.001)\n",
        "\n",
        "# Record start time for training\n",
        "start_time = time.time()\n",
        "\n",
        "# Train the FNN Model (assuming X_train_scaled and y_train are tensors)\n",
        "for epoch in range(100):  # Number of epochs\n",
        "    # Move data to device\n",
        "    inputs = torch.tensor(X_train_scaled, dtype=torch.float32).to(device)\n",
        "    labels = torch.tensor(y_train, dtype=torch.float32).view(-1, 1).to(device)\n",
        "\n",
        "    # Forward pass\n",
        "    outputs = fnn_model(inputs)\n",
        "    loss = criterion(outputs, labels)\n",
        "\n",
        "    # Backward pass and optimization\n",
        "    optimizer.zero_grad()\n",
        "    loss.backward()\n",
        "    optimizer.step()\n",
        "\n",
        "# Record end time for training\n",
        "end_time = time.time()\n",
        "training_time = end_time - start_time\n",
        "\n",
        "# Predict on validation and test sets\n",
        "X_val_tensor = torch.tensor(X_val_scaled, dtype=torch.float32).to(device)\n",
        "y_val_pred = fnn_model(X_val_tensor).cpu().detach().numpy()\n",
        "y_val_pred = (y_val_pred > 0.5).astype(int)  # Threshold at 0.5\n",
        "\n",
        "X_test_tensor = torch.tensor(X_test_scaled, dtype=torch.float32).to(device)\n",
        "y_test_pred = fnn_model(X_test_tensor).cpu().detach().numpy()\n",
        "y_test_pred = (y_test_pred > 0.5).astype(int)  # Threshold at 0.5\n",
        "\n",
        "# Get predicted probabilities\n",
        "model.eval()  # Set the model to evaluation mode\n",
        "with torch.no_grad():\n",
        "    # Convert the test data to a tensor\n",
        "    X_test_tensor = torch.tensor(X_test_scaled, dtype=torch.float32).to(device)\n",
        "\n",
        "    # Get predictions\n",
        "    y_prob_fnn = model(X_test_tensor).cpu().numpy().flatten()  # Probabilities for class 1\n",
        "\n",
        "# Convert probabilities to binary predictions (threshold = 0.5)\n",
        "y_pred_fnn = (y_prob_fnn >= 0.5).astype(int)\n",
        "\n",
        "# Calculate evaluation metrics\n",
        "fnn_precision = precision_score(y_test, y_pred_fnn)\n",
        "fnn_recall = recall_score(y_test, y_pred_fnn)\n",
        "fnn_f1 = f1_score(y_test, y_pred_fnn)\n",
        "fnn_auc = roc_auc_score(y_test, y_prob_fnn)\n",
        "\n",
        "# Calculate training time (assuming it was previously calculated or use current time)\n",
        "start_time = time.time()\n",
        "# model.fit(X_train_scaled, y_train)  # Uncomment and use this if not done yet\n",
        "end_time = time.time()\n",
        "training_time = end_time - start_time\n",
        "\n",
        "# Store results in a dictionary for comparison\n",
        "fnn_results = {\n",
        "    \"Model\": [\"Feedforward Neural Network (FNN)\"],\n",
        "    \"Precision\": [fnn_precision],\n",
        "    \"Recall\": [fnn_recall],\n",
        "    \"F1-Score\": [fnn_f1],\n",
        "    \"AUC\": [fnn_auc],\n",
        "    \"Training Time (s)\": [training_time]\n",
        "}\n",
        "\n",
        "# Convert to DataFrame\n",
        "fnn_results_df = pd.DataFrame(fnn_results)\n",
        "\n",
        "# Initialize an empty DataFrame to hold results if it doesn't exist\n",
        "try:\n",
        "    results_df\n",
        "except NameError:\n",
        "    results_df = pd.DataFrame(columns=[\"Model\", \"Precision\", \"Recall\", \"F1-Score\", \"AUC\", \"Training Time (s)\"])\n",
        "\n",
        "# Append to the existing results DataFrame\n",
        "results_df = pd.concat([results_df, fnn_results_df], ignore_index=True)\n",
        "\n",
        "# Display updated results\n",
        "print(results_df)"
      ],
      "metadata": {
        "colab": {
          "base_uri": "https://localhost:8080/"
        },
        "id": "RsFxLw-MLuoh",
        "outputId": "d48de582-9070-4bbe-9c12-6ddd3de924af"
      },
      "execution_count": 26,
      "outputs": [
        {
          "output_type": "stream",
          "name": "stdout",
          "text": [
            "                              Model  Precision    Recall  F1-Score       AUC  \\\n",
            "0               Logistic Regression   0.250000  0.166667  0.200000  0.347222   \n",
            "1      Support Vector Machine (SVM)   0.000000  0.000000  0.000000  0.416667   \n",
            "2                     Random Forest   1.000000  0.166667  0.285714  0.465278   \n",
            "3         K-Nearest Neighbors (KNN)   0.666667  0.333333  0.444444  0.645833   \n",
            "4         K-Nearest Neighbors (KNN)   0.666667  0.333333  0.444444  0.645833   \n",
            "5                           XGBoost   0.200000  0.166667  0.181818  0.375000   \n",
            "6                          LightGBM   0.250000  0.166667  0.200000  0.458333   \n",
            "7                          CatBoost   0.250000  0.166667  0.200000  0.416667   \n",
            "8               Neural Network (NN)   0.000000  0.000000  0.000000  0.444444   \n",
            "9  Feedforward Neural Network (FNN)   0.000000  0.000000  0.000000  0.444444   \n",
            "\n",
            "   Training Time (s)  \n",
            "0           0.039221  \n",
            "1           0.049726  \n",
            "2           0.677652  \n",
            "3           0.012624  \n",
            "4           0.545308  \n",
            "5           0.075563  \n",
            "6           0.023297  \n",
            "7           0.254018  \n",
            "8           0.132054  \n",
            "9           0.000051  \n"
          ]
        }
      ]
    },
    {
      "cell_type": "markdown",
      "source": [
        "## Implementing A neural network"
      ],
      "metadata": {
        "id": "Pv6CDU82mFzh"
      }
    },
    {
      "cell_type": "code",
      "source": [
        "import torch\n",
        "import torch.nn as nn\n",
        "import torch.optim as optim\n",
        "import time\n",
        "from sklearn.metrics import precision_score, recall_score, f1_score, roc_auc_score\n",
        "\n",
        "# Define the Neural Network Model\n",
        "class NeuralNetwork(nn.Module):\n",
        "    def __init__(self, input_dim):\n",
        "        super(NeuralNetwork, self).__init__()\n",
        "        self.fc1 = nn.Linear(input_dim, 64)\n",
        "        self.fc2 = nn.Linear(64, 32)\n",
        "        self.output = nn.Linear(32, 1)\n",
        "        self.relu = nn.ReLU()\n",
        "        self.sigmoid = nn.Sigmoid()\n",
        "\n",
        "    def forward(self, x):\n",
        "        x = self.relu(self.fc1(x))\n",
        "        x = self.relu(self.fc2(x))\n",
        "        x = self.sigmoid(self.output(x))\n",
        "        return x\n",
        "\n",
        "# Initialize the model\n",
        "input_dim = X_train_scaled.shape[1]  # Number of features\n",
        "model = NeuralNetwork(input_dim)\n",
        "\n",
        "# Move model to GPU if available\n",
        "device = torch.device(\"cuda\" if torch.cuda.is_available() else \"cpu\")\n",
        "model.to(device)\n",
        "\n",
        "# Prepare data (assuming X_train_scaled, y_train are numpy arrays or tensors)\n",
        "X_train_tensor = torch.tensor(X_train_scaled, dtype=torch.float32).to(device)\n",
        "y_train_tensor = torch.tensor(y_train, dtype=torch.float32).view(-1, 1).to(device)\n",
        "\n",
        "X_val_tensor = torch.tensor(X_val_scaled, dtype=torch.float32).to(device)\n",
        "y_val_tensor = torch.tensor(y_val, dtype=torch.float32).view(-1, 1).to(device)\n",
        "\n",
        "X_test_tensor = torch.tensor(X_test_scaled, dtype=torch.float32).to(device)\n",
        "y_test_tensor = torch.tensor(y_test, dtype=torch.float32).view(-1, 1).to(device)\n",
        "\n",
        "# Initialize the loss function and optimizer\n",
        "criterion = nn.BCELoss()\n",
        "optimizer = optim.Adam(model.parameters(), lr=0.001)\n",
        "\n",
        "# Training the model\n",
        "start_time = time.time()\n",
        "\n",
        "# Set the model to training mode\n",
        "model.train()\n",
        "for epoch in range(100):  # Training for 100 epochs\n",
        "    optimizer.zero_grad()\n",
        "    outputs = model(X_train_tensor)\n",
        "    loss = criterion(outputs, y_train_tensor)\n",
        "    loss.backward()\n",
        "    optimizer.step()\n",
        "\n",
        "# Record the end time for training\n",
        "end_time = time.time()\n",
        "training_time = end_time - start_time\n",
        "\n",
        "# Evaluation\n",
        "model.eval()\n",
        "\n",
        "# Make predictions on the validation and test sets\n",
        "with torch.no_grad():\n",
        "    y_val_pred_prob = model(X_val_tensor).squeeze().cpu().numpy()\n",
        "    y_test_pred_prob = model(X_test_tensor).squeeze().cpu().numpy()\n",
        "\n",
        "# Convert probabilities to binary predictions (threshold = 0.5)\n",
        "y_val_pred = (y_val_pred_prob >= 0.5).astype(int)\n",
        "y_test_pred = (y_test_pred_prob >= 0.5).astype(int)\n",
        "\n",
        "# Calculate evaluation metrics for validation set\n",
        "val_precision = precision_score(y_val, y_val_pred)\n",
        "val_recall = recall_score(y_val, y_val_pred)\n",
        "val_f1 = f1_score(y_val, y_val_pred)\n",
        "val_auc = roc_auc_score(y_val, y_val_pred_prob)\n",
        "\n",
        "# Calculate evaluation metrics for test set\n",
        "test_precision = precision_score(y_test, y_test_pred)\n",
        "test_recall = recall_score(y_test, y_test_pred)\n",
        "test_f1 = f1_score(y_test, y_test_pred)\n",
        "test_auc = roc_auc_score(y_test, y_test_pred_prob)\n",
        "\n",
        "# Print the evaluation results\n",
        "print(f\"Neural Network Model Evaluation (Validation Set):\")\n",
        "print(f\"Validation Precision: {val_precision:.4f} | Validation Recall: {val_recall:.4f}\")\n",
        "print(f\"Validation F1-Score: {val_f1:.4f} | Validation AUC: {val_auc:.4f}\")\n",
        "\n",
        "print(f\"\\nNeural Network Model Evaluation (Test Set):\")\n",
        "print(f\"Test Precision: {test_precision:.4f} | Test Recall: {test_recall:.4f}\")\n",
        "print(f\"Test F1-Score: {test_f1:.4f} | Test AUC: {test_auc:.4f}\")\n",
        "\n",
        "print(f\"\\nTraining Time: {training_time:.4f} seconds\")\n"
      ],
      "metadata": {
        "colab": {
          "base_uri": "https://localhost:8080/"
        },
        "id": "VKJXJE1UDn3t",
        "outputId": "6650a133-02d1-48b6-b29b-b07181aec16c"
      },
      "execution_count": 24,
      "outputs": [
        {
          "output_type": "stream",
          "name": "stdout",
          "text": [
            "Neural Network Model Evaluation (Validation Set):\n",
            "Validation Precision: 1.0000 | Validation Recall: 0.5000\n",
            "Validation F1-Score: 0.6667 | Validation AUC: 0.6528\n",
            "\n",
            "Neural Network Model Evaluation (Test Set):\n",
            "Test Precision: 0.2500 | Test Recall: 0.1667\n",
            "Test F1-Score: 0.2000 | Test AUC: 0.4444\n",
            "\n",
            "Training Time: 0.1330 seconds\n"
          ]
        }
      ]
    },
    {
      "cell_type": "markdown",
      "source": [
        "## Implementing DNN"
      ],
      "metadata": {
        "id": "YXYQSVqtvFPm"
      }
    },
    {
      "cell_type": "code",
      "source": [
        "import torch\n",
        "import torch.nn as nn\n",
        "import torch.optim as optim\n",
        "import time\n",
        "from sklearn.metrics import precision_score, recall_score, f1_score, roc_auc_score\n",
        "import pandas as pd\n",
        "\n",
        "# Define the Neural Network Model\n",
        "class NeuralNetwork(nn.Module):\n",
        "    def __init__(self, input_dim):\n",
        "        super(NeuralNetwork, self).__init__()\n",
        "        self.fc1 = nn.Linear(input_dim, 64)\n",
        "        self.fc2 = nn.Linear(64, 32)\n",
        "        self.output = nn.Linear(32, 1)\n",
        "        self.relu = nn.ReLU()\n",
        "        self.sigmoid = nn.Sigmoid()\n",
        "\n",
        "    def forward(self, x):\n",
        "        x = self.relu(self.fc1(x))\n",
        "        x = self.relu(self.fc2(x))\n",
        "        x = self.sigmoid(self.output(x))\n",
        "        return x\n",
        "\n",
        "# Initialize the model\n",
        "input_dim = X_train_scaled.shape[1]  # Number of features\n",
        "model = NeuralNetwork(input_dim)\n",
        "\n",
        "# Move model to GPU if available\n",
        "device = torch.device(\"cuda\" if torch.cuda.is_available() else \"cpu\")\n",
        "model.to(device)\n",
        "\n",
        "# Prepare data (assuming X_train_scaled, y_train are numpy arrays or tensors)\n",
        "X_train_tensor = torch.tensor(X_train_scaled, dtype=torch.float32).to(device)\n",
        "y_train_tensor = torch.tensor(y_train, dtype=torch.float32).view(-1, 1).to(device)\n",
        "\n",
        "X_val_tensor = torch.tensor(X_val_scaled, dtype=torch.float32).to(device)\n",
        "y_val_tensor = torch.tensor(y_val, dtype=torch.float32).view(-1, 1).to(device)\n",
        "\n",
        "X_test_tensor = torch.tensor(X_test_scaled, dtype=torch.float32).to(device)\n",
        "y_test_tensor = torch.tensor(y_test, dtype=torch.float32).view(-1, 1).to(device)\n",
        "\n",
        "# Initialize the loss function and optimizer\n",
        "criterion = nn.BCELoss()\n",
        "optimizer = optim.Adam(model.parameters(), lr=0.001)\n",
        "\n",
        "# Training the model\n",
        "start_time = time.time()\n",
        "\n",
        "# Set the model to training mode\n",
        "model.train()\n",
        "for epoch in range(100):  # Training for 100 epochs\n",
        "    optimizer.zero_grad()\n",
        "    outputs = model(X_train_tensor)\n",
        "    loss = criterion(outputs, y_train_tensor)\n",
        "    loss.backward()\n",
        "    optimizer.step()\n",
        "\n",
        "# Record the end time for training\n",
        "end_time = time.time()\n",
        "training_time = end_time - start_time\n",
        "\n",
        "# Evaluation\n",
        "model.eval()\n",
        "\n",
        "# Make predictions on the validation and test sets\n",
        "with torch.no_grad():\n",
        "    y_val_pred_prob = model(X_val_tensor).squeeze().cpu().numpy()\n",
        "    y_test_pred_prob = model(X_test_tensor).squeeze().cpu().numpy()\n",
        "\n",
        "# Convert probabilities to binary predictions (threshold = 0.5)\n",
        "y_val_pred = (y_val_pred_prob >= 0.5).astype(int)\n",
        "y_test_pred = (y_test_pred_prob >= 0.5).astype(int)\n",
        "\n",
        "# Calculate evaluation metrics for validation set\n",
        "val_precision = precision_score(y_val, y_val_pred)\n",
        "val_recall = recall_score(y_val, y_val_pred)\n",
        "val_f1 = f1_score(y_val, y_val_pred)\n",
        "val_auc = roc_auc_score(y_val, y_val_pred_prob)\n",
        "\n",
        "# Calculate evaluation metrics for test set\n",
        "test_precision = precision_score(y_test, y_test_pred)\n",
        "test_recall = recall_score(y_test, y_test_pred)\n",
        "test_f1 = f1_score(y_test, y_test_pred)\n",
        "test_auc = roc_auc_score(y_test, y_test_pred_prob)\n",
        "\n",
        "# Store results in a dictionary for comparison\n",
        "nn_results = {\n",
        "    \"Model\": [\"Neural Network (NN)\"],\n",
        "    \"Precision\": [test_precision],\n",
        "    \"Recall\": [test_recall],\n",
        "    \"F1-Score\": [test_f1],\n",
        "    \"AUC\": [test_auc],\n",
        "    \"Training Time (s)\": [training_time]\n",
        "}\n",
        "\n",
        "# Convert to DataFrame\n",
        "nn_results_df = pd.DataFrame(nn_results)\n",
        "\n",
        "# Initialize an empty DataFrame to hold results if it doesn't exist\n",
        "try:\n",
        "    results_df\n",
        "except NameError:\n",
        "    results_df = pd.DataFrame(columns=[\"Model\", \"Precision\", \"Recall\", \"F1-Score\", \"AUC\", \"Training Time (s)\"])\n",
        "\n",
        "# Append to the existing results DataFrame\n",
        "results_df = pd.concat([results_df, nn_results_df], ignore_index=True)\n",
        "\n",
        "# Display updated results\n",
        "print(results_df)\n"
      ],
      "metadata": {
        "colab": {
          "base_uri": "https://localhost:8080/"
        },
        "id": "S6Zf_WuaPtXg",
        "outputId": "e545afdc-7b27-408a-d837-b7d5501ab495"
      },
      "execution_count": 25,
      "outputs": [
        {
          "output_type": "stream",
          "name": "stdout",
          "text": [
            "                          Model  Precision    Recall  F1-Score       AUC  \\\n",
            "0           Logistic Regression   0.250000  0.166667  0.200000  0.347222   \n",
            "1  Support Vector Machine (SVM)   0.000000  0.000000  0.000000  0.416667   \n",
            "2                 Random Forest   1.000000  0.166667  0.285714  0.465278   \n",
            "3     K-Nearest Neighbors (KNN)   0.666667  0.333333  0.444444  0.645833   \n",
            "4     K-Nearest Neighbors (KNN)   0.666667  0.333333  0.444444  0.645833   \n",
            "5                       XGBoost   0.200000  0.166667  0.181818  0.375000   \n",
            "6                      LightGBM   0.250000  0.166667  0.200000  0.458333   \n",
            "7                      CatBoost   0.250000  0.166667  0.200000  0.416667   \n",
            "8           Neural Network (NN)   0.000000  0.000000  0.000000  0.444444   \n",
            "\n",
            "   Training Time (s)  \n",
            "0           0.039221  \n",
            "1           0.049726  \n",
            "2           0.677652  \n",
            "3           0.012624  \n",
            "4           0.545308  \n",
            "5           0.075563  \n",
            "6           0.023297  \n",
            "7           0.254018  \n",
            "8           0.132054  \n"
          ]
        }
      ]
    },
    {
      "cell_type": "markdown",
      "source": [
        "# Comparing The Models"
      ],
      "metadata": {
        "id": "gRKUKYlMwVEz"
      }
    },
    {
      "cell_type": "code",
      "source": [
        "# Sort the DataFrame by 'AUC' in descending order\n",
        "sorted_df = results_df.sort_values(by='AUC', ascending=False)\n",
        "\n",
        "# Display the sorted DataFrame\n",
        "sorted_df\n"
      ],
      "metadata": {
        "id": "FQd3w0GjQ1_x"
      },
      "execution_count": null,
      "outputs": []
    },
    {
      "cell_type": "markdown",
      "source": [
        "saving"
      ],
      "metadata": {
        "id": "fzVxB4U5Q7EV"
      }
    },
    {
      "cell_type": "code",
      "source": [
        "# Save the sorted DataFrame as a CSV file in the current directory\n",
        "sorted_df.to_csv('sorted_model_comparison.csv', index=False)\n",
        "\n",
        "# Optionally, display a message indicating the file has been saved\n",
        "print(\"The sorted model comparison has been saved as 'sorted_model_comparison.csv'\")\n"
      ],
      "metadata": {
        "id": "8EUK4b9wQ8GO"
      },
      "execution_count": null,
      "outputs": []
    },
    {
      "cell_type": "markdown",
      "source": [
        "# Ensembling"
      ],
      "metadata": {
        "id": "73fQdABuRSKC"
      }
    }
  ]
}