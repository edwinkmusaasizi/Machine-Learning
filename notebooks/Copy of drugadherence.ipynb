{
  "nbformat": 4,
  "nbformat_minor": 0,
  "metadata": {
    "colab": {
      "provenance": [],
      "toc_visible": true,
      "authorship_tag": "ABX9TyPKs1uFCfcW+wJjAQ/HOXOa"
    },
    "kernelspec": {
      "name": "python3",
      "display_name": "Python 3"
    },
    "language_info": {
      "name": "python"
    }
  },
  "cells": [
    {
      "cell_type": "markdown",
      "source": [
        "# **0.0 Loading Dataset**"
      ],
      "metadata": {
        "id": "qkMtfHS29wQB"
      }
    },
    {
      "cell_type": "code",
      "execution_count": null,
      "metadata": {
        "colab": {
          "base_uri": "https://localhost:8080/"
        },
        "collapsed": true,
        "id": "h4fuIGZJTyAw",
        "outputId": "411fefd1-5585-4b75-df8c-ec9c96e2ba8a"
      },
      "outputs": [
        {
          "output_type": "stream",
          "name": "stdout",
          "text": [
            "Cloning into 'Machine-Learning'...\n",
            "remote: Enumerating objects: 37, done.\u001b[K\n",
            "remote: Counting objects: 100% (37/37), done.\u001b[K\n",
            "remote: Compressing objects: 100% (33/33), done.\u001b[K\n",
            "remote: Total 37 (delta 8), reused 7 (delta 0), pack-reused 0 (from 0)\u001b[K\n",
            "Receiving objects: 100% (37/37), 321.68 KiB | 6.07 MiB/s, done.\n",
            "Resolving deltas: 100% (8/8), done.\n"
          ]
        }
      ],
      "source": [
        "!git clone https://github.com/edwinkmusaasizi/Machine-Learning.git"
      ]
    },
    {
      "cell_type": "code",
      "source": [
        "%cd Machine-Learning\n",
        "%cd data\n",
        "%cd interim\n",
        "!ls"
      ],
      "metadata": {
        "colab": {
          "base_uri": "https://localhost:8080/"
        },
        "id": "XOq1g9EKBMoS",
        "outputId": "2517f15a-90b4-4011-85e4-a54700cdb0b0"
      },
      "execution_count": null,
      "outputs": [
        {
          "output_type": "stream",
          "name": "stdout",
          "text": [
            "/content/Machine-Learning\n",
            "/content/Machine-Learning/data\n",
            "/content/Machine-Learning/data/interim\n",
            "cleaned_mental_health_data.csv\n"
          ]
        }
      ]
    },
    {
      "cell_type": "markdown",
      "source": [
        "# **1.0 Teacher Model(DNN)**"
      ],
      "metadata": {
        "id": "MbJ-Zgft991a"
      }
    },
    {
      "cell_type": "markdown",
      "source": [
        "1.1 Data Processing"
      ],
      "metadata": {
        "id": "p1raXwjB_8jB"
      }
    },
    {
      "cell_type": "code",
      "source": [
        "import pandas as pd\n",
        "import numpy as np\n",
        "import torch\n",
        "from torch.utils.data import DataLoader, TensorDataset\n",
        "from sklearn.model_selection import train_test_split\n",
        "from sklearn.preprocessing import StandardScaler, LabelEncoder\n",
        "\n",
        "# Load data\n",
        "df = pd.read_csv(\"cleaned_mental_health_data.csv\")\n",
        "\n",
        "# Define adherence labels based on questionnaire responses\n",
        "non_adherence_columns = [\n",
        "    \"Do you ever forget to take your medication?\",\n",
        "    \"Are you careless at times about taking your medication?\",\n",
        "    \"When you feel better, do you sometimes stop taking your medication?\",\n",
        "    \"Sometimes if you feel worse when you take the medication, do you stop taking it?\",\n",
        "    \"I take my medication only when I am sick\"\n",
        "]\n",
        "\n",
        "df[\"adherence\"] = np.where(df[non_adherence_columns].eq(\"Yes\").any(axis=1), 0, 1)\n",
        "\n",
        "# Drop redundant columns\n",
        "df = df.drop(columns=non_adherence_columns + [\"If you have any further comments about medication or this questionnaire, please write them below\"])\n",
        "\n",
        "# Identify all categorical columns\n",
        "categorical_cols = df.select_dtypes(include=['object', 'category']).columns\n",
        "print(\"Categorical columns to encode:\", categorical_cols)\n",
        "\n",
        "# Encode all categorical features\n",
        "for col in categorical_cols:\n",
        "    le = LabelEncoder()\n",
        "    df[col] = le.fit_transform(df[col].astype(str))\n",
        "\n",
        "# Split features and labels\n",
        "X = df.drop(columns=\"adherence\").values\n",
        "y = df[\"adherence\"].values\n",
        "\n",
        "# Split data into train, validation, test (70-15-15)\n",
        "X_train, X_temp, y_train, y_temp = train_test_split(X, y, test_size=0.3, stratify=y, random_state=42)\n",
        "X_val, X_test, y_val, y_test = train_test_split(X_temp, y_temp, test_size=0.5, stratify=y_temp, random_state=42)\n",
        "\n",
        "# Normalize numerical features\n",
        "scaler = StandardScaler()\n",
        "X_train = scaler.fit_transform(X_train)\n",
        "X_val = scaler.transform(X_val)\n",
        "X_test = scaler.transform(X_test)\n",
        "\n",
        "# Convert to PyTorch tensors\n",
        "train_dataset = TensorDataset(torch.FloatTensor(X_train), torch.FloatTensor(y_train))\n",
        "val_dataset = TensorDataset(torch.FloatTensor(X_val), torch.FloatTensor(y_val))\n",
        "test_dataset = TensorDataset(torch.FloatTensor(X_test), torch.FloatTensor(y_test))\n",
        "\n",
        "# Create DataLoaders\n",
        "batch_size = 32\n",
        "train_loader = DataLoader(train_dataset, batch_size=batch_size, shuffle=True)\n",
        "val_loader = DataLoader(val_dataset, batch_size=batch_size)\n",
        "test_loader = DataLoader(test_dataset, batch_size=batch_size)"
      ],
      "metadata": {
        "id": "azWCwfFIAHap",
        "outputId": "70bc8fdb-40a7-4cd1-9e1b-61927f0c5dc1",
        "colab": {
          "base_uri": "https://localhost:8080/"
        }
      },
      "execution_count": null,
      "outputs": [
        {
          "output_type": "stream",
          "name": "stdout",
          "text": [
            "Categorical columns to encode: Index(['sex', 'Religion', 'marital status', 'education status', 'residence',\n",
            "       'substance use', 'comorbidity',\n",
            "       'It is unnatural for my mind and body to be controlled by medication?',\n",
            "       'My thoughts are clearer on medication',\n",
            "       'By staying on medication, I can prevent getting sick',\n",
            "       'I feel weird, like a ‘zombie’ on medication',\n",
            "       'Medication makes me feel tired and sluggish',\n",
            "       'Some of your symptoms are made by your mind.', 'You are mentally well',\n",
            "       'You do not need medication', 'Your stay in the hospital is necessary',\n",
            "       'The doctor is right in prescribing medication for you.',\n",
            "       'You do not need to be seen by a doctor or psychiatrist',\n",
            "       'If someone said you have a nervous or mental illness, they would be right',\n",
            "       'None of the unusual things you are experiencing are due to an illness.',\n",
            "       '. Loss of energy or drive', 'Feeling unmotivated or numb',\n",
            "       'Daytime sedation or drowsiness', 'Sleeping too much',\n",
            "       'Muscles being too tense or stiff', 'Muscles trembling or shaking',\n",
            "       'Feeling restless or jittery',\n",
            "       'Need to move around and pace; inability to sit still',\n",
            "       'Trouble getting to sleep or staying asleep (insomnia)',\n",
            "       'Blurry vision', 'Dry mouth', 'Drooling',\n",
            "       'Memory and concentration problems', 'Constipation', 'Weight changes',\n",
            "       'Changes in sexual functioning', 'Menstrual or breast problem',\n",
            "       'I feel over burdened by the number of pills i swallow per day.',\n",
            "       'How often do yo take your drugs',\n",
            "       'How often do you find no medications in the hospital',\n",
            "       'I am satisfied with doctors explanation about mental illness and the need for treatment',\n",
            "       'Do you sometimes stop your medications because of religious or cultural beliefs'],\n",
            "      dtype='object')\n"
          ]
        }
      ]
    },
    {
      "cell_type": "markdown",
      "source": [
        "1.2  Define the Teacher Model Architecture\n",
        "\n"
      ],
      "metadata": {
        "id": "wsi6nwMMANuA"
      }
    },
    {
      "cell_type": "code",
      "source": [
        "import torch.nn as nn\n",
        "\n",
        "class TeacherModel(nn.Module):\n",
        "    def __init__(self, input_dim):\n",
        "        super(TeacherModel, self).__init__()\n",
        "        self.layers = nn.Sequential(\n",
        "            nn.Linear(input_dim, 256),\n",
        "            nn.ReLU(),\n",
        "            nn.Dropout(0.5),\n",
        "            nn.Linear(256, 128),\n",
        "            nn.ReLU(),\n",
        "            nn.Dropout(0.5),\n",
        "            nn.Linear(128, 64),\n",
        "            nn.ReLU(),\n",
        "            nn.Linear(64, 1),\n",
        "            nn.Sigmoid()\n",
        "        )\n",
        "\n",
        "    def forward(self, x):\n",
        "        return self.layers(x)\n",
        "\n",
        "# Initialize model\n",
        "input_dim = X_train.shape[1]\n",
        "teacher = TeacherModel(input_dim)"
      ],
      "metadata": {
        "id": "6TBz1aVfASdg"
      },
      "execution_count": null,
      "outputs": []
    },
    {
      "cell_type": "markdown",
      "source": [
        "1.3 Training Loop"
      ],
      "metadata": {
        "id": "kCV4znXeAX2X"
      }
    },
    {
      "cell_type": "code",
      "source": [
        "import torch.optim as optim\n",
        "from sklearn.metrics import accuracy_score, roc_auc_score\n",
        "\n",
        "# Loss and optimizer\n",
        "criterion = nn.BCELoss()\n",
        "optimizer = optim.Adam(teacher.parameters(), lr=0.001)\n",
        "\n",
        "# Early stopping parameters\n",
        "best_val_loss = float('inf')\n",
        "patience = 5\n",
        "counter = 0\n",
        "\n",
        "# Training loop\n",
        "num_epochs = 100\n",
        "for epoch in range(num_epochs):\n",
        "    # Training\n",
        "    teacher.train()\n",
        "    train_loss = 0.0\n",
        "    for inputs, labels in train_loader:\n",
        "        optimizer.zero_grad()\n",
        "        outputs = teacher(inputs).squeeze()\n",
        "        loss = criterion(outputs, labels)\n",
        "        loss.backward()\n",
        "        optimizer.step()\n",
        "        train_loss += loss.item() * inputs.size(0)\n",
        "\n",
        "    # Validation\n",
        "    teacher.eval()\n",
        "    val_loss = 0.0\n",
        "    val_preds, val_true = [], []\n",
        "    with torch.no_grad():\n",
        "        for inputs, labels in val_loader:\n",
        "            outputs = teacher(inputs).squeeze()\n",
        "            loss = criterion(outputs, labels)\n",
        "            val_loss += loss.item() * inputs.size(0)\n",
        "            val_preds.extend(outputs.numpy())\n",
        "            val_true.extend(labels.numpy())\n",
        "\n",
        "    # Calculate metrics\n",
        "    train_loss = train_loss / len(train_loader.dataset)\n",
        "    val_loss = val_loss / len(val_loader.dataset)\n",
        "    val_auc = roc_auc_score(val_true, val_preds)\n",
        "    val_preds_binary = (np.array(val_preds) > 0.5).astype(int)\n",
        "    val_acc = accuracy_score(val_true, val_preds_binary)\n",
        "\n",
        "    print(f\"Epoch {epoch+1}/{num_epochs}\")\n",
        "    print(f\"Train Loss: {train_loss:.4f} | Val Loss: {val_loss:.4f} | Val AUC: {val_auc:.4f} | Val Acc: {val_acc:.4f}\")\n",
        "\n",
        "    # Early stopping\n",
        "    if val_loss < best_val_loss:\n",
        "        best_val_loss = val_loss\n",
        "        counter = 0\n",
        "        torch.save(teacher.state_dict(), \"best_teacher.pth\")\n",
        "    else:\n",
        "        counter += 1\n",
        "        if counter >= patience:\n",
        "            print(\"Early stopping!\")\n",
        "            break"
      ],
      "metadata": {
        "id": "KriFvjVWShcd",
        "outputId": "3798b513-74b3-41f0-9473-7047c4970b9a",
        "colab": {
          "base_uri": "https://localhost:8080/"
        }
      },
      "execution_count": null,
      "outputs": [
        {
          "output_type": "stream",
          "name": "stdout",
          "text": [
            "Epoch 1/100\n",
            "Train Loss: 0.6804 | Val Loss: 0.6640 | Val AUC: 0.5833 | Val Acc: 0.6667\n",
            "Epoch 2/100\n",
            "Train Loss: 0.6540 | Val Loss: 0.6470 | Val AUC: 0.5972 | Val Acc: 0.6667\n",
            "Epoch 3/100\n",
            "Train Loss: 0.6340 | Val Loss: 0.6298 | Val AUC: 0.6389 | Val Acc: 0.6667\n",
            "Epoch 4/100\n",
            "Train Loss: 0.6113 | Val Loss: 0.6144 | Val AUC: 0.6389 | Val Acc: 0.6667\n",
            "Epoch 5/100\n",
            "Train Loss: 0.5989 | Val Loss: 0.6029 | Val AUC: 0.6944 | Val Acc: 0.6667\n",
            "Epoch 6/100\n",
            "Train Loss: 0.5834 | Val Loss: 0.5972 | Val AUC: 0.6944 | Val Acc: 0.6667\n",
            "Epoch 7/100\n",
            "Train Loss: 0.5681 | Val Loss: 0.5959 | Val AUC: 0.6944 | Val Acc: 0.6667\n",
            "Epoch 8/100\n",
            "Train Loss: 0.5546 | Val Loss: 0.5949 | Val AUC: 0.6806 | Val Acc: 0.6667\n",
            "Epoch 9/100\n",
            "Train Loss: 0.5072 | Val Loss: 0.5936 | Val AUC: 0.7500 | Val Acc: 0.6667\n",
            "Epoch 10/100\n",
            "Train Loss: 0.5061 | Val Loss: 0.5926 | Val AUC: 0.7500 | Val Acc: 0.6667\n",
            "Epoch 11/100\n",
            "Train Loss: 0.4740 | Val Loss: 0.5931 | Val AUC: 0.7500 | Val Acc: 0.6667\n",
            "Epoch 12/100\n",
            "Train Loss: 0.4869 | Val Loss: 0.5986 | Val AUC: 0.7500 | Val Acc: 0.6667\n",
            "Epoch 13/100\n",
            "Train Loss: 0.4510 | Val Loss: 0.6060 | Val AUC: 0.7500 | Val Acc: 0.7222\n",
            "Epoch 14/100\n",
            "Train Loss: 0.4245 | Val Loss: 0.6190 | Val AUC: 0.7500 | Val Acc: 0.7222\n",
            "Epoch 15/100\n",
            "Train Loss: 0.3896 | Val Loss: 0.6294 | Val AUC: 0.7361 | Val Acc: 0.6667\n",
            "Early stopping!\n"
          ]
        }
      ]
    },
    {
      "cell_type": "markdown",
      "source": [
        "2.4 Evaluation"
      ],
      "metadata": {
        "id": "lpAgEnrZSmWT"
      }
    },
    {
      "cell_type": "code",
      "source": [
        "from sklearn.metrics import precision_score, recall_score, f1_score, roc_auc_score, confusion_matrix\n",
        "\n",
        "def calculate_specificity(y_true, y_pred):\n",
        "    \"\"\"Calculate specificity (true negative rate).\"\"\"\n",
        "    tn, fp, fn, tp = confusion_matrix(y_true, y_pred).ravel()\n",
        "    specificity = tn / (tn + fp)\n",
        "    return specificity\n",
        "\n",
        "# Training loop\n",
        "num_epochs = 100\n",
        "for epoch in range(num_epochs):\n",
        "    # Training\n",
        "    teacher.train()\n",
        "    train_loss = 0.0\n",
        "    for inputs, labels in train_loader:\n",
        "        optimizer.zero_grad()\n",
        "        outputs = teacher(inputs).squeeze()\n",
        "        loss = criterion(outputs, labels)\n",
        "        loss.backward()\n",
        "        optimizer.step()\n",
        "        train_loss += loss.item() * inputs.size(0)\n",
        "\n",
        "    # Validation\n",
        "    teacher.eval()\n",
        "    val_loss = 0.0\n",
        "    val_preds, val_true = [], []\n",
        "    with torch.no_grad():\n",
        "        for inputs, labels in val_loader:\n",
        "            outputs = teacher(inputs).squeeze()\n",
        "            loss = criterion(outputs, labels)\n",
        "            val_loss += loss.item() * inputs.size(0)\n",
        "            val_preds.extend(outputs.numpy())\n",
        "            val_true.extend(labels.numpy())\n",
        "\n",
        "    # Calculate metrics\n",
        "    train_loss = train_loss / len(train_loader.dataset)\n",
        "    val_loss = val_loss / len(val_loader.dataset)\n",
        "\n",
        "    # Convert predictions to binary (0 or 1)\n",
        "    val_preds_binary = (np.array(val_preds) > 0.5).astype(int)\n",
        "\n",
        "    # Calculate precision, recall, F1-score, specificity, and AUC\n",
        "    val_precision = precision_score(val_true, val_preds_binary)\n",
        "    val_recall = recall_score(val_true, val_preds_binary)\n",
        "    val_f1 = f1_score(val_true, val_preds_binary)\n",
        "    val_specificity = calculate_specificity(val_true, val_preds_binary)\n",
        "    val_auc = roc_auc_score(val_true, val_preds)\n",
        "\n",
        "    print(f\"Epoch {epoch+1}/{num_epochs}\")\n",
        "    print(f\"Train Loss: {train_loss:.4f} | Val Loss: {val_loss:.4f}\")\n",
        "    print(f\"Val Precision: {val_precision:.4f} | Val Recall: {val_recall:.4f}\")\n",
        "    print(f\"Val F1-Score: {val_f1:.4f} | Val Specificity: {val_specificity:.4f}\")\n",
        "    print(f\"Val AUC: {val_auc:.4f}\")\n",
        "\n",
        "    # Early stopping\n",
        "    if val_loss < best_val_loss:\n",
        "        best_val_loss = val_loss\n",
        "        counter = 0\n",
        "        torch.save(teacher.state_dict(), \"best_teacher.pth\")\n",
        "    else:\n",
        "        counter += 1\n",
        "        if counter >= patience:\n",
        "            print(\"Early stopping!\")\n",
        "            break\n",
        "\n",
        "print(f\"Learning Rate: {optimizer.param_groups[0]['lr']}\")"
      ],
      "metadata": {
        "id": "LBcGuVmsSs6U",
        "outputId": "b31c633a-7646-466e-d035-0b32f778e2fc",
        "colab": {
          "base_uri": "https://localhost:8080/"
        }
      },
      "execution_count": null,
      "outputs": [
        {
          "output_type": "stream",
          "name": "stdout",
          "text": [
            "Epoch 1/100\n",
            "Train Loss: 0.3755 | Val Loss: 0.6477\n",
            "Val Precision: 0.5000 | Val Recall: 0.1667\n",
            "Val F1-Score: 0.2500 | Val Specificity: 0.9167\n",
            "Val AUC: 0.7639\n",
            "Early stopping!\n",
            "Learning Rate: 0.001\n"
          ]
        }
      ]
    },
    {
      "cell_type": "markdown",
      "source": [
        "1.5Test Evaluation"
      ],
      "metadata": {
        "id": "Fon2IdccZaOi"
      }
    },
    {
      "cell_type": "code",
      "source": [
        "# Load the best saved model\n",
        "teacher.load_state_dict(torch.load(\"best_teacher.pth\"))\n",
        "\n",
        "# Test evaluation\n",
        "teacher.eval()\n",
        "test_preds, test_true = [], []\n",
        "with torch.no_grad():\n",
        "    for inputs, labels in test_loader:\n",
        "        outputs = teacher(inputs).squeeze()\n",
        "        test_preds.extend(outputs.numpy())\n",
        "        test_true.extend(labels.numpy())\n",
        "\n",
        "# Convert predictions to binary (0 or 1)\n",
        "test_preds_binary = (np.array(test_preds) > 0.5).astype(int)\n",
        "\n",
        "# Calculate metrics\n",
        "test_precision = precision_score(test_true, test_preds_binary)\n",
        "test_recall = recall_score(test_true, test_preds_binary)\n",
        "test_f1 = f1_score(test_true, test_preds_binary)\n",
        "test_specificity = calculate_specificity(test_true, test_preds_binary)\n",
        "test_auc = roc_auc_score(test_true, test_preds)\n",
        "\n",
        "print(\"Test Metrics:\")\n",
        "print(f\"Test Precision: {test_precision:.4f} | Test Recall: {test_recall:.4f}\")\n",
        "print(f\"Test F1-Score: {test_f1:.4f} | Test Specificity: {test_specificity:.4f}\")\n",
        "print(f\"Test AUC: {test_auc:.4f}\")"
      ],
      "metadata": {
        "id": "EA7GuVWmZZ3T",
        "outputId": "d30c54fd-554c-4a54-a038-dcf0f8b64f71",
        "colab": {
          "base_uri": "https://localhost:8080/"
        }
      },
      "execution_count": null,
      "outputs": [
        {
          "output_type": "stream",
          "name": "stdout",
          "text": [
            "Test Metrics:\n",
            "Test Precision: 0.0000 | Test Recall: 0.0000\n",
            "Test F1-Score: 0.0000 | Test Specificity: 1.0000\n",
            "Test AUC: 0.4861\n"
          ]
        },
        {
          "output_type": "stream",
          "name": "stderr",
          "text": [
            "<ipython-input-13-e541cfedddf4>:2: FutureWarning: You are using `torch.load` with `weights_only=False` (the current default value), which uses the default pickle module implicitly. It is possible to construct malicious pickle data which will execute arbitrary code during unpickling (See https://github.com/pytorch/pytorch/blob/main/SECURITY.md#untrusted-models for more details). In a future release, the default value for `weights_only` will be flipped to `True`. This limits the functions that could be executed during unpickling. Arbitrary objects will no longer be allowed to be loaded via this mode unless they are explicitly allowlisted by the user via `torch.serialization.add_safe_globals`. We recommend you start setting `weights_only=True` for any use case where you don't have full control of the loaded file. Please open an issue on GitHub for any issues related to this experimental feature.\n",
            "  teacher.load_state_dict(torch.load(\"best_teacher.pth\"))\n",
            "/usr/local/lib/python3.11/dist-packages/sklearn/metrics/_classification.py:1565: UndefinedMetricWarning: Precision is ill-defined and being set to 0.0 due to no predicted samples. Use `zero_division` parameter to control this behavior.\n",
            "  _warn_prf(average, modifier, f\"{metric.capitalize()} is\", len(result))\n"
          ]
        }
      ]
    },
    {
      "cell_type": "markdown",
      "source": [
        "# **2.0 Contrastive Learning**\n",
        "\n",
        "---\n",
        "\n"
      ],
      "metadata": {
        "id": "-p_QPB9vcUXx"
      }
    },
    {
      "cell_type": "markdown",
      "source": [
        "2.1 Data Preparation for Contrastive Learning"
      ],
      "metadata": {
        "id": "1UxfTJuCdUjP"
      }
    },
    {
      "cell_type": "markdown",
      "source": [
        "We need to create pairs of samples for contrastive learning. Each pair consists of:\n",
        "\n",
        "Two samples from the same class (positive pair).\n",
        "\n",
        "Two samples from different classes (negative pair)."
      ],
      "metadata": {
        "id": "pfhpzJTadvdp"
      }
    },
    {
      "cell_type": "code",
      "source": [
        "import torch\n",
        "from torch.utils.data import Dataset, DataLoader\n",
        "\n",
        "class ContrastiveDataset(Dataset):\n",
        "    def __init__(self, X, y):\n",
        "        self.X = X\n",
        "        self.y = y\n",
        "\n",
        "    def __len__(self):\n",
        "        return len(self.X)\n",
        "\n",
        "    def __getitem__(self, idx):\n",
        "        x1 = self.X[idx]\n",
        "        y1 = self.y[idx]\n",
        "\n",
        "        # Randomly select a positive or negative pair\n",
        "        if torch.rand(1) > 0.5:\n",
        "            # Positive pair: same class\n",
        "            idx2 = torch.randint(0, len(self.X), (1,)).item()\n",
        "            while self.y[idx2] != y1:\n",
        "                idx2 = torch.randint(0, len(self.X), (1,)).item()\n",
        "            label = 1  # Positive pair label\n",
        "        else:\n",
        "            # Negative pair: different class\n",
        "            idx2 = torch.randint(0, len(self.X), (1,)).item()\n",
        "            while self.y[idx2] == y1:\n",
        "                idx2 = torch.randint(0, len(self.X), (1,)).item()\n",
        "            label = 0  # Negative pair label\n",
        "\n",
        "        x2 = self.X[idx2]\n",
        "        return x1, x2, label\n",
        "\n",
        "# Create contrastive datasets\n",
        "train_contrastive_dataset = ContrastiveDataset(X_train, y_train)\n",
        "val_contrastive_dataset = ContrastiveDataset(X_val, y_val)\n",
        "\n",
        "# Create DataLoaders\n",
        "batch_size = 32\n",
        "train_contrastive_loader = DataLoader(train_contrastive_dataset, batch_size=batch_size, shuffle=True)\n",
        "val_contrastive_loader = DataLoader(val_contrastive_dataset, batch_size=batch_size)"
      ],
      "metadata": {
        "id": "X2RJPUf1djeC"
      },
      "execution_count": null,
      "outputs": []
    },
    {
      "cell_type": "markdown",
      "source": [
        "23.2 Define the Contrastive Loss"
      ],
      "metadata": {
        "id": "zYi7fKaMdyvp"
      }
    },
    {
      "cell_type": "markdown",
      "source": [
        "We’ll use the NT-Xent (Normalized Temperature-Scaled Cross Entropy) loss, which is commonly used in contrastive learning."
      ],
      "metadata": {
        "id": "zvsE2GF5d6na"
      }
    },
    {
      "cell_type": "code",
      "source": [
        "import torch.nn.functional as F\n",
        "\n",
        "class ContrastiveLoss(nn.Module):\n",
        "    def __init__(self, temperature=0.5):\n",
        "        super(ContrastiveLoss, self).__init__()\n",
        "        self.temperature = temperature\n",
        "\n",
        "    def forward(self, z1, z2, labels):\n",
        "        # Normalize the embeddings\n",
        "        z1 = F.normalize(z1, dim=1)\n",
        "        z2 = F.normalize(z2, dim=1)\n",
        "\n",
        "        # Compute similarity matrix\n",
        "        sim_matrix = torch.matmul(z1, z2.T) / self.temperature\n",
        "\n",
        "        # Positive pairs are on the diagonal\n",
        "        pos_pairs = torch.diag(sim_matrix)\n",
        "\n",
        "        # Negative pairs are off-diagonal\n",
        "        neg_pairs = sim_matrix[~torch.eye(sim_matrix.size(0), dtype=bool)]\n",
        "\n",
        "        # Compute contrastive loss\n",
        "        pos_loss = -torch.log(torch.exp(pos_pairs) / torch.exp(sim_matrix).sum(dim=1))\n",
        "        neg_loss = -torch.log(1 - torch.exp(neg_pairs) / torch.exp(sim_matrix).sum(dim=1))\n",
        "\n",
        "        # Combine losses\n",
        "        loss = (pos_loss.mean() + neg_loss.mean()) / 2\n",
        "        return loss"
      ],
      "metadata": {
        "id": "8cKKGyJjd-iy"
      },
      "execution_count": null,
      "outputs": []
    },
    {
      "cell_type": "markdown",
      "source": [
        "2.3  Define the Encoder Model"
      ],
      "metadata": {
        "id": "OTo4lU3SeCeV"
      }
    },
    {
      "cell_type": "markdown",
      "source": [
        "The encoder model will learn meaningful representations of the input data. We’ll use a simple feedforward neural network."
      ],
      "metadata": {
        "id": "PAlob6KRfekd"
      }
    },
    {
      "cell_type": "code",
      "source": [
        "class Encoder(nn.Module):\n",
        "    def __init__(self, input_dim, hidden_dim=128, output_dim=64):\n",
        "        super(Encoder, self).__init__()\n",
        "        self.layers = nn.Sequential(\n",
        "            nn.Linear(input_dim, hidden_dim),\n",
        "            nn.ReLU(),\n",
        "            nn.Linear(hidden_dim, output_dim)\n",
        "        )\n",
        "\n",
        "    def forward(self, x):\n",
        "        return self.layers(x)\n",
        "\n",
        "# Initialize encoder\n",
        "input_dim = X_train.shape[1]\n",
        "encoder = Encoder(input_dim)"
      ],
      "metadata": {
        "id": "tr6LLuORffpW"
      },
      "execution_count": null,
      "outputs": []
    },
    {
      "cell_type": "markdown",
      "source": [
        "2.4 Training Loop with Contrastive Learning"
      ],
      "metadata": {
        "id": "c6EoZ0LXfvqg"
      }
    },
    {
      "cell_type": "code",
      "source": [
        "import torch\n",
        "import torch.nn as nn\n",
        "import torch.optim as optim\n",
        "from torch.utils.data import Dataset, DataLoader\n",
        "import torch.nn.functional as F\n",
        "\n",
        "# Define ContrastiveDataset\n",
        "class ContrastiveDataset(Dataset):\n",
        "    def __init__(self, X, y):\n",
        "        self.X = torch.FloatTensor(X)  # Convert to FloatTensor\n",
        "        self.y = torch.FloatTensor(y)  # Convert to FloatTensor\n",
        "\n",
        "    def __len__(self):\n",
        "        return len(self.X)\n",
        "\n",
        "    def __getitem__(self, idx):\n",
        "        x1 = self.X[idx]\n",
        "        y1 = self.y[idx]\n",
        "\n",
        "        # Randomly select a positive or negative pair\n",
        "        if torch.rand(1) > 0.5:\n",
        "            # Positive pair: same class\n",
        "            idx2 = torch.randint(0, len(self.X), (1,)).item()\n",
        "            while self.y[idx2] != y1:\n",
        "                idx2 = torch.randint(0, len(self.X), (1,)).item()\n",
        "            label = 1  # Positive pair label\n",
        "        else:\n",
        "            # Negative pair: different class\n",
        "            idx2 = torch.randint(0, len(self.X), (1,)).item()\n",
        "            while self.y[idx2] == y1:\n",
        "                idx2 = torch.randint(0, len(self.X), (1,)).item()\n",
        "            label = 0  # Negative pair label\n",
        "\n",
        "        x2 = self.X[idx2]\n",
        "        return x1, x2, label\n",
        "\n",
        "# Define ContrastiveLoss\n",
        "class ContrastiveLoss(nn.Module):\n",
        "    def __init__(self, temperature=0.5):\n",
        "        super(ContrastiveLoss, self).__init__()\n",
        "        self.temperature = temperature\n",
        "\n",
        "    def forward(self, z1, z2, labels):\n",
        "        # Normalize the embeddings\n",
        "        z1 = F.normalize(z1, dim=1)\n",
        "        z2 = F.normalize(z2, dim=1)\n",
        "\n",
        "        # Compute similarity matrix\n",
        "        sim_matrix = torch.matmul(z1, z2.T) / self.temperature\n",
        "\n",
        "        # Positive pairs are on the diagonal\n",
        "        pos_pairs = torch.diag(sim_matrix)\n",
        "\n",
        "        # Negative pairs are off-diagonal\n",
        "        mask = ~torch.eye(sim_matrix.size(0), dtype=bool, device=sim_matrix.device)\n",
        "        neg_pairs = sim_matrix[mask].reshape(sim_matrix.size(0), -1)\n",
        "\n",
        "        # Compute contrastive loss\n",
        "        pos_loss = -torch.log(torch.exp(pos_pairs) / torch.exp(sim_matrix).sum(dim=1))\n",
        "        neg_loss = -torch.log(1 - torch.exp(neg_pairs) / torch.exp(sim_matrix).sum(dim=1).unsqueeze(1))\n",
        "\n",
        "        # Combine losses\n",
        "        loss = (pos_loss.mean() + neg_loss.mean()) / 2\n",
        "        return loss\n",
        "\n",
        "# Define Encoder\n",
        "class Encoder(nn.Module):\n",
        "    def __init__(self, input_dim, hidden_dim=128, output_dim=64):\n",
        "        super(Encoder, self).__init__()\n",
        "        self.layers = nn.Sequential(\n",
        "            nn.Linear(input_dim, hidden_dim),\n",
        "            nn.ReLU(),\n",
        "            nn.Linear(hidden_dim, output_dim)\n",
        "        )\n",
        "\n",
        "    def forward(self, x):\n",
        "        return self.layers(x)\n",
        "\n",
        "# Initialize encoder\n",
        "input_dim = X_train.shape[1]\n",
        "encoder = Encoder(input_dim).float()  # Ensure model uses Float\n",
        "\n",
        "# Create contrastive datasets\n",
        "train_contrastive_dataset = ContrastiveDataset(X_train, y_train)\n",
        "val_contrastive_dataset = ContrastiveDataset(X_val, y_val)\n",
        "\n",
        "# Create DataLoaders\n",
        "batch_size = 32\n",
        "train_contrastive_loader = DataLoader(train_contrastive_dataset, batch_size=batch_size, shuffle=True, drop_last=True)\n",
        "val_contrastive_loader = DataLoader(val_contrastive_dataset, batch_size=batch_size, drop_last=True)\n",
        "\n",
        "# Loss and optimizer\n",
        "contrastive_loss = ContrastiveLoss(temperature=0.5)\n",
        "optimizer = optim.Adam(encoder.parameters(), lr=0.001)\n",
        "\n",
        "# Training loop\n",
        "num_epochs = 50\n",
        "for epoch in range(num_epochs):\n",
        "    encoder.train()\n",
        "    train_loss = 0.0\n",
        "    for x1, x2, labels in train_contrastive_loader:\n",
        "        optimizer.zero_grad()\n",
        "\n",
        "        # Forward pass\n",
        "        z1 = encoder(x1)\n",
        "        z2 = encoder(x2)\n",
        "\n",
        "        # Compute contrastive loss\n",
        "        loss = contrastive_loss(z1, z2, labels)\n",
        "\n",
        "        # Backward pass\n",
        "        loss.backward()\n",
        "        optimizer.step()\n",
        "\n",
        "        train_loss += loss.item() * x1.size(0)\n",
        "\n",
        "    # Validation\n",
        "    encoder.eval()\n",
        "    val_loss = 0.0\n",
        "    with torch.no_grad():\n",
        "        for x1, x2, labels in val_contrastive_loader:\n",
        "            z1 = encoder(x1)\n",
        "            z2 = encoder(x2)\n",
        "            loss = contrastive_loss(z1, z2, labels)\n",
        "            val_loss += loss.item() * x1.size(0)\n",
        "\n",
        "    # Calculate average losses\n",
        "    train_loss = train_loss / len(train_contrastive_loader.dataset)\n",
        "    val_loss = val_loss / len(val_contrastive_loader.dataset)\n",
        "\n",
        "    print(f\"Epoch {epoch+1}/{num_epochs}\")\n",
        "    print(f\"Train Loss: {train_loss:.4f} | Val Loss: {val_loss:.4f}\")"
      ],
      "metadata": {
        "id": "jDH5Fu5Hf7jN",
        "outputId": "ffa4a65d-0bba-4e11-d329-8853f267c22b",
        "colab": {
          "base_uri": "https://localhost:8080/"
        }
      },
      "execution_count": null,
      "outputs": [
        {
          "output_type": "stream",
          "name": "stdout",
          "text": [
            "Epoch 1/50\n",
            "Train Loss: 1.4015 | Val Loss: 0.0000\n",
            "Epoch 2/50\n",
            "Train Loss: 1.3768 | Val Loss: 0.0000\n",
            "Epoch 3/50\n",
            "Train Loss: 1.3750 | Val Loss: 0.0000\n",
            "Epoch 4/50\n",
            "Train Loss: 1.4162 | Val Loss: 0.0000\n",
            "Epoch 5/50\n",
            "Train Loss: 1.4107 | Val Loss: 0.0000\n",
            "Epoch 6/50\n",
            "Train Loss: 1.4034 | Val Loss: 0.0000\n",
            "Epoch 7/50\n",
            "Train Loss: 1.3838 | Val Loss: 0.0000\n",
            "Epoch 8/50\n",
            "Train Loss: 1.3899 | Val Loss: 0.0000\n",
            "Epoch 9/50\n",
            "Train Loss: 1.3870 | Val Loss: 0.0000\n",
            "Epoch 10/50\n",
            "Train Loss: 1.3654 | Val Loss: 0.0000\n",
            "Epoch 11/50\n",
            "Train Loss: 1.3947 | Val Loss: 0.0000\n",
            "Epoch 12/50\n",
            "Train Loss: 1.3786 | Val Loss: 0.0000\n",
            "Epoch 13/50\n",
            "Train Loss: 1.3845 | Val Loss: 0.0000\n",
            "Epoch 14/50\n",
            "Train Loss: 1.3918 | Val Loss: 0.0000\n",
            "Epoch 15/50\n",
            "Train Loss: 1.3702 | Val Loss: 0.0000\n",
            "Epoch 16/50\n",
            "Train Loss: 1.3802 | Val Loss: 0.0000\n",
            "Epoch 17/50\n",
            "Train Loss: 1.3958 | Val Loss: 0.0000\n",
            "Epoch 18/50\n",
            "Train Loss: 1.3808 | Val Loss: 0.0000\n",
            "Epoch 19/50\n",
            "Train Loss: 1.3917 | Val Loss: 0.0000\n",
            "Epoch 20/50\n",
            "Train Loss: 1.3901 | Val Loss: 0.0000\n",
            "Epoch 21/50\n",
            "Train Loss: 1.3754 | Val Loss: 0.0000\n",
            "Epoch 22/50\n",
            "Train Loss: 1.3872 | Val Loss: 0.0000\n",
            "Epoch 23/50\n",
            "Train Loss: 1.3821 | Val Loss: 0.0000\n",
            "Epoch 24/50\n",
            "Train Loss: 1.3849 | Val Loss: 0.0000\n",
            "Epoch 25/50\n",
            "Train Loss: 1.3940 | Val Loss: 0.0000\n",
            "Epoch 26/50\n",
            "Train Loss: 1.3892 | Val Loss: 0.0000\n",
            "Epoch 27/50\n",
            "Train Loss: 1.3853 | Val Loss: 0.0000\n",
            "Epoch 28/50\n",
            "Train Loss: 1.3841 | Val Loss: 0.0000\n",
            "Epoch 29/50\n",
            "Train Loss: 1.3830 | Val Loss: 0.0000\n",
            "Epoch 30/50\n",
            "Train Loss: 1.3872 | Val Loss: 0.0000\n",
            "Epoch 31/50\n",
            "Train Loss: 1.3949 | Val Loss: 0.0000\n",
            "Epoch 32/50\n",
            "Train Loss: 1.3848 | Val Loss: 0.0000\n",
            "Epoch 33/50\n",
            "Train Loss: 1.3756 | Val Loss: 0.0000\n",
            "Epoch 34/50\n",
            "Train Loss: 1.3726 | Val Loss: 0.0000\n",
            "Epoch 35/50\n",
            "Train Loss: 1.3836 | Val Loss: 0.0000\n",
            "Epoch 36/50\n",
            "Train Loss: 1.3940 | Val Loss: 0.0000\n",
            "Epoch 37/50\n",
            "Train Loss: 1.3811 | Val Loss: 0.0000\n",
            "Epoch 38/50\n",
            "Train Loss: 1.3887 | Val Loss: 0.0000\n",
            "Epoch 39/50\n",
            "Train Loss: 1.3777 | Val Loss: 0.0000\n",
            "Epoch 40/50\n",
            "Train Loss: 1.3826 | Val Loss: 0.0000\n",
            "Epoch 41/50\n",
            "Train Loss: 1.3913 | Val Loss: 0.0000\n",
            "Epoch 42/50\n",
            "Train Loss: 1.3777 | Val Loss: 0.0000\n",
            "Epoch 43/50\n",
            "Train Loss: 1.3853 | Val Loss: 0.0000\n",
            "Epoch 44/50\n",
            "Train Loss: 1.3789 | Val Loss: 0.0000\n",
            "Epoch 45/50\n",
            "Train Loss: 1.3809 | Val Loss: 0.0000\n",
            "Epoch 46/50\n",
            "Train Loss: 1.3903 | Val Loss: 0.0000\n",
            "Epoch 47/50\n",
            "Train Loss: 1.3843 | Val Loss: 0.0000\n",
            "Epoch 48/50\n",
            "Train Loss: 1.3857 | Val Loss: 0.0000\n",
            "Epoch 49/50\n",
            "Train Loss: 1.3853 | Val Loss: 0.0000\n",
            "Epoch 50/50\n",
            "Train Loss: 1.3805 | Val Loss: 0.0000\n"
          ]
        }
      ]
    },
    {
      "cell_type": "markdown",
      "source": [
        "2.5 Use Learned Representations\n"
      ],
      "metadata": {
        "id": "btdTcxyuvgth"
      }
    },
    {
      "cell_type": "code",
      "source": [
        "# Extract learned representations\n",
        "encoder.eval()\n",
        "with torch.no_grad():\n",
        "    z_train = encoder(torch.FloatTensor(X_train))\n",
        "    z_val = encoder(torch.FloatTensor(X_val))\n",
        "    z_test = encoder(torch.FloatTensor(X_test))"
      ],
      "metadata": {
        "id": "LULIDi4MufqY"
      },
      "execution_count": null,
      "outputs": []
    },
    {
      "cell_type": "markdown",
      "source": [
        "# 3.0 Sparse Knowledge **Distillation**\n",
        "\n",
        "Teacher Model: A large, complex model trained on the dataset (from Step 2).\n",
        "\n",
        "Student Model: A smaller, sparse model that learns from the teacher’s predictions.\n",
        "\n",
        "Knowledge Distillation: The process of transferring knowledge from the teacher to the student.\n",
        "\n",
        "Sparsity: Encouraging the student model to have many zero weights, making it more efficient."
      ],
      "metadata": {
        "id": "r3_4SgIVcKkV"
      }
    },
    {
      "cell_type": "markdown",
      "source": [
        "3.1 Define the Student Model\n",
        "\n",
        "The student model will be a smaller version of the teacher model. We’ll also add sparsity constraints using L1 regularization."
      ],
      "metadata": {
        "id": "PGfm6YI6cOrx"
      }
    },
    {
      "cell_type": "code",
      "source": [
        "class StudentModel(nn.Module):\n",
        "    def __init__(self, input_dim, hidden_dim=64, output_dim=1):\n",
        "        super(StudentModel, self).__init__()\n",
        "        self.layers = nn.Sequential(\n",
        "            nn.Linear(input_dim, hidden_dim),\n",
        "            nn.ReLU(),\n",
        "            nn.Linear(hidden_dim, output_dim),\n",
        "            nn.Sigmoid()\n",
        "        )\n",
        "\n",
        "    def forward(self, x):\n",
        "        return self.layers(x)\n",
        "\n",
        "# Initialize student model\n",
        "input_dim = X_train.shape[1]\n",
        "student = StudentModel(input_dim).float()"
      ],
      "metadata": {
        "id": "YN_mGPTTcnQj"
      },
      "execution_count": null,
      "outputs": []
    },
    {
      "cell_type": "markdown",
      "source": [
        "3.2Define the Distillation Loss\n",
        "\n",
        "The distillation loss consists of two parts:\n",
        "\n",
        "Cross-Entropy Loss: Measures the difference between the student’s predictions and the true labels.\n",
        "\n",
        "L1 Regularization: Encourages sparsity in the student model."
      ],
      "metadata": {
        "id": "7CsPoVkdc_cn"
      }
    },
    {
      "cell_type": "code",
      "source": [
        "def distillation_loss(student_outputs, teacher_outputs, labels, alpha=0.5, lambda_l1=0.01):\n",
        "    # Cross-entropy loss (student vs true labels)\n",
        "    ce_loss = F.binary_cross_entropy(student_outputs, labels)\n",
        "\n",
        "    # L1 regularization (encourage sparsity)\n",
        "    l1_loss = 0.0\n",
        "    for param in student.parameters():\n",
        "        l1_loss += torch.norm(param, p=1)\n",
        "\n",
        "    # Combine losses\n",
        "    loss = alpha * ce_loss + (1 - alpha) * F.binary_cross_entropy(student_outputs, teacher_outputs) + lambda_l1 * l1_loss\n",
        "    return loss"
      ],
      "metadata": {
        "id": "VR9hPUfFdpue"
      },
      "execution_count": null,
      "outputs": []
    },
    {
      "cell_type": "markdown",
      "source": [
        " 3.3 Training Loop for Knowledge Distillation"
      ],
      "metadata": {
        "id": "2-vYFUtEdeuR"
      }
    },
    {
      "cell_type": "code",
      "source": [
        "# Load the best teacher model\n",
        "teacher.load_state_dict(torch.load(\"best_teacher.pth\"))\n",
        "teacher.eval()\n",
        "\n",
        "# Loss and optimizer for student\n",
        "optimizer_student = optim.Adam(student.parameters(), lr=0.001)\n",
        "\n",
        "# Training loop\n",
        "num_epochs = 50\n",
        "for epoch in range(num_epochs):\n",
        "    student.train()\n",
        "    train_loss = 0.0\n",
        "    for inputs, labels in train_loader:\n",
        "        optimizer_student.zero_grad()\n",
        "\n",
        "        # Forward pass (student)\n",
        "        student_outputs = student(inputs).squeeze()\n",
        "\n",
        "        # Forward pass (teacher)\n",
        "        with torch.no_grad():\n",
        "            teacher_outputs = teacher(inputs).squeeze()\n",
        "\n",
        "        # Compute distillation loss\n",
        "        loss = distillation_loss(student_outputs, teacher_outputs, labels)\n",
        "\n",
        "        # Backward pass\n",
        "        loss.backward()\n",
        "        optimizer_student.step()\n",
        "\n",
        "        train_loss += loss.item() * inputs.size(0)\n",
        "\n",
        "    # Validation\n",
        "    student.eval()\n",
        "    val_loss = 0.0\n",
        "    val_preds, val_true = [], []\n",
        "    with torch.no_grad():\n",
        "        for inputs, labels in val_loader:\n",
        "            student_outputs = student(inputs).squeeze()\n",
        "            teacher_outputs = teacher(inputs).squeeze()\n",
        "            loss = distillation_loss(student_outputs, teacher_outputs, labels)\n",
        "            val_loss += loss.item() * inputs.size(0)\n",
        "            val_preds.extend(student_outputs.numpy())\n",
        "            val_true.extend(labels.numpy())\n",
        "\n",
        "    # Calculate average losses\n",
        "    train_loss = train_loss / len(train_loader.dataset)\n",
        "    val_loss = val_loss / len(val_loader.dataset)\n",
        "\n",
        "    # Calculate metrics\n",
        "    val_preds_binary = (np.array(val_preds) > 0.5).astype(int)\n",
        "    val_accuracy = accuracy_score(val_true, val_preds_binary)\n",
        "    val_f1 = f1_score(val_true, val_preds_binary)\n",
        "\n",
        "    print(f\"Epoch {epoch+1}/{num_epochs}\")\n",
        "    print(f\"Train Loss: {train_loss:.4f} | Val Loss: {val_loss:.4f}\")\n",
        "    print(f\"Val Accuracy: {val_accuracy:.4f} | Val F1-Score: {val_f1:.4f}\")"
      ],
      "metadata": {
        "collapsed": true,
        "id": "9JysA8d0d1Bq",
        "outputId": "31543f47-acd3-4a26-8351-d9198a6e9696",
        "colab": {
          "base_uri": "https://localhost:8080/"
        }
      },
      "execution_count": null,
      "outputs": [
        {
          "output_type": "stream",
          "name": "stderr",
          "text": [
            "<ipython-input-26-d37c47851845>:2: FutureWarning: You are using `torch.load` with `weights_only=False` (the current default value), which uses the default pickle module implicitly. It is possible to construct malicious pickle data which will execute arbitrary code during unpickling (See https://github.com/pytorch/pytorch/blob/main/SECURITY.md#untrusted-models for more details). In a future release, the default value for `weights_only` will be flipped to `True`. This limits the functions that could be executed during unpickling. Arbitrary objects will no longer be allowed to be loaded via this mode unless they are explicitly allowlisted by the user via `torch.serialization.add_safe_globals`. We recommend you start setting `weights_only=True` for any use case where you don't have full control of the loaded file. Please open an issue on GitHub for any issues related to this experimental feature.\n",
            "  teacher.load_state_dict(torch.load(\"best_teacher.pth\"))\n"
          ]
        },
        {
          "output_type": "stream",
          "name": "stdout",
          "text": [
            "Epoch 1/50\n",
            "Train Loss: 3.2137 | Val Loss: 3.1050\n",
            "Val Accuracy: 0.5000 | Val F1-Score: 0.0000\n",
            "Epoch 2/50\n",
            "Train Loss: 3.0979 | Val Loss: 2.9932\n",
            "Val Accuracy: 0.5556 | Val F1-Score: 0.0000\n",
            "Epoch 3/50\n",
            "Train Loss: 2.9863 | Val Loss: 2.8851\n",
            "Val Accuracy: 0.5556 | Val F1-Score: 0.0000\n",
            "Epoch 4/50\n",
            "Train Loss: 2.8790 | Val Loss: 2.7805\n",
            "Val Accuracy: 0.6667 | Val F1-Score: 0.0000\n",
            "Epoch 5/50\n",
            "Train Loss: 2.7745 | Val Loss: 2.6792\n",
            "Val Accuracy: 0.6667 | Val F1-Score: 0.0000\n",
            "Epoch 6/50\n",
            "Train Loss: 2.6737 | Val Loss: 2.5805\n",
            "Val Accuracy: 0.6667 | Val F1-Score: 0.0000\n",
            "Epoch 7/50\n",
            "Train Loss: 2.5751 | Val Loss: 2.4841\n",
            "Val Accuracy: 0.6667 | Val F1-Score: 0.0000\n",
            "Epoch 8/50\n",
            "Train Loss: 2.4785 | Val Loss: 2.3907\n",
            "Val Accuracy: 0.6667 | Val F1-Score: 0.0000\n",
            "Epoch 9/50\n",
            "Train Loss: 2.3852 | Val Loss: 2.2998\n",
            "Val Accuracy: 0.6667 | Val F1-Score: 0.0000\n",
            "Epoch 10/50\n",
            "Train Loss: 2.2942 | Val Loss: 2.2114\n",
            "Val Accuracy: 0.6667 | Val F1-Score: 0.0000\n",
            "Epoch 11/50\n",
            "Train Loss: 2.2055 | Val Loss: 2.1252\n",
            "Val Accuracy: 0.6667 | Val F1-Score: 0.0000\n",
            "Epoch 12/50\n",
            "Train Loss: 2.1196 | Val Loss: 2.0415\n",
            "Val Accuracy: 0.6667 | Val F1-Score: 0.0000\n",
            "Epoch 13/50\n",
            "Train Loss: 2.0362 | Val Loss: 1.9613\n",
            "Val Accuracy: 0.6667 | Val F1-Score: 0.0000\n",
            "Epoch 14/50\n",
            "Train Loss: 1.9559 | Val Loss: 1.8830\n",
            "Val Accuracy: 0.6667 | Val F1-Score: 0.0000\n",
            "Epoch 15/50\n",
            "Train Loss: 1.8777 | Val Loss: 1.8064\n",
            "Val Accuracy: 0.6667 | Val F1-Score: 0.0000\n",
            "Epoch 16/50\n",
            "Train Loss: 1.8015 | Val Loss: 1.7326\n",
            "Val Accuracy: 0.6667 | Val F1-Score: 0.0000\n",
            "Epoch 17/50\n",
            "Train Loss: 1.7282 | Val Loss: 1.6611\n",
            "Val Accuracy: 0.6667 | Val F1-Score: 0.0000\n",
            "Epoch 18/50\n",
            "Train Loss: 1.6570 | Val Loss: 1.5926\n",
            "Val Accuracy: 0.6667 | Val F1-Score: 0.0000\n",
            "Epoch 19/50\n",
            "Train Loss: 1.5888 | Val Loss: 1.5260\n",
            "Val Accuracy: 0.6667 | Val F1-Score: 0.0000\n",
            "Epoch 20/50\n",
            "Train Loss: 1.5223 | Val Loss: 1.4612\n",
            "Val Accuracy: 0.6667 | Val F1-Score: 0.0000\n",
            "Epoch 21/50\n",
            "Train Loss: 1.4580 | Val Loss: 1.3989\n",
            "Val Accuracy: 0.6667 | Val F1-Score: 0.0000\n",
            "Epoch 22/50\n",
            "Train Loss: 1.3965 | Val Loss: 1.3392\n",
            "Val Accuracy: 0.6667 | Val F1-Score: 0.0000\n",
            "Epoch 23/50\n",
            "Train Loss: 1.3375 | Val Loss: 1.2823\n",
            "Val Accuracy: 0.6667 | Val F1-Score: 0.0000\n",
            "Epoch 24/50\n",
            "Train Loss: 1.2815 | Val Loss: 1.2279\n",
            "Val Accuracy: 0.6667 | Val F1-Score: 0.0000\n",
            "Epoch 25/50\n",
            "Train Loss: 1.2278 | Val Loss: 1.1761\n",
            "Val Accuracy: 0.6667 | Val F1-Score: 0.0000\n",
            "Epoch 26/50\n",
            "Train Loss: 1.1765 | Val Loss: 1.1270\n",
            "Val Accuracy: 0.6667 | Val F1-Score: 0.0000\n",
            "Epoch 27/50\n",
            "Train Loss: 1.1279 | Val Loss: 1.0799\n",
            "Val Accuracy: 0.6667 | Val F1-Score: 0.0000\n",
            "Epoch 28/50\n",
            "Train Loss: 1.0816 | Val Loss: 1.0356\n",
            "Val Accuracy: 0.6667 | Val F1-Score: 0.0000\n",
            "Epoch 29/50\n",
            "Train Loss: 1.0381 | Val Loss: 0.9944\n",
            "Val Accuracy: 0.6667 | Val F1-Score: 0.0000\n",
            "Epoch 30/50\n",
            "Train Loss: 0.9975 | Val Loss: 0.9555\n",
            "Val Accuracy: 0.6667 | Val F1-Score: 0.0000\n",
            "Epoch 31/50\n",
            "Train Loss: 0.9594 | Val Loss: 0.9196\n",
            "Val Accuracy: 0.6667 | Val F1-Score: 0.0000\n",
            "Epoch 32/50\n",
            "Train Loss: 0.9241 | Val Loss: 0.8860\n",
            "Val Accuracy: 0.6667 | Val F1-Score: 0.0000\n",
            "Epoch 33/50\n",
            "Train Loss: 0.8907 | Val Loss: 0.8538\n",
            "Val Accuracy: 0.6667 | Val F1-Score: 0.0000\n",
            "Epoch 34/50\n",
            "Train Loss: 0.8595 | Val Loss: 0.8247\n",
            "Val Accuracy: 0.6667 | Val F1-Score: 0.0000\n",
            "Epoch 35/50\n",
            "Train Loss: 0.8320 | Val Loss: 0.7995\n",
            "Val Accuracy: 0.6667 | Val F1-Score: 0.0000\n",
            "Epoch 36/50\n",
            "Train Loss: 0.8077 | Val Loss: 0.7764\n",
            "Val Accuracy: 0.6667 | Val F1-Score: 0.0000\n",
            "Epoch 37/50\n",
            "Train Loss: 0.7854 | Val Loss: 0.7544\n",
            "Val Accuracy: 0.6667 | Val F1-Score: 0.0000\n",
            "Epoch 38/50\n",
            "Train Loss: 0.7646 | Val Loss: 0.7350\n",
            "Val Accuracy: 0.6667 | Val F1-Score: 0.0000\n",
            "Epoch 39/50\n",
            "Train Loss: 0.7463 | Val Loss: 0.7188\n",
            "Val Accuracy: 0.6667 | Val F1-Score: 0.0000\n",
            "Epoch 40/50\n",
            "Train Loss: 0.7311 | Val Loss: 0.7045\n",
            "Val Accuracy: 0.6667 | Val F1-Score: 0.0000\n",
            "Epoch 41/50\n",
            "Train Loss: 0.7176 | Val Loss: 0.6926\n",
            "Val Accuracy: 0.6667 | Val F1-Score: 0.0000\n",
            "Epoch 42/50\n",
            "Train Loss: 0.7064 | Val Loss: 0.6829\n",
            "Val Accuracy: 0.6667 | Val F1-Score: 0.0000\n",
            "Epoch 43/50\n",
            "Train Loss: 0.6975 | Val Loss: 0.6757\n",
            "Val Accuracy: 0.6667 | Val F1-Score: 0.0000\n",
            "Epoch 44/50\n",
            "Train Loss: 0.6910 | Val Loss: 0.6702\n",
            "Val Accuracy: 0.6667 | Val F1-Score: 0.0000\n",
            "Epoch 45/50\n",
            "Train Loss: 0.6858 | Val Loss: 0.6657\n",
            "Val Accuracy: 0.6667 | Val F1-Score: 0.0000\n",
            "Epoch 46/50\n",
            "Train Loss: 0.6812 | Val Loss: 0.6609\n",
            "Val Accuracy: 0.6667 | Val F1-Score: 0.0000\n",
            "Epoch 47/50\n",
            "Train Loss: 0.6765 | Val Loss: 0.6567\n",
            "Val Accuracy: 0.6667 | Val F1-Score: 0.0000\n",
            "Epoch 48/50\n",
            "Train Loss: 0.6725 | Val Loss: 0.6531\n",
            "Val Accuracy: 0.6667 | Val F1-Score: 0.0000\n",
            "Epoch 49/50\n",
            "Train Loss: 0.6689 | Val Loss: 0.6503\n",
            "Val Accuracy: 0.6667 | Val F1-Score: 0.0000\n",
            "Epoch 50/50\n",
            "Train Loss: 0.6662 | Val Loss: 0.6478\n",
            "Val Accuracy: 0.6667 | Val F1-Score: 0.0000\n"
          ]
        }
      ]
    },
    {
      "cell_type": "markdown",
      "source": [
        "3.4 Evaluate the Student Model"
      ],
      "metadata": {
        "id": "KgVl4TMTd-Cq"
      }
    },
    {
      "cell_type": "code",
      "source": [
        "# Test evaluation\n",
        "student.eval()\n",
        "test_preds, test_true = [], []\n",
        "with torch.no_grad():\n",
        "    for inputs, labels in test_loader:\n",
        "        outputs = student(inputs).squeeze()\n",
        "        test_preds.extend(outputs.numpy())\n",
        "        test_true.extend(labels.numpy())\n",
        "\n",
        "# Convert predictions to binary (0 or 1)\n",
        "test_preds_binary = (np.array(test_preds) > 0.5).astype(int)\n",
        "\n",
        "# Calculate metrics\n",
        "test_accuracy = accuracy_score(test_true, test_preds_binary)\n",
        "test_f1 = f1_score(test_true, test_preds_binary)\n",
        "test_precision = precision_score(test_true, test_preds_binary)\n",
        "test_recall = recall_score(test_true, test_preds_binary)\n",
        "\n",
        "print(\"Test Metrics:\")\n",
        "print(f\"Test Accuracy: {test_accuracy:.4f} | Test F1-Score: {test_f1:.4f}\")\n",
        "print(f\"Test Precision: {test_precision:.4f} | Test Recall: {test_recall:.4f}\")"
      ],
      "metadata": {
        "id": "cHzz7ZZYeOuq",
        "outputId": "251cc8e1-a498-495a-b06d-be2bb19aa5c6",
        "colab": {
          "base_uri": "https://localhost:8080/"
        }
      },
      "execution_count": null,
      "outputs": [
        {
          "output_type": "stream",
          "name": "stdout",
          "text": [
            "Test Metrics:\n",
            "Test Accuracy: 0.6667 | Test F1-Score: 0.0000\n",
            "Test Precision: 0.0000 | Test Recall: 0.0000\n"
          ]
        },
        {
          "output_type": "stream",
          "name": "stderr",
          "text": [
            "/usr/local/lib/python3.11/dist-packages/sklearn/metrics/_classification.py:1565: UndefinedMetricWarning: Precision is ill-defined and being set to 0.0 due to no predicted samples. Use `zero_division` parameter to control this behavior.\n",
            "  _warn_prf(average, modifier, f\"{metric.capitalize()} is\", len(result))\n"
          ]
        }
      ]
    },
    {
      "cell_type": "markdown",
      "source": [
        "3.5 Sparsity Analysis\n",
        "To analyze the sparsity of the student model, calculate the percentage of zero weights in its parameters."
      ],
      "metadata": {
        "id": "DaFgB70UeU1N"
      }
    },
    {
      "cell_type": "code",
      "source": [
        "def calculate_sparsity(model):\n",
        "    total_params = 0\n",
        "    zero_params = 0\n",
        "    for param in model.parameters():\n",
        "        total_params += param.numel()\n",
        "        zero_params += (param == 0).sum().item()\n",
        "    sparsity = zero_params / total_params\n",
        "    return sparsity\n",
        "\n",
        "# Calculate sparsity\n",
        "sparsity = calculate_sparsity(student)\n",
        "print(f\"Sparsity of Student Model: {sparsity:.4f}\")"
      ],
      "metadata": {
        "id": "IBszZUGpebrS",
        "outputId": "e9582b71-506a-412a-dbe8-7732abc9a5ea",
        "colab": {
          "base_uri": "https://localhost:8080/"
        }
      },
      "execution_count": null,
      "outputs": [
        {
          "output_type": "stream",
          "name": "stdout",
          "text": [
            "Sparsity of Student Model: 0.0000\n"
          ]
        }
      ]
    },
    {
      "cell_type": "markdown",
      "source": [
        "# **4.0 Neuroevolution**"
      ],
      "metadata": {
        "id": "AndCk31zgiPF"
      }
    },
    {
      "cell_type": "markdown",
      "source": [
        "4.1 Define the Fitness Function"
      ],
      "metadata": {
        "id": "h4746eEdgpfY"
      }
    },
    {
      "cell_type": "code",
      "source": [
        "def fitness_function(model, data_loader):\n",
        "    model.eval()\n",
        "    correct = 0\n",
        "    total = 0\n",
        "    with torch.no_grad():\n",
        "        for inputs, labels in data_loader:\n",
        "            outputs = model(inputs).squeeze()\n",
        "            preds = (outputs > 0.5).float()\n",
        "            correct += (preds == labels).sum().item()\n",
        "            total += labels.size(0)\n",
        "    accuracy = correct / total\n",
        "\n",
        "    # Calculate sparsity\n",
        "    sparsity = calculate_sparsity(model)\n",
        "\n",
        "    # Combine accuracy and sparsity into a single fitness score\n",
        "    fitness = accuracy + sparsity\n",
        "    return fitness"
      ],
      "metadata": {
        "id": "dIg4uy-phw9F"
      },
      "execution_count": null,
      "outputs": []
    },
    {
      "cell_type": "markdown",
      "source": [
        "4.2 Define the Evolutionary Algorithm\n",
        "\n",
        "We’ll use a simple genetic algorithm to evolve the student model. The algorithm consists of the following steps:\n",
        "\n",
        "Initialize Population: Create a population of candidate models with random architectures.\n",
        "\n",
        "Evaluate Fitness: Evaluate the fitness of each candidate model.\n",
        "\n",
        "Selection: Select the best-performing models to create the next generation.\n",
        "\n",
        "Mutation and Crossover: Generate new candidate models by mutating and crossing over the selected models.\n",
        "\n",
        "Repeat: Repeat the process for a fixed number of generations."
      ],
      "metadata": {
        "id": "n5oMChBfhwZ9"
      }
    },
    {
      "cell_type": "code",
      "source": [
        "import random\n",
        "\n",
        "# Define mutation and crossover functions\n",
        "def mutate(model):\n",
        "    for param in model.parameters():\n",
        "        if random.random() < 0.1:  # Mutation probability\n",
        "            param.data += torch.randn_like(param.data) * 0.1  # Add random noise\n",
        "    return model\n",
        "\n",
        "def crossover(model1, model2):\n",
        "    child = StudentModel(input_dim).float()\n",
        "    for param1, param2, param_child in zip(model1.parameters(), model2.parameters(), child.parameters()):\n",
        "        if random.random() < 0.5:  # Crossover probability\n",
        "            param_child.data = param1.data\n",
        "        else:\n",
        "            param_child.data = param2.data\n",
        "    return child\n",
        "\n",
        "# Initialize population\n",
        "population_size = 10\n",
        "population = [StudentModel(input_dim).float() for _ in range(population_size)]\n",
        "\n",
        "# Evolutionary algorithm\n",
        "num_generations = 20\n",
        "for generation in range(num_generations):\n",
        "    print(f\"Generation {generation+1}/{num_generations}\")\n",
        "\n",
        "    # Evaluate fitness of each individual\n",
        "    fitness_scores = []\n",
        "    for model in population:\n",
        "        fitness = fitness_function(model, val_loader)\n",
        "        fitness_scores.append(fitness)\n",
        "\n",
        "    # Sort population based on fitness scores\n",
        "    sorted_indices = sorted(range(len(fitness_scores)), key=lambda i: fitness_scores[i], reverse=True)\n",
        "    sorted_population = [population[i] for i in sorted_indices]\n",
        "\n",
        "    # Select top-performing individuals\n",
        "    top_models = sorted_population[:5]  # Select top 5 models\n",
        "\n",
        "    # Create next generation\n",
        "    next_generation = top_models.copy()  # Keep top models\n",
        "    while len(next_generation) < population_size:\n",
        "        parent1, parent2 = random.sample(top_models, 2)  # Select two parents\n",
        "        child = crossover(parent1, parent2)  # Create child\n",
        "        child = mutate(child)  # Mutate child\n",
        "        next_generation.append(child)\n",
        "\n",
        "    # Update population\n",
        "    population = next_generation\n",
        "\n",
        "# Select the best model from the final population\n",
        "best_model = max(population, key=lambda model: fitness_function(model, val_loader))"
      ],
      "metadata": {
        "id": "DPUVFfVfiC8E",
        "outputId": "3131671d-9b72-4476-a137-b3951a98628c",
        "colab": {
          "base_uri": "https://localhost:8080/"
        }
      },
      "execution_count": null,
      "outputs": [
        {
          "output_type": "stream",
          "name": "stdout",
          "text": [
            "Generation 1/20\n",
            "Generation 2/20\n",
            "Generation 3/20\n",
            "Generation 4/20\n",
            "Generation 5/20\n",
            "Generation 6/20\n",
            "Generation 7/20\n",
            "Generation 8/20\n",
            "Generation 9/20\n",
            "Generation 10/20\n",
            "Generation 11/20\n",
            "Generation 12/20\n",
            "Generation 13/20\n",
            "Generation 14/20\n",
            "Generation 15/20\n",
            "Generation 16/20\n",
            "Generation 17/20\n",
            "Generation 18/20\n",
            "Generation 19/20\n",
            "Generation 20/20\n"
          ]
        }
      ]
    },
    {
      "cell_type": "markdown",
      "source": [
        "4.3 Evaluate the Best Model"
      ],
      "metadata": {
        "id": "WHbm9pYvoFUi"
      }
    },
    {
      "cell_type": "code",
      "source": [
        "# Test evaluation\n",
        "best_model.eval()\n",
        "test_preds, test_true = [], []\n",
        "with torch.no_grad():\n",
        "    for inputs, labels in test_loader:\n",
        "        outputs = best_model(inputs).squeeze()\n",
        "        test_preds.extend(outputs.numpy())\n",
        "        test_true.extend(labels.numpy())\n",
        "\n",
        "# Convert predictions to binary (0 or 1)\n",
        "test_preds_binary = (np.array(test_preds) > 0.5).astype(int)\n",
        "\n",
        "# Calculate metrics\n",
        "test_accuracy = accuracy_score(test_true, test_preds_binary)\n",
        "test_f1 = f1_score(test_true, test_preds_binary)\n",
        "test_precision = precision_score(test_true, test_preds_binary)\n",
        "test_recall = recall_score(test_true, test_preds_binary)\n",
        "\n",
        "print(\"Test Metrics for Best Model:\")\n",
        "print(f\"Test Accuracy: {test_accuracy:.4f} | Test F1-Score: {test_f1:.4f}\")\n",
        "print(f\"Test Precision: {test_precision:.4f} | Test Recall: {test_recall:.4f}\")\n",
        "\n",
        "# Calculate sparsity\n",
        "sparsity = calculate_sparsity(best_model)\n",
        "print(f\"Sparsity of Best Model: {sparsity:.4f}\")"
      ],
      "metadata": {
        "id": "Kq90ySSRoI2U",
        "outputId": "b25ee651-5411-47d2-bc98-69186b87c527",
        "colab": {
          "base_uri": "https://localhost:8080/"
        }
      },
      "execution_count": null,
      "outputs": [
        {
          "output_type": "stream",
          "name": "stdout",
          "text": [
            "Test Metrics for Best Model:\n",
            "Test Accuracy: 0.6111 | Test F1-Score: 0.0000\n",
            "Test Precision: 0.0000 | Test Recall: 0.0000\n",
            "Sparsity of Best Model: 0.0000\n"
          ]
        }
      ]
    },
    {
      "cell_type": "markdown",
      "source": [
        "# 5.0 Evaluation\n",
        "\n",
        "Evaluate the final sparse student model on the test set using metrics such as:\n",
        "\n",
        "Accuracy\n",
        "\n",
        "Precision, Recall, F1-score\n",
        "\n",
        "ROC-AUC"
      ],
      "metadata": {
        "id": "778Qs50Wovc2"
      }
    },
    {
      "cell_type": "markdown",
      "source": [
        "5.1 Evaluate best model"
      ],
      "metadata": {
        "id": "TVgHk0kVo3GP"
      }
    },
    {
      "cell_type": "code",
      "source": [
        "import numpy as np\n",
        "from sklearn.metrics import accuracy_score, f1_score, precision_score, recall_score, confusion_matrix, roc_curve, auc\n",
        "import seaborn as sns\n",
        "import matplotlib.pyplot as plt\n",
        "\n",
        "# Test evaluation\n",
        "best_model.eval()\n",
        "test_preds, test_true = [], []\n",
        "with torch.no_grad():\n",
        "    for inputs, labels in test_loader:\n",
        "        outputs = best_model(inputs).squeeze()\n",
        "        test_preds.extend(outputs.numpy())\n",
        "        test_true.extend(labels.numpy())\n",
        "\n",
        "# Convert predictions to binary (0 or 1)\n",
        "test_preds_binary = (np.array(test_preds) > 0.5).astype(int)\n",
        "\n",
        "# Calculate metrics\n",
        "test_accuracy = accuracy_score(test_true, test_preds_binary)\n",
        "test_f1 = f1_score(test_true, test_preds_binary)\n",
        "test_precision = precision_score(test_true, test_preds_binary)\n",
        "test_recall = recall_score(test_true, test_preds_binary)\n",
        "\n",
        "print(\"Test Metrics for Best Model:\")\n",
        "print(f\"Test Accuracy: {test_accuracy:.4f} | Test F1-Score: {test_f1:.4f}\")\n",
        "print(f\"Test Precision: {test_precision:.4f} | Test Recall: {test_recall:.4f}\")\n",
        "\n",
        "# Calculate sparsity\n",
        "def calculate_sparsity(model):\n",
        "    total_params = 0\n",
        "    zero_params = 0\n",
        "    for param in model.parameters():\n",
        "        total_params += param.numel()\n",
        "        zero_params += (param == 0).sum().item()\n",
        "    sparsity = zero_params / total_params\n",
        "    return sparsity\n",
        "\n",
        "sparsity = calculate_sparsity(best_model)\n",
        "print(f\"Sparsity of Best Model: {sparsity:.4f}\")\n",
        "\n",
        "# Generate confusion matrix\n",
        "cm = confusion_matrix(test_true, test_preds_binary)\n",
        "sns.heatmap(cm, annot=True, fmt=\"d\", cmap=\"Blues\", xticklabels=[\"Non-Adherent\", \"Adherent\"], yticklabels=[\"Non-Adherent\", \"Adherent\"])\n",
        "plt.xlabel(\"Predicted\")\n",
        "plt.ylabel(\"True\")\n",
        "plt.title(\"Confusion Matrix\")\n",
        "plt.show()\n",
        "\n",
        "# Compute ROC curve\n",
        "fpr, tpr, thresholds = roc_curve(test_true, test_preds)\n",
        "roc_auc = auc(fpr, tpr)\n",
        "\n",
        "# Plot ROC curve\n",
        "plt.figure()\n",
        "plt.plot(fpr, tpr, color=\"darkorange\", lw=2, label=f\"ROC curve (area = {roc_auc:.2f})\")\n",
        "plt.plot([0, 1], [0, 1], color=\"navy\", lw=2, linestyle=\"--\")\n",
        "plt.xlabel(\"False Positive Rate\")\n",
        "plt.ylabel(\"True Positive Rate\")\n",
        "plt.title(\"Receiver Operating Characteristic (ROC) Curve\")\n",
        "plt.legend(loc=\"lower right\")\n",
        "plt.show()"
      ],
      "metadata": {
        "id": "f7uWLUXwqsFJ",
        "outputId": "2d6bea2e-3eb5-43f0-cf57-c850a51cc971",
        "colab": {
          "base_uri": "https://localhost:8080/",
          "height": 996
        }
      },
      "execution_count": null,
      "outputs": [
        {
          "output_type": "stream",
          "name": "stdout",
          "text": [
            "Test Metrics for Best Model:\n",
            "Test Accuracy: 0.6111 | Test F1-Score: 0.0000\n",
            "Test Precision: 0.0000 | Test Recall: 0.0000\n",
            "Sparsity of Best Model: 0.0000\n"
          ]
        },
        {
          "output_type": "display_data",
          "data": {
            "text/plain": [
              "<Figure size 640x480 with 2 Axes>"
            ],
            "image/png": "[encoded data removed]"
          },
          "metadata": {}
        },
        {
          "output_type": "display_data",
          "data": {
            "text/plain": [
              "<Figure size 640x480 with 1 Axes>"
            ],
            "image/png": "[encoded data removed]"
          },
          "metadata": {}
        }
      ]
    }
  ]
}