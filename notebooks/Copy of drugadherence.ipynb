{
  "nbformat": 4,
  "nbformat_minor": 0,
  "metadata": {
    "colab": {
      "provenance": [],
      "toc_visible": true,
      "authorship_tag": "ABX9TyPdWQ9nETZ9Rr3kQ2WNW2yO"
    },
    "kernelspec": {
      "name": "python3",
      "display_name": "Python 3"
    },
    "language_info": {
      "name": "python"
    }
  },
  "cells": [
    {
      "cell_type": "markdown",
      "source": [
        "# **0.0 DATA PROCESSING**"
      ],
      "metadata": {
        "id": "qkMtfHS29wQB"
      }
    },
    {
      "cell_type": "code",
      "execution_count": 2,
      "metadata": {
        "colab": {
          "base_uri": "https://localhost:8080/"
        },
        "collapsed": true,
        "id": "h4fuIGZJTyAw",
        "outputId": "0a5ef1d2-3b3f-4427-fbac-e28d5f87c838"
      },
      "outputs": [
        {
          "output_type": "stream",
          "name": "stdout",
          "text": [
            "Cloning into 'Machine-Learning'...\n",
            "remote: Enumerating objects: 97, done.\u001b[K\n",
            "remote: Counting objects: 100% (97/97), done.\u001b[K\n",
            "remote: Compressing objects: 100% (93/93), done.\u001b[K\n",
            "remote: Total 97 (delta 52), reused 7 (delta 0), pack-reused 0 (from 0)\u001b[K\n",
            "Receiving objects: 100% (97/97), 487.43 KiB | 10.83 MiB/s, done.\n",
            "Resolving deltas: 100% (52/52), done.\n"
          ]
        }
      ],
      "source": [
        "!git clone https://github.com/edwinkmusaasizi/Machine-Learning.git"
      ]
    },
    {
      "cell_type": "code",
      "source": [
        "%cd Machine-Learning\n",
        "%cd data\n",
        "%cd interim\n",
        "!ls"
      ],
      "metadata": {
        "colab": {
          "base_uri": "https://localhost:8080/"
        },
        "id": "XOq1g9EKBMoS",
        "outputId": "5a6a15ce-9cd4-4dc3-b64a-a427767f7a3c"
      },
      "execution_count": 3,
      "outputs": [
        {
          "output_type": "stream",
          "name": "stdout",
          "text": [
            "/content/Machine-Learning\n",
            "/content/Machine-Learning/data\n",
            "/content/Machine-Learning/data/interim\n",
            "cleaned_mental_health_data.csv\n"
          ]
        }
      ]
    },
    {
      "cell_type": "markdown",
      "source": [
        "0.1 Data Processing"
      ],
      "metadata": {
        "id": "w3CAYEIG383K"
      }
    },
    {
      "cell_type": "code",
      "source": [
        "import pandas as pd\n",
        "import numpy as np\n",
        "import torch\n",
        "from torch.utils.data import DataLoader, TensorDataset\n",
        "from sklearn.model_selection import train_test_split\n",
        "from sklearn.preprocessing import StandardScaler, LabelEncoder\n",
        "\n",
        "# Load data\n",
        "df = pd.read_csv(\"cleaned_mental_health_data.csv\")\n",
        "\n",
        "# Define adherence labels based on questionnaire responses\n",
        "non_adherence_columns = [\n",
        "    \"Do you ever forget to take your medication?\",\n",
        "    \"Are you careless at times about taking your medication?\",\n",
        "    \"When you feel better, do you sometimes stop taking your medication?\",\n",
        "    \"Sometimes if you feel worse when you take the medication, do you stop taking it?\",\n",
        "    \"I take my medication only when I am sick\"\n",
        "]\n",
        "\n",
        "df[\"adherence\"] = np.where(df[non_adherence_columns].eq(\"Yes\").any(axis=1), 0, 1)\n",
        "\n",
        "# Drop redundant columns\n",
        "df = df.drop(columns=non_adherence_columns + [\"If you have any further comments about medication or this questionnaire, please write them below\"])\n",
        "\n",
        "# Identify all categorical columns\n",
        "categorical_cols = df.select_dtypes(include=['object', 'category']).columns\n",
        "print(\"Categorical columns to encode:\", categorical_cols)\n",
        "\n",
        "# Encode all categorical features\n",
        "for col in categorical_cols:\n",
        "    le = LabelEncoder()\n",
        "    df[col] = le.fit_transform(df[col].astype(str))\n",
        "\n",
        "# Split features and labels\n",
        "X = df.drop(columns=\"adherence\").values\n",
        "y = df[\"adherence\"].values\n",
        "\n",
        "# Split data into train, validation, test (70-15-15)\n",
        "X_train, X_temp, y_train, y_temp = train_test_split(X, y, test_size=0.3, stratify=y, random_state=42)\n",
        "X_val, X_test, y_val, y_test = train_test_split(X_temp, y_temp, test_size=0.5, stratify=y_temp, random_state=42)\n",
        "\n",
        "# Apply SMOTE to only the training set\n",
        "from imblearn.over_sampling import SMOTE\n",
        "\n",
        "# Apply SMOTE only to the training data\n",
        "smote = SMOTE(sampling_strategy='auto', random_state=42)\n",
        "X_train_resampled, y_train_resampled = smote.fit_resample(X_train, y_train)\n",
        "\n",
        "# Check new class distribution\n",
        "from collections import Counter\n",
        "print(\"New class distribution:\", Counter(y_train_resampled))\n",
        "\n",
        "# Normalize numerical features\n",
        "scaler = StandardScaler()\n",
        "X_train = scaler.fit_transform(X_train)\n",
        "X_val = scaler.transform(X_val)\n",
        "X_test = scaler.transform(X_test)\n",
        "\n",
        "# Convert to PyTorch tensors\n",
        "train_dataset = TensorDataset(torch.FloatTensor(X_train), torch.FloatTensor(y_train))\n",
        "val_dataset = TensorDataset(torch.FloatTensor(X_val), torch.FloatTensor(y_val))\n",
        "test_dataset = TensorDataset(torch.FloatTensor(X_test), torch.FloatTensor(y_test))\n",
        "\n",
        "# Create DataLoaders\n",
        "batch_size = 32\n",
        "train_loader = DataLoader(train_dataset, batch_size=batch_size, shuffle=True)\n",
        "val_loader = DataLoader(val_dataset, batch_size=batch_size)\n",
        "test_loader = DataLoader(test_dataset, batch_size=batch_size)"
      ],
      "metadata": {
        "colab": {
          "base_uri": "https://localhost:8080/"
        },
        "id": "hJM_oZTZ5Kyy",
        "outputId": "5152cce4-e3e4-4354-c9ae-decb1eee34ec"
      },
      "execution_count": 4,
      "outputs": [
        {
          "output_type": "stream",
          "name": "stdout",
          "text": [
            "Categorical columns to encode: Index(['sex', 'Religion', 'marital status', 'education status', 'residence',\n",
            "       'substance use', 'comorbidity',\n",
            "       'It is unnatural for my mind and body to be controlled by medication?',\n",
            "       'My thoughts are clearer on medication',\n",
            "       'By staying on medication, I can prevent getting sick',\n",
            "       'I feel weird, like a ‘zombie’ on medication',\n",
            "       'Medication makes me feel tired and sluggish',\n",
            "       'Some of your symptoms are made by your mind.', 'You are mentally well',\n",
            "       'You do not need medication', 'Your stay in the hospital is necessary',\n",
            "       'The doctor is right in prescribing medication for you.',\n",
            "       'You do not need to be seen by a doctor or psychiatrist',\n",
            "       'If someone said you have a nervous or mental illness, they would be right',\n",
            "       'None of the unusual things you are experiencing are due to an illness.',\n",
            "       '. Loss of energy or drive', 'Feeling unmotivated or numb',\n",
            "       'Daytime sedation or drowsiness', 'Sleeping too much',\n",
            "       'Muscles being too tense or stiff', 'Muscles trembling or shaking',\n",
            "       'Feeling restless or jittery',\n",
            "       'Need to move around and pace; inability to sit still',\n",
            "       'Trouble getting to sleep or staying asleep (insomnia)',\n",
            "       'Blurry vision', 'Dry mouth', 'Drooling',\n",
            "       'Memory and concentration problems', 'Constipation', 'Weight changes',\n",
            "       'Changes in sexual functioning', 'Menstrual or breast problem',\n",
            "       'I feel over burdened by the number of pills i swallow per day.',\n",
            "       'How often do yo take your drugs',\n",
            "       'How often do you find no medications in the hospital',\n",
            "       'I am satisfied with doctors explanation about mental illness and the need for treatment',\n",
            "       'Do you sometimes stop your medications because of religious or cultural beliefs'],\n",
            "      dtype='object')\n",
            "New class distribution: Counter({1: 55, 0: 55})\n"
          ]
        }
      ]
    },
    {
      "cell_type": "code",
      "source": [
        "# Check class distribution in the training set\n",
        "class_distribution = np.bincount(y_train)\n",
        "print(\"Class Distribution in Training Set:\")\n",
        "print(f\"Class 0 (Non-Adherent): {class_distribution[0]}\")\n",
        "print(f\"Class 1 (Adherent): {class_distribution[1]}\")"
      ],
      "metadata": {
        "colab": {
          "base_uri": "https://localhost:8080/"
        },
        "id": "uemTnvGF5Wxd",
        "outputId": "2b8cd795-c067-44a7-97e9-74380a23e294"
      },
      "execution_count": 5,
      "outputs": [
        {
          "output_type": "stream",
          "name": "stdout",
          "text": [
            "Class Distribution in Training Set:\n",
            "Class 0 (Non-Adherent): 55\n",
            "Class 1 (Adherent): 26\n"
          ]
        }
      ]
    },
    {
      "cell_type": "markdown",
      "source": [
        "Implement class weight"
      ],
      "metadata": {
        "id": "zSgD2y_45fQO"
      }
    },
    {
      "cell_type": "code",
      "source": [
        "import torch\n",
        "import torch.nn as nn\n",
        "import torch.optim as optim\n",
        "from torch.utils.data import DataLoader, TensorDataset\n",
        "from sklearn.utils.class_weight import compute_class_weight\n",
        "import numpy as np\n",
        "import pandas as pd\n",
        "\n",
        "# Compute class weights\n",
        "class_weights = compute_class_weight('balanced', classes=np.unique(y_train), y=y_train)\n",
        "class_weights = torch.tensor(class_weights, dtype=torch.float32)\n",
        "\n",
        "# Define loss function with class weights\n",
        "criterion = nn.CrossEntropyLoss(weight=class_weights)\n",
        "\n",
        "# Example model (Assuming a simple neural network)\n",
        "class AdherenceModel(nn.Module):\n",
        "    def __init__(self, input_size):\n",
        "        super(AdherenceModel, self).__init__()\n",
        "        self.fc1 = nn.Linear(input_size, 64)\n",
        "        self.relu = nn.ReLU()\n",
        "        self.fc2 = nn.Linear(64, 2)  # Output has 2 classes (0 and 1)\n",
        "\n",
        "    def forward(self, x):\n",
        "        x = self.fc1(x)\n",
        "        x = self.relu(x)\n",
        "        x = self.fc2(x)  # No softmax needed for CrossEntropyLoss\n",
        "        return x\n",
        "\n",
        "# Initialize model\n",
        "input_size = X_train.shape[1]  # Number of features\n",
        "model = AdherenceModel(input_size)\n",
        "\n",
        "# Define optimizer\n",
        "optimizer = optim.Adam(model.parameters(), lr=0.001)\n",
        "\n",
        "# Training loop (simplified)\n",
        "for epoch in range(10):  # Adjust epochs as needed\n",
        "    model.train()\n",
        "    for batch_X, batch_y in train_loader:\n",
        "        optimizer.zero_grad()\n",
        "        outputs = model(batch_X)\n",
        "        batch_y = batch_y.long()  # Convert to long for CrossEntropyLoss\n",
        "        loss = criterion(outputs, batch_y)\n",
        "        loss.backward()\n",
        "        optimizer.step()\n",
        "    print(f\"Epoch {epoch+1}, Loss: {loss.item()}\")\n",
        "\n"
      ],
      "metadata": {
        "colab": {
          "base_uri": "https://localhost:8080/"
        },
        "id": "AlfiL7ZA5ide",
        "outputId": "d1d65d12-ef51-4a54-8fa0-2953fd814216"
      },
      "execution_count": 6,
      "outputs": [
        {
          "output_type": "stream",
          "name": "stdout",
          "text": [
            "Epoch 1, Loss: 0.6929188370704651\n",
            "Epoch 2, Loss: 0.7086096405982971\n",
            "Epoch 3, Loss: 0.6576497554779053\n",
            "Epoch 4, Loss: 0.6145451068878174\n",
            "Epoch 5, Loss: 0.6193765997886658\n",
            "Epoch 6, Loss: 0.6211122274398804\n",
            "Epoch 7, Loss: 0.571617603302002\n",
            "Epoch 8, Loss: 0.4943172037601471\n",
            "Epoch 9, Loss: 0.5129774212837219\n",
            "Epoch 10, Loss: 0.5455492734909058\n"
          ]
        }
      ]
    },
    {
      "cell_type": "markdown",
      "source": [],
      "metadata": {
        "id": "M6xRzM2l5T3k"
      }
    },
    {
      "cell_type": "markdown",
      "source": [
        "# MODEL IMPLEMANTION"
      ],
      "metadata": {
        "id": "8jo8AyjIWUam"
      }
    },
    {
      "cell_type": "markdown",
      "source": [
        "## Implement Logisitic Regretion"
      ],
      "metadata": {
        "id": "KlciCDP2a9ge"
      }
    },
    {
      "cell_type": "markdown",
      "source": [
        "1 Import Libraries"
      ],
      "metadata": {
        "id": "UbYCxxEFcj16"
      }
    },
    {
      "cell_type": "code",
      "source": [
        "from sklearn.linear_model import LogisticRegression\n",
        "import time\n",
        "from sklearn.metrics import precision_score, recall_score, f1_score, roc_auc_score\n",
        "from sklearn.preprocessing import StandardScaler\n",
        "\n",
        "# Assuming data preprocessing has been done and the data is available in these variables\n",
        "# X_train, X_val, X_test, y_train, y_val, y_test\n",
        "# Scaling features\n",
        "scaler = StandardScaler()\n",
        "X_train_scaled = scaler.fit_transform(X_train)\n",
        "X_val_scaled = scaler.transform(X_val)\n",
        "X_test_scaled = scaler.transform(X_test)\n"
      ],
      "metadata": {
        "id": "xV1CAogFbJLk"
      },
      "execution_count": 28,
      "outputs": []
    },
    {
      "cell_type": "markdown",
      "source": [
        "2. Training"
      ],
      "metadata": {
        "id": "xN9ha_HTcv_1"
      }
    },
    {
      "cell_type": "code",
      "source": [
        "# Initialize the Logistic Regression model\n",
        "logreg_model = LogisticRegression(random_state=42, max_iter=1000)\n",
        "\n",
        "# Record the start time for training\n",
        "start_time = time.time()\n",
        "\n",
        "# Train the model\n",
        "logreg_model.fit(X_train_scaled, y_train)\n",
        "\n",
        "# Record the end time for training\n",
        "end_time = time.time()\n",
        "\n",
        "# Calculate the training time\n",
        "training_time = end_time - start_time\n"
      ],
      "metadata": {
        "id": "oZZWnBw6c12n"
      },
      "execution_count": 29,
      "outputs": []
    },
    {
      "cell_type": "markdown",
      "source": [
        "3. Evaluation"
      ],
      "metadata": {
        "id": "deejg0w_c3h_"
      }
    },
    {
      "cell_type": "code",
      "source": [
        "import pandas as pd\n",
        "\n",
        "# Get predicted probabilities\n",
        "y_prob_logreg = logreg_model.predict_proba(X_test_scaled)[:, 1]  # Probability for class 1\n",
        "\n",
        "# Convert probabilities to binary predictions (threshold = 0.5)\n",
        "y_pred_logreg = (y_prob_logreg >= 0.5).astype(int)\n",
        "\n",
        "# Calculate evaluation metrics\n",
        "logreg_precision = precision_score(y_test, y_pred_logreg)\n",
        "logreg_recall = recall_score(y_test, y_pred_logreg)\n",
        "logreg_f1 = f1_score(y_test, y_pred_logreg)\n",
        "logreg_auc = roc_auc_score(y_test, y_prob_logreg)\n",
        "\n",
        "# Store results in a dictionary for comparison\n",
        "model_results = {\n",
        "    \"Model\": [\"Logistic Regression\"],\n",
        "    \"Precision\": [logreg_precision],\n",
        "    \"Recall\": [logreg_recall],\n",
        "    \"F1-Score\": [logreg_f1],\n",
        "    \"AUC\": [logreg_auc],\n",
        "    \"Training Time (s)\": [training_time]\n",
        "}\n",
        "\n",
        "# Convert to DataFrame\n",
        "results_df = pd.DataFrame(model_results)\n",
        "\n",
        "# Display results\n",
        "print(results_df)\n"
      ],
      "metadata": {
        "colab": {
          "base_uri": "https://localhost:8080/"
        },
        "id": "vwXwqxDM_XKy",
        "outputId": "b5ea4d26-895a-48d1-a0a7-4e034efaf460"
      },
      "execution_count": 30,
      "outputs": [
        {
          "output_type": "stream",
          "name": "stdout",
          "text": [
            "                 Model  Precision    Recall  F1-Score       AUC  \\\n",
            "0  Logistic Regression       0.25  0.166667       0.2  0.347222   \n",
            "\n",
            "   Training Time (s)  \n",
            "0           0.007365  \n"
          ]
        }
      ]
    },
    {
      "cell_type": "markdown",
      "source": [
        "## Implementing Support Vector Machine"
      ],
      "metadata": {
        "id": "RYj2KN_odCZE"
      }
    },
    {
      "cell_type": "code",
      "source": [
        "from sklearn.svm import SVC\n",
        "import time\n",
        "from sklearn.metrics import precision_score, recall_score, f1_score, roc_auc_score\n",
        "from sklearn.preprocessing import StandardScaler\n",
        "\n",
        "# Assuming data preprocessing has been done and the data is available in these variables\n",
        "# X_train, X_val, X_test, y_train, y_val, y_test\n",
        "# Scaling features\n",
        "scaler = StandardScaler()\n",
        "X_train_scaled = scaler.fit_transform(X_train)\n",
        "X_val_scaled = scaler.transform(X_val)\n",
        "X_test_scaled = scaler.transform(X_test)\n",
        "\n",
        "\n",
        "# Initialize the SVM model with a radial basis function kernel\n",
        "svm_model = SVC(probability=True, random_state=42)\n",
        "\n",
        "# Record the start time for training\n",
        "start_time = time.time()\n",
        "\n",
        "# Train the model\n",
        "svm_model.fit(X_train_scaled, y_train)\n",
        "\n",
        "# Record the end time for training\n",
        "end_time = time.time()\n",
        "\n",
        "# Calculate the training time\n",
        "training_time = end_time - start_time\n"
      ],
      "metadata": {
        "id": "rweuNg7udRko"
      },
      "execution_count": 31,
      "outputs": []
    },
    {
      "cell_type": "markdown",
      "source": [
        "Evaluation"
      ],
      "metadata": {
        "id": "Z9kyZ_mNde_I"
      }
    },
    {
      "cell_type": "code",
      "source": [
        "# Get predicted probabilities\n",
        "y_prob_svm = svm_model.predict_proba(X_test_scaled)[:, 1]  # Probability for class 1\n",
        "\n",
        "# Convert probabilities to binary predictions (threshold = 0.5)\n",
        "y_pred_svm = (y_prob_svm >= 0.5).astype(int)\n",
        "\n",
        "# Calculate evaluation metrics\n",
        "svm_precision = precision_score(y_test, y_pred_svm)\n",
        "svm_recall = recall_score(y_test, y_pred_svm)\n",
        "svm_f1 = f1_score(y_test, y_pred_svm)\n",
        "svm_auc = roc_auc_score(y_test, y_prob_svm)\n",
        "\n",
        "# Store results in a dictionary for comparison\n",
        "svm_results = {\n",
        "    \"Model\": [\"Support Vector Machine (SVM)\"],\n",
        "    \"Precision\": [svm_precision],\n",
        "    \"Recall\": [svm_recall],\n",
        "    \"F1-Score\": [svm_f1],\n",
        "    \"AUC\": [svm_auc],\n",
        "    \"Training Time (s)\": [training_time]\n",
        "}\n",
        "\n",
        "# Convert to DataFrame\n",
        "svm_results_df = pd.DataFrame(svm_results)\n",
        "\n",
        "# Append to the existing results DataFrame\n",
        "results_df = pd.concat([results_df, svm_results_df], ignore_index=True)\n",
        "\n",
        "# Display updated results\n",
        "print(results_df)\n"
      ],
      "metadata": {
        "colab": {
          "base_uri": "https://localhost:8080/"
        },
        "id": "XX1refb4_2Td",
        "outputId": "5056141d-8ddf-4df2-b83f-3ac7995f7497"
      },
      "execution_count": 32,
      "outputs": [
        {
          "output_type": "stream",
          "name": "stdout",
          "text": [
            "                          Model  Precision    Recall  F1-Score       AUC  \\\n",
            "0           Logistic Regression       0.25  0.166667       0.2  0.347222   \n",
            "1  Support Vector Machine (SVM)       0.00  0.000000       0.0  0.416667   \n",
            "\n",
            "   Training Time (s)  \n",
            "0           0.007365  \n",
            "1           0.004745  \n"
          ]
        },
        {
          "output_type": "stream",
          "name": "stderr",
          "text": [
            "/usr/local/lib/python3.11/dist-packages/sklearn/metrics/_classification.py:1565: UndefinedMetricWarning: Precision is ill-defined and being set to 0.0 due to no predicted samples. Use `zero_division` parameter to control this behavior.\n",
            "  _warn_prf(average, modifier, f\"{metric.capitalize()} is\", len(result))\n"
          ]
        }
      ]
    },
    {
      "cell_type": "markdown",
      "source": [
        "## Implementing Random Forest Classifier"
      ],
      "metadata": {
        "id": "Gxv7fW3_dqK8"
      }
    },
    {
      "cell_type": "code",
      "source": [
        "from sklearn.ensemble import RandomForestClassifier\n",
        "import time\n",
        "from sklearn.metrics import precision_score, recall_score, f1_score, roc_auc_score\n",
        "from sklearn.preprocessing import StandardScaler\n",
        "\n",
        "# Assuming data preprocessing has been done and the data is available in these variables\n",
        "# X_train, X_val, X_test, y_train, y_val, y_test\n",
        "# Scaling features\n",
        "scaler = StandardScaler()\n",
        "X_train_scaled = scaler.fit_transform(X_train)\n",
        "X_val_scaled = scaler.transform(X_val)\n",
        "X_test_scaled = scaler.transform(X_test)\n",
        "\n",
        "#TRAINING\n",
        "\n",
        "# Initialize the Random Forest model\n",
        "rf_model = RandomForestClassifier(n_estimators=100, random_state=42)\n",
        "\n",
        "# Record the start time for training\n",
        "start_time = time.time()\n",
        "\n",
        "# Train the model\n",
        "rf_model.fit(X_train_scaled, y_train)\n",
        "\n",
        "# Record the end time for training\n",
        "end_time = time.time()\n",
        "\n",
        "# Calculate the training time\n",
        "training_time = end_time - start_time\n",
        "\n",
        "\n"
      ],
      "metadata": {
        "id": "_6Sq7pKDd_kO"
      },
      "execution_count": 33,
      "outputs": []
    },
    {
      "cell_type": "markdown",
      "source": [
        "Evaluation"
      ],
      "metadata": {
        "id": "PK6DKYoIAtWy"
      }
    },
    {
      "cell_type": "code",
      "source": [
        "# Get predicted probabilities\n",
        "y_prob_rf = rf_model.predict_proba(X_test_scaled)[:, 1]  # Probability for class 1\n",
        "\n",
        "# Convert probabilities to binary predictions (threshold = 0.5)\n",
        "y_pred_rf = (y_prob_rf >= 0.5).astype(int)\n",
        "\n",
        "# Calculate evaluation metrics\n",
        "rf_precision = precision_score(y_test, y_pred_rf)\n",
        "rf_recall = recall_score(y_test, y_pred_rf)\n",
        "rf_f1 = f1_score(y_test, y_pred_rf)\n",
        "rf_auc = roc_auc_score(y_test, y_prob_rf)\n",
        "\n",
        "# Store results in a dictionary for comparison\n",
        "rf_results = {\n",
        "    \"Model\": [\"Random Forest\"],\n",
        "    \"Precision\": [rf_precision],\n",
        "    \"Recall\": [rf_recall],\n",
        "    \"F1-Score\": [rf_f1],\n",
        "    \"AUC\": [rf_auc],\n",
        "    \"Training Time (s)\": [training_time]\n",
        "}\n",
        "\n",
        "# Convert to DataFrame\n",
        "rf_results_df = pd.DataFrame(rf_results)\n",
        "\n",
        "# Append to the existing results DataFrame\n",
        "results_df = pd.concat([results_df, rf_results_df], ignore_index=True)\n",
        "\n",
        "# Display updated results\n",
        "print(results_df)\n"
      ],
      "metadata": {
        "colab": {
          "base_uri": "https://localhost:8080/"
        },
        "id": "wAyJ1TijAmpX",
        "outputId": "1a48c4b2-c992-4b3c-e7aa-e0462e12bfce"
      },
      "execution_count": 34,
      "outputs": [
        {
          "output_type": "stream",
          "name": "stdout",
          "text": [
            "                          Model  Precision    Recall  F1-Score       AUC  \\\n",
            "0           Logistic Regression       0.25  0.166667  0.200000  0.347222   \n",
            "1  Support Vector Machine (SVM)       0.00  0.000000  0.000000  0.416667   \n",
            "2                 Random Forest       1.00  0.166667  0.285714  0.465278   \n",
            "\n",
            "   Training Time (s)  \n",
            "0           0.007365  \n",
            "1           0.004745  \n",
            "2           0.165416  \n"
          ]
        }
      ]
    },
    {
      "cell_type": "markdown",
      "source": [
        "## Implementing a K-Nearest Neighbor"
      ],
      "metadata": {
        "id": "VC7wLDMjfDAN"
      }
    },
    {
      "cell_type": "code",
      "source": [
        "from sklearn.neighbors import KNeighborsClassifier\n",
        "from sklearn.metrics import classification_report, accuracy_score\n",
        "import time\n",
        "\n",
        "# Initialize KNN model\n",
        "knn_model = KNeighborsClassifier(n_neighbors=5)\n",
        "\n",
        "# Record the start time for training\n",
        "start_time = time.time()\n",
        "\n",
        "# Train the model\n",
        "knn_model.fit(X_train_scaled, y_train)\n",
        "\n",
        "# Record the end time for training\n",
        "end_time = time.time()\n",
        "\n",
        "# Calculate training time\n",
        "training_time = end_time - start_time\n",
        "\n",
        "# Make predictions on the test set\n",
        "y_pred_knn = knn_model.predict(X_test_scaled)\n",
        "\n",
        "\n"
      ],
      "metadata": {
        "id": "89j6P0lBfPE2"
      },
      "execution_count": 35,
      "outputs": []
    },
    {
      "cell_type": "code",
      "source": [
        "# Get predicted probabilities\n",
        "y_prob_knn = knn_model.predict_proba(X_test_scaled)[:, 1]  # Probability for class 1\n",
        "\n",
        "# Convert probabilities to binary predictions (threshold = 0.5)\n",
        "y_pred_knn = (y_prob_knn >= 0.5).astype(int)\n",
        "\n",
        "# Calculate evaluation metrics\n",
        "knn_precision = precision_score(y_test, y_pred_knn)\n",
        "knn_recall = recall_score(y_test, y_pred_knn)\n",
        "knn_f1 = f1_score(y_test, y_pred_knn)\n",
        "knn_auc = roc_auc_score(y_test, y_prob_knn)\n",
        "\n",
        "# Store results in a dictionary for comparison\n",
        "knn_results = {\n",
        "    \"Model\": [\"K-Nearest Neighbors (KNN)\"],\n",
        "    \"Precision\": [knn_precision],\n",
        "    \"Recall\": [knn_recall],\n",
        "    \"F1-Score\": [knn_f1],\n",
        "    \"AUC\": [knn_auc],\n",
        "    \"Training Time (s)\": [training_time]\n",
        "}\n",
        "\n",
        "# Convert to DataFrame\n",
        "knn_results_df = pd.DataFrame(knn_results)\n",
        "\n",
        "# Append to the existing results DataFrame\n",
        "results_df = pd.concat([results_df, knn_results_df], ignore_index=True)\n",
        "\n",
        "# Display updated results\n",
        "print(results_df)\n"
      ],
      "metadata": {
        "colab": {
          "base_uri": "https://localhost:8080/"
        },
        "id": "KHl2ICDqBh_n",
        "outputId": "463b1e22-c761-4501-d1f1-e441746bb9d4"
      },
      "execution_count": 36,
      "outputs": [
        {
          "output_type": "stream",
          "name": "stdout",
          "text": [
            "                          Model  Precision    Recall  F1-Score       AUC  \\\n",
            "0           Logistic Regression   0.250000  0.166667  0.200000  0.347222   \n",
            "1  Support Vector Machine (SVM)   0.000000  0.000000  0.000000  0.416667   \n",
            "2                 Random Forest   1.000000  0.166667  0.285714  0.465278   \n",
            "3     K-Nearest Neighbors (KNN)   0.666667  0.333333  0.444444  0.645833   \n",
            "\n",
            "   Training Time (s)  \n",
            "0           0.007365  \n",
            "1           0.004745  \n",
            "2           0.165416  \n",
            "3           0.001175  \n"
          ]
        }
      ]
    },
    {
      "cell_type": "markdown",
      "source": [
        "Implementing Gradient Boost machine"
      ],
      "metadata": {
        "id": "YEVJvZG7fUYp"
      }
    },
    {
      "cell_type": "code",
      "source": [
        "from sklearn.ensemble import GradientBoostingClassifier\n",
        "from sklearn.metrics import precision_score, recall_score, f1_score, roc_auc_score\n",
        "import time\n",
        "\n",
        "# Initialize Gradient Boosting Classifier\n",
        "gbm_model = GradientBoostingClassifier(n_estimators=100, learning_rate=0.1, max_depth=3, random_state=42)\n",
        "\n",
        "# Record the start time for training\n",
        "start_time = time.time()\n",
        "\n",
        "# Train the model\n",
        "gbm_model.fit(X_train_scaled, y_train)\n",
        "\n",
        "# Record the end time for training\n",
        "end_time = time.time()\n",
        "training_time = end_time - start_time\n",
        "\n",
        "# Predict on the validation and test sets\n",
        "y_val_pred = gbm_model.predict(X_val_scaled)\n",
        "y_test_pred = gbm_model.predict(X_test_scaled)\n",
        "\n",
        "# Get predicted probabilities\n",
        "y_prob_knn = knn_model.predict_proba(X_test_scaled)[:, 1]  # Probability for class 1\n",
        "\n",
        "# Convert probabilities to binary predictions (threshold = 0.5)\n",
        "y_pred_knn = (y_prob_knn >= 0.5).astype(int)\n",
        "\n",
        "# Calculate evaluation metrics\n",
        "knn_precision = precision_score(y_test, y_pred_knn)\n",
        "knn_recall = recall_score(y_test, y_pred_knn)\n",
        "knn_f1 = f1_score(y_test, y_pred_knn)\n",
        "knn_auc = roc_auc_score(y_test, y_prob_knn)\n",
        "\n",
        "# Store results in a dictionary for comparison\n",
        "knn_results = {\n",
        "    \"Model\": [\"K-Nearest Neighbors (KNN)\"],\n",
        "    \"Precision\": [knn_precision],\n",
        "    \"Recall\": [knn_recall],\n",
        "    \"F1-Score\": [knn_f1],\n",
        "    \"AUC\": [knn_auc],\n",
        "    \"Training Time (s)\": [training_time]\n",
        "}\n",
        "\n",
        "# Convert to DataFrame\n",
        "knn_results_df = pd.DataFrame(knn_results)\n",
        "\n",
        "# Append to the existing results DataFrame\n",
        "results_df = pd.concat([results_df, knn_results_df], ignore_index=True)\n",
        "\n",
        "# Display updated results\n",
        "print(results_df)\n"
      ],
      "metadata": {
        "colab": {
          "base_uri": "https://localhost:8080/"
        },
        "id": "wnfUNlupf0Vn",
        "outputId": "c33ac59f-02a7-4a9b-884c-5071f485688e"
      },
      "execution_count": 37,
      "outputs": [
        {
          "output_type": "stream",
          "name": "stdout",
          "text": [
            "                          Model  Precision    Recall  F1-Score       AUC  \\\n",
            "0           Logistic Regression   0.250000  0.166667  0.200000  0.347222   \n",
            "1  Support Vector Machine (SVM)   0.000000  0.000000  0.000000  0.416667   \n",
            "2                 Random Forest   1.000000  0.166667  0.285714  0.465278   \n",
            "3     K-Nearest Neighbors (KNN)   0.666667  0.333333  0.444444  0.645833   \n",
            "4     K-Nearest Neighbors (KNN)   0.666667  0.333333  0.444444  0.645833   \n",
            "\n",
            "   Training Time (s)  \n",
            "0           0.007365  \n",
            "1           0.004745  \n",
            "2           0.165416  \n",
            "3           0.001175  \n",
            "4           0.140045  \n"
          ]
        }
      ]
    },
    {
      "cell_type": "markdown",
      "source": [
        "## Implementing XGBoost"
      ],
      "metadata": {
        "id": "ODQ1xV3bf3dF"
      }
    },
    {
      "cell_type": "code",
      "source": [
        "!pip install xgboost\n"
      ],
      "metadata": {
        "colab": {
          "base_uri": "https://localhost:8080/"
        },
        "id": "TlYAPJOsgTrO",
        "outputId": "bbb5ca17-486d-4883-9573-5904ff108032"
      },
      "execution_count": 38,
      "outputs": [
        {
          "output_type": "stream",
          "name": "stdout",
          "text": [
            "Requirement already satisfied: xgboost in /usr/local/lib/python3.11/dist-packages (2.1.4)\n",
            "Requirement already satisfied: numpy in /usr/local/lib/python3.11/dist-packages (from xgboost) (1.26.4)\n",
            "Requirement already satisfied: nvidia-nccl-cu12 in /usr/local/lib/python3.11/dist-packages (from xgboost) (2.21.5)\n",
            "Requirement already satisfied: scipy in /usr/local/lib/python3.11/dist-packages (from xgboost) (1.13.1)\n"
          ]
        }
      ]
    },
    {
      "cell_type": "code",
      "source": [
        "import xgboost as xgb\n",
        "from sklearn.metrics import precision_score, recall_score, f1_score, roc_auc_score\n",
        "import time\n",
        "\n",
        "# Initialize XGBoost Classifier\n",
        "xgboost_model = xgb.XGBClassifier(n_estimators=100, learning_rate=0.1, max_depth=3, random_state=42)\n",
        "\n",
        "# Record the start time for training\n",
        "start_time = time.time()\n",
        "\n",
        "# Train the model\n",
        "xgboost_model.fit(X_train_scaled, y_train)\n",
        "\n",
        "# Record the end time for training\n",
        "end_time = time.time()\n",
        "training_time = end_time - start_time\n",
        "\n",
        "# Predict on the validation and test sets\n",
        "y_val_pred = xgboost_model.predict(X_val_scaled)\n",
        "y_test_pred = xgboost_model.predict(X_test_scaled)\n",
        "\n",
        "# Get predicted probabilities\n",
        "y_prob_xgb = xgboost_model.predict_proba(X_test_scaled)[:, 1]  # Probability for class 1\n",
        "\n",
        "# Convert probabilities to binary predictions (threshold = 0.5)\n",
        "y_pred_xgb = (y_prob_xgb >= 0.5).astype(int)\n",
        "\n",
        "# Calculate evaluation metrics\n",
        "xgb_precision = precision_score(y_test, y_pred_xgb)\n",
        "xgb_recall = recall_score(y_test, y_pred_xgb)\n",
        "xgb_f1 = f1_score(y_test, y_pred_xgb)\n",
        "xgb_auc = roc_auc_score(y_test, y_prob_xgb)\n",
        "\n",
        "# Store results in a dictionary for comparison\n",
        "xgb_results = {\n",
        "    \"Model\": [\"XGBoost\"],\n",
        "    \"Precision\": [xgb_precision],\n",
        "    \"Recall\": [xgb_recall],\n",
        "    \"F1-Score\": [xgb_f1],\n",
        "    \"AUC\": [xgb_auc],\n",
        "    \"Training Time (s)\": [training_time]\n",
        "}\n",
        "\n",
        "# Convert to DataFrame\n",
        "xgb_results_df = pd.DataFrame(xgb_results)\n",
        "\n",
        "# Append to the existing results DataFrame\n",
        "results_df = pd.concat([results_df, xgb_results_df], ignore_index=True)\n",
        "\n",
        "# Display updated results\n",
        "print(results_df)\n",
        "\n"
      ],
      "metadata": {
        "colab": {
          "base_uri": "https://localhost:8080/"
        },
        "id": "SRRCjGpcgcEf",
        "outputId": "9b3833b2-0206-4b44-fbaa-e6803fcb86ee"
      },
      "execution_count": 39,
      "outputs": [
        {
          "output_type": "stream",
          "name": "stdout",
          "text": [
            "                          Model  Precision    Recall  F1-Score       AUC  \\\n",
            "0           Logistic Regression   0.250000  0.166667  0.200000  0.347222   \n",
            "1  Support Vector Machine (SVM)   0.000000  0.000000  0.000000  0.416667   \n",
            "2                 Random Forest   1.000000  0.166667  0.285714  0.465278   \n",
            "3     K-Nearest Neighbors (KNN)   0.666667  0.333333  0.444444  0.645833   \n",
            "4     K-Nearest Neighbors (KNN)   0.666667  0.333333  0.444444  0.645833   \n",
            "5                       XGBoost   0.200000  0.166667  0.181818  0.375000   \n",
            "\n",
            "   Training Time (s)  \n",
            "0           0.007365  \n",
            "1           0.004745  \n",
            "2           0.165416  \n",
            "3           0.001175  \n",
            "4           0.140045  \n",
            "5           0.024347  \n"
          ]
        }
      ]
    },
    {
      "cell_type": "markdown",
      "source": [
        "## Implementing LightGBM"
      ],
      "metadata": {
        "id": "trCnfvrqhGK4"
      }
    },
    {
      "cell_type": "code",
      "source": [
        "!pip install lightgbm\n"
      ],
      "metadata": {
        "id": "RrGTq8YBiqyx",
        "colab": {
          "base_uri": "https://localhost:8080/"
        },
        "outputId": "08b7c4a0-13ea-4e34-95da-8c7e20a409f1"
      },
      "execution_count": 40,
      "outputs": [
        {
          "output_type": "stream",
          "name": "stdout",
          "text": [
            "Requirement already satisfied: lightgbm in /usr/local/lib/python3.11/dist-packages (4.5.0)\n",
            "Requirement already satisfied: numpy>=1.17.0 in /usr/local/lib/python3.11/dist-packages (from lightgbm) (1.26.4)\n",
            "Requirement already satisfied: scipy in /usr/local/lib/python3.11/dist-packages (from lightgbm) (1.13.1)\n"
          ]
        }
      ]
    },
    {
      "cell_type": "code",
      "source": [
        "import lightgbm as lgb\n",
        "from sklearn.metrics import precision_score, recall_score, f1_score, roc_auc_score\n",
        "import time\n",
        "\n",
        "# Initialize LightGBM Classifier\n",
        "lgbm_model = lgb.LGBMClassifier(n_estimators=100, learning_rate=0.1, max_depth=3, random_state=42)\n",
        "\n",
        "# Record the start time for training\n",
        "start_time = time.time()\n",
        "\n",
        "# Train the model\n",
        "lgbm_model.fit(X_train_scaled, y_train)\n",
        "\n",
        "# Record the end time for training\n",
        "end_time = time.time()\n",
        "training_time = end_time - start_time\n",
        "\n",
        "# Predict on the validation and test sets\n",
        "y_val_pred = lgbm_model.predict(X_val_scaled)\n",
        "y_test_pred = lgbm_model.predict(X_test_scaled)\n",
        "\n",
        "# Get predicted probabilities\n",
        "y_prob_lgbm = lgbm_model.predict_proba(X_test_scaled)[:, 1]  # Probability for class 1\n",
        "\n",
        "# Convert probabilities to binary predictions (threshold = 0.5)\n",
        "y_pred_lgbm = (y_prob_lgbm >= 0.5).astype(int)\n",
        "\n",
        "# Calculate evaluation metrics\n",
        "lgbm_precision = precision_score(y_test, y_pred_lgbm)\n",
        "lgbm_recall = recall_score(y_test, y_pred_lgbm)\n",
        "lgbm_f1 = f1_score(y_test, y_pred_lgbm)\n",
        "lgbm_auc = roc_auc_score(y_test, y_prob_lgbm)\n",
        "\n",
        "# Store results in a dictionary for comparison\n",
        "lgbm_results = {\n",
        "    \"Model\": [\"LightGBM\"],\n",
        "    \"Precision\": [lgbm_precision],\n",
        "    \"Recall\": [lgbm_recall],\n",
        "    \"F1-Score\": [lgbm_f1],\n",
        "    \"AUC\": [lgbm_auc],\n",
        "    \"Training Time (s)\": [training_time]\n",
        "}\n",
        "\n",
        "# Convert to DataFrame\n",
        "lgbm_results_df = pd.DataFrame(lgbm_results)\n",
        "\n",
        "# Append to the existing results DataFrame\n",
        "results_df = pd.concat([results_df, lgbm_results_df], ignore_index=True)\n",
        "\n",
        "# Display updated results\n",
        "print(results_df)\n"
      ],
      "metadata": {
        "id": "cc2tl1xiisY2",
        "outputId": "c294aafa-db3b-4d3f-b69c-19fcf1d477b5",
        "colab": {
          "base_uri": "https://localhost:8080/"
        }
      },
      "execution_count": 41,
      "outputs": [
        {
          "output_type": "stream",
          "name": "stdout",
          "text": [
            "[LightGBM] [Info] Number of positive: 26, number of negative: 55\n",
            "[LightGBM] [Info] Auto-choosing row-wise multi-threading, the overhead of testing was 0.000043 seconds.\n",
            "You can set `force_row_wise=true` to remove the overhead.\n",
            "And if memory is not enough, you can set `force_col_wise=true`.\n",
            "[LightGBM] [Info] Total Bins 218\n",
            "[LightGBM] [Info] Number of data points in the train set: 81, number of used features: 45\n",
            "[LightGBM] [Info] [binary:BoostFromScore]: pavg=0.320988 -> initscore=-0.749237\n",
            "[LightGBM] [Info] Start training from score -0.749237\n",
            "[LightGBM] [Warning] No further splits with positive gain, best gain: -inf\n",
            "[LightGBM] [Warning] No further splits with positive gain, best gain: -inf\n",
            "[LightGBM] [Warning] No further splits with positive gain, best gain: -inf\n",
            "[LightGBM] [Warning] No further splits with positive gain, best gain: -inf\n",
            "[LightGBM] [Warning] No further splits with positive gain, best gain: -inf\n",
            "[LightGBM] [Warning] No further splits with positive gain, best gain: -inf\n",
            "[LightGBM] [Warning] No further splits with positive gain, best gain: -inf\n",
            "[LightGBM] [Warning] No further splits with positive gain, best gain: -inf\n",
            "[LightGBM] [Warning] No further splits with positive gain, best gain: -inf\n",
            "[LightGBM] [Warning] No further splits with positive gain, best gain: -inf\n",
            "[LightGBM] [Warning] No further splits with positive gain, best gain: -inf\n",
            "[LightGBM] [Warning] No further splits with positive gain, best gain: -inf\n",
            "[LightGBM] [Warning] No further splits with positive gain, best gain: -inf\n",
            "[LightGBM] [Warning] No further splits with positive gain, best gain: -inf\n",
            "[LightGBM] [Warning] No further splits with positive gain, best gain: -inf\n",
            "[LightGBM] [Warning] No further splits with positive gain, best gain: -inf\n",
            "[LightGBM] [Warning] No further splits with positive gain, best gain: -inf\n",
            "[LightGBM] [Warning] No further splits with positive gain, best gain: -inf\n",
            "[LightGBM] [Warning] No further splits with positive gain, best gain: -inf\n",
            "[LightGBM] [Warning] No further splits with positive gain, best gain: -inf\n",
            "[LightGBM] [Warning] No further splits with positive gain, best gain: -inf\n",
            "[LightGBM] [Warning] No further splits with positive gain, best gain: -inf\n",
            "[LightGBM] [Warning] No further splits with positive gain, best gain: -inf\n",
            "[LightGBM] [Warning] No further splits with positive gain, best gain: -inf\n",
            "[LightGBM] [Warning] No further splits with positive gain, best gain: -inf\n",
            "[LightGBM] [Warning] No further splits with positive gain, best gain: -inf\n",
            "[LightGBM] [Warning] No further splits with positive gain, best gain: -inf\n",
            "[LightGBM] [Warning] No further splits with positive gain, best gain: -inf\n",
            "[LightGBM] [Warning] No further splits with positive gain, best gain: -inf\n",
            "[LightGBM] [Warning] No further splits with positive gain, best gain: -inf\n",
            "[LightGBM] [Warning] No further splits with positive gain, best gain: -inf\n",
            "[LightGBM] [Warning] No further splits with positive gain, best gain: -inf\n",
            "[LightGBM] [Warning] No further splits with positive gain, best gain: -inf\n",
            "[LightGBM] [Warning] No further splits with positive gain, best gain: -inf\n",
            "[LightGBM] [Warning] No further splits with positive gain, best gain: -inf\n",
            "[LightGBM] [Warning] No further splits with positive gain, best gain: -inf\n",
            "[LightGBM] [Warning] No further splits with positive gain, best gain: -inf\n",
            "[LightGBM] [Warning] No further splits with positive gain, best gain: -inf\n",
            "[LightGBM] [Warning] No further splits with positive gain, best gain: -inf\n",
            "[LightGBM] [Warning] No further splits with positive gain, best gain: -inf\n",
            "[LightGBM] [Warning] No further splits with positive gain, best gain: -inf\n",
            "[LightGBM] [Warning] No further splits with positive gain, best gain: -inf\n",
            "[LightGBM] [Warning] No further splits with positive gain, best gain: -inf\n",
            "[LightGBM] [Warning] No further splits with positive gain, best gain: -inf\n",
            "[LightGBM] [Warning] No further splits with positive gain, best gain: -inf\n",
            "[LightGBM] [Warning] No further splits with positive gain, best gain: -inf\n",
            "[LightGBM] [Warning] No further splits with positive gain, best gain: -inf\n",
            "[LightGBM] [Warning] No further splits with positive gain, best gain: -inf\n",
            "[LightGBM] [Warning] No further splits with positive gain, best gain: -inf\n",
            "[LightGBM] [Warning] No further splits with positive gain, best gain: -inf\n",
            "[LightGBM] [Warning] No further splits with positive gain, best gain: -inf\n",
            "[LightGBM] [Warning] No further splits with positive gain, best gain: -inf\n",
            "[LightGBM] [Warning] No further splits with positive gain, best gain: -inf\n",
            "[LightGBM] [Warning] No further splits with positive gain, best gain: -inf\n",
            "[LightGBM] [Warning] No further splits with positive gain, best gain: -inf\n",
            "[LightGBM] [Warning] No further splits with positive gain, best gain: -inf\n",
            "[LightGBM] [Warning] No further splits with positive gain, best gain: -inf\n",
            "[LightGBM] [Warning] No further splits with positive gain, best gain: -inf\n",
            "[LightGBM] [Warning] No further splits with positive gain, best gain: -inf\n",
            "[LightGBM] [Warning] No further splits with positive gain, best gain: -inf\n",
            "[LightGBM] [Warning] No further splits with positive gain, best gain: -inf\n",
            "[LightGBM] [Warning] No further splits with positive gain, best gain: -inf\n",
            "[LightGBM] [Warning] No further splits with positive gain, best gain: -inf\n",
            "[LightGBM] [Warning] No further splits with positive gain, best gain: -inf\n",
            "[LightGBM] [Warning] No further splits with positive gain, best gain: -inf\n",
            "[LightGBM] [Warning] No further splits with positive gain, best gain: -inf\n",
            "[LightGBM] [Warning] No further splits with positive gain, best gain: -inf\n",
            "[LightGBM] [Warning] No further splits with positive gain, best gain: -inf\n",
            "[LightGBM] [Warning] No further splits with positive gain, best gain: -inf\n",
            "[LightGBM] [Warning] No further splits with positive gain, best gain: -inf\n",
            "[LightGBM] [Warning] No further splits with positive gain, best gain: -inf\n",
            "[LightGBM] [Warning] No further splits with positive gain, best gain: -inf\n",
            "[LightGBM] [Warning] No further splits with positive gain, best gain: -inf\n",
            "[LightGBM] [Warning] No further splits with positive gain, best gain: -inf\n",
            "[LightGBM] [Warning] No further splits with positive gain, best gain: -inf\n",
            "[LightGBM] [Warning] No further splits with positive gain, best gain: -inf\n",
            "[LightGBM] [Warning] No further splits with positive gain, best gain: -inf\n",
            "[LightGBM] [Warning] No further splits with positive gain, best gain: -inf\n",
            "[LightGBM] [Warning] No further splits with positive gain, best gain: -inf\n",
            "[LightGBM] [Warning] No further splits with positive gain, best gain: -inf\n",
            "[LightGBM] [Warning] No further splits with positive gain, best gain: -inf\n",
            "[LightGBM] [Warning] No further splits with positive gain, best gain: -inf\n",
            "[LightGBM] [Warning] No further splits with positive gain, best gain: -inf\n",
            "[LightGBM] [Warning] No further splits with positive gain, best gain: -inf\n",
            "[LightGBM] [Warning] No further splits with positive gain, best gain: -inf\n",
            "[LightGBM] [Warning] No further splits with positive gain, best gain: -inf\n",
            "[LightGBM] [Warning] No further splits with positive gain, best gain: -inf\n",
            "[LightGBM] [Warning] No further splits with positive gain, best gain: -inf\n",
            "[LightGBM] [Warning] No further splits with positive gain, best gain: -inf\n",
            "[LightGBM] [Warning] No further splits with positive gain, best gain: -inf\n",
            "[LightGBM] [Warning] No further splits with positive gain, best gain: -inf\n",
            "[LightGBM] [Warning] No further splits with positive gain, best gain: -inf\n",
            "[LightGBM] [Warning] No further splits with positive gain, best gain: -inf\n",
            "[LightGBM] [Warning] No further splits with positive gain, best gain: -inf\n",
            "[LightGBM] [Warning] No further splits with positive gain, best gain: -inf\n",
            "[LightGBM] [Warning] No further splits with positive gain, best gain: -inf\n",
            "[LightGBM] [Warning] No further splits with positive gain, best gain: -inf\n",
            "[LightGBM] [Warning] No further splits with positive gain, best gain: -inf\n",
            "[LightGBM] [Warning] No further splits with positive gain, best gain: -inf\n",
            "[LightGBM] [Warning] No further splits with positive gain, best gain: -inf\n",
            "                          Model  Precision    Recall  F1-Score       AUC  \\\n",
            "0           Logistic Regression   0.250000  0.166667  0.200000  0.347222   \n",
            "1  Support Vector Machine (SVM)   0.000000  0.000000  0.000000  0.416667   \n",
            "2                 Random Forest   1.000000  0.166667  0.285714  0.465278   \n",
            "3     K-Nearest Neighbors (KNN)   0.666667  0.333333  0.444444  0.645833   \n",
            "4     K-Nearest Neighbors (KNN)   0.666667  0.333333  0.444444  0.645833   \n",
            "5                       XGBoost   0.200000  0.166667  0.181818  0.375000   \n",
            "6                      LightGBM   0.250000  0.166667  0.200000  0.458333   \n",
            "\n",
            "   Training Time (s)  \n",
            "0           0.007365  \n",
            "1           0.004745  \n",
            "2           0.165416  \n",
            "3           0.001175  \n",
            "4           0.140045  \n",
            "5           0.024347  \n",
            "6           0.016214  \n"
          ]
        },
        {
          "output_type": "stream",
          "name": "stderr",
          "text": [
            "/usr/local/lib/python3.11/dist-packages/sklearn/utils/deprecation.py:151: FutureWarning: 'force_all_finite' was renamed to 'ensure_all_finite' in 1.6 and will be removed in 1.8.\n",
            "  warnings.warn(\n",
            "/usr/local/lib/python3.11/dist-packages/sklearn/utils/deprecation.py:151: FutureWarning: 'force_all_finite' was renamed to 'ensure_all_finite' in 1.6 and will be removed in 1.8.\n",
            "  warnings.warn(\n",
            "/usr/local/lib/python3.11/dist-packages/sklearn/utils/deprecation.py:151: FutureWarning: 'force_all_finite' was renamed to 'ensure_all_finite' in 1.6 and will be removed in 1.8.\n",
            "  warnings.warn(\n",
            "/usr/local/lib/python3.11/dist-packages/sklearn/utils/deprecation.py:151: FutureWarning: 'force_all_finite' was renamed to 'ensure_all_finite' in 1.6 and will be removed in 1.8.\n",
            "  warnings.warn(\n"
          ]
        }
      ]
    },
    {
      "cell_type": "markdown",
      "source": [
        "## Implementing CATBoost"
      ],
      "metadata": {
        "id": "kWUT3-V_i3jT"
      }
    },
    {
      "cell_type": "code",
      "source": [
        "!pip install catboost\n"
      ],
      "metadata": {
        "id": "bYGZZJ5YjQqR",
        "outputId": "90748863-796f-4852-9d99-ec7c8a0f03a2",
        "colab": {
          "base_uri": "https://localhost:8080/"
        }
      },
      "execution_count": 42,
      "outputs": [
        {
          "output_type": "stream",
          "name": "stdout",
          "text": [
            "Requirement already satisfied: catboost in /usr/local/lib/python3.11/dist-packages (1.2.7)\n",
            "Requirement already satisfied: graphviz in /usr/local/lib/python3.11/dist-packages (from catboost) (0.20.3)\n",
            "Requirement already satisfied: matplotlib in /usr/local/lib/python3.11/dist-packages (from catboost) (3.10.0)\n",
            "Requirement already satisfied: numpy<2.0,>=1.16.0 in /usr/local/lib/python3.11/dist-packages (from catboost) (1.26.4)\n",
            "Requirement already satisfied: pandas>=0.24 in /usr/local/lib/python3.11/dist-packages (from catboost) (2.2.2)\n",
            "Requirement already satisfied: scipy in /usr/local/lib/python3.11/dist-packages (from catboost) (1.13.1)\n",
            "Requirement already satisfied: plotly in /usr/local/lib/python3.11/dist-packages (from catboost) (5.24.1)\n",
            "Requirement already satisfied: six in /usr/local/lib/python3.11/dist-packages (from catboost) (1.17.0)\n",
            "Requirement already satisfied: python-dateutil>=2.8.2 in /usr/local/lib/python3.11/dist-packages (from pandas>=0.24->catboost) (2.8.2)\n",
            "Requirement already satisfied: pytz>=2020.1 in /usr/local/lib/python3.11/dist-packages (from pandas>=0.24->catboost) (2025.1)\n",
            "Requirement already satisfied: tzdata>=2022.7 in /usr/local/lib/python3.11/dist-packages (from pandas>=0.24->catboost) (2025.1)\n",
            "Requirement already satisfied: contourpy>=1.0.1 in /usr/local/lib/python3.11/dist-packages (from matplotlib->catboost) (1.3.1)\n",
            "Requirement already satisfied: cycler>=0.10 in /usr/local/lib/python3.11/dist-packages (from matplotlib->catboost) (0.12.1)\n",
            "Requirement already satisfied: fonttools>=4.22.0 in /usr/local/lib/python3.11/dist-packages (from matplotlib->catboost) (4.56.0)\n",
            "Requirement already satisfied: kiwisolver>=1.3.1 in /usr/local/lib/python3.11/dist-packages (from matplotlib->catboost) (1.4.8)\n",
            "Requirement already satisfied: packaging>=20.0 in /usr/local/lib/python3.11/dist-packages (from matplotlib->catboost) (24.2)\n",
            "Requirement already satisfied: pillow>=8 in /usr/local/lib/python3.11/dist-packages (from matplotlib->catboost) (11.1.0)\n",
            "Requirement already satisfied: pyparsing>=2.3.1 in /usr/local/lib/python3.11/dist-packages (from matplotlib->catboost) (3.2.1)\n",
            "Requirement already satisfied: tenacity>=6.2.0 in /usr/local/lib/python3.11/dist-packages (from plotly->catboost) (9.0.0)\n"
          ]
        }
      ]
    },
    {
      "cell_type": "code",
      "source": [
        "from catboost import CatBoostClassifier\n",
        "from sklearn.metrics import precision_score, recall_score, f1_score, roc_auc_score\n",
        "import time\n",
        "\n",
        "# Initialize CatBoost Classifier\n",
        "catboost_model = CatBoostClassifier(iterations=100, learning_rate=0.1, depth=3, random_seed=42, verbose=0)\n",
        "\n",
        "# Record start time\n",
        "start_time = time.time()\n",
        "\n",
        "# Train the model\n",
        "catboost_model.fit(X_train_scaled, y_train)\n",
        "\n",
        "# Record end time\n",
        "end_time = time.time()\n",
        "training_time = end_time - start_time\n",
        "\n",
        "# Predict on validation and test sets\n",
        "y_val_pred = catboost_model.predict(X_val_scaled)\n",
        "y_test_pred = catboost_model.predict(X_test_scaled)\n",
        "\n",
        "# Get predicted probabilities\n",
        "y_prob_catboost = catboost_model.predict_proba(X_test_scaled)[:, 1]  # Probability for class 1\n",
        "\n",
        "# Convert probabilities to binary predictions (threshold = 0.5)\n",
        "y_pred_catboost = (y_prob_catboost >= 0.5).astype(int)\n",
        "\n",
        "# Calculate evaluation metrics\n",
        "catboost_precision = precision_score(y_test, y_pred_catboost)\n",
        "catboost_recall = recall_score(y_test, y_pred_catboost)\n",
        "catboost_f1 = f1_score(y_test, y_pred_catboost)\n",
        "catboost_auc = roc_auc_score(y_test, y_prob_catboost)\n",
        "\n",
        "# Store results in a dictionary for comparison\n",
        "catboost_results = {\n",
        "    \"Model\": [\"CatBoost\"],\n",
        "    \"Precision\": [catboost_precision],\n",
        "    \"Recall\": [catboost_recall],\n",
        "    \"F1-Score\": [catboost_f1],\n",
        "    \"AUC\": [catboost_auc],\n",
        "    \"Training Time (s)\": [training_time]\n",
        "}\n",
        "\n",
        "# Convert to DataFrame\n",
        "catboost_results_df = pd.DataFrame(catboost_results)\n",
        "\n",
        "# Append to the existing results DataFrame\n",
        "results_df = pd.concat([results_df, catboost_results_df], ignore_index=True)\n",
        "\n",
        "# Display updated results\n",
        "print(results_df)\n"
      ],
      "metadata": {
        "id": "A81YYFTgjVP-",
        "outputId": "2c5d00ff-390a-4b47-fff9-f8b03ca27132",
        "colab": {
          "base_uri": "https://localhost:8080/"
        }
      },
      "execution_count": 43,
      "outputs": [
        {
          "output_type": "stream",
          "name": "stdout",
          "text": [
            "                          Model  Precision    Recall  F1-Score       AUC  \\\n",
            "0           Logistic Regression   0.250000  0.166667  0.200000  0.347222   \n",
            "1  Support Vector Machine (SVM)   0.000000  0.000000  0.000000  0.416667   \n",
            "2                 Random Forest   1.000000  0.166667  0.285714  0.465278   \n",
            "3     K-Nearest Neighbors (KNN)   0.666667  0.333333  0.444444  0.645833   \n",
            "4     K-Nearest Neighbors (KNN)   0.666667  0.333333  0.444444  0.645833   \n",
            "5                       XGBoost   0.200000  0.166667  0.181818  0.375000   \n",
            "6                      LightGBM   0.250000  0.166667  0.200000  0.458333   \n",
            "7                      CatBoost   0.250000  0.166667  0.200000  0.416667   \n",
            "\n",
            "   Training Time (s)  \n",
            "0           0.007365  \n",
            "1           0.004745  \n",
            "2           0.165416  \n",
            "3           0.001175  \n",
            "4           0.140045  \n",
            "5           0.024347  \n",
            "6           0.016214  \n",
            "7           0.257499  \n"
          ]
        }
      ]
    },
    {
      "cell_type": "markdown",
      "source": [
        "## Implementing A neural network"
      ],
      "metadata": {
        "id": "Pv6CDU82mFzh"
      }
    },
    {
      "cell_type": "code",
      "source": [
        "import torch\n",
        "import torch.nn as nn\n",
        "import torch.optim as optim\n",
        "import time\n",
        "from sklearn.metrics import precision_score, recall_score, f1_score, roc_auc_score\n",
        "\n",
        "# Define the Neural Network Model\n",
        "class NeuralNetwork(nn.Module):\n",
        "    def __init__(self, input_dim):\n",
        "        super(NeuralNetwork, self).__init__()\n",
        "        self.fc1 = nn.Linear(input_dim, 64)\n",
        "        self.fc2 = nn.Linear(64, 32)\n",
        "        self.output = nn.Linear(32, 1)\n",
        "        self.relu = nn.ReLU()\n",
        "        self.sigmoid = nn.Sigmoid()\n",
        "\n",
        "    def forward(self, x):\n",
        "        x = self.relu(self.fc1(x))\n",
        "        x = self.relu(self.fc2(x))\n",
        "        x = self.sigmoid(self.output(x))\n",
        "        return x\n",
        "\n",
        "# Initialize the model\n",
        "input_dim = X_train_scaled.shape[1]  # Number of features\n",
        "model = NeuralNetwork(input_dim)\n",
        "\n",
        "# Move model to GPU if available\n",
        "device = torch.device(\"cuda\" if torch.cuda.is_available() else \"cpu\")\n",
        "model.to(device)\n",
        "\n",
        "# Prepare data (assuming X_train_scaled, y_train are numpy arrays or tensors)\n",
        "X_train_tensor = torch.tensor(X_train_scaled, dtype=torch.float32).to(device)\n",
        "y_train_tensor = torch.tensor(y_train, dtype=torch.float32).view(-1, 1).to(device)\n",
        "\n",
        "X_val_tensor = torch.tensor(X_val_scaled, dtype=torch.float32).to(device)\n",
        "y_val_tensor = torch.tensor(y_val, dtype=torch.float32).view(-1, 1).to(device)\n",
        "\n",
        "X_test_tensor = torch.tensor(X_test_scaled, dtype=torch.float32).to(device)\n",
        "y_test_tensor = torch.tensor(y_test, dtype=torch.float32).view(-1, 1).to(device)\n",
        "\n",
        "# Initialize the loss function and optimizer\n",
        "criterion = nn.BCELoss()\n",
        "optimizer = optim.Adam(model.parameters(), lr=0.001)\n",
        "\n",
        "# Training the model\n",
        "start_time = time.time()\n",
        "\n",
        "# Set the model to training mode\n",
        "model.train()\n",
        "for epoch in range(100):  # Training for 100 epochs\n",
        "    optimizer.zero_grad()\n",
        "    outputs = model(X_train_tensor)\n",
        "    loss = criterion(outputs, y_train_tensor)\n",
        "    loss.backward()\n",
        "    optimizer.step()\n",
        "\n",
        "# Record the end time for training\n",
        "end_time = time.time()\n",
        "training_time = end_time - start_time\n",
        "\n",
        "# Evaluation\n",
        "model.eval()\n",
        "\n",
        "# Make predictions on the validation and test sets\n",
        "with torch.no_grad():\n",
        "    y_val_pred_prob = model(X_val_tensor).squeeze().cpu().numpy()\n",
        "    y_test_pred_prob = model(X_test_tensor).squeeze().cpu().numpy()\n",
        "\n",
        "# Convert probabilities to binary predictions (threshold = 0.5)\n",
        "y_val_pred = (y_val_pred_prob >= 0.5).astype(int)\n",
        "y_test_pred = (y_test_pred_prob >= 0.5).astype(int)\n",
        "\n",
        "# Calculate evaluation metrics for validation set\n",
        "val_precision = precision_score(y_val, y_val_pred)\n",
        "val_recall = recall_score(y_val, y_val_pred)\n",
        "val_f1 = f1_score(y_val, y_val_pred)\n",
        "val_auc = roc_auc_score(y_val, y_val_pred_prob)\n",
        "\n",
        "# Calculate evaluation metrics for test set\n",
        "test_precision = precision_score(y_test, y_test_pred)\n",
        "test_recall = recall_score(y_test, y_test_pred)\n",
        "test_f1 = f1_score(y_test, y_test_pred)\n",
        "test_auc = roc_auc_score(y_test, y_test_pred_prob)\n",
        "\n",
        "# Print the evaluation results\n",
        "print(f\"Neural Network Model Evaluation (Validation Set):\")\n",
        "print(f\"Validation Precision: {val_precision:.4f} | Validation Recall: {val_recall:.4f}\")\n",
        "print(f\"Validation F1-Score: {val_f1:.4f} | Validation AUC: {val_auc:.4f}\")\n",
        "\n",
        "print(f\"\\nNeural Network Model Evaluation (Test Set):\")\n",
        "print(f\"Test Precision: {test_precision:.4f} | Test Recall: {test_recall:.4f}\")\n",
        "print(f\"Test F1-Score: {test_f1:.4f} | Test AUC: {test_auc:.4f}\")\n",
        "\n",
        "print(f\"\\nTraining Time: {training_time:.4f} seconds\")\n"
      ],
      "metadata": {
        "colab": {
          "base_uri": "https://localhost:8080/"
        },
        "id": "VKJXJE1UDn3t",
        "outputId": "cff11d65-5225-4fc4-aba6-648d20f87939"
      },
      "execution_count": 44,
      "outputs": [
        {
          "output_type": "stream",
          "name": "stdout",
          "text": [
            "Neural Network Model Evaluation (Validation Set):\n",
            "Validation Precision: 0.7500 | Validation Recall: 0.5000\n",
            "Validation F1-Score: 0.6000 | Validation AUC: 0.8889\n",
            "\n",
            "Neural Network Model Evaluation (Test Set):\n",
            "Test Precision: 0.2500 | Test Recall: 0.1667\n",
            "Test F1-Score: 0.2000 | Test AUC: 0.3889\n",
            "\n",
            "Training Time: 0.2945 seconds\n"
          ]
        }
      ]
    },
    {
      "cell_type": "markdown",
      "source": [
        "## Implementing DNN"
      ],
      "metadata": {
        "id": "YXYQSVqtvFPm"
      }
    },
    {
      "cell_type": "code",
      "source": [
        "import torch\n",
        "import torch.nn as nn\n",
        "import torch.optim as optim\n",
        "import time\n",
        "from sklearn.metrics import precision_score, recall_score, f1_score, roc_auc_score\n",
        "import pandas as pd\n",
        "\n",
        "# Define the Neural Network Model\n",
        "class NeuralNetwork(nn.Module):\n",
        "    def __init__(self, input_dim):\n",
        "        super(NeuralNetwork, self).__init__()\n",
        "        self.fc1 = nn.Linear(input_dim, 64)\n",
        "        self.fc2 = nn.Linear(64, 32)\n",
        "        self.output = nn.Linear(32, 1)\n",
        "        self.relu = nn.ReLU()\n",
        "        self.sigmoid = nn.Sigmoid()\n",
        "\n",
        "    def forward(self, x):\n",
        "        x = self.relu(self.fc1(x))\n",
        "        x = self.relu(self.fc2(x))\n",
        "        x = self.sigmoid(self.output(x))\n",
        "        return x\n",
        "\n",
        "# Initialize the model\n",
        "input_dim = X_train_scaled.shape[1]  # Number of features\n",
        "model = NeuralNetwork(input_dim)\n",
        "\n",
        "# Move model to GPU if available\n",
        "device = torch.device(\"cuda\" if torch.cuda.is_available() else \"cpu\")\n",
        "model.to(device)\n",
        "\n",
        "# Prepare data (assuming X_train_scaled, y_train are numpy arrays or tensors)\n",
        "X_train_tensor = torch.tensor(X_train_scaled, dtype=torch.float32).to(device)\n",
        "y_train_tensor = torch.tensor(y_train, dtype=torch.float32).view(-1, 1).to(device)\n",
        "\n",
        "X_val_tensor = torch.tensor(X_val_scaled, dtype=torch.float32).to(device)\n",
        "y_val_tensor = torch.tensor(y_val, dtype=torch.float32).view(-1, 1).to(device)\n",
        "\n",
        "X_test_tensor = torch.tensor(X_test_scaled, dtype=torch.float32).to(device)\n",
        "y_test_tensor = torch.tensor(y_test, dtype=torch.float32).view(-1, 1).to(device)\n",
        "\n",
        "# Initialize the loss function and optimizer\n",
        "criterion = nn.BCELoss()\n",
        "optimizer = optim.Adam(model.parameters(), lr=0.001)\n",
        "\n",
        "# Training the model\n",
        "start_time = time.time()\n",
        "\n",
        "# Set the model to training mode\n",
        "model.train()\n",
        "for epoch in range(100):  # Training for 100 epochs\n",
        "    optimizer.zero_grad()\n",
        "    outputs = model(X_train_tensor)\n",
        "    loss = criterion(outputs, y_train_tensor)\n",
        "    loss.backward()\n",
        "    optimizer.step()\n",
        "\n",
        "# Record the end time for training\n",
        "end_time = time.time()\n",
        "training_time = end_time - start_time\n",
        "\n",
        "# Evaluation\n",
        "model.eval()\n",
        "\n",
        "# Make predictions on the validation and test sets\n",
        "with torch.no_grad():\n",
        "    y_val_pred_prob = model(X_val_tensor).squeeze().cpu().numpy()\n",
        "    y_test_pred_prob = model(X_test_tensor).squeeze().cpu().numpy()\n",
        "\n",
        "# Convert probabilities to binary predictions (threshold = 0.5)\n",
        "y_val_pred = (y_val_pred_prob >= 0.5).astype(int)\n",
        "y_test_pred = (y_test_pred_prob >= 0.5).astype(int)\n",
        "\n",
        "# Calculate evaluation metrics for validation set\n",
        "val_precision = precision_score(y_val, y_val_pred)\n",
        "val_recall = recall_score(y_val, y_val_pred)\n",
        "val_f1 = f1_score(y_val, y_val_pred)\n",
        "val_auc = roc_auc_score(y_val, y_val_pred_prob)\n",
        "\n",
        "# Calculate evaluation metrics for test set\n",
        "test_precision = precision_score(y_test, y_test_pred)\n",
        "test_recall = recall_score(y_test, y_test_pred)\n",
        "test_f1 = f1_score(y_test, y_test_pred)\n",
        "test_auc = roc_auc_score(y_test, y_test_pred_prob)\n",
        "\n",
        "# Store results in a dictionary for comparison\n",
        "nn_results = {\n",
        "    \"Model\": [\"Neural Network (NN)\"],\n",
        "    \"Precision\": [test_precision],\n",
        "    \"Recall\": [test_recall],\n",
        "    \"F1-Score\": [test_f1],\n",
        "    \"AUC\": [test_auc],\n",
        "    \"Training Time (s)\": [training_time]\n",
        "}\n",
        "\n",
        "# Convert to DataFrame\n",
        "nn_results_df = pd.DataFrame(nn_results)\n",
        "\n",
        "# Initialize an empty DataFrame to hold results if it doesn't exist\n",
        "try:\n",
        "    results_df\n",
        "except NameError:\n",
        "    results_df = pd.DataFrame(columns=[\"Model\", \"Precision\", \"Recall\", \"F1-Score\", \"AUC\", \"Training Time (s)\"])\n",
        "\n",
        "# Append to the existing results DataFrame\n",
        "results_df = pd.concat([results_df, nn_results_df], ignore_index=True)\n",
        "\n",
        "# Display updated results\n",
        "print(results_df)\n"
      ],
      "metadata": {
        "colab": {
          "base_uri": "https://localhost:8080/"
        },
        "id": "S6Zf_WuaPtXg",
        "outputId": "a7f0711e-288e-4960-c9f0-8338111ad8a8"
      },
      "execution_count": 45,
      "outputs": [
        {
          "output_type": "stream",
          "name": "stdout",
          "text": [
            "                          Model  Precision    Recall  F1-Score       AUC  \\\n",
            "0           Logistic Regression   0.250000  0.166667  0.200000  0.347222   \n",
            "1  Support Vector Machine (SVM)   0.000000  0.000000  0.000000  0.416667   \n",
            "2                 Random Forest   1.000000  0.166667  0.285714  0.465278   \n",
            "3     K-Nearest Neighbors (KNN)   0.666667  0.333333  0.444444  0.645833   \n",
            "4     K-Nearest Neighbors (KNN)   0.666667  0.333333  0.444444  0.645833   \n",
            "5                       XGBoost   0.200000  0.166667  0.181818  0.375000   \n",
            "6                      LightGBM   0.250000  0.166667  0.200000  0.458333   \n",
            "7                      CatBoost   0.250000  0.166667  0.200000  0.416667   \n",
            "8           Neural Network (NN)   0.250000  0.166667  0.200000  0.444444   \n",
            "\n",
            "   Training Time (s)  \n",
            "0           0.007365  \n",
            "1           0.004745  \n",
            "2           0.165416  \n",
            "3           0.001175  \n",
            "4           0.140045  \n",
            "5           0.024347  \n",
            "6           0.016214  \n",
            "7           0.257499  \n",
            "8           0.126260  \n"
          ]
        }
      ]
    },
    {
      "cell_type": "markdown",
      "source": [
        "## Implementing Fastforwar-NN"
      ],
      "metadata": {
        "id": "86QiETKbLc-w"
      }
    },
    {
      "cell_type": "code",
      "source": [
        "import torch\n",
        "import torch.nn as nn\n",
        "import torch.optim as optim\n",
        "import time\n",
        "from sklearn.metrics import precision_score, recall_score, f1_score, roc_auc_score\n",
        "\n",
        "# Define the Feedforward Neural Network (FNN) Model\n",
        "class FNNModel(nn.Module):\n",
        "    def __init__(self, input_dim):\n",
        "        super(FNNModel, self).__init__()\n",
        "        self.fc1 = nn.Linear(input_dim, 64)  # Input layer\n",
        "        self.fc2 = nn.Linear(64, 32)         # Hidden layer\n",
        "        self.fc3 = nn.Linear(32, 1)          # Output layer\n",
        "        self.relu = nn.ReLU()\n",
        "        self.sigmoid = nn.Sigmoid()\n",
        "\n",
        "    def forward(self, x):\n",
        "        x = self.relu(self.fc1(x))   # Apply ReLU activation\n",
        "        x = self.relu(self.fc2(x))   # Apply ReLU activation\n",
        "        x = self.sigmoid(self.fc3(x))  # Output layer with sigmoid for binary classification\n",
        "        return x\n",
        "\n",
        "# Initialize the FNN model\n",
        "input_dim = X_train_scaled.shape[1]  # Number of features\n",
        "fnn_model = FNNModel(input_dim)\n",
        "\n",
        "# Move model to GPU if available\n",
        "device = torch.device(\"cuda\" if torch.cuda.is_available() else \"cpu\")\n",
        "fnn_model.to(device)\n",
        "\n",
        "# Define the loss function and optimizer\n",
        "criterion = nn.BCELoss()\n",
        "optimizer = optim.Adam(fnn_model.parameters(), lr=0.001)\n",
        "\n",
        "# Record start time for training\n",
        "start_time = time.time()\n",
        "\n",
        "# Train the FNN Model (assuming X_train_scaled and y_train are tensors)\n",
        "for epoch in range(100):  # Number of epochs\n",
        "    # Move data to device\n",
        "    inputs = torch.tensor(X_train_scaled, dtype=torch.float32).to(device)\n",
        "    labels = torch.tensor(y_train, dtype=torch.float32).view(-1, 1).to(device)\n",
        "\n",
        "    # Forward pass\n",
        "    outputs = fnn_model(inputs)\n",
        "    loss = criterion(outputs, labels)\n",
        "\n",
        "    # Backward pass and optimization\n",
        "    optimizer.zero_grad()\n",
        "    loss.backward()\n",
        "    optimizer.step()\n",
        "\n",
        "# Record end time for training\n",
        "end_time = time.time()\n",
        "training_time = end_time - start_time\n",
        "\n",
        "# Predict on validation and test sets\n",
        "X_val_tensor = torch.tensor(X_val_scaled, dtype=torch.float32).to(device)\n",
        "y_val_pred = fnn_model(X_val_tensor).cpu().detach().numpy()\n",
        "y_val_pred = (y_val_pred > 0.5).astype(int)  # Threshold at 0.5\n",
        "\n",
        "X_test_tensor = torch.tensor(X_test_scaled, dtype=torch.float32).to(device)\n",
        "y_test_pred = fnn_model(X_test_tensor).cpu().detach().numpy()\n",
        "y_test_pred = (y_test_pred > 0.5).astype(int)  # Threshold at 0.5\n",
        "\n",
        "# Get predicted probabilities\n",
        "model.eval()  # Set the model to evaluation mode\n",
        "with torch.no_grad():\n",
        "    # Convert the test data to a tensor\n",
        "    X_test_tensor = torch.tensor(X_test_scaled, dtype=torch.float32).to(device)\n",
        "\n",
        "    # Get predictions\n",
        "    y_prob_fnn = model(X_test_tensor).cpu().numpy().flatten()  # Probabilities for class 1\n",
        "\n",
        "# Convert probabilities to binary predictions (threshold = 0.5)\n",
        "y_pred_fnn = (y_prob_fnn >= 0.5).astype(int)\n",
        "\n",
        "# Calculate evaluation metrics\n",
        "fnn_precision = precision_score(y_test, y_pred_fnn)\n",
        "fnn_recall = recall_score(y_test, y_pred_fnn)\n",
        "fnn_f1 = f1_score(y_test, y_pred_fnn)\n",
        "fnn_auc = roc_auc_score(y_test, y_prob_fnn)\n",
        "\n",
        "# Calculate training time (assuming it was previously calculated or use current time)\n",
        "start_time = time.time()\n",
        "# model.fit(X_train_scaled, y_train)  # Uncomment and use this if not done yet\n",
        "end_time = time.time()\n",
        "training_time = end_time - start_time\n",
        "\n",
        "# Store results in a dictionary for comparison\n",
        "fnn_results = {\n",
        "    \"Model\": [\"Feedforward Neural Network (FNN)\"],\n",
        "    \"Precision\": [fnn_precision],\n",
        "    \"Recall\": [fnn_recall],\n",
        "    \"F1-Score\": [fnn_f1],\n",
        "    \"AUC\": [fnn_auc],\n",
        "    \"Training Time (s)\": [training_time]\n",
        "}\n",
        "\n",
        "# Convert to DataFrame\n",
        "fnn_results_df = pd.DataFrame(fnn_results)\n",
        "\n",
        "# Initialize an empty DataFrame to hold results if it doesn't exist\n",
        "try:\n",
        "    results_df\n",
        "except NameError:\n",
        "    results_df = pd.DataFrame(columns=[\"Model\", \"Precision\", \"Recall\", \"F1-Score\", \"AUC\", \"Training Time (s)\"])\n",
        "\n",
        "# Append to the existing results DataFrame\n",
        "results_df = pd.concat([results_df, fnn_results_df], ignore_index=True)\n",
        "\n",
        "# Display updated results\n",
        "print(results_df)"
      ],
      "metadata": {
        "colab": {
          "base_uri": "https://localhost:8080/"
        },
        "id": "RsFxLw-MLuoh",
        "outputId": "c6cb6c12-8310-4137-a129-ea085fc423dd"
      },
      "execution_count": 46,
      "outputs": [
        {
          "output_type": "stream",
          "name": "stdout",
          "text": [
            "                              Model  Precision    Recall  F1-Score       AUC  \\\n",
            "0               Logistic Regression   0.250000  0.166667  0.200000  0.347222   \n",
            "1      Support Vector Machine (SVM)   0.000000  0.000000  0.000000  0.416667   \n",
            "2                     Random Forest   1.000000  0.166667  0.285714  0.465278   \n",
            "3         K-Nearest Neighbors (KNN)   0.666667  0.333333  0.444444  0.645833   \n",
            "4         K-Nearest Neighbors (KNN)   0.666667  0.333333  0.444444  0.645833   \n",
            "5                           XGBoost   0.200000  0.166667  0.181818  0.375000   \n",
            "6                          LightGBM   0.250000  0.166667  0.200000  0.458333   \n",
            "7                          CatBoost   0.250000  0.166667  0.200000  0.416667   \n",
            "8               Neural Network (NN)   0.250000  0.166667  0.200000  0.444444   \n",
            "9  Feedforward Neural Network (FNN)   0.250000  0.166667  0.200000  0.444444   \n",
            "\n",
            "   Training Time (s)  \n",
            "0           0.007365  \n",
            "1           0.004745  \n",
            "2           0.165416  \n",
            "3           0.001175  \n",
            "4           0.140045  \n",
            "5           0.024347  \n",
            "6           0.016214  \n",
            "7           0.257499  \n",
            "8           0.126260  \n",
            "9           0.000056  \n"
          ]
        }
      ]
    },
    {
      "cell_type": "markdown",
      "source": [
        "# Comparing The Models"
      ],
      "metadata": {
        "id": "gRKUKYlMwVEz"
      }
    },
    {
      "cell_type": "code",
      "source": [
        "# Sort the DataFrame by 'AUC' in descending order\n",
        "sorted_df = results_df.sort_values(by='AUC', ascending=False)\n",
        "\n",
        "# Display the sorted DataFrame\n",
        "sorted_df\n"
      ],
      "metadata": {
        "id": "FQd3w0GjQ1_x",
        "colab": {
          "base_uri": "https://localhost:8080/",
          "height": 0
        },
        "outputId": "fb61eb45-b0f5-48cb-c064-4532e9d6ddf7"
      },
      "execution_count": 47,
      "outputs": [
        {
          "output_type": "execute_result",
          "data": {
            "text/plain": [
              "                              Model  Precision    Recall  F1-Score       AUC  \\\n",
              "3         K-Nearest Neighbors (KNN)   0.666667  0.333333  0.444444  0.645833   \n",
              "4         K-Nearest Neighbors (KNN)   0.666667  0.333333  0.444444  0.645833   \n",
              "2                     Random Forest   1.000000  0.166667  0.285714  0.465278   \n",
              "6                          LightGBM   0.250000  0.166667  0.200000  0.458333   \n",
              "8               Neural Network (NN)   0.250000  0.166667  0.200000  0.444444   \n",
              "9  Feedforward Neural Network (FNN)   0.250000  0.166667  0.200000  0.444444   \n",
              "7                          CatBoost   0.250000  0.166667  0.200000  0.416667   \n",
              "1      Support Vector Machine (SVM)   0.000000  0.000000  0.000000  0.416667   \n",
              "5                           XGBoost   0.200000  0.166667  0.181818  0.375000   \n",
              "0               Logistic Regression   0.250000  0.166667  0.200000  0.347222   \n",
              "\n",
              "   Training Time (s)  \n",
              "3           0.001175  \n",
              "4           0.140045  \n",
              "2           0.165416  \n",
              "6           0.016214  \n",
              "8           0.126260  \n",
              "9           0.000056  \n",
              "7           0.257499  \n",
              "1           0.004745  \n",
              "5           0.024347  \n",
              "0           0.007365  "
            ],
            "text/html": [
              "\n",
              "  <div id=\"df-60322e92-804d-41bd-abcf-b2e4caf6a88c\" class=\"colab-df-container\">\n",
              "    <div>\n",
              "<style scoped>\n",
              "    .dataframe tbody tr th:only-of-type {\n",
              "        vertical-align: middle;\n",
              "    }\n",
              "\n",
              "    .dataframe tbody tr th {\n",
              "        vertical-align: top;\n",
              "    }\n",
              "\n",
              "    .dataframe thead th {\n",
              "        text-align: right;\n",
              "    }\n",
              "</style>\n",
              "<table border=\"1\" class=\"dataframe\">\n",
              "  <thead>\n",
              "    <tr style=\"text-align: right;\">\n",
              "      <th></th>\n",
              "      <th>Model</th>\n",
              "      <th>Precision</th>\n",
              "      <th>Recall</th>\n",
              "      <th>F1-Score</th>\n",
              "      <th>AUC</th>\n",
              "      <th>Training Time (s)</th>\n",
              "    </tr>\n",
              "  </thead>\n",
              "  <tbody>\n",
              "    <tr>\n",
              "      <th>3</th>\n",
              "      <td>K-Nearest Neighbors (KNN)</td>\n",
              "      <td>0.666667</td>\n",
              "      <td>0.333333</td>\n",
              "      <td>0.444444</td>\n",
              "      <td>0.645833</td>\n",
              "      <td>0.001175</td>\n",
              "    </tr>\n",
              "    <tr>\n",
              "      <th>4</th>\n",
              "      <td>K-Nearest Neighbors (KNN)</td>\n",
              "      <td>0.666667</td>\n",
              "      <td>0.333333</td>\n",
              "      <td>0.444444</td>\n",
              "      <td>0.645833</td>\n",
              "      <td>0.140045</td>\n",
              "    </tr>\n",
              "    <tr>\n",
              "      <th>2</th>\n",
              "      <td>Random Forest</td>\n",
              "      <td>1.000000</td>\n",
              "      <td>0.166667</td>\n",
              "      <td>0.285714</td>\n",
              "      <td>0.465278</td>\n",
              "      <td>0.165416</td>\n",
              "    </tr>\n",
              "    <tr>\n",
              "      <th>6</th>\n",
              "      <td>LightGBM</td>\n",
              "      <td>0.250000</td>\n",
              "      <td>0.166667</td>\n",
              "      <td>0.200000</td>\n",
              "      <td>0.458333</td>\n",
              "      <td>0.016214</td>\n",
              "    </tr>\n",
              "    <tr>\n",
              "      <th>8</th>\n",
              "      <td>Neural Network (NN)</td>\n",
              "      <td>0.250000</td>\n",
              "      <td>0.166667</td>\n",
              "      <td>0.200000</td>\n",
              "      <td>0.444444</td>\n",
              "      <td>0.126260</td>\n",
              "    </tr>\n",
              "    <tr>\n",
              "      <th>9</th>\n",
              "      <td>Feedforward Neural Network (FNN)</td>\n",
              "      <td>0.250000</td>\n",
              "      <td>0.166667</td>\n",
              "      <td>0.200000</td>\n",
              "      <td>0.444444</td>\n",
              "      <td>0.000056</td>\n",
              "    </tr>\n",
              "    <tr>\n",
              "      <th>7</th>\n",
              "      <td>CatBoost</td>\n",
              "      <td>0.250000</td>\n",
              "      <td>0.166667</td>\n",
              "      <td>0.200000</td>\n",
              "      <td>0.416667</td>\n",
              "      <td>0.257499</td>\n",
              "    </tr>\n",
              "    <tr>\n",
              "      <th>1</th>\n",
              "      <td>Support Vector Machine (SVM)</td>\n",
              "      <td>0.000000</td>\n",
              "      <td>0.000000</td>\n",
              "      <td>0.000000</td>\n",
              "      <td>0.416667</td>\n",
              "      <td>0.004745</td>\n",
              "    </tr>\n",
              "    <tr>\n",
              "      <th>5</th>\n",
              "      <td>XGBoost</td>\n",
              "      <td>0.200000</td>\n",
              "      <td>0.166667</td>\n",
              "      <td>0.181818</td>\n",
              "      <td>0.375000</td>\n",
              "      <td>0.024347</td>\n",
              "    </tr>\n",
              "    <tr>\n",
              "      <th>0</th>\n",
              "      <td>Logistic Regression</td>\n",
              "      <td>0.250000</td>\n",
              "      <td>0.166667</td>\n",
              "      <td>0.200000</td>\n",
              "      <td>0.347222</td>\n",
              "      <td>0.007365</td>\n",
              "    </tr>\n",
              "  </tbody>\n",
              "</table>\n",
              "</div>\n",
              "    <div class=\"colab-df-buttons\">\n",
              "\n",
              "  <div class=\"colab-df-container\">\n",
              "    <button class=\"colab-df-convert\" onclick=\"convertToInteractive('df-60322e92-804d-41bd-abcf-b2e4caf6a88c')\"\n",
              "            title=\"Convert this dataframe to an interactive table.\"\n",
              "            style=\"display:none;\">\n",
              "\n",
              "  <svg xmlns=\"http://www.w3.org/2000/svg\" height=\"24px\" viewBox=\"0 -960 960 960\">\n",
              "    <path d=\"M120-120v-720h720v720H120Zm60-500h600v-160H180v160Zm220 220h160v-160H400v160Zm0 220h160v-160H400v160ZM180-400h160v-160H180v160Zm440 0h160v-160H620v160ZM180-180h160v-160H180v160Zm440 0h160v-160H620v160Z\"/>\n",
              "  </svg>\n",
              "    </button>\n",
              "\n",
              "  <style>\n",
              "    .colab-df-container {\n",
              "      display:flex;\n",
              "      gap: 12px;\n",
              "    }\n",
              "\n",
              "    .colab-df-convert {\n",
              "      background-color: #E8F0FE;\n",
              "      border: none;\n",
              "      border-radius: 50%;\n",
              "      cursor: pointer;\n",
              "      display: none;\n",
              "      fill: #1967D2;\n",
              "      height: 32px;\n",
              "      padding: 0 0 0 0;\n",
              "      width: 32px;\n",
              "    }\n",
              "\n",
              "    .colab-df-convert:hover {\n",
              "      background-color: #E2EBFA;\n",
              "      box-shadow: 0px 1px 2px rgba(60, 64, 67, 0.3), 0px 1px 3px 1px rgba(60, 64, 67, 0.15);\n",
              "      fill: #174EA6;\n",
              "    }\n",
              "\n",
              "    .colab-df-buttons div {\n",
              "      margin-bottom: 4px;\n",
              "    }\n",
              "\n",
              "    [theme=dark] .colab-df-convert {\n",
              "      background-color: #3B4455;\n",
              "      fill: #D2E3FC;\n",
              "    }\n",
              "\n",
              "    [theme=dark] .colab-df-convert:hover {\n",
              "      background-color: #434B5C;\n",
              "      box-shadow: 0px 1px 3px 1px rgba(0, 0, 0, 0.15);\n",
              "      filter: drop-shadow(0px 1px 2px rgba(0, 0, 0, 0.3));\n",
              "      fill: #FFFFFF;\n",
              "    }\n",
              "  </style>\n",
              "\n",
              "    <script>\n",
              "      const buttonEl =\n",
              "        document.querySelector('#df-60322e92-804d-41bd-abcf-b2e4caf6a88c button.colab-df-convert');\n",
              "      buttonEl.style.display =\n",
              "        google.colab.kernel.accessAllowed ? 'block' : 'none';\n",
              "\n",
              "      async function convertToInteractive(key) {\n",
              "        const element = document.querySelector('#df-60322e92-804d-41bd-abcf-b2e4caf6a88c');\n",
              "        const dataTable =\n",
              "          await google.colab.kernel.invokeFunction('convertToInteractive',\n",
              "                                                    [key], {});\n",
              "        if (!dataTable) return;\n",
              "\n",
              "        const docLinkHtml = 'Like what you see? Visit the ' +\n",
              "          '<a target=\"_blank\" href=https://colab.research.google.com/notebooks/data_table.ipynb>data table notebook</a>'\n",
              "          + ' to learn more about interactive tables.';\n",
              "        element.innerHTML = '';\n",
              "        dataTable['output_type'] = 'display_data';\n",
              "        await google.colab.output.renderOutput(dataTable, element);\n",
              "        const docLink = document.createElement('div');\n",
              "        docLink.innerHTML = docLinkHtml;\n",
              "        element.appendChild(docLink);\n",
              "      }\n",
              "    </script>\n",
              "  </div>\n",
              "\n",
              "\n",
              "<div id=\"df-e91dd568-8fb0-477e-abe6-7894d341077c\">\n",
              "  <button class=\"colab-df-quickchart\" onclick=\"quickchart('df-e91dd568-8fb0-477e-abe6-7894d341077c')\"\n",
              "            title=\"Suggest charts\"\n",
              "            style=\"display:none;\">\n",
              "\n",
              "<svg xmlns=\"http://www.w3.org/2000/svg\" height=\"24px\"viewBox=\"0 0 24 24\"\n",
              "     width=\"24px\">\n",
              "    <g>\n",
              "        <path d=\"M19 3H5c-1.1 0-2 .9-2 2v14c0 1.1.9 2 2 2h14c1.1 0 2-.9 2-2V5c0-1.1-.9-2-2-2zM9 17H7v-7h2v7zm4 0h-2V7h2v10zm4 0h-2v-4h2v4z\"/>\n",
              "    </g>\n",
              "</svg>\n",
              "  </button>\n",
              "\n",
              "<style>\n",
              "  .colab-df-quickchart {\n",
              "      --bg-color: #E8F0FE;\n",
              "      --fill-color: #1967D2;\n",
              "      --hover-bg-color: #E2EBFA;\n",
              "      --hover-fill-color: #174EA6;\n",
              "      --disabled-fill-color: #AAA;\n",
              "      --disabled-bg-color: #DDD;\n",
              "  }\n",
              "\n",
              "  [theme=dark] .colab-df-quickchart {\n",
              "      --bg-color: #3B4455;\n",
              "      --fill-color: #D2E3FC;\n",
              "      --hover-bg-color: #434B5C;\n",
              "      --hover-fill-color: #FFFFFF;\n",
              "      --disabled-bg-color: #3B4455;\n",
              "      --disabled-fill-color: #666;\n",
              "  }\n",
              "\n",
              "  .colab-df-quickchart {\n",
              "    background-color: var(--bg-color);\n",
              "    border: none;\n",
              "    border-radius: 50%;\n",
              "    cursor: pointer;\n",
              "    display: none;\n",
              "    fill: var(--fill-color);\n",
              "    height: 32px;\n",
              "    padding: 0;\n",
              "    width: 32px;\n",
              "  }\n",
              "\n",
              "  .colab-df-quickchart:hover {\n",
              "    background-color: var(--hover-bg-color);\n",
              "    box-shadow: 0 1px 2px rgba(60, 64, 67, 0.3), 0 1px 3px 1px rgba(60, 64, 67, 0.15);\n",
              "    fill: var(--button-hover-fill-color);\n",
              "  }\n",
              "\n",
              "  .colab-df-quickchart-complete:disabled,\n",
              "  .colab-df-quickchart-complete:disabled:hover {\n",
              "    background-color: var(--disabled-bg-color);\n",
              "    fill: var(--disabled-fill-color);\n",
              "    box-shadow: none;\n",
              "  }\n",
              "\n",
              "  .colab-df-spinner {\n",
              "    border: 2px solid var(--fill-color);\n",
              "    border-color: transparent;\n",
              "    border-bottom-color: var(--fill-color);\n",
              "    animation:\n",
              "      spin 1s steps(1) infinite;\n",
              "  }\n",
              "\n",
              "  @keyframes spin {\n",
              "    0% {\n",
              "      border-color: transparent;\n",
              "      border-bottom-color: var(--fill-color);\n",
              "      border-left-color: var(--fill-color);\n",
              "    }\n",
              "    20% {\n",
              "      border-color: transparent;\n",
              "      border-left-color: var(--fill-color);\n",
              "      border-top-color: var(--fill-color);\n",
              "    }\n",
              "    30% {\n",
              "      border-color: transparent;\n",
              "      border-left-color: var(--fill-color);\n",
              "      border-top-color: var(--fill-color);\n",
              "      border-right-color: var(--fill-color);\n",
              "    }\n",
              "    40% {\n",
              "      border-color: transparent;\n",
              "      border-right-color: var(--fill-color);\n",
              "      border-top-color: var(--fill-color);\n",
              "    }\n",
              "    60% {\n",
              "      border-color: transparent;\n",
              "      border-right-color: var(--fill-color);\n",
              "    }\n",
              "    80% {\n",
              "      border-color: transparent;\n",
              "      border-right-color: var(--fill-color);\n",
              "      border-bottom-color: var(--fill-color);\n",
              "    }\n",
              "    90% {\n",
              "      border-color: transparent;\n",
              "      border-bottom-color: var(--fill-color);\n",
              "    }\n",
              "  }\n",
              "</style>\n",
              "\n",
              "  <script>\n",
              "    async function quickchart(key) {\n",
              "      const quickchartButtonEl =\n",
              "        document.querySelector('#' + key + ' button');\n",
              "      quickchartButtonEl.disabled = true;  // To prevent multiple clicks.\n",
              "      quickchartButtonEl.classList.add('colab-df-spinner');\n",
              "      try {\n",
              "        const charts = await google.colab.kernel.invokeFunction(\n",
              "            'suggestCharts', [key], {});\n",
              "      } catch (error) {\n",
              "        console.error('Error during call to suggestCharts:', error);\n",
              "      }\n",
              "      quickchartButtonEl.classList.remove('colab-df-spinner');\n",
              "      quickchartButtonEl.classList.add('colab-df-quickchart-complete');\n",
              "    }\n",
              "    (() => {\n",
              "      let quickchartButtonEl =\n",
              "        document.querySelector('#df-e91dd568-8fb0-477e-abe6-7894d341077c button');\n",
              "      quickchartButtonEl.style.display =\n",
              "        google.colab.kernel.accessAllowed ? 'block' : 'none';\n",
              "    })();\n",
              "  </script>\n",
              "</div>\n",
              "\n",
              "  <div id=\"id_14999040-a379-47fb-a76a-dffd5f8b8b55\">\n",
              "    <style>\n",
              "      .colab-df-generate {\n",
              "        background-color: #E8F0FE;\n",
              "        border: none;\n",
              "        border-radius: 50%;\n",
              "        cursor: pointer;\n",
              "        display: none;\n",
              "        fill: #1967D2;\n",
              "        height: 32px;\n",
              "        padding: 0 0 0 0;\n",
              "        width: 32px;\n",
              "      }\n",
              "\n",
              "      .colab-df-generate:hover {\n",
              "        background-color: #E2EBFA;\n",
              "        box-shadow: 0px 1px 2px rgba(60, 64, 67, 0.3), 0px 1px 3px 1px rgba(60, 64, 67, 0.15);\n",
              "        fill: #174EA6;\n",
              "      }\n",
              "\n",
              "      [theme=dark] .colab-df-generate {\n",
              "        background-color: #3B4455;\n",
              "        fill: #D2E3FC;\n",
              "      }\n",
              "\n",
              "      [theme=dark] .colab-df-generate:hover {\n",
              "        background-color: #434B5C;\n",
              "        box-shadow: 0px 1px 3px 1px rgba(0, 0, 0, 0.15);\n",
              "        filter: drop-shadow(0px 1px 2px rgba(0, 0, 0, 0.3));\n",
              "        fill: #FFFFFF;\n",
              "      }\n",
              "    </style>\n",
              "    <button class=\"colab-df-generate\" onclick=\"generateWithVariable('sorted_df')\"\n",
              "            title=\"Generate code using this dataframe.\"\n",
              "            style=\"display:none;\">\n",
              "\n",
              "  <svg xmlns=\"http://www.w3.org/2000/svg\" height=\"24px\"viewBox=\"0 0 24 24\"\n",
              "       width=\"24px\">\n",
              "    <path d=\"M7,19H8.4L18.45,9,17,7.55,7,17.6ZM5,21V16.75L18.45,3.32a2,2,0,0,1,2.83,0l1.4,1.43a1.91,1.91,0,0,1,.58,1.4,1.91,1.91,0,0,1-.58,1.4L9.25,21ZM18.45,9,17,7.55Zm-12,3A5.31,5.31,0,0,0,4.9,8.1,5.31,5.31,0,0,0,1,6.5,5.31,5.31,0,0,0,4.9,4.9,5.31,5.31,0,0,0,6.5,1,5.31,5.31,0,0,0,8.1,4.9,5.31,5.31,0,0,0,12,6.5,5.46,5.46,0,0,0,6.5,12Z\"/>\n",
              "  </svg>\n",
              "    </button>\n",
              "    <script>\n",
              "      (() => {\n",
              "      const buttonEl =\n",
              "        document.querySelector('#id_14999040-a379-47fb-a76a-dffd5f8b8b55 button.colab-df-generate');\n",
              "      buttonEl.style.display =\n",
              "        google.colab.kernel.accessAllowed ? 'block' : 'none';\n",
              "\n",
              "      buttonEl.onclick = () => {\n",
              "        google.colab.notebook.generateWithVariable('sorted_df');\n",
              "      }\n",
              "      })();\n",
              "    </script>\n",
              "  </div>\n",
              "\n",
              "    </div>\n",
              "  </div>\n"
            ],
            "application/vnd.google.colaboratory.intrinsic+json": {
              "type": "dataframe",
              "variable_name": "sorted_df",
              "summary": "{\n  \"name\": \"sorted_df\",\n  \"rows\": 10,\n  \"fields\": [\n    {\n      \"column\": \"Model\",\n      \"properties\": {\n        \"dtype\": \"string\",\n        \"num_unique_values\": 9,\n        \"samples\": [\n          \"XGBoost\",\n          \"Random Forest\",\n          \"CatBoost\"\n        ],\n        \"semantic_type\": \"\",\n        \"description\": \"\"\n      }\n    },\n    {\n      \"column\": \"Precision\",\n      \"properties\": {\n        \"dtype\": \"number\",\n        \"std\": 0.3000051439888208,\n        \"min\": 0.0,\n        \"max\": 1.0,\n        \"num_unique_values\": 5,\n        \"samples\": [\n          1.0,\n          0.2,\n          0.25\n        ],\n        \"semantic_type\": \"\",\n        \"description\": \"\"\n      }\n    },\n    {\n      \"column\": \"Recall\",\n      \"properties\": {\n        \"dtype\": \"number\",\n        \"std\": 0.09460770203292444,\n        \"min\": 0.0,\n        \"max\": 0.3333333333333333,\n        \"num_unique_values\": 3,\n        \"samples\": [\n          0.3333333333333333,\n          0.16666666666666666,\n          0.0\n        ],\n        \"semantic_type\": \"\",\n        \"description\": \"\"\n      }\n    },\n    {\n      \"column\": \"F1-Score\",\n      \"properties\": {\n        \"dtype\": \"number\",\n        \"std\": 0.13101317651972139,\n        \"min\": 0.0,\n        \"max\": 0.4444444444444444,\n        \"num_unique_values\": 5,\n        \"samples\": [\n          0.2857142857142857,\n          0.18181818181818182,\n          0.2\n        ],\n        \"semantic_type\": \"\",\n        \"description\": \"\"\n      }\n    },\n    {\n      \"column\": \"AUC\",\n      \"properties\": {\n        \"dtype\": \"number\",\n        \"std\": 0.10161219700531486,\n        \"min\": 0.3472222222222222,\n        \"max\": 0.6458333333333334,\n        \"num_unique_values\": 8,\n        \"samples\": [\n          0.4652777777777778,\n          0.4166666666666667,\n          0.6458333333333334\n        ],\n        \"semantic_type\": \"\",\n        \"description\": \"\"\n      }\n    },\n    {\n      \"column\": \"Training Time (s)\",\n      \"properties\": {\n        \"dtype\": \"number\",\n        \"std\": 0.09124641058343673,\n        \"min\": 5.555152893066406e-05,\n        \"max\": 0.25749874114990234,\n        \"num_unique_values\": 10,\n        \"samples\": [\n          0.02434682846069336,\n          0.1400454044342041,\n          5.555152893066406e-05\n        ],\n        \"semantic_type\": \"\",\n        \"description\": \"\"\n      }\n    }\n  ]\n}"
            }
          },
          "metadata": {},
          "execution_count": 47
        }
      ]
    },
    {
      "cell_type": "markdown",
      "source": [
        "saving"
      ],
      "metadata": {
        "id": "fzVxB4U5Q7EV"
      }
    },
    {
      "cell_type": "code",
      "source": [
        "# Save the sorted DataFrame as a CSV file in the current directory\n",
        "sorted_df.to_csv('sorted_model_comparison.csv', index=False)\n",
        "\n",
        "# Optionally, display a message indicating the file has been saved\n",
        "print(\"The sorted model comparison has been saved as 'sorted_model_comparison.csv'\")\n"
      ],
      "metadata": {
        "id": "8EUK4b9wQ8GO",
        "colab": {
          "base_uri": "https://localhost:8080/"
        },
        "outputId": "2b4c8266-7634-4a3d-9dc3-c643268f7666"
      },
      "execution_count": 48,
      "outputs": [
        {
          "output_type": "stream",
          "name": "stdout",
          "text": [
            "The sorted model comparison has been saved as 'sorted_model_comparison.csv'\n"
          ]
        }
      ]
    },
    {
      "cell_type": "markdown",
      "source": [
        "# Ensembling\n",
        "\n",
        "Using a Voting Ensemble"
      ],
      "metadata": {
        "id": "73fQdABuRSKC"
      }
    },
    {
      "cell_type": "code",
      "source": [
        "from sklearn.ensemble import VotingClassifier\n",
        "from sklearn.metrics import precision_score, recall_score, f1_score, roc_auc_score\n",
        "import time\n",
        "from xgboost import XGBClassifier\n",
        "from lightgbm import LGBMClassifier\n",
        "from catboost import CatBoostClassifier\n",
        "from sklearn.ensemble import RandomForestClassifier\n",
        "from sklearn.neighbors import KNeighborsClassifier\n",
        "\n",
        "\n",
        "# Initialize the base models\n",
        "rf_model = RandomForestClassifier(n_estimators=100, random_state=42)\n",
        "knn_model = KNeighborsClassifier(n_neighbors=5)\n",
        "xgb_model = XGBClassifier(use_label_encoder=False, eval_metric='mlogloss')\n",
        "lgbm_model = LGBMClassifier()\n",
        "catboost_model = CatBoostClassifier(silent=True)\n",
        "\n",
        "# Create the ensemble model using soft voting\n",
        "ensemble_model = VotingClassifier(estimators=[\n",
        "    ('rf', rf_model),\n",
        "    ('knn', knn_model),\n",
        "    ('xgb', xgb_model),\n",
        "    ('lgbm', lgbm_model),\n",
        "    ('catboost', catboost_model)\n",
        "], voting='soft')\n",
        "\n",
        "# Train the ensemble model\n",
        "start_time = time.time()\n",
        "ensemble_model.fit(X_train_scaled, y_train)\n",
        "end_time = time.time()\n",
        "ensemble_training_time = end_time - start_time\n",
        "\n",
        "# Make predictions on the test set\n",
        "y_prob_ensemble = ensemble_model.predict_proba(X_test_scaled)[:, 1]  # Probability for class 1\n",
        "y_pred_ensemble = (y_prob_ensemble >= 0.5).astype(int)\n",
        "\n",
        "# Calculate evaluation metrics for the ensemble model\n",
        "ensemble_precision = precision_score(y_test, y_pred_ensemble)\n",
        "ensemble_recall = recall_score(y_test, y_pred_ensemble)\n",
        "ensemble_f1 = f1_score(y_test, y_pred_ensemble)\n",
        "ensemble_auc = roc_auc_score(y_test, y_prob_ensemble)\n",
        "\n",
        "# Print evaluation results\n",
        "print(f\"Ensemble Model Evaluation:\")\n",
        "print(f\"Precision: {ensemble_precision:.4f} | Recall: {ensemble_recall:.4f}\")\n",
        "print(f\"F1-Score: {ensemble_f1:.4f} | AUC: {ensemble_auc:.4f}\")\n",
        "print(f\"Training Time: {ensemble_training_time:.4f} seconds\")\n",
        "\n",
        "# Store the results for comparison\n",
        "ensemble_results = {\n",
        "    \"Model\": [\"Ensemble Model (Voting)\"],\n",
        "    \"Precision\": [ensemble_precision],\n",
        "    \"Recall\": [ensemble_recall],\n",
        "    \"F1-Score\": [ensemble_f1],\n",
        "    \"AUC\": [ensemble_auc],\n",
        "    \"Training Time (s)\": [ensemble_training_time]\n",
        "}\n",
        "\n",
        "# Convert to DataFrame\n",
        "ensemble_results_df = pd.DataFrame(ensemble_results)\n",
        "\n",
        "# Append the ensemble results to the existing results DataFrame\n",
        "results_df = pd.concat([results_df, ensemble_results_df], ignore_index=True)\n",
        "\n",
        "# Display the updated results\n",
        "print(results_df)\n"
      ],
      "metadata": {
        "colab": {
          "base_uri": "https://localhost:8080/"
        },
        "id": "PEIGmstctT6H",
        "outputId": "409a4ab5-b8cb-4c40-d141-339fb6c913e8"
      },
      "execution_count": 50,
      "outputs": [
        {
          "output_type": "stream",
          "name": "stderr",
          "text": [
            "/usr/local/lib/python3.11/dist-packages/xgboost/core.py:158: UserWarning: [17:27:44] WARNING: /workspace/src/learner.cc:740: \n",
            "Parameters: { \"use_label_encoder\" } are not used.\n",
            "\n",
            "  warnings.warn(smsg, UserWarning)\n",
            "/usr/local/lib/python3.11/dist-packages/sklearn/utils/deprecation.py:151: FutureWarning: 'force_all_finite' was renamed to 'ensure_all_finite' in 1.6 and will be removed in 1.8.\n",
            "  warnings.warn(\n"
          ]
        },
        {
          "output_type": "stream",
          "name": "stdout",
          "text": [
            "[LightGBM] [Info] Number of positive: 26, number of negative: 55\n",
            "[LightGBM] [Info] Auto-choosing col-wise multi-threading, the overhead of testing was 0.000213 seconds.\n",
            "You can set `force_col_wise=true` to remove the overhead.\n",
            "[LightGBM] [Info] Total Bins 218\n",
            "[LightGBM] [Info] Number of data points in the train set: 81, number of used features: 45\n",
            "[LightGBM] [Info] [binary:BoostFromScore]: pavg=0.320988 -> initscore=-0.749237\n",
            "[LightGBM] [Info] Start training from score -0.749237\n",
            "[LightGBM] [Warning] No further splits with positive gain, best gain: -inf\n",
            "[LightGBM] [Warning] No further splits with positive gain, best gain: -inf\n",
            "[LightGBM] [Warning] No further splits with positive gain, best gain: -inf\n",
            "[LightGBM] [Warning] No further splits with positive gain, best gain: -inf\n",
            "[LightGBM] [Warning] No further splits with positive gain, best gain: -inf\n",
            "[LightGBM] [Warning] No further splits with positive gain, best gain: -inf\n",
            "[LightGBM] [Warning] No further splits with positive gain, best gain: -inf\n",
            "[LightGBM] [Warning] No further splits with positive gain, best gain: -inf\n",
            "[LightGBM] [Warning] No further splits with positive gain, best gain: -inf\n",
            "[LightGBM] [Warning] No further splits with positive gain, best gain: -inf\n",
            "[LightGBM] [Warning] No further splits with positive gain, best gain: -inf\n",
            "[LightGBM] [Warning] No further splits with positive gain, best gain: -inf\n",
            "[LightGBM] [Warning] No further splits with positive gain, best gain: -inf\n",
            "[LightGBM] [Warning] No further splits with positive gain, best gain: -inf\n",
            "[LightGBM] [Warning] No further splits with positive gain, best gain: -inf\n",
            "[LightGBM] [Warning] No further splits with positive gain, best gain: -inf\n",
            "[LightGBM] [Warning] No further splits with positive gain, best gain: -inf\n",
            "[LightGBM] [Warning] No further splits with positive gain, best gain: -inf\n",
            "[LightGBM] [Warning] No further splits with positive gain, best gain: -inf\n",
            "[LightGBM] [Warning] No further splits with positive gain, best gain: -inf\n",
            "[LightGBM] [Warning] No further splits with positive gain, best gain: -inf\n",
            "[LightGBM] [Warning] No further splits with positive gain, best gain: -inf\n",
            "[LightGBM] [Warning] No further splits with positive gain, best gain: -inf\n",
            "[LightGBM] [Warning] No further splits with positive gain, best gain: -inf\n",
            "[LightGBM] [Warning] No further splits with positive gain, best gain: -inf\n",
            "[LightGBM] [Warning] No further splits with positive gain, best gain: -inf\n",
            "[LightGBM] [Warning] No further splits with positive gain, best gain: -inf\n",
            "[LightGBM] [Warning] No further splits with positive gain, best gain: -inf\n",
            "[LightGBM] [Warning] No further splits with positive gain, best gain: -inf\n",
            "[LightGBM] [Warning] No further splits with positive gain, best gain: -inf\n",
            "[LightGBM] [Warning] No further splits with positive gain, best gain: -inf\n",
            "[LightGBM] [Warning] No further splits with positive gain, best gain: -inf\n",
            "[LightGBM] [Warning] No further splits with positive gain, best gain: -inf\n",
            "[LightGBM] [Warning] No further splits with positive gain, best gain: -inf\n",
            "[LightGBM] [Warning] No further splits with positive gain, best gain: -inf\n",
            "[LightGBM] [Warning] No further splits with positive gain, best gain: -inf\n",
            "[LightGBM] [Warning] No further splits with positive gain, best gain: -inf\n",
            "[LightGBM] [Warning] No further splits with positive gain, best gain: -inf\n",
            "[LightGBM] [Warning] No further splits with positive gain, best gain: -inf\n",
            "[LightGBM] [Warning] No further splits with positive gain, best gain: -inf\n",
            "[LightGBM] [Warning] No further splits with positive gain, best gain: -inf\n",
            "[LightGBM] [Warning] No further splits with positive gain, best gain: -inf\n",
            "[LightGBM] [Warning] No further splits with positive gain, best gain: -inf\n",
            "[LightGBM] [Warning] No further splits with positive gain, best gain: -inf\n",
            "[LightGBM] [Warning] No further splits with positive gain, best gain: -inf\n",
            "[LightGBM] [Warning] No further splits with positive gain, best gain: -inf\n",
            "[LightGBM] [Warning] No further splits with positive gain, best gain: -inf\n",
            "[LightGBM] [Warning] No further splits with positive gain, best gain: -inf\n",
            "[LightGBM] [Warning] No further splits with positive gain, best gain: -inf\n",
            "[LightGBM] [Warning] No further splits with positive gain, best gain: -inf\n",
            "[LightGBM] [Warning] No further splits with positive gain, best gain: -inf\n",
            "[LightGBM] [Warning] No further splits with positive gain, best gain: -inf\n",
            "[LightGBM] [Warning] No further splits with positive gain, best gain: -inf\n",
            "[LightGBM] [Warning] No further splits with positive gain, best gain: -inf\n",
            "[LightGBM] [Warning] No further splits with positive gain, best gain: -inf\n",
            "[LightGBM] [Warning] No further splits with positive gain, best gain: -inf\n",
            "[LightGBM] [Warning] No further splits with positive gain, best gain: -inf\n",
            "[LightGBM] [Warning] No further splits with positive gain, best gain: -inf\n",
            "[LightGBM] [Warning] No further splits with positive gain, best gain: -inf\n",
            "[LightGBM] [Warning] No further splits with positive gain, best gain: -inf\n",
            "[LightGBM] [Warning] No further splits with positive gain, best gain: -inf\n",
            "[LightGBM] [Warning] No further splits with positive gain, best gain: -inf\n",
            "[LightGBM] [Warning] No further splits with positive gain, best gain: -inf\n",
            "[LightGBM] [Warning] No further splits with positive gain, best gain: -inf\n",
            "[LightGBM] [Warning] No further splits with positive gain, best gain: -inf\n",
            "[LightGBM] [Warning] No further splits with positive gain, best gain: -inf\n",
            "[LightGBM] [Warning] No further splits with positive gain, best gain: -inf\n",
            "[LightGBM] [Warning] No further splits with positive gain, best gain: -inf\n",
            "[LightGBM] [Warning] No further splits with positive gain, best gain: -inf\n",
            "[LightGBM] [Warning] No further splits with positive gain, best gain: -inf\n",
            "[LightGBM] [Warning] No further splits with positive gain, best gain: -inf\n",
            "[LightGBM] [Warning] No further splits with positive gain, best gain: -inf\n",
            "[LightGBM] [Warning] No further splits with positive gain, best gain: -inf\n",
            "[LightGBM] [Warning] No further splits with positive gain, best gain: -inf\n",
            "[LightGBM] [Warning] No further splits with positive gain, best gain: -inf\n",
            "[LightGBM] [Warning] No further splits with positive gain, best gain: -inf\n",
            "[LightGBM] [Warning] No further splits with positive gain, best gain: -inf\n",
            "[LightGBM] [Warning] No further splits with positive gain, best gain: -inf\n",
            "[LightGBM] [Warning] No further splits with positive gain, best gain: -inf\n",
            "[LightGBM] [Warning] No further splits with positive gain, best gain: -inf\n",
            "[LightGBM] [Warning] No further splits with positive gain, best gain: -inf\n",
            "[LightGBM] [Warning] No further splits with positive gain, best gain: -inf\n",
            "[LightGBM] [Warning] No further splits with positive gain, best gain: -inf\n",
            "[LightGBM] [Warning] No further splits with positive gain, best gain: -inf\n",
            "[LightGBM] [Warning] No further splits with positive gain, best gain: -inf\n",
            "[LightGBM] [Warning] No further splits with positive gain, best gain: -inf\n",
            "[LightGBM] [Warning] No further splits with positive gain, best gain: -inf\n",
            "[LightGBM] [Warning] No further splits with positive gain, best gain: -inf\n",
            "[LightGBM] [Warning] No further splits with positive gain, best gain: -inf\n",
            "[LightGBM] [Warning] No further splits with positive gain, best gain: -inf\n",
            "[LightGBM] [Warning] No further splits with positive gain, best gain: -inf\n",
            "[LightGBM] [Warning] No further splits with positive gain, best gain: -inf\n",
            "[LightGBM] [Warning] No further splits with positive gain, best gain: -inf\n",
            "[LightGBM] [Warning] No further splits with positive gain, best gain: -inf\n",
            "[LightGBM] [Warning] No further splits with positive gain, best gain: -inf\n",
            "[LightGBM] [Warning] No further splits with positive gain, best gain: -inf\n",
            "[LightGBM] [Warning] No further splits with positive gain, best gain: -inf\n",
            "[LightGBM] [Warning] No further splits with positive gain, best gain: -inf\n",
            "[LightGBM] [Warning] No further splits with positive gain, best gain: -inf\n",
            "[LightGBM] [Warning] No further splits with positive gain, best gain: -inf\n",
            "Ensemble Model Evaluation:\n",
            "Precision: 0.2000 | Recall: 0.1667\n",
            "F1-Score: 0.1818 | AUC: 0.4583\n",
            "Training Time: 5.5394 seconds\n",
            "                               Model  Precision    Recall  F1-Score       AUC  \\\n",
            "0                Logistic Regression   0.250000  0.166667  0.200000  0.347222   \n",
            "1       Support Vector Machine (SVM)   0.000000  0.000000  0.000000  0.416667   \n",
            "2                      Random Forest   1.000000  0.166667  0.285714  0.465278   \n",
            "3          K-Nearest Neighbors (KNN)   0.666667  0.333333  0.444444  0.645833   \n",
            "4          K-Nearest Neighbors (KNN)   0.666667  0.333333  0.444444  0.645833   \n",
            "5                            XGBoost   0.200000  0.166667  0.181818  0.375000   \n",
            "6                           LightGBM   0.250000  0.166667  0.200000  0.458333   \n",
            "7                           CatBoost   0.250000  0.166667  0.200000  0.416667   \n",
            "8                Neural Network (NN)   0.250000  0.166667  0.200000  0.444444   \n",
            "9   Feedforward Neural Network (FNN)   0.250000  0.166667  0.200000  0.444444   \n",
            "10           Ensemble Model (Voting)   0.200000  0.166667  0.181818  0.458333   \n",
            "\n",
            "    Training Time (s)  \n",
            "0            0.007365  \n",
            "1            0.004745  \n",
            "2            0.165416  \n",
            "3            0.001175  \n",
            "4            0.140045  \n",
            "5            0.024347  \n",
            "6            0.016214  \n",
            "7            0.257499  \n",
            "8            0.126260  \n",
            "9            0.000056  \n",
            "10           5.539418  \n"
          ]
        },
        {
          "output_type": "stream",
          "name": "stderr",
          "text": [
            "/usr/local/lib/python3.11/dist-packages/sklearn/utils/deprecation.py:151: FutureWarning: 'force_all_finite' was renamed to 'ensure_all_finite' in 1.6 and will be removed in 1.8.\n",
            "  warnings.warn(\n"
          ]
        }
      ]
    },
    {
      "cell_type": "markdown",
      "source": [
        "Saving the Ensemble model"
      ],
      "metadata": {
        "id": "DKtRRnAAyhTz"
      }
    },
    {
      "cell_type": "code",
      "source": [
        "import joblib\n",
        "\n",
        "# Save the ensemble model\n",
        "joblib.dump(ensemble_model, \"voting_ensemble_model.pkl\")"
      ],
      "metadata": {
        "colab": {
          "base_uri": "https://localhost:8080/"
        },
        "id": "EWxUMxDMylkC",
        "outputId": "3eb269ed-30f0-4a7d-eed9-cac5d02fe799"
      },
      "execution_count": 73,
      "outputs": [
        {
          "output_type": "execute_result",
          "data": {
            "text/plain": [
              "['voting_ensemble_model.pkl']"
            ]
          },
          "metadata": {},
          "execution_count": 73
        }
      ]
    },
    {
      "cell_type": "code",
      "source": [
        "%cd /content/Machine-Learning/models\n",
        "\n"
      ],
      "metadata": {
        "colab": {
          "base_uri": "https://localhost:8080/"
        },
        "id": "1tg-AD8O44Hl",
        "outputId": "6ce4e80e-f1f6-4e6d-a3d9-d8b42f56a462"
      },
      "execution_count": 79,
      "outputs": [
        {
          "output_type": "stream",
          "name": "stdout",
          "text": [
            "/content/Machine-Learning/models\n"
          ]
        }
      ]
    },
    {
      "cell_type": "code",
      "source": [
        "import joblib\n",
        "\n",
        "# Define the save path\n",
        "save_path = \"voting_ensemble_model.pkl\"\n",
        "\n",
        "# Save the ensemble model\n",
        "joblib.dump(ensemble_model, save_path)\n",
        "\n",
        "print(f\"Model saved successfully at {save_path}\")\n"
      ],
      "metadata": {
        "id": "fRE03FsT5zOt",
        "outputId": "0064c00f-e026-4ec0-fff6-c2479b1369f8",
        "colab": {
          "base_uri": "https://localhost:8080/"
        }
      },
      "execution_count": 80,
      "outputs": [
        {
          "output_type": "stream",
          "name": "stdout",
          "text": [
            "Model saved successfully at voting_ensemble_model.pkl\n"
          ]
        }
      ]
    },
    {
      "cell_type": "code",
      "source": [
        "import os\n",
        "\n",
        "# Check if file exists\n",
        "print(\"File exists:\", os.path.exists(\"voting_ensemble_model.pkl\"))\n"
      ],
      "metadata": {
        "id": "P9YI4FSZ54sd",
        "outputId": "a6c684c6-d900-4b71-fd94-a5a5df36f5fe",
        "colab": {
          "base_uri": "https://localhost:8080/"
        }
      },
      "execution_count": 81,
      "outputs": [
        {
          "output_type": "stream",
          "name": "stdout",
          "text": [
            "File exists: True\n"
          ]
        }
      ]
    },
    {
      "cell_type": "code",
      "source": [
        "from google.colab import files\n",
        "\n",
        "# Download the saved model\n",
        "files.download(\"voting_ensemble_model.pkl\")\n"
      ],
      "metadata": {
        "id": "8ONL0yWn6AOt",
        "outputId": "cd1c3b8b-7287-4273-9214-df44ba2e060b",
        "colab": {
          "base_uri": "https://localhost:8080/",
          "height": 17
        }
      },
      "execution_count": 82,
      "outputs": [
        {
          "output_type": "display_data",
          "data": {
            "text/plain": [
              "<IPython.core.display.Javascript object>"
            ],
            "application/javascript": [
              "\n",
              "    async function download(id, filename, size) {\n",
              "      if (!google.colab.kernel.accessAllowed) {\n",
              "        return;\n",
              "      }\n",
              "      const div = document.createElement('div');\n",
              "      const label = document.createElement('label');\n",
              "      label.textContent = `Downloading \"${filename}\": `;\n",
              "      div.appendChild(label);\n",
              "      const progress = document.createElement('progress');\n",
              "      progress.max = size;\n",
              "      div.appendChild(progress);\n",
              "      document.body.appendChild(div);\n",
              "\n",
              "      const buffers = [];\n",
              "      let downloaded = 0;\n",
              "\n",
              "      const channel = await google.colab.kernel.comms.open(id);\n",
              "      // Send a message to notify the kernel that we're ready.\n",
              "      channel.send({})\n",
              "\n",
              "      for await (const message of channel.messages) {\n",
              "        // Send a message to notify the kernel that we're ready.\n",
              "        channel.send({})\n",
              "        if (message.buffers) {\n",
              "          for (const buffer of message.buffers) {\n",
              "            buffers.push(buffer);\n",
              "            downloaded += buffer.byteLength;\n",
              "            progress.value = downloaded;\n",
              "          }\n",
              "        }\n",
              "      }\n",
              "      const blob = new Blob(buffers, {type: 'application/binary'});\n",
              "      const a = document.createElement('a');\n",
              "      a.href = window.URL.createObjectURL(blob);\n",
              "      a.download = filename;\n",
              "      div.appendChild(a);\n",
              "      a.click();\n",
              "      div.remove();\n",
              "    }\n",
              "  "
            ]
          },
          "metadata": {}
        },
        {
          "output_type": "display_data",
          "data": {
            "text/plain": [
              "<IPython.core.display.Javascript object>"
            ],
            "application/javascript": [
              "download(\"download_6c9a8d7d-6d85-4394-8f46-6bac3555a4e0\", \"voting_ensemble_model.pkl\", 1607724)"
            ]
          },
          "metadata": {}
        }
      ]
    }
  ]
}